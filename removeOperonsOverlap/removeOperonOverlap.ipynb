{
 "cells": [
  {
   "cell_type": "markdown",
   "metadata": {
    "ExecuteTime": {
     "end_time": "2018-03-27T23:30:59.963976Z",
     "start_time": "2018-03-27T23:30:59.900514Z"
    },
    "collapsed": true
   },
   "source": [
    "#chr specific dictionary of coords function"
   ]
  },
  {
   "cell_type": "code",
   "execution_count": 1,
   "metadata": {
    "ExecuteTime": {
     "end_time": "2018-03-28T00:50:30.008544Z",
     "start_time": "2018-03-28T00:50:29.943306Z"
    },
    "collapsed": true
   },
   "outputs": [],
   "source": [
    ""
   ]
  },
  {
   "cell_type": "code",
   "execution_count": 27,
   "metadata": {
    "ExecuteTime": {
     "end_time": "2018-03-28T02:24:43.025286Z",
     "start_time": "2018-03-28T02:24:42.986694Z"
    },
    "collapsed": true
   },
   "outputs": [],
   "source": [
    "import pandas as pd\n",
    "import re\n",
    "import os\n",
    "# os.chdir(\"/Users/M/Google_Drive/Scripts/hs/worm/EMBO/Runion_with_normalization_compleete/runonOperonOverlap/\")\n",
    "\n",
    "# Readthrough is same as runon"
   ]
  },
  {
   "cell_type": "markdown",
   "metadata": {},
   "source": [
    "#make a bedfile of operons"
   ]
  },
  {
   "cell_type": "code",
   "execution_count": 28,
   "metadata": {
    "ExecuteTime": {
     "end_time": "2018-03-28T02:25:00.678544Z",
     "start_time": "2018-03-28T02:25:00.612841Z"
    },
    "collapsed": true
   },
   "outputs": [],
   "source": [
    "#Downloaded from wormbase, write lines that say operon\n",
    "df_op = pd.read_csv(\"c_elegans.WS258.OPERONS.gff3\",sep=\"\\t\",names=[\"chr\",\"type1\",\"type2\",\"start\",\"end\",\"dot\",\"strand\",\"dot2\",\"name\"])\n",
    "df_op[\"operon\"] = df_op[\"name\"].str.extract('(.*?;)', expand=True)\n",
    "df_op[\"operon\"] = df_op[\"operon\"].str.replace(\"Name=\",\"\").str.replace(\";\",\"\")\n",
    "df_op = df_op[[\"chr\",\"start\",\"end\",\"strand\",\"operon\"]]\n",
    "\n",
    "op_bed = df_op[[\"chr\",\"start\",\"end\",\"operon\"]]\n",
    "op_bed.to_csv(\"operon.bed\", sep=\"\\t\", index=None)"
   ]
  },
  {
   "cell_type": "code",
   "execution_count": 29,
   "metadata": {
    "ExecuteTime": {
     "end_time": "2018-03-27T23:55:31.855649Z",
     "start_time": "2018-03-27T23:55:31.810925Z"
    },
    "collapsed": true
   },
   "outputs": [
    {
     "data": {
      "text/plain": [
       "1388"
      ]
     },
     "execution_count": 29,
     "metadata": {},
     "output_type": "execute_result"
    }
   ],
   "source": [
    "len(df_op)"
   ]
  },
  {
   "cell_type": "markdown",
   "metadata": {},
   "source": [
    "#import RUNON and OP into chr dictionaries"
   ]
  },
  {
   "cell_type": "code",
   "execution_count": 30,
   "metadata": {
    "ExecuteTime": {
     "end_time": "2018-03-28T02:25:03.681661Z",
     "start_time": "2018-03-28T02:25:03.314708Z"
    },
    "collapsed": true
   },
   "outputs": [],
   "source": [
    "def start_end_RUNON(df):  \n",
    "    df_plu = df[df[\"strand\"] == \"+\"].copy()  \n",
    "    df_min = df[df[\"strand\"] == \"-\"].copy()  \n",
    "    df_min[\"start\"] = df_min[\"DOG_start_local\"]\n",
    "    df_min[\"end\"] = df_min[\"DOG_end_local\"]     \n",
    "    df_plu[\"start\"] = df_plu[\"DOG_start_local\"]\n",
    "    df_plu[\"end\"] = df_plu[\"DOG_end_local\"]\n",
    "    df = pd.concat([df_min,df_plu])\n",
    "    return df\n",
    "\n",
    "\n",
    "HSPATH = \"../data/Dogcatcher_Out/HS/N2_vs_HS_2ndtime/FINAL_OUT/All\"\n",
    "\n",
    "\n",
    "OKPATH = \"../data/Dogcatcher_Out/OK/N2_vs_OK_2ndtime/FINAL_OUT/All\"\n",
    "\n",
    "\n",
    "\n",
    "\n",
    "df_hs = pd.read_csv(HSPATH + \"/DOG/combined_DOG.csv\",sep=\"\\t\")\n",
    "df_ok = pd.read_csv(OKPATH + \"/DOG/combined_DOG.csv\",sep=\"\\t\")\n",
    "df_hs = start_end_RUNON(df_hs)\n",
    "df_hs = df_hs[[\"gene_id_name\",\"strand\",\"chr\", \"start\",\"end\"]]\n",
    "df_ok = start_end_RUNON(df_ok)\n",
    "df_ok = df_ok[[\"gene_id_name\",\"strand\",\"chr\", \"start\",\"end\"]]\n",
    "\n",
    "df_hsa = pd.read_csv(HSPATH + \"/ADOG/combined_ADOG.csv\",sep=\"\\t\")\n",
    "df_oka = pd.read_csv(OKPATH + \"/ADOG/combined_ADOG.csv\",sep=\"\\t\")\n",
    "df_hsa = start_end_RUNON(df_hsa)\n",
    "df_hsa = df_hsa[[\"gene_id_name\",\"strand\",\"chr\", \"start\",\"end\"]]\n",
    "df_oka = start_end_RUNON(df_oka)\n",
    "df_oka = df_oka[[\"gene_id_name\",\"strand\",\"chr\", \"start\",\"end\"]]"
   ]
  },
  {
   "cell_type": "markdown",
   "metadata": {},
   "source": [
    "#Find overlaps between runon and operons"
   ]
  },
  {
   "cell_type": "code",
   "execution_count": 31,
   "metadata": {
    "ExecuteTime": {
     "end_time": "2018-03-28T02:52:01.966158Z",
     "start_time": "2018-03-28T02:49:55.904281Z"
    },
    "scrolled": true,
    "collapsed": true
   },
   "outputs": [
    {
     "name": "stdout",
     "output_type": "stream",
     "text": [
      "WBGene00021925\nWBGene00021925\n"
     ]
    },
    {
     "name": "stdout",
     "output_type": "stream",
     "text": [
      "WBGene00220216\n"
     ]
    },
    {
     "name": "stdout",
     "output_type": "stream",
     "text": [
      "WBGene00015658\n"
     ]
    },
    {
     "name": "stdout",
     "output_type": "stream",
     "text": [
      "WBGene00167905\n"
     ]
    },
    {
     "name": "stdout",
     "output_type": "stream",
     "text": [
      "WBGene00014829\nWBGene00009589\n"
     ]
    },
    {
     "name": "stdout",
     "output_type": "stream",
     "text": [
      "WBGene00010234\n"
     ]
    },
    {
     "name": "stdout",
     "output_type": "stream",
     "text": [
      "WBGene00022491\n"
     ]
    },
    {
     "name": "stdout",
     "output_type": "stream",
     "text": [
      "WBGene00003598\n"
     ]
    },
    {
     "name": "stdout",
     "output_type": "stream",
     "text": [
      "WBGene00016016\n"
     ]
    },
    {
     "name": "stdout",
     "output_type": "stream",
     "text": [
      "WBGene00015485\n"
     ]
    },
    {
     "name": "stdout",
     "output_type": "stream",
     "text": [
      "WBGene00219841\n"
     ]
    },
    {
     "name": "stdout",
     "output_type": "stream",
     "text": [
      "WBGene00013225\n"
     ]
    },
    {
     "name": "stdout",
     "output_type": "stream",
     "text": [
      "WBGene00010011\n"
     ]
    },
    {
     "name": "stdout",
     "output_type": "stream",
     "text": [
      "WBGene00021333\n"
     ]
    },
    {
     "name": "stdout",
     "output_type": "stream",
     "text": [
      "WBGene00022367\n"
     ]
    },
    {
     "name": "stdout",
     "output_type": "stream",
     "text": [
      "WBGene00021473\n"
     ]
    },
    {
     "name": "stdout",
     "output_type": "stream",
     "text": [
      "WBGene00022128\n"
     ]
    },
    {
     "name": "stdout",
     "output_type": "stream",
     "text": [
      "WBGene00004415\n"
     ]
    },
    {
     "name": "stdout",
     "output_type": "stream",
     "text": [
      "WBGene00010427\nWBGene00009141\n"
     ]
    },
    {
     "name": "stdout",
     "output_type": "stream",
     "text": [
      "WBGene00006958\n"
     ]
    },
    {
     "name": "stdout",
     "output_type": "stream",
     "text": [
      "WBGene00013020\n"
     ]
    },
    {
     "name": "stdout",
     "output_type": "stream",
     "text": [
      "WBGene00018483\n"
     ]
    },
    {
     "name": "stdout",
     "output_type": "stream",
     "text": [
      "WBGene00003344\nWBGene00007365\n"
     ]
    },
    {
     "name": "stdout",
     "output_type": "stream",
     "text": [
      "WBGene00010880\nWBGene00010877\n"
     ]
    },
    {
     "name": "stdout",
     "output_type": "stream",
     "text": [
      "WBGene00011980\nWBGene00220052\n"
     ]
    },
    {
     "name": "stdout",
     "output_type": "stream",
     "text": [
      "WBGene00012180\n"
     ]
    },
    {
     "name": "stdout",
     "output_type": "stream",
     "text": [
      "WBGene00001909\n"
     ]
    },
    {
     "name": "stdout",
     "output_type": "stream",
     "text": [
      "WBGene00011230\n"
     ]
    },
    {
     "name": "stdout",
     "output_type": "stream",
     "text": [
      "WBGene00004765\n"
     ]
    },
    {
     "name": "stdout",
     "output_type": "stream",
     "text": [
      "WBGene00013682\n"
     ]
    },
    {
     "name": "stdout",
     "output_type": "stream",
     "text": [
      "WBGene00006389\nWBGene00007859\n"
     ]
    },
    {
     "name": "stdout",
     "output_type": "stream",
     "text": [
      "WBGene00013552\n"
     ]
    },
    {
     "name": "stdout",
     "output_type": "stream",
     "text": [
      "WBGene00008968\n"
     ]
    },
    {
     "name": "stdout",
     "output_type": "stream",
     "text": [
      "WBGene00010910\nWBGene00004905\n"
     ]
    },
    {
     "name": "stdout",
     "output_type": "stream",
     "text": [
      "WBGene00044233\nWBGene00022450\n"
     ]
    },
    {
     "name": "stdout",
     "output_type": "stream",
     "text": [
      "WBGene00022117\n"
     ]
    },
    {
     "name": "stdout",
     "output_type": "stream",
     "text": [
      "WBGene00008387\n"
     ]
    },
    {
     "name": "stdout",
     "output_type": "stream",
     "text": [
      "WBGene00006945\nWBGene00006945\n"
     ]
    },
    {
     "name": "stdout",
     "output_type": "stream",
     "text": [
      "WBGene00002996\nWBGene00004412\n"
     ]
    },
    {
     "name": "stdout",
     "output_type": "stream",
     "text": [
      "WBGene00019466\n"
     ]
    },
    {
     "name": "stdout",
     "output_type": "stream",
     "text": [
      "WBGene00006503\n"
     ]
    },
    {
     "name": "stdout",
     "output_type": "stream",
     "text": [
      "WBGene00012362\n"
     ]
    },
    {
     "name": "stdout",
     "output_type": "stream",
     "text": [
      "WBGene00009050\nWBGene00009477\n"
     ]
    },
    {
     "name": "stdout",
     "output_type": "stream",
     "text": [
      "WBGene00004175\n"
     ]
    },
    {
     "name": "stdout",
     "output_type": "stream",
     "text": [
      "WBGene00000201\nWBGene00013382\n"
     ]
    },
    {
     "name": "stdout",
     "output_type": "stream",
     "text": [
      "WBGene00011062\n"
     ]
    },
    {
     "name": "stdout",
     "output_type": "stream",
     "text": [
      "WBGene00006710\n"
     ]
    },
    {
     "name": "stdout",
     "output_type": "stream",
     "text": [
      "WBGene00003951\n"
     ]
    },
    {
     "name": "stdout",
     "output_type": "stream",
     "text": [
      "WBGene00023366\n"
     ]
    },
    {
     "name": "stdout",
     "output_type": "stream",
     "text": [
      "WBGene00000698\n"
     ]
    },
    {
     "name": "stdout",
     "output_type": "stream",
     "text": [
      "WBGene00021754\nWBGene00019326\n"
     ]
    },
    {
     "name": "stdout",
     "output_type": "stream",
     "text": [
      "WBGene00185002\n"
     ]
    },
    {
     "name": "stdout",
     "output_type": "stream",
     "text": [
      "WBGene00010840\n"
     ]
    },
    {
     "name": "stdout",
     "output_type": "stream",
     "text": [
      "WBGene00013040\nWBGene00013739\n"
     ]
    },
    {
     "name": "stdout",
     "output_type": "stream",
     "text": [
      "WBGene00012109\n"
     ]
    },
    {
     "name": "stdout",
     "output_type": "stream",
     "text": [
      "WBGene00009850\n"
     ]
    },
    {
     "name": "stdout",
     "output_type": "stream",
     "text": [
      "WBGene00022372\n"
     ]
    },
    {
     "name": "stdout",
     "output_type": "stream",
     "text": [
      "WBGene00021764\n"
     ]
    },
    {
     "name": "stdout",
     "output_type": "stream",
     "text": [
      "WBGene00003258\n"
     ]
    },
    {
     "name": "stdout",
     "output_type": "stream",
     "text": [
      "WBGene00220000\nWBGene00011916\n"
     ]
    },
    {
     "name": "stdout",
     "output_type": "stream",
     "text": [
      "WBGene00007602\n"
     ]
    },
    {
     "name": "stdout",
     "output_type": "stream",
     "text": [
      "WBGene00006700\n"
     ]
    },
    {
     "name": "stdout",
     "output_type": "stream",
     "text": [
      "WBGene00019241\n"
     ]
    },
    {
     "name": "stdout",
     "output_type": "stream",
     "text": [
      "WBGene00019274\n"
     ]
    },
    {
     "name": "stdout",
     "output_type": "stream",
     "text": [
      "WBGene00000879\n"
     ]
    },
    {
     "name": "stdout",
     "output_type": "stream",
     "text": [
      "WBGene00013344\n"
     ]
    },
    {
     "name": "stdout",
     "output_type": "stream",
     "text": [
      "WBGene00016576\n"
     ]
    },
    {
     "name": "stdout",
     "output_type": "stream",
     "text": [
      "WBGene00019218\nWBGene00023025\n"
     ]
    },
    {
     "name": "stdout",
     "output_type": "stream",
     "text": [
      "WBGene00001162\n"
     ]
    },
    {
     "name": "stdout",
     "output_type": "stream",
     "text": [
      "WBGene00002275\nWBGene00012730\n"
     ]
    },
    {
     "name": "stdout",
     "output_type": "stream",
     "text": [
      "WBGene00013167\n"
     ]
    },
    {
     "name": "stdout",
     "output_type": "stream",
     "text": [
      "WBGene00004836\n"
     ]
    },
    {
     "name": "stdout",
     "output_type": "stream",
     "text": [
      "WBGene00001910\n"
     ]
    },
    {
     "name": "stdout",
     "output_type": "stream",
     "text": [
      "WBGene00001911\n"
     ]
    },
    {
     "name": "stdout",
     "output_type": "stream",
     "text": [
      "WBGene00018611\n"
     ]
    },
    {
     "name": "stdout",
     "output_type": "stream",
     "text": [
      "WBGene00012389\n"
     ]
    },
    {
     "name": "stdout",
     "output_type": "stream",
     "text": [
      "WBGene00000766\n"
     ]
    },
    {
     "name": "stdout",
     "output_type": "stream",
     "text": [
      "WBGene00015686\n"
     ]
    },
    {
     "name": "stdout",
     "output_type": "stream",
     "text": [
      "WBGene00012316\n"
     ]
    },
    {
     "name": "stdout",
     "output_type": "stream",
     "text": [
      "WBGene00007027\nWBGene00001749\n"
     ]
    },
    {
     "name": "stdout",
     "output_type": "stream",
     "text": [
      "WBGene00021752\n"
     ]
    },
    {
     "name": "stdout",
     "output_type": "stream",
     "text": [
      "WBGene00019009\n"
     ]
    },
    {
     "name": "stdout",
     "output_type": "stream",
     "text": [
      "WBGene00013024\n"
     ]
    },
    {
     "name": "stdout",
     "output_type": "stream",
     "text": [
      "WBGene00044392\n"
     ]
    },
    {
     "name": "stdout",
     "output_type": "stream",
     "text": [
      "WBGene00009277\n"
     ]
    },
    {
     "name": "stdout",
     "output_type": "stream",
     "text": [
      "WBGene00009052\n"
     ]
    },
    {
     "name": "stdout",
     "output_type": "stream",
     "text": [
      "WBGene00010923\nWBGene00022167\n"
     ]
    },
    {
     "name": "stdout",
     "output_type": "stream",
     "text": [
      "WBGene00004386\nWBGene00008405\n"
     ]
    },
    {
     "name": "stdout",
     "output_type": "stream",
     "text": [
      "WBGene00020957\n"
     ]
    },
    {
     "name": "stdout",
     "output_type": "stream",
     "text": [
      "WBGene00010770\n"
     ]
    },
    {
     "name": "stdout",
     "output_type": "stream",
     "text": [
      "WBGene00013742\nWBGene00020955\n"
     ]
    },
    {
     "name": "stdout",
     "output_type": "stream",
     "text": [
      "WBGene00001092\n"
     ]
    },
    {
     "name": "stdout",
     "output_type": "stream",
     "text": [
      "WBGene00022193\n"
     ]
    },
    {
     "name": "stdout",
     "output_type": "stream",
     "text": [
      "WBGene00004206\nWBGene00003827\n"
     ]
    },
    {
     "name": "stdout",
     "output_type": "stream",
     "text": [
      "WBGene00044134\n"
     ]
    },
    {
     "name": "stdout",
     "output_type": "stream",
     "text": [
      "WBGene00012104\n"
     ]
    },
    {
     "name": "stdout",
     "output_type": "stream",
     "text": [
      "WBGene00219745\n"
     ]
    },
    {
     "name": "stdout",
     "output_type": "stream",
     "text": [
      "WBGene00015974\n"
     ]
    },
    {
     "name": "stdout",
     "output_type": "stream",
     "text": [
      "WBGene00019767\n"
     ]
    },
    {
     "name": "stdout",
     "output_type": "stream",
     "text": [
      "WBGene00022629\n"
     ]
    },
    {
     "name": "stdout",
     "output_type": "stream",
     "text": [
      "WBGene00013094\n"
     ]
    },
    {
     "name": "stdout",
     "output_type": "stream",
     "text": [
      "WBGene00013499\nWBGene00004443\n"
     ]
    },
    {
     "name": "stdout",
     "output_type": "stream",
     "text": [
      "WBGene00012972\n"
     ]
    },
    {
     "name": "stdout",
     "output_type": "stream",
     "text": [
      "WBGene00013544\n"
     ]
    },
    {
     "name": "stdout",
     "output_type": "stream",
     "text": [
      "WBGene00021925\nWBGene00021925\n"
     ]
    },
    {
     "name": "stdout",
     "output_type": "stream",
     "text": [
      "WBGene00008968\nWBGene00007902\n"
     ]
    },
    {
     "name": "stdout",
     "output_type": "stream",
     "text": [
      "WBGene00014829\n"
     ]
    },
    {
     "name": "stdout",
     "output_type": "stream",
     "text": [
      "WBGene00013382\n"
     ]
    },
    {
     "name": "stdout",
     "output_type": "stream",
     "text": [
      "WBGene00004277\n"
     ]
    },
    {
     "name": "stdout",
     "output_type": "stream",
     "text": [
      "WBGene00022491\n"
     ]
    },
    {
     "name": "stdout",
     "output_type": "stream",
     "text": [
      "WBGene00004765\n"
     ]
    },
    {
     "name": "stdout",
     "output_type": "stream",
     "text": [
      "WBGene00003598\nWBGene00020097\n"
     ]
    },
    {
     "name": "stdout",
     "output_type": "stream",
     "text": [
      "WBGene00020423\nWBGene00022599\n"
     ]
    },
    {
     "name": "stdout",
     "output_type": "stream",
     "text": [
      "WBGene00015485\n"
     ]
    },
    {
     "name": "stdout",
     "output_type": "stream",
     "text": [
      "WBGene00044452\n"
     ]
    },
    {
     "name": "stdout",
     "output_type": "stream",
     "text": [
      "WBGene00019401\n"
     ]
    },
    {
     "name": "stdout",
     "output_type": "stream",
     "text": [
      "WBGene00001689\n"
     ]
    },
    {
     "name": "stdout",
     "output_type": "stream",
     "text": [
      "WBGene00012362\n"
     ]
    },
    {
     "name": "stdout",
     "output_type": "stream",
     "text": [
      "WBGene00013225\n"
     ]
    },
    {
     "name": "stdout",
     "output_type": "stream",
     "text": [
      "WBGene00044233\n"
     ]
    },
    {
     "name": "stdout",
     "output_type": "stream",
     "text": [
      "WBGene00000201\n"
     ]
    },
    {
     "name": "stdout",
     "output_type": "stream",
     "text": [
      "WBGene00013552\n"
     ]
    },
    {
     "name": "stdout",
     "output_type": "stream",
     "text": [
      "WBGene00006389\n"
     ]
    },
    {
     "name": "stdout",
     "output_type": "stream",
     "text": [
      "WBGene00012097\n"
     ]
    },
    {
     "name": "stdout",
     "output_type": "stream",
     "text": [
      "WBGene00010665\n"
     ]
    },
    {
     "name": "stdout",
     "output_type": "stream",
     "text": [
      "WBGene00021333\n"
     ]
    },
    {
     "name": "stdout",
     "output_type": "stream",
     "text": [
      "WBGene00044435\n"
     ]
    },
    {
     "name": "stdout",
     "output_type": "stream",
     "text": [
      "WBGene00021473\nWBGene00022128\n"
     ]
    },
    {
     "name": "stdout",
     "output_type": "stream",
     "text": [
      "WBGene00022117\n"
     ]
    },
    {
     "name": "stdout",
     "output_type": "stream",
     "text": [
      "WBGene00004415\n"
     ]
    },
    {
     "name": "stdout",
     "output_type": "stream",
     "text": [
      "WBGene00009050\nWBGene00010427\n"
     ]
    },
    {
     "name": "stdout",
     "output_type": "stream",
     "text": [
      "WBGene00011062\n"
     ]
    },
    {
     "name": "stdout",
     "output_type": "stream",
     "text": [
      "WBGene00009477\nWBGene00006503\n"
     ]
    },
    {
     "name": "stdout",
     "output_type": "stream",
     "text": [
      "WBGene00006958\n"
     ]
    },
    {
     "name": "stdout",
     "output_type": "stream",
     "text": [
      "WBGene00012366\nWBGene00012366\n"
     ]
    },
    {
     "name": "stdout",
     "output_type": "stream",
     "text": [
      "WBGene00004489\n"
     ]
    },
    {
     "name": "stdout",
     "output_type": "stream",
     "text": [
      "WBGene00021560\n"
     ]
    },
    {
     "name": "stdout",
     "output_type": "stream",
     "text": [
      "WBGene00197520\n"
     ]
    },
    {
     "name": "stdout",
     "output_type": "stream",
     "text": [
      "WBGene00013766\n"
     ]
    },
    {
     "name": "stdout",
     "output_type": "stream",
     "text": [
      "WBGene00006710\n"
     ]
    },
    {
     "name": "stdout",
     "output_type": "stream",
     "text": [
      "WBGene00011980\n"
     ]
    },
    {
     "name": "stdout",
     "output_type": "stream",
     "text": [
      "WBGene00011067\nWBGene00010910\n"
     ]
    },
    {
     "name": "stdout",
     "output_type": "stream",
     "text": [
      "WBGene00009740\nWBGene00012228\n"
     ]
    },
    {
     "name": "stdout",
     "output_type": "stream",
     "text": [
      "WBGene00002996\n"
     ]
    },
    {
     "name": "stdout",
     "output_type": "stream",
     "text": [
      "WBGene00004175\n"
     ]
    },
    {
     "name": "stdout",
     "output_type": "stream",
     "text": [
      "WBGene00021423\n"
     ]
    },
    {
     "name": "stdout",
     "output_type": "stream",
     "text": [
      "WBGene00023366\n"
     ]
    },
    {
     "name": "stdout",
     "output_type": "stream",
     "text": [
      "WBGene00003827\n"
     ]
    },
    {
     "name": "stdout",
     "output_type": "stream",
     "text": [
      "WBGene00007107\n"
     ]
    },
    {
     "name": "stdout",
     "output_type": "stream",
     "text": [
      "WBGene00016219\n"
     ]
    },
    {
     "name": "stdout",
     "output_type": "stream",
     "text": [
      "WBGene00219745\n"
     ]
    },
    {
     "name": "stdout",
     "output_type": "stream",
     "text": [
      "WBGene00022167\n"
     ]
    },
    {
     "name": "stdout",
     "output_type": "stream",
     "text": [
      "WBGene00007015\nWBGene00018611\n"
     ]
    },
    {
     "name": "stdout",
     "output_type": "stream",
     "text": [
      "WBGene00006911\nWBGene00185002\n"
     ]
    },
    {
     "name": "stdout",
     "output_type": "stream",
     "text": [
      "WBGene00013499\n"
     ]
    },
    {
     "name": "stdout",
     "output_type": "stream",
     "text": [
      "WBGene00010840\n"
     ]
    },
    {
     "name": "stdout",
     "output_type": "stream",
     "text": [
      "WBGene00012928\n"
     ]
    },
    {
     "name": "stdout",
     "output_type": "stream",
     "text": [
      "WBGene00013544\n"
     ]
    },
    {
     "name": "stdout",
     "output_type": "stream",
     "text": [
      "WBGene00013739\n"
     ]
    },
    {
     "name": "stdout",
     "output_type": "stream",
     "text": [
      "WBGene00013742\n"
     ]
    },
    {
     "name": "stdout",
     "output_type": "stream",
     "text": [
      "WBGene00007027\n"
     ]
    },
    {
     "name": "stdout",
     "output_type": "stream",
     "text": [
      "WBGene00001092\n"
     ]
    },
    {
     "name": "stdout",
     "output_type": "stream",
     "text": [
      "WBGene00012109\n"
     ]
    },
    {
     "name": "stdout",
     "output_type": "stream",
     "text": [
      "WBGene00009726\nWBGene00044134\n"
     ]
    },
    {
     "name": "stdout",
     "output_type": "stream",
     "text": [
      "WBGene00021332\n"
     ]
    },
    {
     "name": "stdout",
     "output_type": "stream",
     "text": [
      "WBGene00021764\n"
     ]
    },
    {
     "name": "stdout",
     "output_type": "stream",
     "text": [
      "WBGene00004920\nWBGene00003258\n"
     ]
    },
    {
     "name": "stdout",
     "output_type": "stream",
     "text": [
      "WBGene00019009\nWBGene00015686\n"
     ]
    },
    {
     "name": "stdout",
     "output_type": "stream",
     "text": [
      "WBGene00220000\n"
     ]
    },
    {
     "name": "stdout",
     "output_type": "stream",
     "text": [
      "WBGene00009052\n"
     ]
    },
    {
     "name": "stdout",
     "output_type": "stream",
     "text": [
      "WBGene00009277\n"
     ]
    },
    {
     "name": "stdout",
     "output_type": "stream",
     "text": [
      "WBGene00011916\n"
     ]
    },
    {
     "name": "stdout",
     "output_type": "stream",
     "text": [
      "WBGene00189958\n"
     ]
    },
    {
     "name": "stdout",
     "output_type": "stream",
     "text": [
      "WBGene00045434\n"
     ]
    },
    {
     "name": "stdout",
     "output_type": "stream",
     "text": [
      "WBGene00007602\n"
     ]
    },
    {
     "name": "stdout",
     "output_type": "stream",
     "text": [
      "WBGene00012104\n"
     ]
    },
    {
     "name": "stdout",
     "output_type": "stream",
     "text": [
      "WBGene00010770\nWBGene00006700\n"
     ]
    },
    {
     "name": "stdout",
     "output_type": "stream",
     "text": [
      "WBGene00012389\n"
     ]
    },
    {
     "name": "stdout",
     "output_type": "stream",
     "text": [
      "WBGene00020957\nWBGene00004206\n"
     ]
    },
    {
     "name": "stdout",
     "output_type": "stream",
     "text": [
      "WBGene00023341\n"
     ]
    },
    {
     "name": "stdout",
     "output_type": "stream",
     "text": [
      "WBGene00017016\n"
     ]
    },
    {
     "name": "stdout",
     "output_type": "stream",
     "text": [
      "WBGene00000766\n"
     ]
    },
    {
     "name": "stdout",
     "output_type": "stream",
     "text": [
      "WBGene00013024\n"
     ]
    },
    {
     "name": "stdout",
     "output_type": "stream",
     "text": [
      "WBGene00012316\n"
     ]
    },
    {
     "name": "stdout",
     "output_type": "stream",
     "text": [
      "WBGene00013344\n"
     ]
    },
    {
     "name": "stdout",
     "output_type": "stream",
     "text": [
      "WBGene00016808\n"
     ]
    },
    {
     "name": "stdout",
     "output_type": "stream",
     "text": [
      "WBGene00014058\n"
     ]
    },
    {
     "name": "stdout",
     "output_type": "stream",
     "text": [
      "WBGene00002275\n"
     ]
    },
    {
     "name": "stdout",
     "output_type": "stream",
     "text": [
      "WBGene00013167\n"
     ]
    },
    {
     "name": "stdout",
     "output_type": "stream",
     "text": [
      "WBGene00013382\n"
     ]
    },
    {
     "name": "stdout",
     "output_type": "stream",
     "text": [
      "WBGene00014176\n"
     ]
    },
    {
     "name": "stdout",
     "output_type": "stream",
     "text": [
      "WBGene00021692\n"
     ]
    },
    {
     "name": "stdout",
     "output_type": "stream",
     "text": [
      "WBGene00013670\n"
     ]
    },
    {
     "name": "stdout",
     "output_type": "stream",
     "text": [
      "WBGene00013671\n"
     ]
    },
    {
     "name": "stdout",
     "output_type": "stream",
     "text": [
      "WBGene00235319\n"
     ]
    },
    {
     "name": "stdout",
     "output_type": "stream",
     "text": [
      "WBGene00013382\n"
     ]
    },
    {
     "name": "stdout",
     "output_type": "stream",
     "text": [
      "WBGene00019333\n"
     ]
    },
    {
     "name": "stdout",
     "output_type": "stream",
     "text": [
      "WBGene00008005\n"
     ]
    },
    {
     "name": "stdout",
     "output_type": "stream",
     "text": [
      "WBGene00021692\n"
     ]
    },
    {
     "name": "stdout",
     "output_type": "stream",
     "text": [
      "WBGene00235319\nWBGene00012446\n"
     ]
    },
    {
     "name": "stdout",
     "output_type": "stream",
     "text": [
      "WBGene00020295\n"
     ]
    },
    {
     "name": "stdout",
     "output_type": "stream",
     "text": [
      "WBGene00220216\nWBGene00021888\n"
     ]
    },
    {
     "name": "stdout",
     "output_type": "stream",
     "text": [
      "WBGene00015250\n"
     ]
    },
    {
     "name": "stdout",
     "output_type": "stream",
     "text": [
      "WBGene00235357\nWBGene00019726\n"
     ]
    },
    {
     "name": "stdout",
     "output_type": "stream",
     "text": [
      "WBGene00008968\nWBGene00007899\n"
     ]
    },
    {
     "name": "stdout",
     "output_type": "stream",
     "text": [
      "WBGene00002269\n"
     ]
    },
    {
     "name": "stdout",
     "output_type": "stream",
     "text": [
      "WBGene00022491\nWBGene00001236\n"
     ]
    },
    {
     "name": "stdout",
     "output_type": "stream",
     "text": [
      "WBGene00004765\nWBGene00007859\n"
     ]
    },
    {
     "name": "stdout",
     "output_type": "stream",
     "text": [
      "WBGene00003598\nWBGene00015485\n"
     ]
    },
    {
     "name": "stdout",
     "output_type": "stream",
     "text": [
      "WBGene00022787\nWBGene00043948\n"
     ]
    },
    {
     "name": "stdout",
     "output_type": "stream",
     "text": [
      "WBGene00219841\nWBGene00019303\n"
     ]
    },
    {
     "name": "stdout",
     "output_type": "stream",
     "text": [
      "WBGene00012362\n"
     ]
    },
    {
     "name": "stdout",
     "output_type": "stream",
     "text": [
      "WBGene00013225\n"
     ]
    },
    {
     "name": "stdout",
     "output_type": "stream",
     "text": [
      "WBGene00044233\n"
     ]
    },
    {
     "name": "stdout",
     "output_type": "stream",
     "text": [
      "WBGene00013552\n"
     ]
    },
    {
     "name": "stdout",
     "output_type": "stream",
     "text": [
      "WBGene00016038\n"
     ]
    },
    {
     "name": "stdout",
     "output_type": "stream",
     "text": [
      "WBGene00044435\n"
     ]
    },
    {
     "name": "stdout",
     "output_type": "stream",
     "text": [
      "WBGene00021473\nWBGene00022128"
     ]
    },
    {
     "name": "stdout",
     "output_type": "stream",
     "text": [
      "\n"
     ]
    },
    {
     "name": "stdout",
     "output_type": "stream",
     "text": [
      "WBGene00022117\nWBGene00021549\n"
     ]
    },
    {
     "name": "stdout",
     "output_type": "stream",
     "text": [
      "WBGene00015697\n"
     ]
    },
    {
     "name": "stdout",
     "output_type": "stream",
     "text": [
      "WBGene00010427\nWBGene00011062\n"
     ]
    },
    {
     "name": "stdout",
     "output_type": "stream",
     "text": [
      "WBGene00009141\nWBGene00011913\n"
     ]
    },
    {
     "name": "stdout",
     "output_type": "stream",
     "text": [
      "WBGene00008387\n"
     ]
    },
    {
     "name": "stdout",
     "output_type": "stream",
     "text": [
      "WBGene00009477\n"
     ]
    },
    {
     "name": "stdout",
     "output_type": "stream",
     "text": [
      "WBGene00006503\n"
     ]
    },
    {
     "name": "stdout",
     "output_type": "stream",
     "text": [
      "WBGene00006958\n"
     ]
    },
    {
     "name": "stdout",
     "output_type": "stream",
     "text": [
      "WBGene00013020\nWBGene00012366\nWBGene00012366\n"
     ]
    },
    {
     "name": "stdout",
     "output_type": "stream",
     "text": [
      "WBGene00013679\nWBGene00018013\n"
     ]
    },
    {
     "name": "stdout",
     "output_type": "stream",
     "text": [
      "WBGene00021560\n"
     ]
    },
    {
     "name": "stdout",
     "output_type": "stream",
     "text": [
      "WBGene00018483\nWBGene00019117\n"
     ]
    },
    {
     "name": "stdout",
     "output_type": "stream",
     "text": [
      "WBGene00010597\n"
     ]
    },
    {
     "name": "stdout",
     "output_type": "stream",
     "text": [
      "WBGene00003922\n"
     ]
    },
    {
     "name": "stdout",
     "output_type": "stream",
     "text": [
      "WBGene00013355\n"
     ]
    },
    {
     "name": "stdout",
     "output_type": "stream",
     "text": [
      "WBGene00006945\nWBGene00006945\n"
     ]
    },
    {
     "name": "stdout",
     "output_type": "stream",
     "text": [
      "WBGene00013361\n"
     ]
    },
    {
     "name": "stdout",
     "output_type": "stream",
     "text": [
      "WBGene00020080\n"
     ]
    },
    {
     "name": "stdout",
     "output_type": "stream",
     "text": [
      "WBGene00220227\n"
     ]
    },
    {
     "name": "stdout",
     "output_type": "stream",
     "text": [
      "WBGene00022573\n"
     ]
    },
    {
     "name": "stdout",
     "output_type": "stream",
     "text": [
      "WBGene00196322\n"
     ]
    },
    {
     "name": "stdout",
     "output_type": "stream",
     "text": [
      "WBGene00198692\nWBGene00012472\n"
     ]
    },
    {
     "name": "stdout",
     "output_type": "stream",
     "text": [
      "WBGene00012990\nWBGene00013000\n"
     ]
    },
    {
     "name": "stdout",
     "output_type": "stream",
     "text": [
      "WBGene00012228\nWBGene00002996\n"
     ]
    },
    {
     "name": "stdout",
     "output_type": "stream",
     "text": [
      "WBGene00010910\nWBGene00020999\n"
     ]
    },
    {
     "name": "stdout",
     "output_type": "stream",
     "text": [
      "WBGene00000252\n"
     ]
    },
    {
     "name": "stdout",
     "output_type": "stream",
     "text": [
      "WBGene00006705\n"
     ]
    },
    {
     "name": "stdout",
     "output_type": "stream",
     "text": [
      "WBGene00013382\n"
     ]
    },
    {
     "name": "stdout",
     "output_type": "stream",
     "text": [
      "WBGene00009050\n"
     ]
    },
    {
     "name": "stdout",
     "output_type": "stream",
     "text": [
      "WBGene00007402\n"
     ]
    },
    {
     "name": "stdout",
     "output_type": "stream",
     "text": [
      "WBGene00021935\n"
     ]
    },
    {
     "name": "stdout",
     "output_type": "stream",
     "text": [
      "WBGene00016424\nWBGene00016424\nWBGene00021514\n"
     ]
    },
    {
     "name": "stdout",
     "output_type": "stream",
     "text": [
      "WBGene00004386\n"
     ]
    },
    {
     "name": "stdout",
     "output_type": "stream",
     "text": [
      "WBGene00017919\n"
     ]
    },
    {
     "name": "stdout",
     "output_type": "stream",
     "text": [
      "WBGene00003827\nWBGene00001669\n"
     ]
    },
    {
     "name": "stdout",
     "output_type": "stream",
     "text": [
      "WBGene00013373\nWBGene00004029\n"
     ]
    },
    {
     "name": "stdout",
     "output_type": "stream",
     "text": [
      "WBGene00004443\n"
     ]
    },
    {
     "name": "stdout",
     "output_type": "stream",
     "text": [
      "WBGene00000184\n"
     ]
    },
    {
     "name": "stdout",
     "output_type": "stream",
     "text": [
      "WBGene00016219\n"
     ]
    },
    {
     "name": "stdout",
     "output_type": "stream",
     "text": [
      "WBGene00016218\n"
     ]
    },
    {
     "name": "stdout",
     "output_type": "stream",
     "text": [
      "WBGene00021754\n"
     ]
    },
    {
     "name": "stdout",
     "output_type": "stream",
     "text": [
      "WBGene00021753\n"
     ]
    },
    {
     "name": "stdout",
     "output_type": "stream",
     "text": [
      "WBGene00021752\n"
     ]
    },
    {
     "name": "stdout",
     "output_type": "stream",
     "text": [
      "WBGene00021751\n"
     ]
    },
    {
     "name": "stdout",
     "output_type": "stream",
     "text": [
      "WBGene00021444\n"
     ]
    },
    {
     "name": "stdout",
     "output_type": "stream",
     "text": [
      "WBGene00022193\n"
     ]
    },
    {
     "name": "stdout",
     "output_type": "stream",
     "text": [
      "WBGene00022167\n"
     ]
    },
    {
     "name": "stdout",
     "output_type": "stream",
     "text": [
      "WBGene00021813\n"
     ]
    },
    {
     "name": "stdout",
     "output_type": "stream",
     "text": [
      "WBGene00007015\n"
     ]
    },
    {
     "name": "stdout",
     "output_type": "stream",
     "text": [
      "WBGene00020092\n"
     ]
    },
    {
     "name": "stdout",
     "output_type": "stream",
     "text": [
      "WBGene00018611\n"
     ]
    },
    {
     "name": "stdout",
     "output_type": "stream",
     "text": [
      "WBGene00018132\n"
     ]
    },
    {
     "name": "stdout",
     "output_type": "stream",
     "text": [
      "WBGene00006911\n"
     ]
    },
    {
     "name": "stdout",
     "output_type": "stream",
     "text": [
      "WBGene00185002\n"
     ]
    },
    {
     "name": "stdout",
     "output_type": "stream",
     "text": [
      "WBGene00013499\n"
     ]
    },
    {
     "name": "stdout",
     "output_type": "stream",
     "text": [
      "WBGene00010840\n"
     ]
    },
    {
     "name": "stdout",
     "output_type": "stream",
     "text": [
      "WBGene00010922\n"
     ]
    },
    {
     "name": "stdout",
     "output_type": "stream",
     "text": [
      "WBGene00010923\n"
     ]
    },
    {
     "name": "stdout",
     "output_type": "stream",
     "text": [
      "WBGene00013544\nWBGene00013739\n"
     ]
    },
    {
     "name": "stdout",
     "output_type": "stream",
     "text": [
      "WBGene00013742\nWBGene00007027\n"
     ]
    },
    {
     "name": "stdout",
     "output_type": "stream",
     "text": [
      "WBGene00001092\n"
     ]
    },
    {
     "name": "stdout",
     "output_type": "stream",
     "text": [
      "WBGene00011079\n"
     ]
    },
    {
     "name": "stdout",
     "output_type": "stream",
     "text": [
      "WBGene00009726\n"
     ]
    },
    {
     "name": "stdout",
     "output_type": "stream",
     "text": [
      "WBGene00009850\n"
     ]
    },
    {
     "name": "stdout",
     "output_type": "stream",
     "text": [
      "WBGene00022028\n"
     ]
    },
    {
     "name": "stdout",
     "output_type": "stream",
     "text": [
      "WBGene00019674\n"
     ]
    },
    {
     "name": "stdout",
     "output_type": "stream",
     "text": [
      "WBGene00022153\n"
     ]
    },
    {
     "name": "stdout",
     "output_type": "stream",
     "text": [
      "WBGene00044438\n"
     ]
    },
    {
     "name": "stdout",
     "output_type": "stream",
     "text": [
      "WBGene00021764\nWBGene00021347\n"
     ]
    },
    {
     "name": "stdout",
     "output_type": "stream",
     "text": [
      "WBGene00003258\n"
     ]
    },
    {
     "name": "stdout",
     "output_type": "stream",
     "text": [
      "WBGene00004836\n"
     ]
    },
    {
     "name": "stdout",
     "output_type": "stream",
     "text": [
      "WBGene00019009\n"
     ]
    },
    {
     "name": "stdout",
     "output_type": "stream",
     "text": [
      "WBGene00015686\n"
     ]
    },
    {
     "name": "stdout",
     "output_type": "stream",
     "text": [
      "WBGene00009277\n"
     ]
    },
    {
     "name": "stdout",
     "output_type": "stream",
     "text": [
      "WBGene00011032\n"
     ]
    },
    {
     "name": "stdout",
     "output_type": "stream",
     "text": [
      "WBGene00189958\n"
     ]
    },
    {
     "name": "stdout",
     "output_type": "stream",
     "text": [
      "WBGene00007602\n"
     ]
    },
    {
     "name": "stdout",
     "output_type": "stream",
     "text": [
      "WBGene00012104\n"
     ]
    },
    {
     "name": "stdout",
     "output_type": "stream",
     "text": [
      "WBGene00010770\n"
     ]
    },
    {
     "name": "stdout",
     "output_type": "stream",
     "text": [
      "WBGene00006700\n"
     ]
    },
    {
     "name": "stdout",
     "output_type": "stream",
     "text": [
      "WBGene00012389\n"
     ]
    },
    {
     "name": "stdout",
     "output_type": "stream",
     "text": [
      "WBGene00220226\n"
     ]
    },
    {
     "name": "stdout",
     "output_type": "stream",
     "text": [
      "WBGene00020706\nWBGene00019241\n"
     ]
    },
    {
     "name": "stdout",
     "output_type": "stream",
     "text": [
      "WBGene00021747\n"
     ]
    },
    {
     "name": "stdout",
     "output_type": "stream",
     "text": [
      "WBGene00020957\nWBGene00020955\n"
     ]
    },
    {
     "name": "stdout",
     "output_type": "stream",
     "text": [
      "WBGene00235319\nWBGene00004206\n"
     ]
    },
    {
     "name": "stdout",
     "output_type": "stream",
     "text": [
      "WBGene00021392\n"
     ]
    },
    {
     "name": "stdout",
     "output_type": "stream",
     "text": [
      "WBGene00017016\n"
     ]
    },
    {
     "name": "stdout",
     "output_type": "stream",
     "text": [
      "WBGene00001911\n"
     ]
    },
    {
     "name": "stdout",
     "output_type": "stream",
     "text": [
      "WBGene00050947\n"
     ]
    },
    {
     "name": "stdout",
     "output_type": "stream",
     "text": [
      "WBGene00012316\n"
     ]
    },
    {
     "name": "stdout",
     "output_type": "stream",
     "text": [
      "WBGene00013344\n"
     ]
    },
    {
     "name": "stdout",
     "output_type": "stream",
     "text": [
      "WBGene00016808\n"
     ]
    },
    {
     "name": "stdout",
     "output_type": "stream",
     "text": [
      "WBGene00016576\nWBGene00016575\n"
     ]
    },
    {
     "name": "stdout",
     "output_type": "stream",
     "text": [
      "WBGene00195070\n"
     ]
    },
    {
     "name": "stdout",
     "output_type": "stream",
     "text": [
      "WBGene00015297\n"
     ]
    },
    {
     "name": "stdout",
     "output_type": "stream",
     "text": [
      "WBGene00014208\n"
     ]
    },
    {
     "name": "stdout",
     "output_type": "stream",
     "text": [
      "WBGene00013260\n"
     ]
    },
    {
     "name": "stdout",
     "output_type": "stream",
     "text": [
      "WBGene00002275\nWBGene00007312\n"
     ]
    },
    {
     "name": "stdout",
     "output_type": "stream",
     "text": [
      "WBGene00011045\nWBGene00013167\n"
     ]
    },
    {
     "name": "stdout",
     "output_type": "stream",
     "text": [
      "WBGene00220000\n"
     ]
    },
    {
     "name": "stdout",
     "output_type": "stream",
     "text": [
      "WBGene00010274\nWBGene00001910\n"
     ]
    },
    {
     "name": "stdout",
     "output_type": "stream",
     "text": [
      "WBGene00004456\n"
     ]
    },
    {
     "name": "stdout",
     "output_type": "stream",
     "text": [
      "WBGene00021397\n"
     ]
    },
    {
     "name": "stdout",
     "output_type": "stream",
     "text": [
      "WBGene00000698\n"
     ]
    },
    {
     "name": "stdout",
     "output_type": "stream",
     "text": [
      "WBGene00019333\n"
     ]
    },
    {
     "name": "stdout",
     "output_type": "stream",
     "text": [
      "WBGene00014176\n"
     ]
    },
    {
     "name": "stdout",
     "output_type": "stream",
     "text": [
      "WBGene00016340\n"
     ]
    },
    {
     "name": "stdout",
     "output_type": "stream",
     "text": [
      "WBGene00011302\n"
     ]
    },
    {
     "name": "stdout",
     "output_type": "stream",
     "text": [
      "WBGene00011941\n"
     ]
    },
    {
     "name": "stdout",
     "output_type": "stream",
     "text": [
      "WBGene00011203\n"
     ]
    },
    {
     "name": "stdout",
     "output_type": "stream",
     "text": [
      "WBGene00003478\n"
     ]
    },
    {
     "name": "stdout",
     "output_type": "stream",
     "text": [
      "WBGene00021692\n"
     ]
    },
    {
     "name": "stdout",
     "output_type": "stream",
     "text": [
      "WBGene00007975\n"
     ]
    },
    {
     "name": "stdout",
     "output_type": "stream",
     "text": [
      "WBGene00016457\n"
     ]
    },
    {
     "name": "stdout",
     "output_type": "stream",
     "text": [
      "WBGene00013671\n"
     ]
    }
   ],
   "source": [
    "def get_overlaps(df,df_gtf,f1):\n",
    "    with open(f1,\"w\") as outfile:\n",
    "        outfile.write(\"RUNON\\tchr\\tRUNON_strand\\tRUNON_start\\tRUNON_end\\tOPERON\\tOPERON_strand\\tOPERON_start\\tOPERON_end\\n\")\n",
    "        for i in range(len(df)):\n",
    "            for j in range(len(df_gtf)):\n",
    "                torf = True\n",
    "                if df[\"chr\"].iloc[i] == df_gtf[\"chr\"].iloc[j]:\n",
    "                    # #Get right overlaps of runon\n",
    "                    if (df[\"end\"].iloc[i] >= df_gtf[\"start\"].iloc[j]) & (df[\"end\"].iloc[i] <= df_gtf[\"end\"].iloc[j]):\n",
    "                        #print(df[\"name\"].iloc[i])\n",
    "                        torf = False\n",
    "                    #Get left overlaps of df\n",
    "                    if (df[\"start\"].iloc[i] >= df_gtf[\"start\"].iloc[j]) & (df[\"start\"].iloc[i] <= df_gtf[\"end\"].iloc[j]):\n",
    "                        torf = False\n",
    "                        #print(df[\"name\"].iloc[i])\n",
    "                    #Get genes inside of runon\n",
    "                    if (df[\"start\"].iloc[i] <= df_gtf[\"start\"].iloc[j]) & (df[\"end\"].iloc[i] >= df_gtf[\"end\"].iloc[j]):\n",
    "                        #print(df[\"name\"].iloc[i])\n",
    "                        torf = False\n",
    "                    #Get runon inside of genes\n",
    "                    if (df[\"start\"].iloc[i] >= df_gtf[\"start\"].iloc[j]) & (df[\"end\"].iloc[i] <= df_gtf[\"end\"].iloc[j]):\n",
    "                        torf = False\n",
    "\n",
    "                        #print(\"runon_inside of genes\")\n",
    "                        # print(df[\"name\"].iloc[i])\n",
    "                        # print(df_gtf[\"gene_id\"].ilocw[j])\n",
    "                    if torf == False:\n",
    "                        print(df[\"gene_id_name\"].iloc[i])\n",
    "                        outfile.write(df[\"gene_id_name\"].iloc[i] + \"\\t\"+\n",
    "                                      df[\"chr\"].iloc[i] + \"\\t\"+\n",
    "                                      df[\"strand\"].iloc[i] + \"\\t\"+\n",
    "                                      str(df[\"start\"].iloc[i])+ \"\\t\"+\n",
    "                                      str(df[\"end\"].iloc[i]) + \"\\t\"+\n",
    "                                      df_gtf[\"operon\"].iloc[j] + \"\\t\"+\n",
    "                                      df_gtf[\"strand\"].iloc[i] + \"\\t\"+\n",
    "                                      str(df_gtf[\"start\"].iloc[j]) + \"\\t\"+\n",
    "                                      str(df_gtf[\"end\"].iloc[j]) +\n",
    "                                      \"\\n\")\n",
    "get_overlaps(df_hs,df_op,\"hs_runon_operon.txt\")    \n",
    "get_overlaps(df_ok,df_op,\"ok_runon_operon.txt\")\n",
    "get_overlaps(df_hsa,df_op,\"hsa_runon_operon.txt\")    \n",
    "get_overlaps(df_oka,df_op,\"oka_runon_operon.txt\")"
   ]
  },
  {
   "cell_type": "markdown",
   "metadata": {},
   "source": [
    "#Get operons on same and diff strand from runon"
   ]
  },
  {
   "cell_type": "code",
   "execution_count": 32,
   "metadata": {
    "ExecuteTime": {
     "end_time": "2018-03-28T03:10:01.231228Z",
     "start_time": "2018-03-28T03:10:01.171390Z"
    },
    "collapsed": true
   },
   "outputs": [],
   "source": [
    "df_hs_op = pd.read_csv(\"hs_runon_operon.txt\",sep=\"\\t\")\n",
    "df_ok_op = pd.read_csv(\"ok_runon_operon.txt\",sep=\"\\t\")\n",
    "df_hsa_op = pd.read_csv(\"hsa_runon_operon.txt\",sep=\"\\t\")\n",
    "df_oka_op = pd.read_csv(\"oka_runon_operon.txt\",sep=\"\\t\")"
   ]
  },
  {
   "cell_type": "code",
   "execution_count": 33,
   "metadata": {
    "ExecuteTime": {
     "end_time": "2018-03-28T03:12:28.404655Z",
     "start_time": "2018-03-28T03:12:28.349111Z"
    }
   },
   "outputs": [],
   "source": [
    "df_hs_op_same_strand = df_hs_op[df_hs_op[\"RUNON_strand\"]==df_hs_op[\"OPERON_strand\"]]\n",
    "df_hs_op_diff_strand = df_hs_op[df_hs_op[\"RUNON_strand\"]!=df_hs_op[\"OPERON_strand\"]]\n",
    "df_hsa_op_same_strand = df_hsa_op[df_hsa_op[\"RUNON_strand\"]==df_hsa_op[\"OPERON_strand\"]]\n",
    "df_hsa_op_diff_strand = df_hsa_op[df_hsa_op[\"RUNON_strand\"]!=df_hsa_op[\"OPERON_strand\"]]\n",
    "\n",
    "df_ok_op_same_strand = df_ok_op[df_ok_op[\"RUNON_strand\"]==df_ok_op[\"OPERON_strand\"]]\n",
    "df_ok_op_diff_strand = df_ok_op[df_ok_op[\"RUNON_strand\"]!=df_ok_op[\"OPERON_strand\"]]\n",
    "df_oka_op_same_strand = df_oka_op[df_oka_op[\"RUNON_strand\"]==df_oka_op[\"OPERON_strand\"]]\n",
    "df_oka_op_diff_strand = df_oka_op[df_oka_op[\"RUNON_strand\"]!=df_oka_op[\"OPERON_strand\"]]"
   ]
  },
  {
   "cell_type": "markdown",
   "metadata": {
    "ExecuteTime": {
     "end_time": "2018-03-28T03:16:43.062569Z",
     "start_time": "2018-03-28T03:16:42.877155Z"
    },
    "collapsed": true
   },
   "source": [
    "#Remove operons on same strand with any overlap\n"
   ]
  },
  {
   "cell_type": "code",
   "execution_count": 35,
   "metadata": {},
   "outputs": [
    {
     "name": "stdout",
     "output_type": "stream",
     "text": [
      "Length before removing operons :  487\nLength after removing operons :  420\nLength before removing operons :  521\nLength after removing operons :  450\nLength before removing operons :  300\nLength after removing operons :  264\nLength before removing operons :  70\nLength after removing operons on opposite strand:  70\nLength before removing operons :  43\nLength after removing operons on opposite strand:  43\nLength before removing operons :  51\nLength after removing operons on opposite strand:  51\n"
     ]
    },
    {
     "data": {
      "text/html": [
       "<div>\n",
       "<style scoped>\n",
       "    .dataframe tbody tr th:only-of-type {\n",
       "        vertical-align: middle;\n",
       "    }\n",
       "\n",
       "    .dataframe tbody tr th {\n",
       "        vertical-align: top;\n",
       "    }\n",
       "\n",
       "    .dataframe thead th {\n",
       "        text-align: right;\n",
       "    }\n",
       "</style>\n",
       "<table border=\"1\" class=\"dataframe\">\n",
       "  <thead>\n",
       "    <tr style=\"text-align: right;\">\n",
       "      <th></th>\n",
       "      <th>gene_id_name</th>\n",
       "      <th>gene_biotype_name</th>\n",
       "      <th>TYPE</th>\n",
       "      <th>chr</th>\n",
       "      <th>strand</th>\n",
       "      <th>DOG_length</th>\n",
       "      <th>DOG_start_local</th>\n",
       "      <th>DOG_end_local</th>\n",
       "      <th>DOG_start_meta</th>\n",
       "      <th>DOG_end_meta</th>\n",
       "      <th>...</th>\n",
       "      <th>lfcSE</th>\n",
       "      <th>stat</th>\n",
       "      <th>source</th>\n",
       "      <th>length</th>\n",
       "      <th>left_int_length</th>\n",
       "      <th>right_int_length</th>\n",
       "      <th>sample_name</th>\n",
       "      <th>start</th>\n",
       "      <th>end</th>\n",
       "      <th>type</th>\n",
       "    </tr>\n",
       "  </thead>\n",
       "  <tbody>\n",
       "    <tr>\n",
       "      <th>0</th>\n",
       "      <td>WBGene00004974</td>\n",
       "      <td>protein_coding</td>\n",
       "      <td>ADOG</td>\n",
       "      <td>IV</td>\n",
       "      <td>+</td>\n",
       "      <td>400</td>\n",
       "      <td>9934285</td>\n",
       "      <td>9934685</td>\n",
       "      <td>9934285</td>\n",
       "      <td>9934685</td>\n",
       "      <td>...</td>\n",
       "      <td>0.410623</td>\n",
       "      <td>0.309488</td>\n",
       "      <td>WormBase</td>\n",
       "      <td>375</td>\n",
       "      <td>0.0</td>\n",
       "      <td>10201.0</td>\n",
       "      <td>CONT___HS_1</td>\n",
       "      <td>9933910</td>\n",
       "      <td>9934285</td>\n",
       "      <td>gene</td>\n",
       "    </tr>\n",
       "    <tr>\n",
       "      <th>1</th>\n",
       "      <td>WBGene00014095</td>\n",
       "      <td>protein_coding</td>\n",
       "      <td>ADOG</td>\n",
       "      <td>IV</td>\n",
       "      <td>+</td>\n",
       "      <td>200</td>\n",
       "      <td>11955541</td>\n",
       "      <td>11955741</td>\n",
       "      <td>11955541</td>\n",
       "      <td>11955741</td>\n",
       "      <td>...</td>\n",
       "      <td>0.929306</td>\n",
       "      <td>0.491229</td>\n",
       "      <td>WormBase</td>\n",
       "      <td>2292</td>\n",
       "      <td>0.0</td>\n",
       "      <td>936.0</td>\n",
       "      <td>CONT_NOHS_2</td>\n",
       "      <td>11953249</td>\n",
       "      <td>11955541</td>\n",
       "      <td>gene</td>\n",
       "    </tr>\n",
       "    <tr>\n",
       "      <th>2</th>\n",
       "      <td>WBGene00011941</td>\n",
       "      <td>protein_coding</td>\n",
       "      <td>ADOG</td>\n",
       "      <td>IV</td>\n",
       "      <td>+</td>\n",
       "      <td>400</td>\n",
       "      <td>12676000</td>\n",
       "      <td>12676400</td>\n",
       "      <td>12676000</td>\n",
       "      <td>12676400</td>\n",
       "      <td>...</td>\n",
       "      <td>1.319381</td>\n",
       "      <td>0.897145</td>\n",
       "      <td>WormBase</td>\n",
       "      <td>793</td>\n",
       "      <td>0.0</td>\n",
       "      <td>12655.0</td>\n",
       "      <td>CONT___HS_1</td>\n",
       "      <td>12675207</td>\n",
       "      <td>12676000</td>\n",
       "      <td>gene</td>\n",
       "    </tr>\n",
       "    <tr>\n",
       "      <th>3</th>\n",
       "      <td>WBGene00044280</td>\n",
       "      <td>protein_coding</td>\n",
       "      <td>ADOG</td>\n",
       "      <td>IV</td>\n",
       "      <td>+</td>\n",
       "      <td>200</td>\n",
       "      <td>13348599</td>\n",
       "      <td>13348799</td>\n",
       "      <td>13348599</td>\n",
       "      <td>13348799</td>\n",
       "      <td>...</td>\n",
       "      <td>0.680004</td>\n",
       "      <td>1.419351</td>\n",
       "      <td>WormBase</td>\n",
       "      <td>934</td>\n",
       "      <td>0.0</td>\n",
       "      <td>5124.0</td>\n",
       "      <td>CONT___HS_1</td>\n",
       "      <td>13347665</td>\n",
       "      <td>13348599</td>\n",
       "      <td>gene</td>\n",
       "    </tr>\n",
       "    <tr>\n",
       "      <th>4</th>\n",
       "      <td>WBGene00018362</td>\n",
       "      <td>protein_coding</td>\n",
       "      <td>ADOG</td>\n",
       "      <td>III</td>\n",
       "      <td>+</td>\n",
       "      <td>200</td>\n",
       "      <td>786092</td>\n",
       "      <td>786292</td>\n",
       "      <td>786092</td>\n",
       "      <td>786292</td>\n",
       "      <td>...</td>\n",
       "      <td>0.408148</td>\n",
       "      <td>-0.231217</td>\n",
       "      <td>WormBase</td>\n",
       "      <td>2378</td>\n",
       "      <td>0.0</td>\n",
       "      <td>8208.0</td>\n",
       "      <td>CONT___HS_2</td>\n",
       "      <td>783714</td>\n",
       "      <td>786092</td>\n",
       "      <td>gene</td>\n",
       "    </tr>\n",
       "    <tr>\n",
       "      <th>5</th>\n",
       "      <td>WBGene00021850</td>\n",
       "      <td>protein_coding</td>\n",
       "      <td>ADOG</td>\n",
       "      <td>III</td>\n",
       "      <td>+</td>\n",
       "      <td>400</td>\n",
       "      <td>2511802</td>\n",
       "      <td>2512202</td>\n",
       "      <td>2511802</td>\n",
       "      <td>2512202</td>\n",
       "      <td>...</td>\n",
       "      <td>0.490988</td>\n",
       "      <td>0.073825</td>\n",
       "      <td>WormBase</td>\n",
       "      <td>2954</td>\n",
       "      <td>0.0</td>\n",
       "      <td>17261.0</td>\n",
       "      <td>CONT_NOHS_2</td>\n",
       "      <td>2508848</td>\n",
       "      <td>2511802</td>\n",
       "      <td>gene</td>\n",
       "    </tr>\n",
       "    <tr>\n",
       "      <th>6</th>\n",
       "      <td>WBGene00004213</td>\n",
       "      <td>protein_coding</td>\n",
       "      <td>ADOG</td>\n",
       "      <td>III</td>\n",
       "      <td>+</td>\n",
       "      <td>700</td>\n",
       "      <td>3611993</td>\n",
       "      <td>3612693</td>\n",
       "      <td>3611993</td>\n",
       "      <td>3612693</td>\n",
       "      <td>...</td>\n",
       "      <td>0.346931</td>\n",
       "      <td>0.434512</td>\n",
       "      <td>WormBase</td>\n",
       "      <td>21259</td>\n",
       "      <td>0.0</td>\n",
       "      <td>9527.0</td>\n",
       "      <td>CONT_NOHS_2</td>\n",
       "      <td>3590734</td>\n",
       "      <td>3611993</td>\n",
       "      <td>gene</td>\n",
       "    </tr>\n",
       "    <tr>\n",
       "      <th>7</th>\n",
       "      <td>WBGene00011203</td>\n",
       "      <td>protein_coding</td>\n",
       "      <td>ADOG</td>\n",
       "      <td>III</td>\n",
       "      <td>+</td>\n",
       "      <td>400</td>\n",
       "      <td>4296599</td>\n",
       "      <td>4296999</td>\n",
       "      <td>4296599</td>\n",
       "      <td>4296999</td>\n",
       "      <td>...</td>\n",
       "      <td>0.395183</td>\n",
       "      <td>-0.468273</td>\n",
       "      <td>WormBase</td>\n",
       "      <td>1375</td>\n",
       "      <td>0.0</td>\n",
       "      <td>17328.0</td>\n",
       "      <td>CONT_NOHS_1</td>\n",
       "      <td>4295224</td>\n",
       "      <td>4296599</td>\n",
       "      <td>gene</td>\n",
       "    </tr>\n",
       "    <tr>\n",
       "      <th>8</th>\n",
       "      <td>WBGene00196071</td>\n",
       "      <td>ncRNA</td>\n",
       "      <td>ADOG</td>\n",
       "      <td>III</td>\n",
       "      <td>+</td>\n",
       "      <td>400</td>\n",
       "      <td>4462369</td>\n",
       "      <td>4462769</td>\n",
       "      <td>4462369</td>\n",
       "      <td>4462769</td>\n",
       "      <td>...</td>\n",
       "      <td>0.970488</td>\n",
       "      <td>-0.501168</td>\n",
       "      <td>WormBase</td>\n",
       "      <td>143</td>\n",
       "      <td>0.0</td>\n",
       "      <td>6509.0</td>\n",
       "      <td>CONT___HS_1</td>\n",
       "      <td>4462226</td>\n",
       "      <td>4462369</td>\n",
       "      <td>gene</td>\n",
       "    </tr>\n",
       "    <tr>\n",
       "      <th>9</th>\n",
       "      <td>WBGene00003845</td>\n",
       "      <td>protein_coding</td>\n",
       "      <td>ADOG</td>\n",
       "      <td>III</td>\n",
       "      <td>+</td>\n",
       "      <td>200</td>\n",
       "      <td>7109741</td>\n",
       "      <td>7109941</td>\n",
       "      <td>7109741</td>\n",
       "      <td>7109941</td>\n",
       "      <td>...</td>\n",
       "      <td>0.735689</td>\n",
       "      <td>1.133396</td>\n",
       "      <td>WormBase</td>\n",
       "      <td>1419</td>\n",
       "      <td>0.0</td>\n",
       "      <td>13387.0</td>\n",
       "      <td>CONT___HS_2</td>\n",
       "      <td>7108322</td>\n",
       "      <td>7109741</td>\n",
       "      <td>gene</td>\n",
       "    </tr>\n",
       "    <tr>\n",
       "      <th>10</th>\n",
       "      <td>WBGene00003478</td>\n",
       "      <td>protein_coding</td>\n",
       "      <td>ADOG</td>\n",
       "      <td>III</td>\n",
       "      <td>+</td>\n",
       "      <td>200</td>\n",
       "      <td>13355683</td>\n",
       "      <td>13355883</td>\n",
       "      <td>13355683</td>\n",
       "      <td>13355883</td>\n",
       "      <td>...</td>\n",
       "      <td>0.785864</td>\n",
       "      <td>-0.029419</td>\n",
       "      <td>WormBase</td>\n",
       "      <td>8598</td>\n",
       "      <td>0.0</td>\n",
       "      <td>1568.0</td>\n",
       "      <td>CONT_NOHS_2</td>\n",
       "      <td>13347085</td>\n",
       "      <td>13355683</td>\n",
       "      <td>gene</td>\n",
       "    </tr>\n",
       "    <tr>\n",
       "      <th>11</th>\n",
       "      <td>WBGene00015666</td>\n",
       "      <td>protein_coding</td>\n",
       "      <td>ADOG</td>\n",
       "      <td>X</td>\n",
       "      <td>+</td>\n",
       "      <td>300</td>\n",
       "      <td>7395987</td>\n",
       "      <td>7396287</td>\n",
       "      <td>7395987</td>\n",
       "      <td>7396287</td>\n",
       "      <td>...</td>\n",
       "      <td>0.577210</td>\n",
       "      <td>-0.784293</td>\n",
       "      <td>WormBase</td>\n",
       "      <td>2520</td>\n",
       "      <td>0.0</td>\n",
       "      <td>2897.0</td>\n",
       "      <td>CONT_NOHS_1</td>\n",
       "      <td>7393467</td>\n",
       "      <td>7395987</td>\n",
       "      <td>gene</td>\n",
       "    </tr>\n",
       "    <tr>\n",
       "      <th>12</th>\n",
       "      <td>WBGene00021662</td>\n",
       "      <td>protein_coding</td>\n",
       "      <td>ADOG</td>\n",
       "      <td>I</td>\n",
       "      <td>+</td>\n",
       "      <td>200</td>\n",
       "      <td>216996</td>\n",
       "      <td>217196</td>\n",
       "      <td>216996</td>\n",
       "      <td>217196</td>\n",
       "      <td>...</td>\n",
       "      <td>0.984340</td>\n",
       "      <td>-0.678641</td>\n",
       "      <td>WormBase</td>\n",
       "      <td>968</td>\n",
       "      <td>0.0</td>\n",
       "      <td>1064.0</td>\n",
       "      <td>CONT_NOHS_1</td>\n",
       "      <td>216028</td>\n",
       "      <td>216996</td>\n",
       "      <td>gene</td>\n",
       "    </tr>\n",
       "    <tr>\n",
       "      <th>13</th>\n",
       "      <td>WBGene00255594</td>\n",
       "      <td>protein_coding</td>\n",
       "      <td>ADOG</td>\n",
       "      <td>I</td>\n",
       "      <td>+</td>\n",
       "      <td>200</td>\n",
       "      <td>219099</td>\n",
       "      <td>219299</td>\n",
       "      <td>219099</td>\n",
       "      <td>219299</td>\n",
       "      <td>...</td>\n",
       "      <td>1.578602</td>\n",
       "      <td>-0.140729</td>\n",
       "      <td>WormBase</td>\n",
       "      <td>1039</td>\n",
       "      <td>0.0</td>\n",
       "      <td>21392.0</td>\n",
       "      <td>CONT___HS_2</td>\n",
       "      <td>218060</td>\n",
       "      <td>219099</td>\n",
       "      <td>gene</td>\n",
       "    </tr>\n",
       "    <tr>\n",
       "      <th>14</th>\n",
       "      <td>WBGene00021692</td>\n",
       "      <td>protein_coding</td>\n",
       "      <td>ADOG</td>\n",
       "      <td>I</td>\n",
       "      <td>+</td>\n",
       "      <td>800</td>\n",
       "      <td>1258258</td>\n",
       "      <td>1259058</td>\n",
       "      <td>1258258</td>\n",
       "      <td>1259058</td>\n",
       "      <td>...</td>\n",
       "      <td>0.403601</td>\n",
       "      <td>1.829779</td>\n",
       "      <td>WormBase</td>\n",
       "      <td>3488</td>\n",
       "      <td>0.0</td>\n",
       "      <td>20550.0</td>\n",
       "      <td>CONT___HS_2</td>\n",
       "      <td>1254770</td>\n",
       "      <td>1258258</td>\n",
       "      <td>gene</td>\n",
       "    </tr>\n",
       "    <tr>\n",
       "      <th>15</th>\n",
       "      <td>WBGene00022115</td>\n",
       "      <td>protein_coding</td>\n",
       "      <td>ADOG</td>\n",
       "      <td>I</td>\n",
       "      <td>+</td>\n",
       "      <td>200</td>\n",
       "      <td>2870167</td>\n",
       "      <td>2870367</td>\n",
       "      <td>2870167</td>\n",
       "      <td>2870367</td>\n",
       "      <td>...</td>\n",
       "      <td>0.403566</td>\n",
       "      <td>1.346978</td>\n",
       "      <td>WormBase</td>\n",
       "      <td>3659</td>\n",
       "      <td>0.0</td>\n",
       "      <td>6765.0</td>\n",
       "      <td>CONT_NOHS_1</td>\n",
       "      <td>2866508</td>\n",
       "      <td>2870167</td>\n",
       "      <td>gene</td>\n",
       "    </tr>\n",
       "    <tr>\n",
       "      <th>16</th>\n",
       "      <td>WBGene00007975</td>\n",
       "      <td>protein_coding</td>\n",
       "      <td>ADOG</td>\n",
       "      <td>I</td>\n",
       "      <td>+</td>\n",
       "      <td>900</td>\n",
       "      <td>8742548</td>\n",
       "      <td>8743448</td>\n",
       "      <td>8742548</td>\n",
       "      <td>8743448</td>\n",
       "      <td>...</td>\n",
       "      <td>0.363267</td>\n",
       "      <td>-2.417895</td>\n",
       "      <td>WormBase</td>\n",
       "      <td>5476</td>\n",
       "      <td>0.0</td>\n",
       "      <td>9688.0</td>\n",
       "      <td>CONT_NOHS_2</td>\n",
       "      <td>8737072</td>\n",
       "      <td>8742548</td>\n",
       "      <td>gene</td>\n",
       "    </tr>\n",
       "    <tr>\n",
       "      <th>17</th>\n",
       "      <td>WBGene00003083</td>\n",
       "      <td>protein_coding</td>\n",
       "      <td>ADOG</td>\n",
       "      <td>I</td>\n",
       "      <td>+</td>\n",
       "      <td>200</td>\n",
       "      <td>10590464</td>\n",
       "      <td>10590664</td>\n",
       "      <td>10590464</td>\n",
       "      <td>10590664</td>\n",
       "      <td>...</td>\n",
       "      <td>1.223166</td>\n",
       "      <td>-0.022132</td>\n",
       "      <td>WormBase</td>\n",
       "      <td>2287</td>\n",
       "      <td>0.0</td>\n",
       "      <td>214.0</td>\n",
       "      <td>CONT___HS_1</td>\n",
       "      <td>10588177</td>\n",
       "      <td>10590464</td>\n",
       "      <td>gene</td>\n",
       "    </tr>\n",
       "    <tr>\n",
       "      <th>18</th>\n",
       "      <td>WBGene00016457</td>\n",
       "      <td>protein_coding</td>\n",
       "      <td>ADOG</td>\n",
       "      <td>I</td>\n",
       "      <td>+</td>\n",
       "      <td>900</td>\n",
       "      <td>10828454</td>\n",
       "      <td>10829354</td>\n",
       "      <td>10828454</td>\n",
       "      <td>10829354</td>\n",
       "      <td>...</td>\n",
       "      <td>0.402847</td>\n",
       "      <td>-0.709337</td>\n",
       "      <td>WormBase</td>\n",
       "      <td>5091</td>\n",
       "      <td>0.0</td>\n",
       "      <td>3427.0</td>\n",
       "      <td>CONT_NOHS_2</td>\n",
       "      <td>10823363</td>\n",
       "      <td>10828454</td>\n",
       "      <td>gene</td>\n",
       "    </tr>\n",
       "    <tr>\n",
       "      <th>19</th>\n",
       "      <td>WBGene00002977</td>\n",
       "      <td>protein_coding</td>\n",
       "      <td>ADOG</td>\n",
       "      <td>I</td>\n",
       "      <td>+</td>\n",
       "      <td>200</td>\n",
       "      <td>14400222</td>\n",
       "      <td>14400422</td>\n",
       "      <td>14400222</td>\n",
       "      <td>14400422</td>\n",
       "      <td>...</td>\n",
       "      <td>0.932850</td>\n",
       "      <td>0.992830</td>\n",
       "      <td>WormBase</td>\n",
       "      <td>9889</td>\n",
       "      <td>0.0</td>\n",
       "      <td>5806.0</td>\n",
       "      <td>CONT___HS_1</td>\n",
       "      <td>14390333</td>\n",
       "      <td>14400222</td>\n",
       "      <td>gene</td>\n",
       "    </tr>\n",
       "    <tr>\n",
       "      <th>20</th>\n",
       "      <td>WBGene00013671</td>\n",
       "      <td>protein_coding</td>\n",
       "      <td>ADOG</td>\n",
       "      <td>I</td>\n",
       "      <td>+</td>\n",
       "      <td>200</td>\n",
       "      <td>14433841</td>\n",
       "      <td>14434041</td>\n",
       "      <td>14433841</td>\n",
       "      <td>14434041</td>\n",
       "      <td>...</td>\n",
       "      <td>1.071209</td>\n",
       "      <td>3.422584</td>\n",
       "      <td>WormBase</td>\n",
       "      <td>1048</td>\n",
       "      <td>0.0</td>\n",
       "      <td>3529.0</td>\n",
       "      <td>CONT___HS_2</td>\n",
       "      <td>14432793</td>\n",
       "      <td>14433841</td>\n",
       "      <td>gene</td>\n",
       "    </tr>\n",
       "    <tr>\n",
       "      <th>21</th>\n",
       "      <td>WBGene00020904</td>\n",
       "      <td>protein_coding</td>\n",
       "      <td>ADOG</td>\n",
       "      <td>V</td>\n",
       "      <td>+</td>\n",
       "      <td>400</td>\n",
       "      <td>4516947</td>\n",
       "      <td>4517347</td>\n",
       "      <td>4516947</td>\n",
       "      <td>4517347</td>\n",
       "      <td>...</td>\n",
       "      <td>0.386229</td>\n",
       "      <td>0.106318</td>\n",
       "      <td>WormBase</td>\n",
       "      <td>4970</td>\n",
       "      <td>0.0</td>\n",
       "      <td>9014.0</td>\n",
       "      <td>CONT___HS_2</td>\n",
       "      <td>4511977</td>\n",
       "      <td>4516947</td>\n",
       "      <td>gene</td>\n",
       "    </tr>\n",
       "    <tr>\n",
       "      <th>22</th>\n",
       "      <td>WBGene00007055</td>\n",
       "      <td>protein_coding</td>\n",
       "      <td>ADOG</td>\n",
       "      <td>V</td>\n",
       "      <td>+</td>\n",
       "      <td>200</td>\n",
       "      <td>8597500</td>\n",
       "      <td>8597700</td>\n",
       "      <td>8597500</td>\n",
       "      <td>8597700</td>\n",
       "      <td>...</td>\n",
       "      <td>1.149763</td>\n",
       "      <td>-0.430677</td>\n",
       "      <td>WormBase</td>\n",
       "      <td>2586</td>\n",
       "      <td>0.0</td>\n",
       "      <td>5980.0</td>\n",
       "      <td>CONT_NOHS_2</td>\n",
       "      <td>8594914</td>\n",
       "      <td>8597500</td>\n",
       "      <td>gene</td>\n",
       "    </tr>\n",
       "    <tr>\n",
       "      <th>23</th>\n",
       "      <td>WBGene00009200</td>\n",
       "      <td>protein_coding</td>\n",
       "      <td>ADOG</td>\n",
       "      <td>V</td>\n",
       "      <td>+</td>\n",
       "      <td>500</td>\n",
       "      <td>12453336</td>\n",
       "      <td>12453836</td>\n",
       "      <td>12453336</td>\n",
       "      <td>12453836</td>\n",
       "      <td>...</td>\n",
       "      <td>0.379630</td>\n",
       "      <td>-0.754517</td>\n",
       "      <td>WormBase</td>\n",
       "      <td>2529</td>\n",
       "      <td>0.0</td>\n",
       "      <td>5861.0</td>\n",
       "      <td>CONT___HS_2</td>\n",
       "      <td>12450807</td>\n",
       "      <td>12453336</td>\n",
       "      <td>gene</td>\n",
       "    </tr>\n",
       "    <tr>\n",
       "      <th>24</th>\n",
       "      <td>WBGene00168989</td>\n",
       "      <td>piRNA</td>\n",
       "      <td>ADOG</td>\n",
       "      <td>V</td>\n",
       "      <td>+</td>\n",
       "      <td>200</td>\n",
       "      <td>17342856</td>\n",
       "      <td>17343056</td>\n",
       "      <td>17342856</td>\n",
       "      <td>17343056</td>\n",
       "      <td>...</td>\n",
       "      <td>0.782566</td>\n",
       "      <td>-1.979023</td>\n",
       "      <td>WormBase</td>\n",
       "      <td>20</td>\n",
       "      <td>0.0</td>\n",
       "      <td>2372.0</td>\n",
       "      <td>CONT___HS_2</td>\n",
       "      <td>17342836</td>\n",
       "      <td>17342856</td>\n",
       "      <td>gene</td>\n",
       "    </tr>\n",
       "    <tr>\n",
       "      <th>25</th>\n",
       "      <td>WBGene00044640</td>\n",
       "      <td>protein_coding</td>\n",
       "      <td>ADOG</td>\n",
       "      <td>II</td>\n",
       "      <td>+</td>\n",
       "      <td>200</td>\n",
       "      <td>266077</td>\n",
       "      <td>266277</td>\n",
       "      <td>266077</td>\n",
       "      <td>266277</td>\n",
       "      <td>...</td>\n",
       "      <td>0.842878</td>\n",
       "      <td>0.170980</td>\n",
       "      <td>WormBase</td>\n",
       "      <td>1724</td>\n",
       "      <td>0.0</td>\n",
       "      <td>15741.0</td>\n",
       "      <td>CONT_NOHS_1</td>\n",
       "      <td>264353</td>\n",
       "      <td>266077</td>\n",
       "      <td>gene</td>\n",
       "    </tr>\n",
       "    <tr>\n",
       "      <th>26</th>\n",
       "      <td>WBGene00020532</td>\n",
       "      <td>protein_coding</td>\n",
       "      <td>ADOG</td>\n",
       "      <td>II</td>\n",
       "      <td>+</td>\n",
       "      <td>200</td>\n",
       "      <td>2104149</td>\n",
       "      <td>2104349</td>\n",
       "      <td>2104149</td>\n",
       "      <td>2104349</td>\n",
       "      <td>...</td>\n",
       "      <td>1.099145</td>\n",
       "      <td>0.261023</td>\n",
       "      <td>WormBase</td>\n",
       "      <td>5278</td>\n",
       "      <td>0.0</td>\n",
       "      <td>375.0</td>\n",
       "      <td>CONT___HS_2</td>\n",
       "      <td>2098871</td>\n",
       "      <td>2104149</td>\n",
       "      <td>gene</td>\n",
       "    </tr>\n",
       "    <tr>\n",
       "      <th>27</th>\n",
       "      <td>WBGene00249813</td>\n",
       "      <td>ncRNA</td>\n",
       "      <td>ADOG</td>\n",
       "      <td>II</td>\n",
       "      <td>+</td>\n",
       "      <td>200</td>\n",
       "      <td>3309287</td>\n",
       "      <td>3309487</td>\n",
       "      <td>3309287</td>\n",
       "      <td>3309487</td>\n",
       "      <td>...</td>\n",
       "      <td>0.400774</td>\n",
       "      <td>-1.674724</td>\n",
       "      <td>WormBase</td>\n",
       "      <td>18</td>\n",
       "      <td>0.0</td>\n",
       "      <td>701.0</td>\n",
       "      <td>CONT_NOHS_1</td>\n",
       "      <td>3309269</td>\n",
       "      <td>3309287</td>\n",
       "      <td>gene</td>\n",
       "    </tr>\n",
       "    <tr>\n",
       "      <th>28</th>\n",
       "      <td>WBGene00019405</td>\n",
       "      <td>protein_coding</td>\n",
       "      <td>ADOG</td>\n",
       "      <td>II</td>\n",
       "      <td>+</td>\n",
       "      <td>700</td>\n",
       "      <td>5803680</td>\n",
       "      <td>5804380</td>\n",
       "      <td>5803680</td>\n",
       "      <td>5804380</td>\n",
       "      <td>...</td>\n",
       "      <td>0.337342</td>\n",
       "      <td>-0.039712</td>\n",
       "      <td>WormBase</td>\n",
       "      <td>2298</td>\n",
       "      <td>0.0</td>\n",
       "      <td>2593.0</td>\n",
       "      <td>CONT_NOHS_2</td>\n",
       "      <td>5801382</td>\n",
       "      <td>5803680</td>\n",
       "      <td>gene</td>\n",
       "    </tr>\n",
       "    <tr>\n",
       "      <th>29</th>\n",
       "      <td>WBGene00219589</td>\n",
       "      <td>antisense</td>\n",
       "      <td>ADOG</td>\n",
       "      <td>II</td>\n",
       "      <td>+</td>\n",
       "      <td>300</td>\n",
       "      <td>11175653</td>\n",
       "      <td>11175953</td>\n",
       "      <td>11175653</td>\n",
       "      <td>11175953</td>\n",
       "      <td>...</td>\n",
       "      <td>0.729375</td>\n",
       "      <td>-0.255446</td>\n",
       "      <td>WormBase</td>\n",
       "      <td>1101</td>\n",
       "      <td>0.0</td>\n",
       "      <td>325.0</td>\n",
       "      <td>CONT___HS_2</td>\n",
       "      <td>11174552</td>\n",
       "      <td>11175653</td>\n",
       "      <td>gene</td>\n",
       "    </tr>\n",
       "    <tr>\n",
       "      <th>30</th>\n",
       "      <td>WBGene00010177</td>\n",
       "      <td>protein_coding</td>\n",
       "      <td>ADOG</td>\n",
       "      <td>V</td>\n",
       "      <td>+</td>\n",
       "      <td>900</td>\n",
       "      <td>10048726</td>\n",
       "      <td>10049626</td>\n",
       "      <td>10048726</td>\n",
       "      <td>10049626</td>\n",
       "      <td>...</td>\n",
       "      <td>0.648875</td>\n",
       "      <td>7.539742</td>\n",
       "      <td>WormBase</td>\n",
       "      <td>11386</td>\n",
       "      <td>0.0</td>\n",
       "      <td>3429.0</td>\n",
       "      <td>CONT___HS_2</td>\n",
       "      <td>10037340</td>\n",
       "      <td>10048726</td>\n",
       "      <td>gene</td>\n",
       "    </tr>\n",
       "    <tr>\n",
       "      <th>31</th>\n",
       "      <td>WBGene00010111</td>\n",
       "      <td>protein_coding</td>\n",
       "      <td>ADOG</td>\n",
       "      <td>I</td>\n",
       "      <td>+</td>\n",
       "      <td>400</td>\n",
       "      <td>7894864</td>\n",
       "      <td>7895264</td>\n",
       "      <td>7894864</td>\n",
       "      <td>7895264</td>\n",
       "      <td>...</td>\n",
       "      <td>0.833724</td>\n",
       "      <td>3.929227</td>\n",
       "      <td>WormBase</td>\n",
       "      <td>5554</td>\n",
       "      <td>0.0</td>\n",
       "      <td>1261.0</td>\n",
       "      <td>CONT___HS_2</td>\n",
       "      <td>7889310</td>\n",
       "      <td>7894864</td>\n",
       "      <td>gene</td>\n",
       "    </tr>\n",
       "    <tr>\n",
       "      <th>32</th>\n",
       "      <td>WBGene00017054</td>\n",
       "      <td>protein_coding</td>\n",
       "      <td>ADOG</td>\n",
       "      <td>IV</td>\n",
       "      <td>-</td>\n",
       "      <td>300</td>\n",
       "      <td>7240145</td>\n",
       "      <td>7240445</td>\n",
       "      <td>7240145</td>\n",
       "      <td>7240445</td>\n",
       "      <td>...</td>\n",
       "      <td>0.515756</td>\n",
       "      <td>1.186005</td>\n",
       "      <td>WormBase</td>\n",
       "      <td>1825</td>\n",
       "      <td>3791.0</td>\n",
       "      <td>0.0</td>\n",
       "      <td>CONT___HS_2</td>\n",
       "      <td>7240445</td>\n",
       "      <td>7242270</td>\n",
       "      <td>gene</td>\n",
       "    </tr>\n",
       "    <tr>\n",
       "      <th>33</th>\n",
       "      <td>WBGene00019333</td>\n",
       "      <td>protein_coding</td>\n",
       "      <td>ADOG</td>\n",
       "      <td>III</td>\n",
       "      <td>-</td>\n",
       "      <td>200</td>\n",
       "      <td>851128</td>\n",
       "      <td>851328</td>\n",
       "      <td>851128</td>\n",
       "      <td>851328</td>\n",
       "      <td>...</td>\n",
       "      <td>0.701055</td>\n",
       "      <td>0.851683</td>\n",
       "      <td>WormBase</td>\n",
       "      <td>1068</td>\n",
       "      <td>9962.0</td>\n",
       "      <td>0.0</td>\n",
       "      <td>CONT___HS_2</td>\n",
       "      <td>851328</td>\n",
       "      <td>852396</td>\n",
       "      <td>gene</td>\n",
       "    </tr>\n",
       "    <tr>\n",
       "      <th>34</th>\n",
       "      <td>WBGene00022327</td>\n",
       "      <td>protein_coding</td>\n",
       "      <td>ADOG</td>\n",
       "      <td>III</td>\n",
       "      <td>-</td>\n",
       "      <td>200</td>\n",
       "      <td>1318816</td>\n",
       "      <td>1319016</td>\n",
       "      <td>1318816</td>\n",
       "      <td>1319016</td>\n",
       "      <td>...</td>\n",
       "      <td>2.489355</td>\n",
       "      <td>-0.065726</td>\n",
       "      <td>WormBase</td>\n",
       "      <td>2655</td>\n",
       "      <td>3787.0</td>\n",
       "      <td>0.0</td>\n",
       "      <td>CONT___HS_2</td>\n",
       "      <td>1319016</td>\n",
       "      <td>1321671</td>\n",
       "      <td>gene</td>\n",
       "    </tr>\n",
       "    <tr>\n",
       "      <th>35</th>\n",
       "      <td>WBGene00007136</td>\n",
       "      <td>protein_coding</td>\n",
       "      <td>ADOG</td>\n",
       "      <td>III</td>\n",
       "      <td>-</td>\n",
       "      <td>500</td>\n",
       "      <td>4341483</td>\n",
       "      <td>4341983</td>\n",
       "      <td>4341483</td>\n",
       "      <td>4341983</td>\n",
       "      <td>...</td>\n",
       "      <td>1.581979</td>\n",
       "      <td>-0.434411</td>\n",
       "      <td>WormBase</td>\n",
       "      <td>1353</td>\n",
       "      <td>1338.0</td>\n",
       "      <td>0.0</td>\n",
       "      <td>CONT___HS_1</td>\n",
       "      <td>4341983</td>\n",
       "      <td>4343336</td>\n",
       "      <td>gene</td>\n",
       "    </tr>\n",
       "    <tr>\n",
       "      <th>36</th>\n",
       "      <td>WBGene00011268</td>\n",
       "      <td>protein_coding</td>\n",
       "      <td>ADOG</td>\n",
       "      <td>III</td>\n",
       "      <td>-</td>\n",
       "      <td>300</td>\n",
       "      <td>10839723</td>\n",
       "      <td>10840023</td>\n",
       "      <td>10839723</td>\n",
       "      <td>10840023</td>\n",
       "      <td>...</td>\n",
       "      <td>1.038313</td>\n",
       "      <td>1.260458</td>\n",
       "      <td>WormBase</td>\n",
       "      <td>4997</td>\n",
       "      <td>18210.0</td>\n",
       "      <td>0.0</td>\n",
       "      <td>CONT_NOHS_1</td>\n",
       "      <td>10840023</td>\n",
       "      <td>10845020</td>\n",
       "      <td>gene</td>\n",
       "    </tr>\n",
       "    <tr>\n",
       "      <th>37</th>\n",
       "      <td>WBGene00013443</td>\n",
       "      <td>protein_coding</td>\n",
       "      <td>ADOG</td>\n",
       "      <td>III</td>\n",
       "      <td>-</td>\n",
       "      <td>900</td>\n",
       "      <td>11511960</td>\n",
       "      <td>11512860</td>\n",
       "      <td>11511960</td>\n",
       "      <td>11512860</td>\n",
       "      <td>...</td>\n",
       "      <td>1.074119</td>\n",
       "      <td>-0.042559</td>\n",
       "      <td>WormBase</td>\n",
       "      <td>10899</td>\n",
       "      <td>7569.0</td>\n",
       "      <td>0.0</td>\n",
       "      <td>CONT_NOHS_1</td>\n",
       "      <td>11512860</td>\n",
       "      <td>11523759</td>\n",
       "      <td>gene</td>\n",
       "    </tr>\n",
       "    <tr>\n",
       "      <th>38</th>\n",
       "      <td>WBGene00014176</td>\n",
       "      <td>protein_coding</td>\n",
       "      <td>ADOG</td>\n",
       "      <td>III</td>\n",
       "      <td>-</td>\n",
       "      <td>200</td>\n",
       "      <td>12974868</td>\n",
       "      <td>12975068</td>\n",
       "      <td>12974868</td>\n",
       "      <td>12975068</td>\n",
       "      <td>...</td>\n",
       "      <td>0.880491</td>\n",
       "      <td>3.735579</td>\n",
       "      <td>WormBase</td>\n",
       "      <td>2794</td>\n",
       "      <td>2570.0</td>\n",
       "      <td>0.0</td>\n",
       "      <td>CONT___HS_2</td>\n",
       "      <td>12975068</td>\n",
       "      <td>12977862</td>\n",
       "      <td>gene</td>\n",
       "    </tr>\n",
       "    <tr>\n",
       "      <th>39</th>\n",
       "      <td>WBGene00020765</td>\n",
       "      <td>protein_coding</td>\n",
       "      <td>ADOG</td>\n",
       "      <td>X</td>\n",
       "      <td>-</td>\n",
       "      <td>300</td>\n",
       "      <td>2196225</td>\n",
       "      <td>2196525</td>\n",
       "      <td>2196225</td>\n",
       "      <td>2196525</td>\n",
       "      <td>...</td>\n",
       "      <td>0.613342</td>\n",
       "      <td>-0.391988</td>\n",
       "      <td>WormBase</td>\n",
       "      <td>7436</td>\n",
       "      <td>20114.0</td>\n",
       "      <td>0.0</td>\n",
       "      <td>CONT_NOHS_1</td>\n",
       "      <td>2196525</td>\n",
       "      <td>2203961</td>\n",
       "      <td>gene</td>\n",
       "    </tr>\n",
       "    <tr>\n",
       "      <th>40</th>\n",
       "      <td>WBGene00007268</td>\n",
       "      <td>protein_coding</td>\n",
       "      <td>ADOG</td>\n",
       "      <td>X</td>\n",
       "      <td>-</td>\n",
       "      <td>300</td>\n",
       "      <td>11267091</td>\n",
       "      <td>11267391</td>\n",
       "      <td>11267091</td>\n",
       "      <td>11267391</td>\n",
       "      <td>...</td>\n",
       "      <td>0.886702</td>\n",
       "      <td>0.278074</td>\n",
       "      <td>WormBase</td>\n",
       "      <td>1632</td>\n",
       "      <td>14729.0</td>\n",
       "      <td>0.0</td>\n",
       "      <td>CONT_NOHS_2</td>\n",
       "      <td>11267391</td>\n",
       "      <td>11269023</td>\n",
       "      <td>gene</td>\n",
       "    </tr>\n",
       "    <tr>\n",
       "      <th>41</th>\n",
       "      <td>WBGene00219564</td>\n",
       "      <td>lincRNA</td>\n",
       "      <td>ADOG</td>\n",
       "      <td>X</td>\n",
       "      <td>-</td>\n",
       "      <td>200</td>\n",
       "      <td>14079197</td>\n",
       "      <td>14079397</td>\n",
       "      <td>14079197</td>\n",
       "      <td>14079397</td>\n",
       "      <td>...</td>\n",
       "      <td>1.835058</td>\n",
       "      <td>1.176704</td>\n",
       "      <td>WormBase</td>\n",
       "      <td>640</td>\n",
       "      <td>723.0</td>\n",
       "      <td>0.0</td>\n",
       "      <td>CONT___HS_2</td>\n",
       "      <td>14079397</td>\n",
       "      <td>14080037</td>\n",
       "      <td>gene</td>\n",
       "    </tr>\n",
       "    <tr>\n",
       "      <th>42</th>\n",
       "      <td>WBGene00007261</td>\n",
       "      <td>protein_coding</td>\n",
       "      <td>ADOG</td>\n",
       "      <td>X</td>\n",
       "      <td>-</td>\n",
       "      <td>300</td>\n",
       "      <td>15546388</td>\n",
       "      <td>15546688</td>\n",
       "      <td>15546388</td>\n",
       "      <td>15546688</td>\n",
       "      <td>...</td>\n",
       "      <td>2.531698</td>\n",
       "      <td>0.171323</td>\n",
       "      <td>WormBase</td>\n",
       "      <td>5545</td>\n",
       "      <td>4275.0</td>\n",
       "      <td>0.0</td>\n",
       "      <td>CONT_NOHS_2</td>\n",
       "      <td>15546688</td>\n",
       "      <td>15552233</td>\n",
       "      <td>gene</td>\n",
       "    </tr>\n",
       "    <tr>\n",
       "      <th>43</th>\n",
       "      <td>WBGene00018159</td>\n",
       "      <td>protein_coding</td>\n",
       "      <td>ADOG</td>\n",
       "      <td>I</td>\n",
       "      <td>-</td>\n",
       "      <td>300</td>\n",
       "      <td>1441748</td>\n",
       "      <td>1442048</td>\n",
       "      <td>1441748</td>\n",
       "      <td>1442048</td>\n",
       "      <td>...</td>\n",
       "      <td>0.510382</td>\n",
       "      <td>0.276208</td>\n",
       "      <td>WormBase</td>\n",
       "      <td>1894</td>\n",
       "      <td>8353.0</td>\n",
       "      <td>0.0</td>\n",
       "      <td>CONT_NOHS_2</td>\n",
       "      <td>1442048</td>\n",
       "      <td>1443942</td>\n",
       "      <td>gene</td>\n",
       "    </tr>\n",
       "    <tr>\n",
       "      <th>44</th>\n",
       "      <td>WBGene00016494</td>\n",
       "      <td>protein_coding</td>\n",
       "      <td>ADOG</td>\n",
       "      <td>I</td>\n",
       "      <td>-</td>\n",
       "      <td>500</td>\n",
       "      <td>6797732</td>\n",
       "      <td>6798232</td>\n",
       "      <td>6797732</td>\n",
       "      <td>6798232</td>\n",
       "      <td>...</td>\n",
       "      <td>0.793658</td>\n",
       "      <td>-0.055043</td>\n",
       "      <td>WormBase</td>\n",
       "      <td>1442</td>\n",
       "      <td>7394.0</td>\n",
       "      <td>0.0</td>\n",
       "      <td>CONT___HS_2</td>\n",
       "      <td>6798232</td>\n",
       "      <td>6799674</td>\n",
       "      <td>gene</td>\n",
       "    </tr>\n",
       "    <tr>\n",
       "      <th>45</th>\n",
       "      <td>WBGene00007640</td>\n",
       "      <td>protein_coding</td>\n",
       "      <td>ADOG</td>\n",
       "      <td>I</td>\n",
       "      <td>-</td>\n",
       "      <td>200</td>\n",
       "      <td>11603827</td>\n",
       "      <td>11604027</td>\n",
       "      <td>11603827</td>\n",
       "      <td>11604027</td>\n",
       "      <td>...</td>\n",
       "      <td>1.603475</td>\n",
       "      <td>1.504175</td>\n",
       "      <td>WormBase</td>\n",
       "      <td>7287</td>\n",
       "      <td>7270.0</td>\n",
       "      <td>0.0</td>\n",
       "      <td>CONT_NOHS_2</td>\n",
       "      <td>11604027</td>\n",
       "      <td>11611314</td>\n",
       "      <td>gene</td>\n",
       "    </tr>\n",
       "    <tr>\n",
       "      <th>46</th>\n",
       "      <td>WBGene00013352</td>\n",
       "      <td>protein_coding</td>\n",
       "      <td>ADOG</td>\n",
       "      <td>V</td>\n",
       "      <td>-</td>\n",
       "      <td>200</td>\n",
       "      <td>17995147</td>\n",
       "      <td>17995347</td>\n",
       "      <td>17995147</td>\n",
       "      <td>17995347</td>\n",
       "      <td>...</td>\n",
       "      <td>0.919606</td>\n",
       "      <td>0.094250</td>\n",
       "      <td>WormBase</td>\n",
       "      <td>6021</td>\n",
       "      <td>15265.0</td>\n",
       "      <td>0.0</td>\n",
       "      <td>CONT___HS_2</td>\n",
       "      <td>17995347</td>\n",
       "      <td>18001368</td>\n",
       "      <td>gene</td>\n",
       "    </tr>\n",
       "    <tr>\n",
       "      <th>47</th>\n",
       "      <td>WBGene00016340</td>\n",
       "      <td>protein_coding</td>\n",
       "      <td>ADOG</td>\n",
       "      <td>II</td>\n",
       "      <td>-</td>\n",
       "      <td>300</td>\n",
       "      <td>2182203</td>\n",
       "      <td>2182503</td>\n",
       "      <td>2182203</td>\n",
       "      <td>2182503</td>\n",
       "      <td>...</td>\n",
       "      <td>0.903651</td>\n",
       "      <td>0.209738</td>\n",
       "      <td>WormBase</td>\n",
       "      <td>3931</td>\n",
       "      <td>7214.0</td>\n",
       "      <td>0.0</td>\n",
       "      <td>CONT___HS_2</td>\n",
       "      <td>2182503</td>\n",
       "      <td>2186434</td>\n",
       "      <td>gene</td>\n",
       "    </tr>\n",
       "    <tr>\n",
       "      <th>48</th>\n",
       "      <td>WBGene00005587</td>\n",
       "      <td>pseudogene</td>\n",
       "      <td>ADOG</td>\n",
       "      <td>II</td>\n",
       "      <td>-</td>\n",
       "      <td>200</td>\n",
       "      <td>2578336</td>\n",
       "      <td>2578536</td>\n",
       "      <td>2578336</td>\n",
       "      <td>2578536</td>\n",
       "      <td>...</td>\n",
       "      <td>2.080775</td>\n",
       "      <td>-0.855707</td>\n",
       "      <td>WormBase</td>\n",
       "      <td>1059</td>\n",
       "      <td>14859.0</td>\n",
       "      <td>0.0</td>\n",
       "      <td>CONT___HS_1</td>\n",
       "      <td>2578536</td>\n",
       "      <td>2579595</td>\n",
       "      <td>gene</td>\n",
       "    </tr>\n",
       "    <tr>\n",
       "      <th>49</th>\n",
       "      <td>WBGene00200795</td>\n",
       "      <td>ncRNA</td>\n",
       "      <td>ADOG</td>\n",
       "      <td>II</td>\n",
       "      <td>-</td>\n",
       "      <td>200</td>\n",
       "      <td>8017371</td>\n",
       "      <td>8017571</td>\n",
       "      <td>8017371</td>\n",
       "      <td>8017571</td>\n",
       "      <td>...</td>\n",
       "      <td>1.917358</td>\n",
       "      <td>2.539180</td>\n",
       "      <td>WormBase</td>\n",
       "      <td>130</td>\n",
       "      <td>14419.0</td>\n",
       "      <td>0.0</td>\n",
       "      <td>CONT___HS_2</td>\n",
       "      <td>8017571</td>\n",
       "      <td>8017701</td>\n",
       "      <td>gene</td>\n",
       "    </tr>\n",
       "    <tr>\n",
       "      <th>50</th>\n",
       "      <td>WBGene00011302</td>\n",
       "      <td>protein_coding</td>\n",
       "      <td>ADOG</td>\n",
       "      <td>II</td>\n",
       "      <td>-</td>\n",
       "      <td>400</td>\n",
       "      <td>10533932</td>\n",
       "      <td>10534332</td>\n",
       "      <td>10533932</td>\n",
       "      <td>10534332</td>\n",
       "      <td>...</td>\n",
       "      <td>1.514803</td>\n",
       "      <td>-0.109965</td>\n",
       "      <td>WormBase</td>\n",
       "      <td>3339</td>\n",
       "      <td>4558.0</td>\n",
       "      <td>0.0</td>\n",
       "      <td>CONT_NOHS_2</td>\n",
       "      <td>10534332</td>\n",
       "      <td>10537671</td>\n",
       "      <td>gene</td>\n",
       "    </tr>\n",
       "  </tbody>\n",
       "</table>\n",
       "<p>51 rows × 28 columns</p>\n",
       "</div>"
      ],
      "text/plain": [
       "<div>\n",
       "<style scoped>\n",
       "    .dataframe tbody tr th:only-of-type {\n",
       "        vertical-align: middle;\n",
       "    }\n",
       "\n",
       "    .dataframe tbody tr th {\n",
       "        vertical-align: top;\n",
       "    }\n",
       "\n",
       "    .dataframe thead th {\n",
       "        text-align: right;\n",
       "    }\n",
       "</style>\n",
       "<table border=\"1\" class=\"dataframe\">\n",
       "  <thead>\n",
       "    <tr style=\"text-align: right;\">\n",
       "      <th></th>\n",
       "      <th>gene_id_name</th>\n",
       "      <th>gene_biotype_name</th>\n",
       "      <th>TYPE</th>\n",
       "      <th>chr</th>\n",
       "      <th>strand</th>\n",
       "      <th>DOG_length</th>\n",
       "      <th>DOG_start_local</th>\n",
       "      <th>DOG_end_local</th>\n",
       "      <th>DOG_start_meta</th>\n",
       "      <th>DOG_end_meta</th>\n",
       "      <th>...</th>\n",
       "      <th>lfcSE</th>\n",
       "      <th>stat</th>\n",
       "      <th>source</th>\n",
       "      <th>length</th>\n",
       "      <th>left_int_length</th>\n",
       "      <th>right_int_length</th>\n",
       "      <th>sample_name</th>\n",
       "      <th>start</th>\n",
       "      <th>end</th>\n",
       "      <th>type</th>\n",
       "    </tr>\n",
       "  </thead>\n",
       "  <tbody>\n",
       "    <tr>\n",
       "      <th>0</th>\n",
       "      <td>WBGene00004974</td>\n",
       "      <td>protein_coding</td>\n",
       "      <td>ADOG</td>\n",
       "      <td>IV</td>\n",
       "      <td>+</td>\n",
       "      <td>400</td>\n",
       "      <td>9934285</td>\n",
       "      <td>9934685</td>\n",
       "      <td>9934285</td>\n",
       "      <td>9934685</td>\n",
       "      <td>...</td>\n",
       "      <td>0.410623</td>\n",
       "      <td>0.309488</td>\n",
       "      <td>WormBase</td>\n",
       "      <td>375</td>\n",
       "      <td>0.0</td>\n",
       "      <td>10201.0</td>\n",
       "      <td>CONT___HS_1</td>\n",
       "      <td>9933910</td>\n",
       "      <td>9934285</td>\n",
       "      <td>gene</td>\n",
       "    </tr>\n",
       "    <tr>\n",
       "      <th>1</th>\n",
       "      <td>WBGene00014095</td>\n",
       "      <td>protein_coding</td>\n",
       "      <td>ADOG</td>\n",
       "      <td>IV</td>\n",
       "      <td>+</td>\n",
       "      <td>200</td>\n",
       "      <td>11955541</td>\n",
       "      <td>11955741</td>\n",
       "      <td>11955541</td>\n",
       "      <td>11955741</td>\n",
       "      <td>...</td>\n",
       "      <td>0.929306</td>\n",
       "      <td>0.491229</td>\n",
       "      <td>WormBase</td>\n",
       "      <td>2292</td>\n",
       "      <td>0.0</td>\n",
       "      <td>936.0</td>\n",
       "      <td>CONT_NOHS_2</td>\n",
       "      <td>11953249</td>\n",
       "      <td>11955541</td>\n",
       "      <td>gene</td>\n",
       "    </tr>\n",
       "    <tr>\n",
       "      <th>2</th>\n",
       "      <td>WBGene00011941</td>\n",
       "      <td>protein_coding</td>\n",
       "      <td>ADOG</td>\n",
       "      <td>IV</td>\n",
       "      <td>+</td>\n",
       "      <td>400</td>\n",
       "      <td>12676000</td>\n",
       "      <td>12676400</td>\n",
       "      <td>12676000</td>\n",
       "      <td>12676400</td>\n",
       "      <td>...</td>\n",
       "      <td>1.319381</td>\n",
       "      <td>0.897145</td>\n",
       "      <td>WormBase</td>\n",
       "      <td>793</td>\n",
       "      <td>0.0</td>\n",
       "      <td>12655.0</td>\n",
       "      <td>CONT___HS_1</td>\n",
       "      <td>12675207</td>\n",
       "      <td>12676000</td>\n",
       "      <td>gene</td>\n",
       "    </tr>\n",
       "    <tr>\n",
       "      <th>3</th>\n",
       "      <td>WBGene00044280</td>\n",
       "      <td>protein_coding</td>\n",
       "      <td>ADOG</td>\n",
       "      <td>IV</td>\n",
       "      <td>+</td>\n",
       "      <td>200</td>\n",
       "      <td>13348599</td>\n",
       "      <td>13348799</td>\n",
       "      <td>13348599</td>\n",
       "      <td>13348799</td>\n",
       "      <td>...</td>\n",
       "      <td>0.680004</td>\n",
       "      <td>1.419351</td>\n",
       "      <td>WormBase</td>\n",
       "      <td>934</td>\n",
       "      <td>0.0</td>\n",
       "      <td>5124.0</td>\n",
       "      <td>CONT___HS_1</td>\n",
       "      <td>13347665</td>\n",
       "      <td>13348599</td>\n",
       "      <td>gene</td>\n",
       "    </tr>\n",
       "    <tr>\n",
       "      <th>4</th>\n",
       "      <td>WBGene00018362</td>\n",
       "      <td>protein_coding</td>\n",
       "      <td>ADOG</td>\n",
       "      <td>III</td>\n",
       "      <td>+</td>\n",
       "      <td>200</td>\n",
       "      <td>786092</td>\n",
       "      <td>786292</td>\n",
       "      <td>786092</td>\n",
       "      <td>786292</td>\n",
       "      <td>...</td>\n",
       "      <td>0.408148</td>\n",
       "      <td>-0.231217</td>\n",
       "      <td>WormBase</td>\n",
       "      <td>2378</td>\n",
       "      <td>0.0</td>\n",
       "      <td>8208.0</td>\n",
       "      <td>CONT___HS_2</td>\n",
       "      <td>783714</td>\n",
       "      <td>786092</td>\n",
       "      <td>gene</td>\n",
       "    </tr>\n",
       "    <tr>\n",
       "      <th>5</th>\n",
       "      <td>WBGene00021850</td>\n",
       "      <td>protein_coding</td>\n",
       "      <td>ADOG</td>\n",
       "      <td>III</td>\n",
       "      <td>+</td>\n",
       "      <td>400</td>\n",
       "      <td>2511802</td>\n",
       "      <td>2512202</td>\n",
       "      <td>2511802</td>\n",
       "      <td>2512202</td>\n",
       "      <td>...</td>\n",
       "      <td>0.490988</td>\n",
       "      <td>0.073825</td>\n",
       "      <td>WormBase</td>\n",
       "      <td>2954</td>\n",
       "      <td>0.0</td>\n",
       "      <td>17261.0</td>\n",
       "      <td>CONT_NOHS_2</td>\n",
       "      <td>2508848</td>\n",
       "      <td>2511802</td>\n",
       "      <td>gene</td>\n",
       "    </tr>\n",
       "    <tr>\n",
       "      <th>6</th>\n",
       "      <td>WBGene00004213</td>\n",
       "      <td>protein_coding</td>\n",
       "      <td>ADOG</td>\n",
       "      <td>III</td>\n",
       "      <td>+</td>\n",
       "      <td>700</td>\n",
       "      <td>3611993</td>\n",
       "      <td>3612693</td>\n",
       "      <td>3611993</td>\n",
       "      <td>3612693</td>\n",
       "      <td>...</td>\n",
       "      <td>0.346931</td>\n",
       "      <td>0.434512</td>\n",
       "      <td>WormBase</td>\n",
       "      <td>21259</td>\n",
       "      <td>0.0</td>\n",
       "      <td>9527.0</td>\n",
       "      <td>CONT_NOHS_2</td>\n",
       "      <td>3590734</td>\n",
       "      <td>3611993</td>\n",
       "      <td>gene</td>\n",
       "    </tr>\n",
       "    <tr>\n",
       "      <th>7</th>\n",
       "      <td>WBGene00011203</td>\n",
       "      <td>protein_coding</td>\n",
       "      <td>ADOG</td>\n",
       "      <td>III</td>\n",
       "      <td>+</td>\n",
       "      <td>400</td>\n",
       "      <td>4296599</td>\n",
       "      <td>4296999</td>\n",
       "      <td>4296599</td>\n",
       "      <td>4296999</td>\n",
       "      <td>...</td>\n",
       "      <td>0.395183</td>\n",
       "      <td>-0.468273</td>\n",
       "      <td>WormBase</td>\n",
       "      <td>1375</td>\n",
       "      <td>0.0</td>\n",
       "      <td>17328.0</td>\n",
       "      <td>CONT_NOHS_1</td>\n",
       "      <td>4295224</td>\n",
       "      <td>4296599</td>\n",
       "      <td>gene</td>\n",
       "    </tr>\n",
       "    <tr>\n",
       "      <th>8</th>\n",
       "      <td>WBGene00196071</td>\n",
       "      <td>ncRNA</td>\n",
       "      <td>ADOG</td>\n",
       "      <td>III</td>\n",
       "      <td>+</td>\n",
       "      <td>400</td>\n",
       "      <td>4462369</td>\n",
       "      <td>4462769</td>\n",
       "      <td>4462369</td>\n",
       "      <td>4462769</td>\n",
       "      <td>...</td>\n",
       "      <td>0.970488</td>\n",
       "      <td>-0.501168</td>\n",
       "      <td>WormBase</td>\n",
       "      <td>143</td>\n",
       "      <td>0.0</td>\n",
       "      <td>6509.0</td>\n",
       "      <td>CONT___HS_1</td>\n",
       "      <td>4462226</td>\n",
       "      <td>4462369</td>\n",
       "      <td>gene</td>\n",
       "    </tr>\n",
       "    <tr>\n",
       "      <th>9</th>\n",
       "      <td>WBGene00003845</td>\n",
       "      <td>protein_coding</td>\n",
       "      <td>ADOG</td>\n",
       "      <td>III</td>\n",
       "      <td>+</td>\n",
       "      <td>200</td>\n",
       "      <td>7109741</td>\n",
       "      <td>7109941</td>\n",
       "      <td>7109741</td>\n",
       "      <td>7109941</td>\n",
       "      <td>...</td>\n",
       "      <td>0.735689</td>\n",
       "      <td>1.133396</td>\n",
       "      <td>WormBase</td>\n",
       "      <td>1419</td>\n",
       "      <td>0.0</td>\n",
       "      <td>13387.0</td>\n",
       "      <td>CONT___HS_2</td>\n",
       "      <td>7108322</td>\n",
       "      <td>7109741</td>\n",
       "      <td>gene</td>\n",
       "    </tr>\n",
       "    <tr>\n",
       "      <th>10</th>\n",
       "      <td>WBGene00003478</td>\n",
       "      <td>protein_coding</td>\n",
       "      <td>ADOG</td>\n",
       "      <td>III</td>\n",
       "      <td>+</td>\n",
       "      <td>200</td>\n",
       "      <td>13355683</td>\n",
       "      <td>13355883</td>\n",
       "      <td>13355683</td>\n",
       "      <td>13355883</td>\n",
       "      <td>...</td>\n",
       "      <td>0.785864</td>\n",
       "      <td>-0.029419</td>\n",
       "      <td>WormBase</td>\n",
       "      <td>8598</td>\n",
       "      <td>0.0</td>\n",
       "      <td>1568.0</td>\n",
       "      <td>CONT_NOHS_2</td>\n",
       "      <td>13347085</td>\n",
       "      <td>13355683</td>\n",
       "      <td>gene</td>\n",
       "    </tr>\n",
       "    <tr>\n",
       "      <th>11</th>\n",
       "      <td>WBGene00015666</td>\n",
       "      <td>protein_coding</td>\n",
       "      <td>ADOG</td>\n",
       "      <td>X</td>\n",
       "      <td>+</td>\n",
       "      <td>300</td>\n",
       "      <td>7395987</td>\n",
       "      <td>7396287</td>\n",
       "      <td>7395987</td>\n",
       "      <td>7396287</td>\n",
       "      <td>...</td>\n",
       "      <td>0.577210</td>\n",
       "      <td>-0.784293</td>\n",
       "      <td>WormBase</td>\n",
       "      <td>2520</td>\n",
       "      <td>0.0</td>\n",
       "      <td>2897.0</td>\n",
       "      <td>CONT_NOHS_1</td>\n",
       "      <td>7393467</td>\n",
       "      <td>7395987</td>\n",
       "      <td>gene</td>\n",
       "    </tr>\n",
       "    <tr>\n",
       "      <th>12</th>\n",
       "      <td>WBGene00021662</td>\n",
       "      <td>protein_coding</td>\n",
       "      <td>ADOG</td>\n",
       "      <td>I</td>\n",
       "      <td>+</td>\n",
       "      <td>200</td>\n",
       "      <td>216996</td>\n",
       "      <td>217196</td>\n",
       "      <td>216996</td>\n",
       "      <td>217196</td>\n",
       "      <td>...</td>\n",
       "      <td>0.984340</td>\n",
       "      <td>-0.678641</td>\n",
       "      <td>WormBase</td>\n",
       "      <td>968</td>\n",
       "      <td>0.0</td>\n",
       "      <td>1064.0</td>\n",
       "      <td>CONT_NOHS_1</td>\n",
       "      <td>216028</td>\n",
       "      <td>216996</td>\n",
       "      <td>gene</td>\n",
       "    </tr>\n",
       "    <tr>\n",
       "      <th>13</th>\n",
       "      <td>WBGene00255594</td>\n",
       "      <td>protein_coding</td>\n",
       "      <td>ADOG</td>\n",
       "      <td>I</td>\n",
       "      <td>+</td>\n",
       "      <td>200</td>\n",
       "      <td>219099</td>\n",
       "      <td>219299</td>\n",
       "      <td>219099</td>\n",
       "      <td>219299</td>\n",
       "      <td>...</td>\n",
       "      <td>1.578602</td>\n",
       "      <td>-0.140729</td>\n",
       "      <td>WormBase</td>\n",
       "      <td>1039</td>\n",
       "      <td>0.0</td>\n",
       "      <td>21392.0</td>\n",
       "      <td>CONT___HS_2</td>\n",
       "      <td>218060</td>\n",
       "      <td>219099</td>\n",
       "      <td>gene</td>\n",
       "    </tr>\n",
       "    <tr>\n",
       "      <th>14</th>\n",
       "      <td>WBGene00021692</td>\n",
       "      <td>protein_coding</td>\n",
       "      <td>ADOG</td>\n",
       "      <td>I</td>\n",
       "      <td>+</td>\n",
       "      <td>800</td>\n",
       "      <td>1258258</td>\n",
       "      <td>1259058</td>\n",
       "      <td>1258258</td>\n",
       "      <td>1259058</td>\n",
       "      <td>...</td>\n",
       "      <td>0.403601</td>\n",
       "      <td>1.829779</td>\n",
       "      <td>WormBase</td>\n",
       "      <td>3488</td>\n",
       "      <td>0.0</td>\n",
       "      <td>20550.0</td>\n",
       "      <td>CONT___HS_2</td>\n",
       "      <td>1254770</td>\n",
       "      <td>1258258</td>\n",
       "      <td>gene</td>\n",
       "    </tr>\n",
       "    <tr>\n",
       "      <th>15</th>\n",
       "      <td>WBGene00022115</td>\n",
       "      <td>protein_coding</td>\n",
       "      <td>ADOG</td>\n",
       "      <td>I</td>\n",
       "      <td>+</td>\n",
       "      <td>200</td>\n",
       "      <td>2870167</td>\n",
       "      <td>2870367</td>\n",
       "      <td>2870167</td>\n",
       "      <td>2870367</td>\n",
       "      <td>...</td>\n",
       "      <td>0.403566</td>\n",
       "      <td>1.346978</td>\n",
       "      <td>WormBase</td>\n",
       "      <td>3659</td>\n",
       "      <td>0.0</td>\n",
       "      <td>6765.0</td>\n",
       "      <td>CONT_NOHS_1</td>\n",
       "      <td>2866508</td>\n",
       "      <td>2870167</td>\n",
       "      <td>gene</td>\n",
       "    </tr>\n",
       "    <tr>\n",
       "      <th>16</th>\n",
       "      <td>WBGene00007975</td>\n",
       "      <td>protein_coding</td>\n",
       "      <td>ADOG</td>\n",
       "      <td>I</td>\n",
       "      <td>+</td>\n",
       "      <td>900</td>\n",
       "      <td>8742548</td>\n",
       "      <td>8743448</td>\n",
       "      <td>8742548</td>\n",
       "      <td>8743448</td>\n",
       "      <td>...</td>\n",
       "      <td>0.363267</td>\n",
       "      <td>-2.417895</td>\n",
       "      <td>WormBase</td>\n",
       "      <td>5476</td>\n",
       "      <td>0.0</td>\n",
       "      <td>9688.0</td>\n",
       "      <td>CONT_NOHS_2</td>\n",
       "      <td>8737072</td>\n",
       "      <td>8742548</td>\n",
       "      <td>gene</td>\n",
       "    </tr>\n",
       "    <tr>\n",
       "      <th>17</th>\n",
       "      <td>WBGene00003083</td>\n",
       "      <td>protein_coding</td>\n",
       "      <td>ADOG</td>\n",
       "      <td>I</td>\n",
       "      <td>+</td>\n",
       "      <td>200</td>\n",
       "      <td>10590464</td>\n",
       "      <td>10590664</td>\n",
       "      <td>10590464</td>\n",
       "      <td>10590664</td>\n",
       "      <td>...</td>\n",
       "      <td>1.223166</td>\n",
       "      <td>-0.022132</td>\n",
       "      <td>WormBase</td>\n",
       "      <td>2287</td>\n",
       "      <td>0.0</td>\n",
       "      <td>214.0</td>\n",
       "      <td>CONT___HS_1</td>\n",
       "      <td>10588177</td>\n",
       "      <td>10590464</td>\n",
       "      <td>gene</td>\n",
       "    </tr>\n",
       "    <tr>\n",
       "      <th>18</th>\n",
       "      <td>WBGene00016457</td>\n",
       "      <td>protein_coding</td>\n",
       "      <td>ADOG</td>\n",
       "      <td>I</td>\n",
       "      <td>+</td>\n",
       "      <td>900</td>\n",
       "      <td>10828454</td>\n",
       "      <td>10829354</td>\n",
       "      <td>10828454</td>\n",
       "      <td>10829354</td>\n",
       "      <td>...</td>\n",
       "      <td>0.402847</td>\n",
       "      <td>-0.709337</td>\n",
       "      <td>WormBase</td>\n",
       "      <td>5091</td>\n",
       "      <td>0.0</td>\n",
       "      <td>3427.0</td>\n",
       "      <td>CONT_NOHS_2</td>\n",
       "      <td>10823363</td>\n",
       "      <td>10828454</td>\n",
       "      <td>gene</td>\n",
       "    </tr>\n",
       "    <tr>\n",
       "      <th>19</th>\n",
       "      <td>WBGene00002977</td>\n",
       "      <td>protein_coding</td>\n",
       "      <td>ADOG</td>\n",
       "      <td>I</td>\n",
       "      <td>+</td>\n",
       "      <td>200</td>\n",
       "      <td>14400222</td>\n",
       "      <td>14400422</td>\n",
       "      <td>14400222</td>\n",
       "      <td>14400422</td>\n",
       "      <td>...</td>\n",
       "      <td>0.932850</td>\n",
       "      <td>0.992830</td>\n",
       "      <td>WormBase</td>\n",
       "      <td>9889</td>\n",
       "      <td>0.0</td>\n",
       "      <td>5806.0</td>\n",
       "      <td>CONT___HS_1</td>\n",
       "      <td>14390333</td>\n",
       "      <td>14400222</td>\n",
       "      <td>gene</td>\n",
       "    </tr>\n",
       "    <tr>\n",
       "      <th>20</th>\n",
       "      <td>WBGene00013671</td>\n",
       "      <td>protein_coding</td>\n",
       "      <td>ADOG</td>\n",
       "      <td>I</td>\n",
       "      <td>+</td>\n",
       "      <td>200</td>\n",
       "      <td>14433841</td>\n",
       "      <td>14434041</td>\n",
       "      <td>14433841</td>\n",
       "      <td>14434041</td>\n",
       "      <td>...</td>\n",
       "      <td>1.071209</td>\n",
       "      <td>3.422584</td>\n",
       "      <td>WormBase</td>\n",
       "      <td>1048</td>\n",
       "      <td>0.0</td>\n",
       "      <td>3529.0</td>\n",
       "      <td>CONT___HS_2</td>\n",
       "      <td>14432793</td>\n",
       "      <td>14433841</td>\n",
       "      <td>gene</td>\n",
       "    </tr>\n",
       "    <tr>\n",
       "      <th>21</th>\n",
       "      <td>WBGene00020904</td>\n",
       "      <td>protein_coding</td>\n",
       "      <td>ADOG</td>\n",
       "      <td>V</td>\n",
       "      <td>+</td>\n",
       "      <td>400</td>\n",
       "      <td>4516947</td>\n",
       "      <td>4517347</td>\n",
       "      <td>4516947</td>\n",
       "      <td>4517347</td>\n",
       "      <td>...</td>\n",
       "      <td>0.386229</td>\n",
       "      <td>0.106318</td>\n",
       "      <td>WormBase</td>\n",
       "      <td>4970</td>\n",
       "      <td>0.0</td>\n",
       "      <td>9014.0</td>\n",
       "      <td>CONT___HS_2</td>\n",
       "      <td>4511977</td>\n",
       "      <td>4516947</td>\n",
       "      <td>gene</td>\n",
       "    </tr>\n",
       "    <tr>\n",
       "      <th>22</th>\n",
       "      <td>WBGene00007055</td>\n",
       "      <td>protein_coding</td>\n",
       "      <td>ADOG</td>\n",
       "      <td>V</td>\n",
       "      <td>+</td>\n",
       "      <td>200</td>\n",
       "      <td>8597500</td>\n",
       "      <td>8597700</td>\n",
       "      <td>8597500</td>\n",
       "      <td>8597700</td>\n",
       "      <td>...</td>\n",
       "      <td>1.149763</td>\n",
       "      <td>-0.430677</td>\n",
       "      <td>WormBase</td>\n",
       "      <td>2586</td>\n",
       "      <td>0.0</td>\n",
       "      <td>5980.0</td>\n",
       "      <td>CONT_NOHS_2</td>\n",
       "      <td>8594914</td>\n",
       "      <td>8597500</td>\n",
       "      <td>gene</td>\n",
       "    </tr>\n",
       "    <tr>\n",
       "      <th>23</th>\n",
       "      <td>WBGene00009200</td>\n",
       "      <td>protein_coding</td>\n",
       "      <td>ADOG</td>\n",
       "      <td>V</td>\n",
       "      <td>+</td>\n",
       "      <td>500</td>\n",
       "      <td>12453336</td>\n",
       "      <td>12453836</td>\n",
       "      <td>12453336</td>\n",
       "      <td>12453836</td>\n",
       "      <td>...</td>\n",
       "      <td>0.379630</td>\n",
       "      <td>-0.754517</td>\n",
       "      <td>WormBase</td>\n",
       "      <td>2529</td>\n",
       "      <td>0.0</td>\n",
       "      <td>5861.0</td>\n",
       "      <td>CONT___HS_2</td>\n",
       "      <td>12450807</td>\n",
       "      <td>12453336</td>\n",
       "      <td>gene</td>\n",
       "    </tr>\n",
       "    <tr>\n",
       "      <th>24</th>\n",
       "      <td>WBGene00168989</td>\n",
       "      <td>piRNA</td>\n",
       "      <td>ADOG</td>\n",
       "      <td>V</td>\n",
       "      <td>+</td>\n",
       "      <td>200</td>\n",
       "      <td>17342856</td>\n",
       "      <td>17343056</td>\n",
       "      <td>17342856</td>\n",
       "      <td>17343056</td>\n",
       "      <td>...</td>\n",
       "      <td>0.782566</td>\n",
       "      <td>-1.979023</td>\n",
       "      <td>WormBase</td>\n",
       "      <td>20</td>\n",
       "      <td>0.0</td>\n",
       "      <td>2372.0</td>\n",
       "      <td>CONT___HS_2</td>\n",
       "      <td>17342836</td>\n",
       "      <td>17342856</td>\n",
       "      <td>gene</td>\n",
       "    </tr>\n",
       "    <tr>\n",
       "      <th>25</th>\n",
       "      <td>WBGene00044640</td>\n",
       "      <td>protein_coding</td>\n",
       "      <td>ADOG</td>\n",
       "      <td>II</td>\n",
       "      <td>+</td>\n",
       "      <td>200</td>\n",
       "      <td>266077</td>\n",
       "      <td>266277</td>\n",
       "      <td>266077</td>\n",
       "      <td>266277</td>\n",
       "      <td>...</td>\n",
       "      <td>0.842878</td>\n",
       "      <td>0.170980</td>\n",
       "      <td>WormBase</td>\n",
       "      <td>1724</td>\n",
       "      <td>0.0</td>\n",
       "      <td>15741.0</td>\n",
       "      <td>CONT_NOHS_1</td>\n",
       "      <td>264353</td>\n",
       "      <td>266077</td>\n",
       "      <td>gene</td>\n",
       "    </tr>\n",
       "    <tr>\n",
       "      <th>26</th>\n",
       "      <td>WBGene00020532</td>\n",
       "      <td>protein_coding</td>\n",
       "      <td>ADOG</td>\n",
       "      <td>II</td>\n",
       "      <td>+</td>\n",
       "      <td>200</td>\n",
       "      <td>2104149</td>\n",
       "      <td>2104349</td>\n",
       "      <td>2104149</td>\n",
       "      <td>2104349</td>\n",
       "      <td>...</td>\n",
       "      <td>1.099145</td>\n",
       "      <td>0.261023</td>\n",
       "      <td>WormBase</td>\n",
       "      <td>5278</td>\n",
       "      <td>0.0</td>\n",
       "      <td>375.0</td>\n",
       "      <td>CONT___HS_2</td>\n",
       "      <td>2098871</td>\n",
       "      <td>2104149</td>\n",
       "      <td>gene</td>\n",
       "    </tr>\n",
       "    <tr>\n",
       "      <th>27</th>\n",
       "      <td>WBGene00249813</td>\n",
       "      <td>ncRNA</td>\n",
       "      <td>ADOG</td>\n",
       "      <td>II</td>\n",
       "      <td>+</td>\n",
       "      <td>200</td>\n",
       "      <td>3309287</td>\n",
       "      <td>3309487</td>\n",
       "      <td>3309287</td>\n",
       "      <td>3309487</td>\n",
       "      <td>...</td>\n",
       "      <td>0.400774</td>\n",
       "      <td>-1.674724</td>\n",
       "      <td>WormBase</td>\n",
       "      <td>18</td>\n",
       "      <td>0.0</td>\n",
       "      <td>701.0</td>\n",
       "      <td>CONT_NOHS_1</td>\n",
       "      <td>3309269</td>\n",
       "      <td>3309287</td>\n",
       "      <td>gene</td>\n",
       "    </tr>\n",
       "    <tr>\n",
       "      <th>28</th>\n",
       "      <td>WBGene00019405</td>\n",
       "      <td>protein_coding</td>\n",
       "      <td>ADOG</td>\n",
       "      <td>II</td>\n",
       "      <td>+</td>\n",
       "      <td>700</td>\n",
       "      <td>5803680</td>\n",
       "      <td>5804380</td>\n",
       "      <td>5803680</td>\n",
       "      <td>5804380</td>\n",
       "      <td>...</td>\n",
       "      <td>0.337342</td>\n",
       "      <td>-0.039712</td>\n",
       "      <td>WormBase</td>\n",
       "      <td>2298</td>\n",
       "      <td>0.0</td>\n",
       "      <td>2593.0</td>\n",
       "      <td>CONT_NOHS_2</td>\n",
       "      <td>5801382</td>\n",
       "      <td>5803680</td>\n",
       "      <td>gene</td>\n",
       "    </tr>\n",
       "    <tr>\n",
       "      <th>29</th>\n",
       "      <td>WBGene00219589</td>\n",
       "      <td>antisense</td>\n",
       "      <td>ADOG</td>\n",
       "      <td>II</td>\n",
       "      <td>+</td>\n",
       "      <td>300</td>\n",
       "      <td>11175653</td>\n",
       "      <td>11175953</td>\n",
       "      <td>11175653</td>\n",
       "      <td>11175953</td>\n",
       "      <td>...</td>\n",
       "      <td>0.729375</td>\n",
       "      <td>-0.255446</td>\n",
       "      <td>WormBase</td>\n",
       "      <td>1101</td>\n",
       "      <td>0.0</td>\n",
       "      <td>325.0</td>\n",
       "      <td>CONT___HS_2</td>\n",
       "      <td>11174552</td>\n",
       "      <td>11175653</td>\n",
       "      <td>gene</td>\n",
       "    </tr>\n",
       "    <tr>\n",
       "      <th>30</th>\n",
       "      <td>WBGene00010177</td>\n",
       "      <td>protein_coding</td>\n",
       "      <td>ADOG</td>\n",
       "      <td>V</td>\n",
       "      <td>+</td>\n",
       "      <td>900</td>\n",
       "      <td>10048726</td>\n",
       "      <td>10049626</td>\n",
       "      <td>10048726</td>\n",
       "      <td>10049626</td>\n",
       "      <td>...</td>\n",
       "      <td>0.648875</td>\n",
       "      <td>7.539742</td>\n",
       "      <td>WormBase</td>\n",
       "      <td>11386</td>\n",
       "      <td>0.0</td>\n",
       "      <td>3429.0</td>\n",
       "      <td>CONT___HS_2</td>\n",
       "      <td>10037340</td>\n",
       "      <td>10048726</td>\n",
       "      <td>gene</td>\n",
       "    </tr>\n",
       "    <tr>\n",
       "      <th>31</th>\n",
       "      <td>WBGene00010111</td>\n",
       "      <td>protein_coding</td>\n",
       "      <td>ADOG</td>\n",
       "      <td>I</td>\n",
       "      <td>+</td>\n",
       "      <td>400</td>\n",
       "      <td>7894864</td>\n",
       "      <td>7895264</td>\n",
       "      <td>7894864</td>\n",
       "      <td>7895264</td>\n",
       "      <td>...</td>\n",
       "      <td>0.833724</td>\n",
       "      <td>3.929227</td>\n",
       "      <td>WormBase</td>\n",
       "      <td>5554</td>\n",
       "      <td>0.0</td>\n",
       "      <td>1261.0</td>\n",
       "      <td>CONT___HS_2</td>\n",
       "      <td>7889310</td>\n",
       "      <td>7894864</td>\n",
       "      <td>gene</td>\n",
       "    </tr>\n",
       "    <tr>\n",
       "      <th>32</th>\n",
       "      <td>WBGene00017054</td>\n",
       "      <td>protein_coding</td>\n",
       "      <td>ADOG</td>\n",
       "      <td>IV</td>\n",
       "      <td>-</td>\n",
       "      <td>300</td>\n",
       "      <td>7240145</td>\n",
       "      <td>7240445</td>\n",
       "      <td>7240145</td>\n",
       "      <td>7240445</td>\n",
       "      <td>...</td>\n",
       "      <td>0.515756</td>\n",
       "      <td>1.186005</td>\n",
       "      <td>WormBase</td>\n",
       "      <td>1825</td>\n",
       "      <td>3791.0</td>\n",
       "      <td>0.0</td>\n",
       "      <td>CONT___HS_2</td>\n",
       "      <td>7240445</td>\n",
       "      <td>7242270</td>\n",
       "      <td>gene</td>\n",
       "    </tr>\n",
       "    <tr>\n",
       "      <th>33</th>\n",
       "      <td>WBGene00019333</td>\n",
       "      <td>protein_coding</td>\n",
       "      <td>ADOG</td>\n",
       "      <td>III</td>\n",
       "      <td>-</td>\n",
       "      <td>200</td>\n",
       "      <td>851128</td>\n",
       "      <td>851328</td>\n",
       "      <td>851128</td>\n",
       "      <td>851328</td>\n",
       "      <td>...</td>\n",
       "      <td>0.701055</td>\n",
       "      <td>0.851683</td>\n",
       "      <td>WormBase</td>\n",
       "      <td>1068</td>\n",
       "      <td>9962.0</td>\n",
       "      <td>0.0</td>\n",
       "      <td>CONT___HS_2</td>\n",
       "      <td>851328</td>\n",
       "      <td>852396</td>\n",
       "      <td>gene</td>\n",
       "    </tr>\n",
       "    <tr>\n",
       "      <th>34</th>\n",
       "      <td>WBGene00022327</td>\n",
       "      <td>protein_coding</td>\n",
       "      <td>ADOG</td>\n",
       "      <td>III</td>\n",
       "      <td>-</td>\n",
       "      <td>200</td>\n",
       "      <td>1318816</td>\n",
       "      <td>1319016</td>\n",
       "      <td>1318816</td>\n",
       "      <td>1319016</td>\n",
       "      <td>...</td>\n",
       "      <td>2.489355</td>\n",
       "      <td>-0.065726</td>\n",
       "      <td>WormBase</td>\n",
       "      <td>2655</td>\n",
       "      <td>3787.0</td>\n",
       "      <td>0.0</td>\n",
       "      <td>CONT___HS_2</td>\n",
       "      <td>1319016</td>\n",
       "      <td>1321671</td>\n",
       "      <td>gene</td>\n",
       "    </tr>\n",
       "    <tr>\n",
       "      <th>35</th>\n",
       "      <td>WBGene00007136</td>\n",
       "      <td>protein_coding</td>\n",
       "      <td>ADOG</td>\n",
       "      <td>III</td>\n",
       "      <td>-</td>\n",
       "      <td>500</td>\n",
       "      <td>4341483</td>\n",
       "      <td>4341983</td>\n",
       "      <td>4341483</td>\n",
       "      <td>4341983</td>\n",
       "      <td>...</td>\n",
       "      <td>1.581979</td>\n",
       "      <td>-0.434411</td>\n",
       "      <td>WormBase</td>\n",
       "      <td>1353</td>\n",
       "      <td>1338.0</td>\n",
       "      <td>0.0</td>\n",
       "      <td>CONT___HS_1</td>\n",
       "      <td>4341983</td>\n",
       "      <td>4343336</td>\n",
       "      <td>gene</td>\n",
       "    </tr>\n",
       "    <tr>\n",
       "      <th>36</th>\n",
       "      <td>WBGene00011268</td>\n",
       "      <td>protein_coding</td>\n",
       "      <td>ADOG</td>\n",
       "      <td>III</td>\n",
       "      <td>-</td>\n",
       "      <td>300</td>\n",
       "      <td>10839723</td>\n",
       "      <td>10840023</td>\n",
       "      <td>10839723</td>\n",
       "      <td>10840023</td>\n",
       "      <td>...</td>\n",
       "      <td>1.038313</td>\n",
       "      <td>1.260458</td>\n",
       "      <td>WormBase</td>\n",
       "      <td>4997</td>\n",
       "      <td>18210.0</td>\n",
       "      <td>0.0</td>\n",
       "      <td>CONT_NOHS_1</td>\n",
       "      <td>10840023</td>\n",
       "      <td>10845020</td>\n",
       "      <td>gene</td>\n",
       "    </tr>\n",
       "    <tr>\n",
       "      <th>37</th>\n",
       "      <td>WBGene00013443</td>\n",
       "      <td>protein_coding</td>\n",
       "      <td>ADOG</td>\n",
       "      <td>III</td>\n",
       "      <td>-</td>\n",
       "      <td>900</td>\n",
       "      <td>11511960</td>\n",
       "      <td>11512860</td>\n",
       "      <td>11511960</td>\n",
       "      <td>11512860</td>\n",
       "      <td>...</td>\n",
       "      <td>1.074119</td>\n",
       "      <td>-0.042559</td>\n",
       "      <td>WormBase</td>\n",
       "      <td>10899</td>\n",
       "      <td>7569.0</td>\n",
       "      <td>0.0</td>\n",
       "      <td>CONT_NOHS_1</td>\n",
       "      <td>11512860</td>\n",
       "      <td>11523759</td>\n",
       "      <td>gene</td>\n",
       "    </tr>\n",
       "    <tr>\n",
       "      <th>38</th>\n",
       "      <td>WBGene00014176</td>\n",
       "      <td>protein_coding</td>\n",
       "      <td>ADOG</td>\n",
       "      <td>III</td>\n",
       "      <td>-</td>\n",
       "      <td>200</td>\n",
       "      <td>12974868</td>\n",
       "      <td>12975068</td>\n",
       "      <td>12974868</td>\n",
       "      <td>12975068</td>\n",
       "      <td>...</td>\n",
       "      <td>0.880491</td>\n",
       "      <td>3.735579</td>\n",
       "      <td>WormBase</td>\n",
       "      <td>2794</td>\n",
       "      <td>2570.0</td>\n",
       "      <td>0.0</td>\n",
       "      <td>CONT___HS_2</td>\n",
       "      <td>12975068</td>\n",
       "      <td>12977862</td>\n",
       "      <td>gene</td>\n",
       "    </tr>\n",
       "    <tr>\n",
       "      <th>39</th>\n",
       "      <td>WBGene00020765</td>\n",
       "      <td>protein_coding</td>\n",
       "      <td>ADOG</td>\n",
       "      <td>X</td>\n",
       "      <td>-</td>\n",
       "      <td>300</td>\n",
       "      <td>2196225</td>\n",
       "      <td>2196525</td>\n",
       "      <td>2196225</td>\n",
       "      <td>2196525</td>\n",
       "      <td>...</td>\n",
       "      <td>0.613342</td>\n",
       "      <td>-0.391988</td>\n",
       "      <td>WormBase</td>\n",
       "      <td>7436</td>\n",
       "      <td>20114.0</td>\n",
       "      <td>0.0</td>\n",
       "      <td>CONT_NOHS_1</td>\n",
       "      <td>2196525</td>\n",
       "      <td>2203961</td>\n",
       "      <td>gene</td>\n",
       "    </tr>\n",
       "    <tr>\n",
       "      <th>40</th>\n",
       "      <td>WBGene00007268</td>\n",
       "      <td>protein_coding</td>\n",
       "      <td>ADOG</td>\n",
       "      <td>X</td>\n",
       "      <td>-</td>\n",
       "      <td>300</td>\n",
       "      <td>11267091</td>\n",
       "      <td>11267391</td>\n",
       "      <td>11267091</td>\n",
       "      <td>11267391</td>\n",
       "      <td>...</td>\n",
       "      <td>0.886702</td>\n",
       "      <td>0.278074</td>\n",
       "      <td>WormBase</td>\n",
       "      <td>1632</td>\n",
       "      <td>14729.0</td>\n",
       "      <td>0.0</td>\n",
       "      <td>CONT_NOHS_2</td>\n",
       "      <td>11267391</td>\n",
       "      <td>11269023</td>\n",
       "      <td>gene</td>\n",
       "    </tr>\n",
       "    <tr>\n",
       "      <th>41</th>\n",
       "      <td>WBGene00219564</td>\n",
       "      <td>lincRNA</td>\n",
       "      <td>ADOG</td>\n",
       "      <td>X</td>\n",
       "      <td>-</td>\n",
       "      <td>200</td>\n",
       "      <td>14079197</td>\n",
       "      <td>14079397</td>\n",
       "      <td>14079197</td>\n",
       "      <td>14079397</td>\n",
       "      <td>...</td>\n",
       "      <td>1.835058</td>\n",
       "      <td>1.176704</td>\n",
       "      <td>WormBase</td>\n",
       "      <td>640</td>\n",
       "      <td>723.0</td>\n",
       "      <td>0.0</td>\n",
       "      <td>CONT___HS_2</td>\n",
       "      <td>14079397</td>\n",
       "      <td>14080037</td>\n",
       "      <td>gene</td>\n",
       "    </tr>\n",
       "    <tr>\n",
       "      <th>42</th>\n",
       "      <td>WBGene00007261</td>\n",
       "      <td>protein_coding</td>\n",
       "      <td>ADOG</td>\n",
       "      <td>X</td>\n",
       "      <td>-</td>\n",
       "      <td>300</td>\n",
       "      <td>15546388</td>\n",
       "      <td>15546688</td>\n",
       "      <td>15546388</td>\n",
       "      <td>15546688</td>\n",
       "      <td>...</td>\n",
       "      <td>2.531698</td>\n",
       "      <td>0.171323</td>\n",
       "      <td>WormBase</td>\n",
       "      <td>5545</td>\n",
       "      <td>4275.0</td>\n",
       "      <td>0.0</td>\n",
       "      <td>CONT_NOHS_2</td>\n",
       "      <td>15546688</td>\n",
       "      <td>15552233</td>\n",
       "      <td>gene</td>\n",
       "    </tr>\n",
       "    <tr>\n",
       "      <th>43</th>\n",
       "      <td>WBGene00018159</td>\n",
       "      <td>protein_coding</td>\n",
       "      <td>ADOG</td>\n",
       "      <td>I</td>\n",
       "      <td>-</td>\n",
       "      <td>300</td>\n",
       "      <td>1441748</td>\n",
       "      <td>1442048</td>\n",
       "      <td>1441748</td>\n",
       "      <td>1442048</td>\n",
       "      <td>...</td>\n",
       "      <td>0.510382</td>\n",
       "      <td>0.276208</td>\n",
       "      <td>WormBase</td>\n",
       "      <td>1894</td>\n",
       "      <td>8353.0</td>\n",
       "      <td>0.0</td>\n",
       "      <td>CONT_NOHS_2</td>\n",
       "      <td>1442048</td>\n",
       "      <td>1443942</td>\n",
       "      <td>gene</td>\n",
       "    </tr>\n",
       "    <tr>\n",
       "      <th>44</th>\n",
       "      <td>WBGene00016494</td>\n",
       "      <td>protein_coding</td>\n",
       "      <td>ADOG</td>\n",
       "      <td>I</td>\n",
       "      <td>-</td>\n",
       "      <td>500</td>\n",
       "      <td>6797732</td>\n",
       "      <td>6798232</td>\n",
       "      <td>6797732</td>\n",
       "      <td>6798232</td>\n",
       "      <td>...</td>\n",
       "      <td>0.793658</td>\n",
       "      <td>-0.055043</td>\n",
       "      <td>WormBase</td>\n",
       "      <td>1442</td>\n",
       "      <td>7394.0</td>\n",
       "      <td>0.0</td>\n",
       "      <td>CONT___HS_2</td>\n",
       "      <td>6798232</td>\n",
       "      <td>6799674</td>\n",
       "      <td>gene</td>\n",
       "    </tr>\n",
       "    <tr>\n",
       "      <th>45</th>\n",
       "      <td>WBGene00007640</td>\n",
       "      <td>protein_coding</td>\n",
       "      <td>ADOG</td>\n",
       "      <td>I</td>\n",
       "      <td>-</td>\n",
       "      <td>200</td>\n",
       "      <td>11603827</td>\n",
       "      <td>11604027</td>\n",
       "      <td>11603827</td>\n",
       "      <td>11604027</td>\n",
       "      <td>...</td>\n",
       "      <td>1.603475</td>\n",
       "      <td>1.504175</td>\n",
       "      <td>WormBase</td>\n",
       "      <td>7287</td>\n",
       "      <td>7270.0</td>\n",
       "      <td>0.0</td>\n",
       "      <td>CONT_NOHS_2</td>\n",
       "      <td>11604027</td>\n",
       "      <td>11611314</td>\n",
       "      <td>gene</td>\n",
       "    </tr>\n",
       "    <tr>\n",
       "      <th>46</th>\n",
       "      <td>WBGene00013352</td>\n",
       "      <td>protein_coding</td>\n",
       "      <td>ADOG</td>\n",
       "      <td>V</td>\n",
       "      <td>-</td>\n",
       "      <td>200</td>\n",
       "      <td>17995147</td>\n",
       "      <td>17995347</td>\n",
       "      <td>17995147</td>\n",
       "      <td>17995347</td>\n",
       "      <td>...</td>\n",
       "      <td>0.919606</td>\n",
       "      <td>0.094250</td>\n",
       "      <td>WormBase</td>\n",
       "      <td>6021</td>\n",
       "      <td>15265.0</td>\n",
       "      <td>0.0</td>\n",
       "      <td>CONT___HS_2</td>\n",
       "      <td>17995347</td>\n",
       "      <td>18001368</td>\n",
       "      <td>gene</td>\n",
       "    </tr>\n",
       "    <tr>\n",
       "      <th>47</th>\n",
       "      <td>WBGene00016340</td>\n",
       "      <td>protein_coding</td>\n",
       "      <td>ADOG</td>\n",
       "      <td>II</td>\n",
       "      <td>-</td>\n",
       "      <td>300</td>\n",
       "      <td>2182203</td>\n",
       "      <td>2182503</td>\n",
       "      <td>2182203</td>\n",
       "      <td>2182503</td>\n",
       "      <td>...</td>\n",
       "      <td>0.903651</td>\n",
       "      <td>0.209738</td>\n",
       "      <td>WormBase</td>\n",
       "      <td>3931</td>\n",
       "      <td>7214.0</td>\n",
       "      <td>0.0</td>\n",
       "      <td>CONT___HS_2</td>\n",
       "      <td>2182503</td>\n",
       "      <td>2186434</td>\n",
       "      <td>gene</td>\n",
       "    </tr>\n",
       "    <tr>\n",
       "      <th>48</th>\n",
       "      <td>WBGene00005587</td>\n",
       "      <td>pseudogene</td>\n",
       "      <td>ADOG</td>\n",
       "      <td>II</td>\n",
       "      <td>-</td>\n",
       "      <td>200</td>\n",
       "      <td>2578336</td>\n",
       "      <td>2578536</td>\n",
       "      <td>2578336</td>\n",
       "      <td>2578536</td>\n",
       "      <td>...</td>\n",
       "      <td>2.080775</td>\n",
       "      <td>-0.855707</td>\n",
       "      <td>WormBase</td>\n",
       "      <td>1059</td>\n",
       "      <td>14859.0</td>\n",
       "      <td>0.0</td>\n",
       "      <td>CONT___HS_1</td>\n",
       "      <td>2578536</td>\n",
       "      <td>2579595</td>\n",
       "      <td>gene</td>\n",
       "    </tr>\n",
       "    <tr>\n",
       "      <th>49</th>\n",
       "      <td>WBGene00200795</td>\n",
       "      <td>ncRNA</td>\n",
       "      <td>ADOG</td>\n",
       "      <td>II</td>\n",
       "      <td>-</td>\n",
       "      <td>200</td>\n",
       "      <td>8017371</td>\n",
       "      <td>8017571</td>\n",
       "      <td>8017371</td>\n",
       "      <td>8017571</td>\n",
       "      <td>...</td>\n",
       "      <td>1.917358</td>\n",
       "      <td>2.539180</td>\n",
       "      <td>WormBase</td>\n",
       "      <td>130</td>\n",
       "      <td>14419.0</td>\n",
       "      <td>0.0</td>\n",
       "      <td>CONT___HS_2</td>\n",
       "      <td>8017571</td>\n",
       "      <td>8017701</td>\n",
       "      <td>gene</td>\n",
       "    </tr>\n",
       "    <tr>\n",
       "      <th>50</th>\n",
       "      <td>WBGene00011302</td>\n",
       "      <td>protein_coding</td>\n",
       "      <td>ADOG</td>\n",
       "      <td>II</td>\n",
       "      <td>-</td>\n",
       "      <td>400</td>\n",
       "      <td>10533932</td>\n",
       "      <td>10534332</td>\n",
       "      <td>10533932</td>\n",
       "      <td>10534332</td>\n",
       "      <td>...</td>\n",
       "      <td>1.514803</td>\n",
       "      <td>-0.109965</td>\n",
       "      <td>WormBase</td>\n",
       "      <td>3339</td>\n",
       "      <td>4558.0</td>\n",
       "      <td>0.0</td>\n",
       "      <td>CONT_NOHS_2</td>\n",
       "      <td>10534332</td>\n",
       "      <td>10537671</td>\n",
       "      <td>gene</td>\n",
       "    </tr>\n",
       "  </tbody>\n",
       "</table>\n",
       "<p>51 rows × 28 columns</p>\n",
       "</div>"
      ]
     },
     "execution_count": 35,
     "metadata": {},
     "output_type": "execute_result"
    }
   ],
   "source": [
    "def removeOperons(df,df_op,f1):\n",
    "    \"\"\"Remove operons with any overlap on the same strand as a DOG\"\"\"\n",
    "    print(\"Length before removing operons : \", str(len(df)))\n",
    "    df = df[~df[\"gene_id_name\"].isin(df_op[\"RUNON\"]) ]\n",
    "    print(\"Length after removing operons : \", str(len(df)))\n",
    "    df.to_csv(f1,sep=\"\\t\",index=None)\n",
    "    return df\n",
    "\n",
    "\n",
    "df_hs = pd.read_csv(HSPATH + \"/DOG/combined_DOG.csv\",sep=\"\\t\")\n",
    "removeOperons(df_hs,df_hs_op_same_strand, HSPATH +\"/DOG/combined_DOG_noOperon.csv\")\n",
    "\n",
    "\n",
    "df_ok = pd.read_csv(OKPATH + \"/DOG/combined_DOG.csv\",sep=\"\\t\")\n",
    "\n",
    "removeOperons(df_ok,df_hs_op_same_strand, OKPATH +\"/DOG/combined_DOG_noOperon.csv\")\n",
    "\n",
    "\n",
    "\n",
    "\n",
    "def removeOperons(df,df_op,f1):\n",
    "    \"\"\"Remove operons with any overlap on the same strand as a DOG\"\"\"\n",
    "    print(\"Length before removing operons : \", str(len(df)))\n",
    "    df = df[~df[\"gene_id_name\"].isin(df_op[\"RUNON\"]) ]\n",
    "    print(\"Length after removing operons on opposite strand: \", str(len(df)))\n",
    "    df.to_csv(f1,sep=\"\\t\",index=None)\n",
    "    return df\n",
    "\n",
    "df_hsa = pd.read_csv(HSPATH + \"/ADOG/combined_ADOG.csv\",sep=\"\\t\")\n",
    "df_oka = pd.read_csv(OKPATH + \"/ADOG/combined_ADOG.csv\",sep=\"\\t\")\n",
    "removeOperons(df_hsa,df_hs_op_diff_strand,HSPATH +\"/ADOG/combined_ADOG_noOperon.csv\")\n",
    "removeOperons(df_oka,df_hs_op_diff_strand, OKPATH +\"/ADOG/combined_ADOG_noOperon.csv\")\n",
    "\n",
    "#df_hsa = pd.read_csv(\"HS_combined_antisense_LONGEST_RUN_ON.csv\",sep=\"\\t\")\n",
    "#df_oka = pd.read_csv(\"OK_combined_antisense_LONGEST_RUN_ON.csv\",sep=\"\\t\")\n",
    "\n",
    "#df_hsa = pd.read_csv(\"combined_LONGEST_RUN_ON.csv\",sep=\"\\t\")\n",
    "#df_oka = pd.read_csv(\"combined_LONGEST_RUN_ON.csv\",sep=\"\\t\")"
   ]
  },
  {
   "cell_type": "code",
   "execution_count": null,
   "metadata": {
    "collapsed": true
   },
   "outputs": [],
   "source": [
    ""
   ]
  }
 ],
 "metadata": {
  "kernelspec": {
   "display_name": "Python 3",
   "language": "python",
   "name": "python3"
  },
  "language_info": {
   "codemirror_mode": {
    "name": "ipython",
    "version": 3.0
   },
   "file_extension": ".py",
   "mimetype": "text/x-python",
   "name": "python",
   "nbconvert_exporter": "python",
   "pygments_lexer": "ipython3",
   "version": "3.5.4"
  }
 },
 "nbformat": 4,
 "nbformat_minor": 0
}