{
 "cells": [
  {
   "cell_type": "code",
   "execution_count": 3,
   "metadata": {
    "collapsed": true
   },
   "outputs": [],
   "source": [
    "from scipy.stats import hypergeom\n",
    "import matplotlib.pyplot as plt\n",
    "import numpy as np\n",
    "import pandas as pd\n",
    "%matplotlib inline\n",
    "from matplotlib_venn import venn3, venn3_circles\n",
    "from matplotlib_venn import venn2, venn2_circles\n",
    "import os\n",
    "os.chdir(\"/Users/M/Google_Drive/Scripts/hs/worm/EMBO/writeup/Figures/fig4_J2_Enrichment/fig4.5_J2_Enrichment_GOTERM/\")"
   ]
  },
  {
   "cell_type": "code",
   "execution_count": 4,
   "metadata": {},
   "outputs": [
    {
     "name": "stdout",
     "output_type": "stream",
     "text": [
      "['DESeq2_initial.R.out', 'DESeq2_initial.R', 'Rsubread_antisense_normalized_rRNA_star.txt', 'DESeq2_sense.csv', 'Rsubread_initial.R', 'Rsubread_sense_normalized_rRNA_star.txt', 'col_data.txt', 'Rsubread_antisense.txt', 'Rsubread_sense.txt', 'Rsubread_initial.R.out', 'DESeq2_antisense.csv']\n['DESeq2_initial.R.out', 'DESeq2_initial.R', 'Rsubread_antisense_normalized_rRNA_star.txt', 'DESeq2_sense.csv', 'Rsubread_initial.R', 'Rsubread_sense_normalized_rRNA_star.txt', 'col_data.txt', 'Rsubread_antisense.txt', 'Rsubread_sense.txt', 'Rsubread_initial.R.out', 'DESeq2_antisense.csv']\n"
     ]
    }
   ],
   "source": [
    "\n",
    "HSPATH = \"../../data/Dogcatcher_Out/HS/N2_vs_HS_2ndtime/initial_Rsubread\"\n",
    "OKPATH = \"../../data/Dogcatcher_Out/OK/N2_vs_OK_2ndtime/initial_Rsubread\"\n",
    "\n",
    "\n",
    "p = os.listdir(HSPATH)\n",
    "print(p)\n",
    "f1 = HSPATH + \"/DESeq2_sense.csv\"\n",
    "\n",
    "\n",
    "\n",
    "p = os.listdir(OKPATH)\n",
    "print(p)\n",
    "f3 = OKPATH + \"/DESeq2_sense.csv\"\n",
    "\n"
   ]
  },
  {
   "cell_type": "code",
   "execution_count": 5,
   "metadata": {},
   "outputs": [],
   "source": [
    "def get_above_20BM(f1):\n",
    "    \"\"\"This function will take in a DSeq2 normalized matrix and filter for everything LT 0.05\n",
    "    Give back two df of above 2lfc and below 2lfc\"\"\"\n",
    "    df = pd.read_csv(f1, index_col=None, sep=',')\n",
    "    df.rename(columns={\"Unnamed: 0\" : \"gene_id\"}, inplace=True)\n",
    "    # print(\"Length of df : \", len(df))\n",
    "    # df = df[df[\"baseMean\"] > 20]   \n",
    "    # print(\"Length of df > 20 BM : \", len(df))\n",
    "    #df = df.dropna()\n",
    "    #print(\"Length of df drop NA > 20 BM : \", len(df))\n",
    "    return df"
   ]
  },
  {
   "cell_type": "code",
   "execution_count": 6,
   "metadata": {},
   "outputs": [],
   "source": [
    "df_hs = get_above_20BM(f1)\n",
    "df_ok = get_above_20BM(f3)"
   ]
  },
  {
   "cell_type": "code",
   "execution_count": 7,
   "metadata": {},
   "outputs": [
    {
     "name": "stdout",
     "output_type": "stream",
     "text": [
      "Merged Population above 20 Basemean is :  46760\n"
     ]
    }
   ],
   "source": [
    "df_merge  = pd.merge(df_hs, df_ok, how=\"inner\", on=\"gene_id\")"
   ]
  },
  {
   "cell_type": "code",
   "execution_count": 8,
   "metadata": {},
   "outputs": [
    {
     "name": "stdout",
     "output_type": "stream",
     "text": [
      "46760\n"
     ]
    }
   ],
   "source": [
    "#Get seperate out for hs and tdp-1 only in population\n",
    "df_HS = df_hs[df_hs[\"gene_id\"].isin(df_merge[\"gene_id\"])]\n",
    "df_OK = df_ok[df_ok[\"gene_id\"].isin(df_merge[\"gene_id\"])]\n",
    "print(len(df_HS))"
   ]
  },
  {
   "cell_type": "code",
   "execution_count": 11,
   "metadata": {},
   "outputs": [],
   "source": [
    "def get_above_below_2lfc_p05(df):\n",
    "    \"\"\"This function will take in a DSeq2 normalized matrix and filter for everything LT 0.05\n",
    "    Give back two df of above 2lfc and below 2lfc\"\"\"\n",
    "    df_padj_less_05 = df[df[\"padj\"] < 0.05]\n",
    "    df_above_2_lfc = df_padj_less_05[df_padj_less_05['log2FoldChange'] > 0].sort_values(by='padj', ascending=True)\n",
    "    df_below_2_lfc = df_padj_less_05[df_padj_less_05['log2FoldChange'] < -0].sort_values(by='padj', ascending=True)\n",
    "    return df_above_2_lfc,df_below_2_lfc"
   ]
  },
  {
   "cell_type": "code",
   "execution_count": 12,
   "metadata": {},
   "outputs": [],
   "source": [
    "df_HS_sense_above_2_lfc, df_HS_sense_below_2_lfc = get_above_below_2lfc_p05(df_HS)\n",
    "df_OK_sense_above_2_lfc, df_OK_sense_below_2_lfc = get_above_below_2lfc_p05(df_OK)"
   ]
  },
  {
   "cell_type": "code",
   "execution_count": 13,
   "metadata": {},
   "outputs": [],
   "source": [
    "df_HS_sense_above_2_lfc.to_csv(\"df_HS_sense_above.csv\",sep=\"\\t\",index=None)\n",
    "df_HS_sense_below_2_lfc.to_csv(\"df_HS_sense_below.csv\",sep=\"\\t\",index=None)\n",
    "df_OK_sense_above_2_lfc.to_csv(\"df_OK_sense_above.csv\",sep=\"\\t\",index=None)\n",
    "df_OK_sense_below_2_lfc.to_csv(\"df_OK_sense_below.csv\",sep=\"\\t\",index=None)"
   ]
  },
  {
   "cell_type": "code",
   "execution_count": 15,
   "metadata": {},
   "outputs": [
    {
     "data": {
      "image/png": "[encoded data removed]",
      "text/plain": [
       "<Figure size 432x288 with 1 Axes>"
      ]
     },
     "metadata": {},
     "output_type": "display_data"
    }
   ],
   "source": [
    "\n",
    "#MAKE NEW DATAFRAMES\n",
    "df_concat  = pd.merge(df_HS_sense_above_2_lfc, df_OK_sense_above_2_lfc, how=\"inner\", on=\"gene_id\")\n",
    "df_HS_only = df_HS_sense_above_2_lfc[~df_HS_sense_above_2_lfc.gene_id.isin(df_concat.gene_id)]\n",
    "df_OK_only = df_OK_sense_above_2_lfc[~df_OK_sense_above_2_lfc.gene_id.isin(df_concat.gene_id)]\n",
    "\n",
    "\n",
    "df_concat.to_csv(\"df_HS_OK____sense.csv\",sep=\"\\t\",index=None)\n",
    "df_HS_only.to_csv(\"df_HS_only_sense.csv\",sep=\"\\t\",index=None)\n",
    "df_OK_only.to_csv(\"df_OK_only_sense.csv\",sep=\"\\t\",index=None)\n",
    "\n",
    "df_concat_GO =  df_concat[\"gene_id\"]\n",
    "df_HS_only_GO =  df_HS_only[\"gene_id\"]\n",
    "df_OK_only_GO =  df_OK_only[\"gene_id\"]\n",
    "          \n",
    "df_concat_GO.to_csv(\"df_HS_OK____sense_above_GO.csv\",sep=\"\\t\",index=None)\n",
    "df_HS_only_GO.to_csv(\"df_HS_only_sense_above_GO.csv\",sep=\"\\t\",index=None)\n",
    "df_OK_only_GO.to_csv(\"df_OK_only_sense_above_GO.csv\",sep=\"\\t\",index=None)\n",
    "\n",
    "\n",
    "# Subset sizes\n",
    "s = (\n",
    "    len(df_HS_only),  # Ab\n",
    "    len(df_OK_only),  # aB\n",
    "    len(df_concat),  # AB\n",
    ")\n",
    "\n",
    "v = venn2(subsets=s, set_labels=('HS', 'tdp-1\\n(ok803)'))\n",
    "\n",
    "for text in v.set_labels:\n",
    "    text.set_x(text.get_position()[0] + 0.15)    #Move along x\n",
    "    text.set_y(text.get_position()[1] + 0.15)    #Move along y\n",
    "    text.set_fontsize(18)\n",
    "#label.set_family('serif')\n",
    "#label.set_x(label.get_position()[0] + 0.1)\n",
    "\n",
    "#v.get_label_by_id('A').set_text('$x^2$') # Those are set labels\n",
    "#v.get_label_by_id('A').set_fontsize(22)\n",
    "\n",
    "\n",
    "hs_label = \"Heatshock\\n\" + str(len(df_HS_only))\n",
    "\n",
    "# Subset labels\n",
    "v.get_label_by_id('10').set_text(str(len(df_HS_only)))\n",
    "v.get_label_by_id('10').set_fontsize(20)\n",
    "v.get_label_by_id('01').set_text(str(len(df_OK_only)))\n",
    "v.get_label_by_id('11').set_text(str(len(df_concat)))\n",
    "\n",
    "#v.get_label_by_id('tdp-1(ok803)').set_fontsize(20)\n",
    "\n",
    "\n",
    "\n",
    "\n",
    "# Subset colors\n",
    "v.get_patch_by_id('10').set_color('red')\n",
    "v.get_patch_by_id('01').set_color('grey')\n",
    "v.get_patch_by_id('11').set_color('white')\n",
    "\n",
    "# Subset alphas\n",
    "v.get_patch_by_id('10').set_alpha(0.4)\n",
    "v.get_patch_by_id('01').set_alpha(1.0)\n",
    "v.get_patch_by_id('11').set_alpha(0.7)\n",
    "\n",
    "# Border styles\n",
    "c = venn2_circles(subsets=s, linestyle='solid')\n",
    "c[0].set_ls('dashed')  # Line style\n",
    "c[0].set_lw(2.0)       # Line width\n",
    "plt.title(\"Sense Enriched\", fontsize=20)\n",
    "plt.savefig('SenseVenn.png',bbox_inches='tight')\n",
    "#savefig('foo.png', bbox_inches='tight')\n",
    "#plt.show()\n",
    "\n"
   ]
  }
 ],
 "metadata": {
  "kernelspec": {
   "display_name": "Python 2",
   "language": "python",
   "name": "python2"
  },
  "language_info": {
   "codemirror_mode": {
    "name": "ipython",
    "version": 2
   },
   "file_extension": ".py",
   "mimetype": "text/x-python",
   "name": "python",
   "nbconvert_exporter": "python",
   "pygments_lexer": "ipython2",
   "version": "2.7.6"
  }
 },
 "nbformat": 4,
 "nbformat_minor": 0
}
