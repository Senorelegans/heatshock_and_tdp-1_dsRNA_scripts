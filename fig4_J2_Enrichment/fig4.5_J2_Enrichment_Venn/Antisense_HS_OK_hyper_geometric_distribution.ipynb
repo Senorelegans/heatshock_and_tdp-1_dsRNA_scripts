{
 "cells": [
  {
   "cell_type": "code",
   "execution_count": 17,
   "metadata": {
    "ExecuteTime": {
     "end_time": "2018-09-07T18:10:06.065327Z",
     "start_time": "2018-09-07T18:10:06.053450Z"
    }
   },
   "outputs": [],
   "source": [
    "from scipy.stats import hypergeom\n",
    "import matplotlib.pyplot as plt\n",
    "import numpy as np\n",
    "import pandas as pd\n",
    "%matplotlib inline\n",
    "from matplotlib_venn import venn3, venn3_circles\n",
    "from matplotlib_venn import venn2, venn2_circles\n",
    "import os\n",
    "\n",
    "os.chdir(\"/Users/M/Google_Drive/Scripts/hs/worm/EMBO/writeup/Figures/fig4_J2_Enrichment/fig4.5_J2_Enrichment_GOTERM/\")"
   ]
  },
  {
   "cell_type": "code",
   "execution_count": 18,
   "metadata": {
    "ExecuteTime": {
     "end_time": "2018-09-07T18:10:17.926867Z",
     "start_time": "2018-09-07T18:10:17.917017Z"
    }
   },
   "outputs": [
    {
     "name": "stdout",
     "output_type": "stream",
     "text": [
      "['DESeq2_initial.R.out', 'DESeq2_initial.R', 'Rsubread_antisense_normalized_rRNA_star.txt', 'DESeq2_sense.csv', 'Rsubread_initial.R', 'Rsubread_sense_normalized_rRNA_star.txt', 'col_data.txt', 'Rsubread_antisense.txt', 'Rsubread_sense.txt', 'Rsubread_initial.R.out', 'DESeq2_antisense.csv']\n",
      "['DESeq2_initial.R.out', 'DESeq2_initial.R', 'Rsubread_antisense_normalized_rRNA_star.txt', 'DESeq2_sense.csv', 'Rsubread_initial.R', 'Rsubread_sense_normalized_rRNA_star.txt', 'col_data.txt', 'Rsubread_antisense.txt', 'Rsubread_sense.txt', 'Rsubread_initial.R.out', 'DESeq2_antisense.csv']\n"
     ]
    }
   ],
   "source": [
    "HSPATH = \"../../data/Dogcatcher_Out/HS/N2_vs_HS_2ndtime/initial_Rsubread\"\n",
    "OKPATH = \"../../data/Dogcatcher_Out/OK/N2_vs_OK_2ndtime/initial_Rsubread\"\n",
    "\n",
    "p = os.listdir(HSPATH)\n",
    "print(p)\n",
    "f1 = HSPATH + \"/DESeq2_sense.csv\"\n",
    "f2 = HSPATH + \"/DESeq2_antisense.csv\"\n",
    "\n",
    "p = os.listdir(OKPATH)\n",
    "print(p)\n",
    "f3 = OKPATH + \"/DESeq2_sense.csv\"\n",
    "f4 = OKPATH + \"/DESeq2_antisense.csv\"\n"
   ]
  },
  {
   "cell_type": "code",
   "execution_count": 19,
   "metadata": {
    "ExecuteTime": {
     "end_time": "2018-09-07T18:10:25.991644Z",
     "start_time": "2018-09-07T18:10:25.985466Z"
    }
   },
   "outputs": [],
   "source": [
    "def get_above_20BM(f1):\n",
    "    \"\"\"This function will take in a DSeq2 normalized matrix and filter for everything LT 0.05\n",
    "    Give back two df of above 2lfc and below 2lfc\"\"\"\n",
    "    df = pd.read_csv(f1, index_col=None, sep=',')\n",
    "    df.rename(columns={\"Unnamed: 0\" : \"gene_id\"}, inplace=True)\n",
    "    # print(\"Length of df : \", len(df))\n",
    "    # df = df[df[\"baseMean\"] > 20]   \n",
    "    # print(\"Length of df > 20 BM : \", len(df))\n",
    "    #df = df.dropna()\n",
    "    print(\"Length of df: \", len(df))\n",
    "    return df"
   ]
  },
  {
   "cell_type": "code",
   "execution_count": null,
   "metadata": {
    "ExecuteTime": {
     "end_time": "2018-09-07T18:06:43.741852Z",
     "start_time": "2018-09-07T18:06:43.393361Z"
    }
   },
   "outputs": [],
   "source": []
  },
  {
   "cell_type": "code",
   "execution_count": null,
   "metadata": {},
   "outputs": [],
   "source": []
  },
  {
   "cell_type": "code",
   "execution_count": null,
   "metadata": {
    "ExecuteTime": {
     "end_time": "2018-09-07T18:06:44.957965Z",
     "start_time": "2018-09-07T18:06:44.953859Z"
    }
   },
   "outputs": [],
   "source": []
  },
  {
   "cell_type": "code",
   "execution_count": 20,
   "metadata": {
    "ExecuteTime": {
     "end_time": "2018-09-07T18:10:37.467482Z",
     "start_time": "2018-09-07T18:10:37.461699Z"
    }
   },
   "outputs": [],
   "source": [
    "def get_above_below_2lfc_p05(df):\n",
    "    \"\"\"This function will take in a DSeq2 normalized matrix and filter for everything LT 0.05\n",
    "    Give back two df of above 2lfc and below 2lfc\"\"\"\n",
    "    df_padj_less_05 = df[df[\"padj\"] < 0.05]\n",
    "    df_above_2_lfc = df_padj_less_05[df_padj_less_05['log2FoldChange'] > 0].sort_values(by='log2FoldChange', ascending=False)\n",
    "    df_below_2_lfc = df_padj_less_05[df_padj_less_05['log2FoldChange'] < -0].sort_values(by='log2FoldChange', ascending=True)\n",
    "    return df_above_2_lfc,df_below_2_lfc"
   ]
  },
  {
   "cell_type": "code",
   "execution_count": 21,
   "metadata": {
    "ExecuteTime": {
     "end_time": "2018-09-07T18:11:12.489268Z",
     "start_time": "2018-09-07T18:11:11.612890Z"
    }
   },
   "outputs": [
    {
     "name": "stdout",
     "output_type": "stream",
     "text": [
      "Length of df:  46760\n",
      "Length of df:  46760\n"
     ]
    }
   ],
   "source": [
    "\n",
    "\n",
    "#Get sense amounts\n",
    "df_hs = get_above_20BM(f1)\n",
    "df_ok = get_above_20BM(f3)\n",
    "\n",
    "df_HS_sense_above_2_lfc, df_HS_sense_below_2_lfc = get_above_below_2lfc_p05(df_hs)\n",
    "df_OK_sense_above_2_lfc, df_OK_sense_below_2_lfc = get_above_below_2lfc_p05(df_ok)\n",
    "\n",
    "df_HS_sense_above_2_lfc.to_csv(\"df_HS_above_sense.csv\",sep=\"\\t\",index=None)\n",
    "df_HS_sense_below_2_lfc.to_csv(\"df_HS_below_sense.csv\",sep=\"\\t\",index=None)\n",
    "df_OK_sense_above_2_lfc.to_csv(\"df_OK_above_sense.csv\",sep=\"\\t\",index=None)\n",
    "df_OK_sense_below_2_lfc.to_csv(\"df_OK_below_sense.csv\",sep=\"\\t\",index=None)\n",
    "\n",
    "df_concat  = pd.merge(df_HS_sense_below_2_lfc, df_OK_sense_below_2_lfc, how=\"inner\", on=\"gene_id\")\n",
    "df_HS_only = df_HS_sense_above_2_lfc[~df_HS_sense_above_2_lfc.gene_id.isin(df_concat.gene_id)]\n",
    "df_OK_only = df_OK_sense_above_2_lfc[~df_OK_sense_above_2_lfc.gene_id.isin(df_concat.gene_id)]\n",
    "df_concat.to_csv(\"df_HS_OK_____sense_below.csv\",sep=\"\\t\",index=None)\n",
    "df_HS_only.to_csv(\"df_HS_only__sense_below.csv\",sep=\"\\t\",index=None)\n",
    "df_OK_only.to_csv(\"df_OK_only__sense_below.csv\",sep=\"\\t\",index=None)\n",
    "\n",
    "#MAKE NEW DATAFRAMES\n",
    "df_concat  = pd.merge(df_HS_sense_above_2_lfc, df_OK_sense_above_2_lfc, how=\"inner\", on=\"gene_id\")\n",
    "df_HS_only = df_HS_sense_above_2_lfc[~df_HS_sense_above_2_lfc.gene_id.isin(df_concat.gene_id)]\n",
    "df_OK_only = df_OK_sense_above_2_lfc[~df_OK_sense_above_2_lfc.gene_id.isin(df_concat.gene_id)]\n",
    "df_concat.to_csv(\"df_HS_OK_____sense_above.csv\",sep=\"\\t\",index=None)\n",
    "df_HS_only.to_csv(\"df_HS_only__sense_above.csv\",sep=\"\\t\",index=None)\n",
    "df_OK_only.to_csv(\"df_OK_only__sense_above.csv\",sep=\"\\t\",index=None)\n"
   ]
  },
  {
   "cell_type": "code",
   "execution_count": 22,
   "metadata": {
    "ExecuteTime": {
     "end_time": "2018-09-07T18:12:10.989683Z",
     "start_time": "2018-09-07T18:12:10.385961Z"
    }
   },
   "outputs": [
    {
     "name": "stdout",
     "output_type": "stream",
     "text": [
      "Length of df:  46760\n",
      "Length of df:  46760\n"
     ]
    }
   ],
   "source": [
    "#Get antisense\n",
    "df_hs = get_above_20BM(f2)\n",
    "df_ok = get_above_20BM(f4)\n",
    "\n",
    "df_HS_sense_above_2_lfc, df_HS_sense_below_2_lfc = get_above_below_2lfc_p05(df_hs)\n",
    "df_OK_sense_above_2_lfc, df_OK_sense_below_2_lfc = get_above_below_2lfc_p05(df_ok)\n",
    "\n",
    "df_HS_sense_above_2_lfc.to_csv(\"df_HS_above_antisense.csv\",sep=\"\\t\",index=None)\n",
    "df_HS_sense_below_2_lfc.to_csv(\"df_HS_below_antisense.csv\",sep=\"\\t\",index=None)\n",
    "df_OK_sense_above_2_lfc.to_csv(\"df_OK_above_antisense.csv\",sep=\"\\t\",index=None)\n",
    "df_OK_sense_below_2_lfc.to_csv(\"df_OK_below_antisense.csv\",sep=\"\\t\",index=None)\n",
    "\n",
    "\n",
    "df_concat  = pd.merge(df_HS_sense_below_2_lfc, df_OK_sense_below_2_lfc, how=\"inner\", on=\"gene_id\")\n",
    "df_HS_only = df_HS_sense_above_2_lfc[~df_HS_sense_above_2_lfc.gene_id.isin(df_concat.gene_id)]\n",
    "df_OK_only = df_OK_sense_above_2_lfc[~df_OK_sense_above_2_lfc.gene_id.isin(df_concat.gene_id)]\n",
    "df_concat.to_csv(\"df_HS_OK_____antisense_below.csv\",sep=\"\\t\",index=None)\n",
    "df_HS_only.to_csv(\"df_HS_only__antisense_below.csv\",sep=\"\\t\",index=None)\n",
    "df_OK_only.to_csv(\"df_OK_only__antisense_below.csv\",sep=\"\\t\",index=None)\n",
    "\n",
    "#MAKE NEW DATAFRAMES\n",
    "df_concat  = pd.merge(df_HS_sense_above_2_lfc, df_OK_sense_above_2_lfc, how=\"inner\", on=\"gene_id\")\n",
    "df_HS_only = df_HS_sense_above_2_lfc[~df_HS_sense_above_2_lfc.gene_id.isin(df_concat.gene_id)]\n",
    "df_OK_only = df_OK_sense_above_2_lfc[~df_OK_sense_above_2_lfc.gene_id.isin(df_concat.gene_id)]\n",
    "df_concat.to_csv(\"df_HS_OK_____antisense_above.csv\",sep=\"\\t\",index=None)\n",
    "df_HS_only.to_csv(\"df_HS_only__antisense_above.csv\",sep=\"\\t\",index=None)\n",
    "df_OK_only.to_csv(\"df_OK_only__antisense_above.csv\",sep=\"\\t\",index=None)\n",
    "\n",
    "\n",
    "\n"
   ]
  },
  {
   "cell_type": "code",
   "execution_count": 49,
   "metadata": {},
   "outputs": [
    {
     "data": {
      "image/png": "[encoded data removed]",
      "text/plain": [
       "<Figure size 432x288 with 1 Axes>"
      ]
     },
     "metadata": {},
     "output_type": "display_data"
    }
   ],
   "source": [
    "\n",
    "#MAKE NEW DATAFRAMES\n",
    "df_concat  = pd.merge(df_HS_sense_above_2_lfc, df_OK_sense_above_2_lfc, how=\"inner\", on=\"gene_id\")\n",
    "df_HS_only = df_HS_sense_above_2_lfc[~df_HS_sense_above_2_lfc.gene_id.isin(df_concat.gene_id)]\n",
    "df_OK_only = df_OK_sense_above_2_lfc[~df_OK_sense_above_2_lfc.gene_id.isin(df_concat.gene_id)]\n",
    "\n",
    "\n",
    "\n",
    "df_concat.to_csv(\"df_HS_OK_____antisense.csv\",sep=\"\\t\",index=None)\n",
    "df_HS_only.to_csv(\"df_HS_only__antisense.csv\",sep=\"\\t\",index=None)\n",
    "df_OK_only.to_csv(\"df_OK_only__antisense.csv\",sep=\"\\t\",index=None)\n",
    "\n",
    "\n",
    "df_concat_GO =  df_concat[\"gene_id\"]\n",
    "df_HS_only_GO =  df_HS_only[\"gene_id\"]\n",
    "df_OK_only_GO =  df_OK_only[\"gene_id\"]\n",
    "          \n",
    "df_concat_GO.to_csv(\"df_HS_OK____GO_antisense.csv\",sep=\"\\t\",index=None)\n",
    "df_HS_only_GO.to_csv(\"df_HS_only_GO_antisense.csv\",sep=\"\\t\",index=None)\n",
    "df_OK_only_GO.to_csv(\"df_OK_only_GO_antisense.csv\",sep=\"\\t\",index=None)\n",
    "\n",
    "\n",
    "\n",
    "df_HS_only_2_anti = pd.read_csv(\"df_HS_only__antisense.csv\",sep=\"\\t\")\n",
    "# df_HS_only_2_sense = pd.read_csv(\"df_HS_only_sense.csv\",sep=\"\\t\")\n",
    "# \n",
    "# df_merge2 = pd.merge(df_HS_only_2_sense, df_HS_only_2_anti, how=\"inner\", on=\"gene_id\")\n",
    "# df_merge2 =  df_merge2[\"gene_id\"]\n",
    "# df_merge2.to_csv(\"df_HS_only_GO_Sense_AND_Antisense_UP.csv\",sep=\"\\t\",index=None)\n",
    "\n",
    "\n",
    "# Subset sizes\n",
    "s = (\n",
    "    len(df_HS_only),  # Ab\n",
    "    len(df_OK_only),  # aB\n",
    "    len(df_concat),  # AB\n",
    ")\n",
    "\n",
    "v = venn2(subsets=s, set_labels=('HS', 'tdp-1\\n(ok803)'))\n",
    "\n",
    "for text in v.set_labels:\n",
    "    text.set_x(text.get_position()[0] + 0.15)    #Move along x\n",
    "    text.set_y(text.get_position()[1] + 0)    #Move along y\n",
    "    text.set_fontsize(18)\n",
    "#label.set_family('serif')\n",
    "#label.set_x(label.get_position()[0] + 0.1)\n",
    "\n",
    "#v.get_label_by_id('A').set_text('$x^2$') # Those are set labels\n",
    "#v.get_label_by_id('A').set_fontsize(22)\n",
    "\n",
    "\n",
    "hs_label = \"Heatshock\\n\" + str(len(df_HS_only))\n",
    "\n",
    "# Subset labels\n",
    "v.get_label_by_id('10').set_text(str(len(df_HS_only)))\n",
    "v.get_label_by_id('10').set_fontsize(20)\n",
    "v.get_label_by_id('01').set_text(str(len(df_OK_only)))\n",
    "v.get_label_by_id('11').set_text(str(len(df_concat)))\n",
    "\n",
    "#v.get_label_by_id('tdp-1(ok803)').set_fontsize(20)\n",
    "\n",
    "\n",
    "\n",
    "\n",
    "# Subset colors\n",
    "v.get_patch_by_id('10').set_color('green')\n",
    "v.get_patch_by_id('01').set_color('blue')\n",
    "v.get_patch_by_id('11').set_color('white')\n",
    "\n",
    "# Subset alphas\n",
    "v.get_patch_by_id('10').set_alpha(0.4)\n",
    "v.get_patch_by_id('01').set_alpha(1.0)\n",
    "v.get_patch_by_id('11').set_alpha(0.7)\n",
    "\n",
    "# Border styles\n",
    "c = venn2_circles(subsets=s, linestyle='solid')\n",
    "c[0].set_ls('dashed')  # Line style\n",
    "c[0].set_lw(2.0)       # Line width\n",
    "plt.title(\"Antisense Enriched\", fontsize=20)\n",
    "plt.savefig('AntisenseVenn.png',bbox_inches='tight')\n",
    "#savefig('foo.png', bbox_inches='tight')\n",
    "#plt.show()\n",
    "\n"
   ]
  }
 ],
 "metadata": {
  "kernelspec": {
   "display_name": "Python 3",
   "language": "python",
   "name": "python3"
  },
  "language_info": {
   "codemirror_mode": {
    "name": "ipython",
    "version": 3
   },
   "file_extension": ".py",
   "mimetype": "text/x-python",
   "name": "python",
   "nbconvert_exporter": "python",
   "pygments_lexer": "ipython3",
   "version": "3.6.6"
  }
 },
 "nbformat": 4,
 "nbformat_minor": 1
}
