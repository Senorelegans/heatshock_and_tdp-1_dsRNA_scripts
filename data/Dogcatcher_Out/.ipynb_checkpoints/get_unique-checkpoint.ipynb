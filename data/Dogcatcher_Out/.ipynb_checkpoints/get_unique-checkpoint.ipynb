{
 "cells": [
  {
   "cell_type": "code",
   "execution_count": 110,
   "metadata": {
    "ExecuteTime": {
     "end_time": "2018-11-16T11:51:04.211048Z",
     "start_time": "2018-11-16T11:51:03.807629Z"
    }
   },
   "outputs": [
    {
     "data": {
      "text/plain": [
       "['HS/DOG/csv/HS_INP_split_min_gtf_DOG.csv',\n",
       " 'HS/DOG/csv/HS_INP_split_plu_gtf_DOG.csv',\n",
       " 'HS/DOG/csv/HS_J2A_split_min_gtf_DOG.csv',\n",
       " 'HS/DOG/csv/HS_J2A_split_plu_gtf_DOG.csv',\n",
       " 'HS/DOG/csv/HS_J2B_split_min_gtf_DOG.csv',\n",
       " 'HS/DOG/csv/HS_J2B_split_plu_gtf_DOG.csv',\n",
       " 'HS/DOG/csv/N2_J2_1__split_min_gtf_DOG.csv',\n",
       " 'HS/DOG/csv/N2_J2_1__split_plu_gtf_DOG.csv',\n",
       " 'HS/DOG/csv/N2_J2_2__split_min_gtf_DOG.csv',\n",
       " 'HS/DOG/csv/N2_J2_2__split_plu_gtf_DOG.csv',\n",
       " 'HS/DOG/csv/N2_J2_3__split_min_gtf_DOG.csv',\n",
       " 'HS/DOG/csv/N2_J2_3__split_plu_gtf_DOG.csv',\n",
       " 'HS/DOG/csv/N2WT_INP_split_min_gtf_DOG.csv',\n",
       " 'HS/DOG/csv/N2WT_INP_split_plu_gtf_DOG.csv']"
      ]
     },
     "execution_count": 110,
     "metadata": {},
     "output_type": "execute_result"
    }
   ],
   "source": [
    "import pandas as pd\n",
    "import glob\n",
    "import os\n",
    "from matplotlib import pyplot as plt\n",
    "%matplotlib inline\n",
    "\n",
    "files = glob.glob(\"HS/DOG/csv/*\")\n",
    "\n",
    "\n",
    "df1 = pd.read_csv(files[0], sep=\"\\t\")\n",
    "\n",
    "list(df1)\n",
    "files"
   ]
  },
  {
   "cell_type": "code",
   "execution_count": 111,
   "metadata": {
    "ExecuteTime": {
     "end_time": "2018-11-16T11:51:06.826787Z",
     "start_time": "2018-11-16T11:51:06.775326Z"
    },
    "code_folding": [],
    "collapsed": true
   },
   "outputs": [],
   "source": [
    "def parse_df(f1):\n",
    "    \n",
    "    name = os.path.basename(f1)\n",
    "    df = pd.read_csv(f1, sep=\"\\t\")\n",
    "    elist = [\"J2\",\"INP\"]\n",
    "\n",
    "    enrich = \"\"\n",
    "    for e in elist:\n",
    "        if e in name:\n",
    "            enrich = e\n",
    "\n",
    "    tlist = [\"N2\",\"HS\",\"OK\"]\n",
    "    treatment = \"\"\n",
    "    for t in tlist:\n",
    "        if t in name:\n",
    "            treatment = t        \n",
    "            \n",
    "\n",
    "    df = df.sort_values('DOG_length', ascending=False).drop_duplicates(\"gene_id_name\")\n",
    "    df = df[[\"sample_name\",\"DOG_length\", \"gene_id_name\", 'DOG_start_local','DOG_end_local',\"chr\",'strand',\"TYPE\"]]\n",
    "    df[\"Enrichment\"] = enrich \n",
    "    df[\"Treatment\"] = treatment\n",
    "    df = df[df[\"TYPE\"]==\"DOG\"]\n",
    "    df = df[df[\"DOG_length\"]>100]\n",
    "    df[\"sample_name\"] = df[\"sample_name\"].str.replace(\"__split\",\"\")\n",
    "    df[\"sample_name\"] = df[\"sample_name\"].str.replace(\"_split\",\"\")\n",
    "    df[\"sample_name\"] = df[\"sample_name\"].str.replace(\"_spl\",\"\")\n",
    "    df[\"sample_name\"] = df[\"sample_name\"].str.replace(\"_sp\",\"\")\n",
    "    df[\"sample_name\"] = df[\"sample_name\"].str.replace(\"_s\",\"\")\n",
    "    df[\"sample_name\"] = df[\"sample_name\"].str.replace(\"-\",\"_\")\n",
    "    return df\n"
   ]
  },
  {
   "cell_type": "code",
   "execution_count": 112,
   "metadata": {
    "ExecuteTime": {
     "end_time": "2018-11-16T11:51:08.198502Z",
     "start_time": "2018-11-16T11:51:08.174738Z"
    },
    "collapsed": true
   },
   "outputs": [],
   "source": [
    "\n",
    "def get_venns(df,df2,col,title):\n",
    "    dfAb= df[~df[col].isin(df2[col])]\n",
    "    dfaB= df2[~df2[col].isin(df[col])]\n",
    "    dfAB= df[df[col].isin(df2[col])]\n",
    "    \n",
    "    print(title)\n",
    "    print(\"df \", len(df))\n",
    "    print(\"df2 \", len(df2))\n",
    "    \n",
    "    \n",
    "    print(\"1 \", len(dfAb))\n",
    "    print(\"2 \", len(dfaB))\n",
    "    print(\"both \", len(dfAB))\n",
    "    print(\"******************\")\n",
    "    \n",
    "    \n",
    "    "
   ]
  },
  {
   "cell_type": "code",
   "execution_count": 113,
   "metadata": {
    "ExecuteTime": {
     "end_time": "2018-11-16T11:51:11.453560Z",
     "start_time": "2018-11-16T11:51:10.399125Z"
    },
    "collapsed": true
   },
   "outputs": [],
   "source": [
    "df_final = pd.DataFrame()\n",
    "\n",
    "for f in files:\n",
    "    df = parse_df(f)\n",
    "    df_final = df_final.append(df)\n",
    "df = df_final"
   ]
  },
  {
   "cell_type": "code",
   "execution_count": 114,
   "metadata": {
    "ExecuteTime": {
     "end_time": "2018-11-16T11:51:11.462523Z",
     "start_time": "2018-11-16T11:51:11.455317Z"
    }
   },
   "outputs": [
    {
     "data": {
      "text/plain": [
       "['N2HS_INP',\n",
       " 'N2HS_J2A',\n",
       " 'N2HS_J2B',\n",
       " 'N2_J2_1',\n",
       " 'N2_J2_2',\n",
       " 'N2_J2_3',\n",
       " 'N2WT_INP']"
      ]
     },
     "execution_count": 114,
     "metadata": {},
     "output_type": "execute_result"
    }
   ],
   "source": [
    "sample_list = df[\"sample_name\"].unique().tolist()\n",
    "treat_list = df[\"Treatment\"].unique().tolist()\n",
    "enrich_list = df[\"Enrichment\"].unique().tolist()\n",
    "sample_list"
   ]
  },
  {
   "cell_type": "code",
   "execution_count": 115,
   "metadata": {
    "ExecuteTime": {
     "end_time": "2018-11-16T11:51:12.415246Z",
     "start_time": "2018-11-16T11:51:12.399142Z"
    }
   },
   "outputs": [
    {
     "data": {
      "text/html": [
       "<div>\n",
       "<style scoped>\n",
       "    .dataframe tbody tr th:only-of-type {\n",
       "        vertical-align: middle;\n",
       "    }\n",
       "\n",
       "    .dataframe tbody tr th {\n",
       "        vertical-align: top;\n",
       "    }\n",
       "\n",
       "    .dataframe thead th {\n",
       "        text-align: right;\n",
       "    }\n",
       "</style>\n",
       "<table border=\"1\" class=\"dataframe\">\n",
       "  <thead>\n",
       "    <tr style=\"text-align: right;\">\n",
       "      <th></th>\n",
       "      <th>Sample size</th>\n",
       "      <th>Sample</th>\n",
       "    </tr>\n",
       "    <tr>\n",
       "      <th>sample_name</th>\n",
       "      <th></th>\n",
       "      <th></th>\n",
       "    </tr>\n",
       "  </thead>\n",
       "  <tbody>\n",
       "    <tr>\n",
       "      <th>N2HS_INP</th>\n",
       "      <td>32</td>\n",
       "      <td>N2HS_INP</td>\n",
       "    </tr>\n",
       "    <tr>\n",
       "      <th>N2HS_J2A</th>\n",
       "      <td>462</td>\n",
       "      <td>N2HS_J2A</td>\n",
       "    </tr>\n",
       "    <tr>\n",
       "      <th>N2HS_J2B</th>\n",
       "      <td>149</td>\n",
       "      <td>N2HS_J2B</td>\n",
       "    </tr>\n",
       "    <tr>\n",
       "      <th>N2WT_INP</th>\n",
       "      <td>113</td>\n",
       "      <td>N2WT_INP</td>\n",
       "    </tr>\n",
       "    <tr>\n",
       "      <th>N2_J2_1</th>\n",
       "      <td>139</td>\n",
       "      <td>N2_J2_1</td>\n",
       "    </tr>\n",
       "    <tr>\n",
       "      <th>N2_J2_2</th>\n",
       "      <td>129</td>\n",
       "      <td>N2_J2_2</td>\n",
       "    </tr>\n",
       "    <tr>\n",
       "      <th>N2_J2_3</th>\n",
       "      <td>156</td>\n",
       "      <td>N2_J2_3</td>\n",
       "    </tr>\n",
       "  </tbody>\n",
       "</table>\n",
       "</div>"
      ],
      "text/plain": [
       "             Sample size    Sample\n",
       "sample_name                       \n",
       "N2HS_INP              32  N2HS_INP\n",
       "N2HS_J2A             462  N2HS_J2A\n",
       "N2HS_J2B             149  N2HS_J2B\n",
       "N2WT_INP             113  N2WT_INP\n",
       "N2_J2_1              139   N2_J2_1\n",
       "N2_J2_2              129   N2_J2_2\n",
       "N2_J2_3              156   N2_J2_3"
      ]
     },
     "execution_count": 115,
     "metadata": {},
     "output_type": "execute_result"
    }
   ],
   "source": [
    "g = df.groupby(by=\"sample_name\", as_index=False)\n",
    "s = g.size()\n",
    "df_size = s.to_frame()\n",
    "df_size = df_size.rename( columns={0: \"Sample size\"})\n",
    "df_size[\"Sample\"] = df_size.index\n",
    "df_size"
   ]
  },
  {
   "cell_type": "code",
   "execution_count": 116,
   "metadata": {
    "ExecuteTime": {
     "end_time": "2018-11-16T11:51:14.458359Z",
     "start_time": "2018-11-16T11:51:14.318470Z"
    }
   },
   "outputs": [
    {
     "name": "stdout",
     "output_type": "stream",
     "text": [
      "df ALL 1180\n",
      "df_TO\t 145\n",
      "df_J2\t 1035\n",
      "df_HS\t 643\n",
      "df_N2\t 537\n",
      "df_HS_J2\t 611\n",
      "df_HS_TO\t 32\n",
      "df_N2_J2\t 424\n",
      "df_N2_TO\t 113\n",
      "After dropping duplicates\n",
      "df_TO\t 139\n",
      "df_J2\t 558\n",
      "df_HS\t 477\n",
      "df_N2\t 243\n",
      "df_HS_J2\t 475\n",
      "df_HS_TO\t 32\n",
      "df_N2_J2\t 211\n",
      "df_N2_TO\t 113\n",
      "df ALL 577\n"
     ]
    }
   ],
   "source": [
    "df_TO    = df[ df[\"Enrichment\"]==\"INP\"]\n",
    "df_J2    = df[ df[\"Enrichment\"]==\"J2\" ]\n",
    "df_HS    = df[ df[\"Treatment\"]==\"HS\"]\n",
    "df_N2    = df[ df[\"Treatment\"]==\"N2\"]\n",
    "df_HS_J2 = df_J2[ df_J2[\"Treatment\"]==\"HS\" ]\n",
    "df_HS_TO = df_TO[df_TO[\"Treatment\"]==\"HS\"]\n",
    "df_N2_J2 = df_J2[ df_J2[\"Treatment\"]==\"N2\" ]   \n",
    "df_N2_TO = df_TO[df_TO[\"Treatment\"]==\"N2\"]     \n",
    "df_ALL = df\n",
    "print(\"df ALL\", len(df_ALL))        \n",
    "\n",
    "print(\"df_TO\\t\", len(df_TO))         \n",
    "print(\"df_J2\\t\", len(df_J2))         \n",
    "print(\"df_HS\\t\", len(df_HS))         \n",
    "print(\"df_N2\\t\", len(df_N2))         \n",
    "print(\"df_HS_J2\\t\", len(df_HS_J2))   \n",
    "print(\"df_HS_TO\\t\", len(df_HS_TO))   \n",
    "print(\"df_N2_J2\\t\", len(df_N2_J2))   \n",
    "print(\"df_N2_TO\\t\", len(df_N2_TO))   \n",
    "    \n",
    "\n",
    "\n",
    "df_TO    = df_TO.sort_values('DOG_length', ascending=False).drop_duplicates(\"gene_id_name\")\n",
    "df_J2    = df_J2.sort_values('DOG_length', ascending=False).drop_duplicates(\"gene_id_name\")\n",
    "df_HS    = df_HS.sort_values('DOG_length', ascending=False).drop_duplicates(\"gene_id_name\")\n",
    "df_N2    = df_N2.sort_values('DOG_length', ascending=False).drop_duplicates(\"gene_id_name\")\n",
    "df_HS_J2 = df_HS_J2.sort_values('DOG_length', ascending=False).drop_duplicates(\"gene_id_name\")\n",
    "df_HS_TO = df_HS_TO.sort_values('DOG_length', ascending=False).drop_duplicates(\"gene_id_name\")\n",
    "df_N2_J2 = df_N2_J2.sort_values('DOG_length', ascending=False).drop_duplicates(\"gene_id_name\")\n",
    "df_N2_TO = df_N2_TO.sort_values('DOG_length', ascending=False).drop_duplicates(\"gene_id_name\")\n",
    "df_ALL = df_ALL.sort_values('DOG_length', ascending=False).drop_duplicates(\"gene_id_name\")\n",
    "\n",
    "print(\"After dropping duplicates\")\n",
    "\n",
    "print(\"df_TO\\t\", len(df_TO))         \n",
    "print(\"df_J2\\t\", len(df_J2))         \n",
    "print(\"df_HS\\t\", len(df_HS))         \n",
    "print(\"df_N2\\t\", len(df_N2))         \n",
    "print(\"df_HS_J2\\t\", len(df_HS_J2))   \n",
    "print(\"df_HS_TO\\t\", len(df_HS_TO))   \n",
    "print(\"df_N2_J2\\t\", len(df_N2_J2))   \n",
    "print(\"df_N2_TO\\t\", len(df_N2_TO))   \n",
    "print(\"df ALL\", len(df_ALL))         "
   ]
  },
  {
   "cell_type": "code",
   "execution_count": 117,
   "metadata": {
    "ExecuteTime": {
     "end_time": "2018-11-16T11:51:16.488893Z",
     "start_time": "2018-11-16T11:51:16.470531Z"
    }
   },
   "outputs": [
    {
     "name": "stdout",
     "output_type": "stream",
     "text": [
      "J2 HS vs N2\n",
      "df  475\n",
      "df2  211\n",
      "1  347\n",
      "2  83\n",
      "both  128\n",
      "******************\n",
      "TO HS vs N2\n",
      "df  32\n",
      "df2  113\n",
      "1  26\n",
      "2  107\n",
      "both  6\n",
      "******************\n",
      "TO HS vs N2\n",
      "df  139\n",
      "df2  558\n",
      "1  19\n",
      "2  438\n",
      "both  120\n",
      "******************\n",
      "HS TO vs J2\n",
      "df  32\n",
      "df2  475\n",
      "1  2\n",
      "2  445\n",
      "both  30\n",
      "******************\n",
      "N2 TO vs J2\n",
      "df  113\n",
      "df2  211\n",
      "1  32\n",
      "2  130\n",
      "both  81\n",
      "******************\n"
     ]
    }
   ],
   "source": [
    "get_venns(df_HS_J2,df_N2_J2,col=\"gene_id_name\",title=\"J2 HS vs N2\")\n",
    "get_venns(df_HS_TO,df_N2_TO,col=\"gene_id_name\",title=\"TO HS vs N2\")\n",
    "get_venns(df_TO,df_J2,col=\"gene_id_name\",title=\"TO HS vs N2\")\n",
    "\n",
    "get_venns(df_HS_TO,df_HS_J2,col=\"gene_id_name\",title=\"HS TO vs J2\")\n",
    "get_venns(df_N2_TO,df_N2_J2,col=\"gene_id_name\",title=\"N2 TO vs J2\")"
   ]
  },
  {
   "cell_type": "code",
   "execution_count": 118,
   "metadata": {
    "ExecuteTime": {
     "end_time": "2018-11-16T11:51:19.196817Z",
     "start_time": "2018-11-16T11:51:18.086013Z"
    }
   },
   "outputs": [
    {
     "data": {
      "text/plain": [
       "['J2', 'INP']"
      ]
     },
     "execution_count": 118,
     "metadata": {},
     "output_type": "execute_result"
    }
   ],
   "source": [
    "# Do the same for OK803\n",
    "\n",
    "files = glob.glob(\"OK/DOG/csv/*\")\n",
    "\n",
    "df_final = pd.DataFrame()\n",
    "\n",
    "for f in files:\n",
    "    df = parse_df(f)\n",
    "    df_final = df_final.append(df)\n",
    "df = df_final\n",
    "\n",
    "sample_list = df[\"sample_name\"].unique().tolist()\n",
    "treat_list = df[\"Treatment\"].unique().tolist()\n",
    "enrich_list = df[\"Enrichment\"].unique().tolist()\n",
    "enrich_list"
   ]
  },
  {
   "cell_type": "code",
   "execution_count": 119,
   "metadata": {
    "ExecuteTime": {
     "end_time": "2018-11-16T11:51:19.213720Z",
     "start_time": "2018-11-16T11:51:19.198622Z"
    }
   },
   "outputs": [
    {
     "data": {
      "text/html": [
       "<div>\n",
       "<style scoped>\n",
       "    .dataframe tbody tr th:only-of-type {\n",
       "        vertical-align: middle;\n",
       "    }\n",
       "\n",
       "    .dataframe tbody tr th {\n",
       "        vertical-align: top;\n",
       "    }\n",
       "\n",
       "    .dataframe thead th {\n",
       "        text-align: right;\n",
       "    }\n",
       "</style>\n",
       "<table border=\"1\" class=\"dataframe\">\n",
       "  <thead>\n",
       "    <tr style=\"text-align: right;\">\n",
       "      <th></th>\n",
       "      <th>Sample size</th>\n",
       "      <th>Sample</th>\n",
       "    </tr>\n",
       "    <tr>\n",
       "      <th>sample_name</th>\n",
       "      <th></th>\n",
       "      <th></th>\n",
       "    </tr>\n",
       "  </thead>\n",
       "  <tbody>\n",
       "    <tr>\n",
       "      <th>N2WT_INP</th>\n",
       "      <td>113</td>\n",
       "      <td>N2WT_INP</td>\n",
       "    </tr>\n",
       "    <tr>\n",
       "      <th>N2_J2_1</th>\n",
       "      <td>139</td>\n",
       "      <td>N2_J2_1</td>\n",
       "    </tr>\n",
       "    <tr>\n",
       "      <th>N2_J2_2</th>\n",
       "      <td>129</td>\n",
       "      <td>N2_J2_2</td>\n",
       "    </tr>\n",
       "    <tr>\n",
       "      <th>N2_J2_3</th>\n",
       "      <td>156</td>\n",
       "      <td>N2_J2_3</td>\n",
       "    </tr>\n",
       "    <tr>\n",
       "      <th>OK80_INP</th>\n",
       "      <td>249</td>\n",
       "      <td>OK80_INP</td>\n",
       "    </tr>\n",
       "    <tr>\n",
       "      <th>OK8_J2_1</th>\n",
       "      <td>134</td>\n",
       "      <td>OK8_J2_1</td>\n",
       "    </tr>\n",
       "    <tr>\n",
       "      <th>OK8_J2_2</th>\n",
       "      <td>125</td>\n",
       "      <td>OK8_J2_2</td>\n",
       "    </tr>\n",
       "    <tr>\n",
       "      <th>OK8_J2_3</th>\n",
       "      <td>90</td>\n",
       "      <td>OK8_J2_3</td>\n",
       "    </tr>\n",
       "  </tbody>\n",
       "</table>\n",
       "</div>"
      ],
      "text/plain": [
       "             Sample size    Sample\n",
       "sample_name                       \n",
       "N2WT_INP             113  N2WT_INP\n",
       "N2_J2_1              139   N2_J2_1\n",
       "N2_J2_2              129   N2_J2_2\n",
       "N2_J2_3              156   N2_J2_3\n",
       "OK80_INP             249  OK80_INP\n",
       "OK8_J2_1             134  OK8_J2_1\n",
       "OK8_J2_2             125  OK8_J2_2\n",
       "OK8_J2_3              90  OK8_J2_3"
      ]
     },
     "execution_count": 119,
     "metadata": {},
     "output_type": "execute_result"
    }
   ],
   "source": [
    "g = df.groupby(by=\"sample_name\", as_index=False)\n",
    "s = g.size()\n",
    "df_size = s.to_frame()\n",
    "df_size = df_size.rename( columns={0: \"Sample size\"})\n",
    "df_size[\"Sample\"] = df_size.index\n",
    "df_size"
   ]
  },
  {
   "cell_type": "code",
   "execution_count": 120,
   "metadata": {
    "ExecuteTime": {
     "end_time": "2018-11-16T11:51:19.880011Z",
     "start_time": "2018-11-16T11:51:19.686390Z"
    }
   },
   "outputs": [
    {
     "name": "stdout",
     "output_type": "stream",
     "text": [
      "df_TO  362\n",
      "df_J2  773\n",
      "df_OK  598\n",
      "df_N2  537\n",
      "df_OK_J2  349\n",
      "df_OK_TO  249\n",
      "df_N2_J2  424\n",
      "df_N2_TO  113\n",
      "dfall  577\n",
      "After dropping duplicates\n",
      "df_TO  270\n",
      "df_J2  245\n",
      "df_OK  302\n",
      "df_N2  243\n",
      "df_OK_J2  173\n",
      "df_OK_TO  249\n",
      "df_N2_J2  211\n",
      "df_N2_TO  113\n",
      "dfall  370\n"
     ]
    }
   ],
   "source": [
    "df_TO = df[ df[\"Enrichment\"]==\"INP\"]\n",
    "df_J2 = df[ df[\"Enrichment\"]==\"J2\" ]\n",
    "df_OK = df[ df[\"Treatment\"]==\"OK\"]\n",
    "df_N2 = df[ df[\"Treatment\"]==\"N2\"]\n",
    "df_OK_J2 = df[ (df[\"Treatment\"]==\"OK\") & (df[\"Enrichment\"]==\"J2\") ]\n",
    "df_OK_TO = df[ (df[\"Treatment\"]==\"OK\") & (df[\"Enrichment\"]==\"INP\") ]\n",
    "df_N2_J2 = df[ (df[\"Treatment\"]==\"N2\") & (df[\"Enrichment\"]==\"J2\") ]\n",
    "df_N2_TO = df[ (df[\"Treatment\"]==\"N2\") & (df[\"Enrichment\"]==\"INP\") ]\n",
    "df_all = df\n",
    "\n",
    "\n",
    "print(\"df_TO \", len(df_TO))    \n",
    "print(\"df_J2 \", len(df_J2))    \n",
    "print(\"df_OK \", len(df_OK))    \n",
    "print(\"df_N2 \", len(df_N2))    \n",
    "print(\"df_OK_J2 \", len(df_OK_J2)) \n",
    "print(\"df_OK_TO \", len(df_OK_TO)) \n",
    "print(\"df_N2_J2 \", len(df_N2_J2)) \n",
    "print(\"df_N2_TO \", len(df_N2_TO)) \n",
    "print(\"dfall \", len(df_ALL)) \n",
    "\n",
    "\n",
    "df_TO = df[ df[\"Enrichment\"]==\"INP\" ].sort_values('DOG_length', ascending=False).drop_duplicates(\"gene_id_name\")\n",
    "df_J2 = df[ df[\"Enrichment\"]==\"J2\" ].sort_values('DOG_length', ascending=False).drop_duplicates(\"gene_id_name\")\n",
    "\n",
    "df_OK = df[ df[\"Treatment\"]==\"OK\"].sort_values('DOG_length', ascending=False).drop_duplicates(\"gene_id_name\")\n",
    "df_N2 = df[ df[\"Treatment\"]==\"N2\"].sort_values('DOG_length', ascending=False).drop_duplicates(\"gene_id_name\")\n",
    "df_ALL = df.sort_values('DOG_length', ascending=False).drop_duplicates(\"gene_id_name\")\n",
    "\n",
    "df_OK_J2 = df[ (df[\"Treatment\"]==\"OK\") & (df[\"Enrichment\"]==\"J2\") ].sort_values('DOG_length', ascending=False).drop_duplicates(\"gene_id_name\")\n",
    "df_OK_TO = df[ (df[\"Treatment\"]==\"OK\") & (df[\"Enrichment\"]==\"INP\") ].sort_values('DOG_length', ascending=False).drop_duplicates(\"gene_id_name\")\n",
    "df_N2_J2 = df[ (df[\"Treatment\"]==\"N2\") & (df[\"Enrichment\"]==\"J2\") ].sort_values('DOG_length', ascending=False).drop_duplicates(\"gene_id_name\")\n",
    "df_N2_TO = df[ (df[\"Treatment\"]==\"N2\") & (df[\"Enrichment\"]==\"INP\") ].sort_values('DOG_length', ascending=False).drop_duplicates(\"gene_id_name\")\n",
    "\n",
    "print(\"After dropping duplicates\")\n",
    "\n",
    "\n",
    "print(\"df_TO \", len(df_TO))    \n",
    "print(\"df_J2 \", len(df_J2))    \n",
    "print(\"df_OK \", len(df_OK))    \n",
    "print(\"df_N2 \", len(df_N2))    \n",
    "print(\"df_OK_J2 \", len(df_OK_J2)) \n",
    "print(\"df_OK_TO \", len(df_OK_TO)) \n",
    "print(\"df_N2_J2 \", len(df_N2_J2)) \n",
    "print(\"df_N2_TO \", len(df_N2_TO)) \n",
    "print(\"dfall \", len(df_ALL)) \n"
   ]
  },
  {
   "cell_type": "code",
   "execution_count": 121,
   "metadata": {
    "ExecuteTime": {
     "end_time": "2018-11-16T11:51:21.189749Z",
     "start_time": "2018-11-16T11:51:21.174118Z"
    }
   },
   "outputs": [
    {
     "name": "stdout",
     "output_type": "stream",
     "text": [
      "J2 OK vs N2\n",
      "df  173\n",
      "df2  211\n",
      "1  34\n",
      "2  72\n",
      "both  139\n",
      "******************\n",
      "TO OK vs N2\n",
      "df  249\n",
      "df2  113\n",
      "1  157\n",
      "2  21\n",
      "both  92\n",
      "******************\n",
      "TO OK vs N2\n",
      "df  270\n",
      "df2  245\n",
      "1  125\n",
      "2  100\n",
      "both  145\n",
      "******************\n",
      "OK TO vs J2\n",
      "df  249\n",
      "df2  173\n",
      "1  129\n",
      "2  53\n",
      "both  120\n",
      "******************\n"
     ]
    }
   ],
   "source": [
    "\n",
    "get_venns(df_OK_J2,df_N2_J2,col=\"gene_id_name\",title=\"J2 OK vs N2\")\n",
    "get_venns(df_OK_TO,df_N2_TO,col=\"gene_id_name\",title=\"TO OK vs N2\")\n",
    "get_venns(df_TO,df_J2,col=\"gene_id_name\",title=\"TO OK vs N2\")\n",
    "\n",
    "get_venns(df_OK_TO,df_OK_J2,col=\"gene_id_name\",title=\"OK TO vs J2\")\n"
   ]
  },
  {
   "cell_type": "code",
   "execution_count": 122,
   "metadata": {
    "ExecuteTime": {
     "end_time": "2018-11-16T11:51:29.596549Z",
     "start_time": "2018-11-16T11:51:29.589890Z"
    },
    "collapsed": true
   },
   "outputs": [],
   "source": [
    "df_out = pd.concat([df_HS,df_N2,df_OK])\n",
    "# df_out.to_csv(\"DoGs_ALL.csv\", sep=\",\", index=None)"
   ]
  },
  {
   "cell_type": "code",
   "execution_count": 123,
   "metadata": {
    "ExecuteTime": {
     "end_time": "2018-11-16T11:51:31.279240Z",
     "start_time": "2018-11-16T11:51:31.269943Z"
    },
    "collapsed": true
   },
   "outputs": [],
   "source": [
    "df = pd.concat([df_HS_J2,df_HS_TO,df_N2_J2,df_N2_TO,df_OK_J2,df_OK_TO])\n",
    "# df.to_csv(\"DoGs_collapsed_by_enrichment_and_treatment.csv\", sep=\",\", index=None)"
   ]
  },
  {
   "cell_type": "code",
   "execution_count": 124,
   "metadata": {
    "ExecuteTime": {
     "end_time": "2018-11-16T11:51:32.156417Z",
     "start_time": "2018-11-16T11:51:32.135152Z"
    }
   },
   "outputs": [
    {
     "data": {
      "text/html": [
       "<div>\n",
       "<style scoped>\n",
       "    .dataframe tbody tr th:only-of-type {\n",
       "        vertical-align: middle;\n",
       "    }\n",
       "\n",
       "    .dataframe tbody tr th {\n",
       "        vertical-align: top;\n",
       "    }\n",
       "\n",
       "    .dataframe thead th {\n",
       "        text-align: right;\n",
       "    }\n",
       "</style>\n",
       "<table border=\"1\" class=\"dataframe\">\n",
       "  <thead>\n",
       "    <tr style=\"text-align: right;\">\n",
       "      <th></th>\n",
       "      <th>sample_name</th>\n",
       "      <th>DOG_length</th>\n",
       "      <th>gene_id_name</th>\n",
       "      <th>DOG_start_local</th>\n",
       "      <th>DOG_end_local</th>\n",
       "      <th>chr</th>\n",
       "      <th>strand</th>\n",
       "      <th>TYPE</th>\n",
       "      <th>Enrichment</th>\n",
       "      <th>Treatment</th>\n",
       "      <th>Treatment_Enrichment</th>\n",
       "    </tr>\n",
       "  </thead>\n",
       "  <tbody>\n",
       "    <tr>\n",
       "      <th>315</th>\n",
       "      <td>N2HS_J2A</td>\n",
       "      <td>29300</td>\n",
       "      <td>WBGene00022951</td>\n",
       "      <td>16931619</td>\n",
       "      <td>16943323</td>\n",
       "      <td>X</td>\n",
       "      <td>+</td>\n",
       "      <td>DOG</td>\n",
       "      <td>J2</td>\n",
       "      <td>HS</td>\n",
       "      <td>HS_J2</td>\n",
       "    </tr>\n",
       "    <tr>\n",
       "      <th>763</th>\n",
       "      <td>N2HS_J2A</td>\n",
       "      <td>19500</td>\n",
       "      <td>WBGene00197215</td>\n",
       "      <td>10043561</td>\n",
       "      <td>10048167</td>\n",
       "      <td>V</td>\n",
       "      <td>-</td>\n",
       "      <td>DOG</td>\n",
       "      <td>J2</td>\n",
       "      <td>HS</td>\n",
       "      <td>HS_J2</td>\n",
       "    </tr>\n",
       "    <tr>\n",
       "      <th>108</th>\n",
       "      <td>N2HS_J2A</td>\n",
       "      <td>16400</td>\n",
       "      <td>WBGene00012180</td>\n",
       "      <td>14785995</td>\n",
       "      <td>14800918</td>\n",
       "      <td>II</td>\n",
       "      <td>-</td>\n",
       "      <td>DOG</td>\n",
       "      <td>J2</td>\n",
       "      <td>HS</td>\n",
       "      <td>HS_J2</td>\n",
       "    </tr>\n",
       "    <tr>\n",
       "      <th>1180</th>\n",
       "      <td>N2HS_J2A</td>\n",
       "      <td>16200</td>\n",
       "      <td>WBGene00002019</td>\n",
       "      <td>9088617</td>\n",
       "      <td>9090077</td>\n",
       "      <td>V</td>\n",
       "      <td>+</td>\n",
       "      <td>DOG</td>\n",
       "      <td>J2</td>\n",
       "      <td>HS</td>\n",
       "      <td>HS_J2</td>\n",
       "    </tr>\n",
       "    <tr>\n",
       "      <th>564</th>\n",
       "      <td>N2HS_J2A</td>\n",
       "      <td>15900</td>\n",
       "      <td>WBGene00219343</td>\n",
       "      <td>18723771</td>\n",
       "      <td>18724748</td>\n",
       "      <td>V</td>\n",
       "      <td>-</td>\n",
       "      <td>DOG</td>\n",
       "      <td>J2</td>\n",
       "      <td>HS</td>\n",
       "      <td>HS_J2</td>\n",
       "    </tr>\n",
       "  </tbody>\n",
       "</table>\n",
       "</div>"
      ],
      "text/plain": [
       "     sample_name  DOG_length    gene_id_name  DOG_start_local  DOG_end_local  \\\n",
       "315     N2HS_J2A       29300  WBGene00022951         16931619       16943323   \n",
       "763     N2HS_J2A       19500  WBGene00197215         10043561       10048167   \n",
       "108     N2HS_J2A       16400  WBGene00012180         14785995       14800918   \n",
       "1180    N2HS_J2A       16200  WBGene00002019          9088617        9090077   \n",
       "564     N2HS_J2A       15900  WBGene00219343         18723771       18724748   \n",
       "\n",
       "     chr strand TYPE Enrichment Treatment Treatment_Enrichment  \n",
       "315    X      +  DOG         J2        HS                HS_J2  \n",
       "763    V      -  DOG         J2        HS                HS_J2  \n",
       "108   II      -  DOG         J2        HS                HS_J2  \n",
       "1180   V      +  DOG         J2        HS                HS_J2  \n",
       "564    V      -  DOG         J2        HS                HS_J2  "
      ]
     },
     "execution_count": 124,
     "metadata": {},
     "output_type": "execute_result"
    }
   ],
   "source": [
    "df[\"Treatment_Enrichment\"] = df[\"Treatment\"] +\"_\"+ df[\"Enrichment\"]\n",
    "df.head()"
   ]
  },
  {
   "cell_type": "code",
   "execution_count": 125,
   "metadata": {
    "ExecuteTime": {
     "end_time": "2018-11-16T11:51:34.932518Z",
     "start_time": "2018-11-16T11:51:34.926227Z"
    }
   },
   "outputs": [
    {
     "data": {
      "text/plain": [
       "['HS_J2', 'HS_INP', 'N2_J2', 'N2_INP', 'OK_J2', 'OK_INP']"
      ]
     },
     "execution_count": 125,
     "metadata": {},
     "output_type": "execute_result"
    }
   ],
   "source": [
    "tlist = df[\"Treatment_Enrichment\"].unique().tolist()\n",
    "names = df[\"gene_id_name\"].unique().tolist()\n",
    "tlist"
   ]
  },
  {
   "cell_type": "code",
   "execution_count": 126,
   "metadata": {
    "ExecuteTime": {
     "end_time": "2018-11-16T11:52:08.627723Z",
     "start_time": "2018-11-16T11:52:08.622302Z"
    }
   },
   "outputs": [],
   "source": [
    "\n",
    "\n",
    "# UPSET For groups of samples\n",
    "# df_f = pd.DataFrame(columns=tlist)\n",
    "# df_f[\"gene_id_names\"] = names\n",
    "# df_f = df_f.fillna(value=0)\n",
    "# df_f.index = df_f[\"gene_id_names\"]\n",
    "\n",
    "# for name in names:\n",
    "#     df1 = df[df[\"gene_id_name\"]==name]\n",
    "#     tl = df1[\"Treatment_Enrichment\"].unique().tolist()\n",
    "#     for t in tl:\n",
    "#         df_f.loc[name,t] = 1 \n",
    "\n",
    "# final_names = [\"gene_id_names\"]+tlist\n",
    "# df_f = df_f[final_names]\n",
    "# df_f.to_csv(\"df_for_pyupset.csv\",sep=\",\",index=None)"
   ]
  },
  {
   "cell_type": "code",
   "execution_count": 127,
   "metadata": {
    "ExecuteTime": {
     "end_time": "2018-11-16T11:52:08.955884Z",
     "start_time": "2018-11-16T11:52:08.950543Z"
    },
    "collapsed": true
   },
   "outputs": [],
   "source": [
    "\n",
    "# slist = df[\"sample_name\"].unique().tolist()\n",
    "# # UPSET For groups of samples\n",
    "# df_f = pd.DataFrame(columns=slist)\n",
    "# df_f[\"gene_id_names\"] = names\n",
    "# df_f = df_f.fillna(value=0)\n",
    "# df_f.index = df_f[\"gene_id_names\"]\n",
    "\n",
    "# for name in names:\n",
    "#     df1 = df[df[\"gene_id_name\"]==name]\n",
    "#     tl = df1[\"sample_name\"].unique().tolist()\n",
    "#     for t in tl:\n",
    "#         df_f.loc[name,t] = 1 \n",
    "\n",
    "# final_names = [\"gene_id_names\"]+slist\n",
    "# df_f = df_f[final_names]\n",
    "# df_f.to_csv(\"df_for_pyupset_Allsamples.csv\",sep=\",\",index=None)\n",
    "    \n"
   ]
  },
  {
   "cell_type": "code",
   "execution_count": 128,
   "metadata": {
    "ExecuteTime": {
     "end_time": "2018-11-16T11:52:10.050520Z",
     "start_time": "2018-11-16T11:52:10.046486Z"
    }
   },
   "outputs": [
    {
     "data": {
      "text/plain": [
       "['N2HS_J2A',\n",
       " 'N2HS_J2B',\n",
       " 'N2HS_INP',\n",
       " 'N2_J2_1',\n",
       " 'N2_J2_2',\n",
       " 'N2_J2_3',\n",
       " 'N2WT_INP',\n",
       " 'OK8_J2_1',\n",
       " 'OK8_J2_2',\n",
       " 'OK8_J2_3',\n",
       " 'OK80_INP']"
      ]
     },
     "execution_count": 128,
     "metadata": {},
     "output_type": "execute_result"
    }
   ],
   "source": [
    "slist"
   ]
  },
  {
   "cell_type": "code",
   "execution_count": 129,
   "metadata": {
    "ExecuteTime": {
     "end_time": "2018-11-16T11:52:11.416708Z",
     "start_time": "2018-11-16T11:52:11.414144Z"
    },
    "collapsed": true
   },
   "outputs": [],
   "source": [
    "\n",
    "\n",
    "\n",
    "# pd.DataFrame(tmp, columns=[\"First\", \"Second\"]).set_index('First', drop=False)"
   ]
  },
  {
   "cell_type": "code",
   "execution_count": null,
   "metadata": {
    "ExecuteTime": {
     "end_time": "2018-11-16T03:13:36.722702Z",
     "start_time": "2018-11-16T03:13:36.695749Z"
    },
    "collapsed": true
   },
   "outputs": [],
   "source": []
  },
  {
   "cell_type": "code",
   "execution_count": null,
   "metadata": {
    "collapsed": true
   },
   "outputs": [],
   "source": []
  },
  {
   "cell_type": "code",
   "execution_count": 141,
   "metadata": {
    "ExecuteTime": {
     "end_time": "2018-11-16T11:57:34.689130Z",
     "start_time": "2018-11-16T11:57:34.610438Z"
    },
    "collapsed": true
   },
   "outputs": [],
   "source": [
    "\n",
    "\n",
    "\n",
    "\n",
    "\n",
    "hsup = [\"WBGene00219916\",\n",
    "\"WBGene00220094\",\n",
    "\"WBGene00220004\",\n",
    "\"WBGene00220243\",\n",
    "\"WBGene00220000\",\n",
    "\"WBGene00201688\",\n",
    "\"WBGene00199162\",\n",
    "\"WBGene00002017\",\n",
    "\"WBGene00004567\",\n",
    "\"WBGene00010790\",\n",
    "\"WBGene00017659\",\n",
    "\"WBGene00000766\",\n",
    "\"WBGene00012977\",\n",
    "\"WBGene00016002\",\n",
    "\"WBGene00012663\",\n",
    "\"WBGene00012734\",\n",
    "\"WBGene00014115\",\n",
    "\"WBGene00007027\",\n",
    "\"WBGene00001749\",\n",
    "\"WBGene00220163\",\n",
    "\"WBGene00219826\",\n",
    "\"WBGene00013024\",\n",
    "\"WBGene00012718\",\n",
    "\"WBGene00014954\",\n",
    "\"WBGene00220246\",\n",
    "\"WBGene00017245\",\n",
    "\"WBGene00023180\",\n",
    "\"WBGene00015800\",\n",
    "\"WBGene00009277\",\n",
    "\"WBGene00009052\",\n",
    "\"WBGene00022167\",\n",
    "\"WBGene00044131\",\n",
    "\"WBGene00009527\",\n",
    "\"WBGene00015731\",\n",
    "\"WBGene00010770\",\n",
    "\"WBGene00001889\",\n",
    "\"WBGene00014264\",\n",
    "\"WBGene00009654\",\n",
    "\"WBGene00007637\",\n",
    "\"WBGene00017499\",\n",
    "\"WBGene00015228\",\n",
    "\"WBGene00014309\",\n",
    "\"WBGene00009656\",\n",
    "\"WBGene00003229\",\n",
    "\"WBGene00001923\",\n",
    "\"WBGene00001901\",\n",
    "\"WBGene00045127\",\n",
    "\"WBGene00001234\",\n",
    "\"WBGene00014843\",\n",
    "\"WBGene00012961\",\n",
    "\"WBGene00201669\",\n",
    "\"WBGene00220052\",\n",
    "\"WBGene00195813\",\n",
    "\"WBGene00011231\",\n",
    "\"WBGene00196396\",\n",
    "\"WBGene00003308\",\n",
    "\"WBGene00002015\",\n",
    "\"WBGene00198814\",\n",
    "\"WBGene00045366\",\n",
    "\"WBGene00012555\",\n",
    "\"WBGene00004765\",\n",
    "\"WBGene00013732\",\n",
    "\"WBGene00007859\",\n",
    "\"WBGene00003834\",\n",
    "\"WBGene00201398\",\n",
    "\"WBGene00008968\",\n",
    "\"WBGene00004905\",\n",
    "\"WBGene00004314\",\n",
    "\"WBGene00006945\",\n",
    "\"WBGene00220207\",\n",
    "\"WBGene00021238\",\n",
    "\"WBGene00009301\",\n",
    "\"WBGene00235348\",\n",
    "\"WBGene00001918\",\n",
    "\"WBGene00004246\",\n",
    "\"WBGene00010713\",\n",
    "\"WBGene00021317\",\n",
    "\"WBGene00012362\",\n",
    "\"WBGene00001925\",\n",
    "\"WBGene00009050\",\n",
    "\"WBGene00001895\",\n",
    "\"WBGene00021236\",\n",
    "\"WBGene00219803\",\n",
    "\"WBGene00014376\"]\n",
    "\n",
    "\n",
    "hsdo = [   \n",
    "\"WBGene00235373\",\n",
    "\"WBGene00220042\",\n",
    "\"WBGene00269391\",\n",
    "\"WBGene00000793\",\n",
    "\"WBGene00200167\",\n",
    "\"WBGene00012840\",\n",
    "\"WBGene00043327\",\n",
    "\"WBGene00012618\",\n",
    "\"WBGene00016458\",\n",
    "\"WBGene00017930\",\n",
    "\"WBGene00194981\",\n",
    "\"WBGene00008144\",\n",
    "\"WBGene00164974\",\n",
    "\"WBGene00019279\",\n",
    "\"WBGene00009589\",\n",
    "\"WBGene00012476\",\n",
    "\"WBGene00004947\",\n",
    "\"WBGene00198348\",\n",
    "\"WBGene00010989\",\n",
    "\"WBGene00197228\",\n",
    "\"WBGene00022092\",\n",
    "\"WBGene00077687\",\n",
    "\"WBGene00199742\",\n",
    "\"WBGene00019590\",\n",
    "\"WBGene00043328\"]\n"
   ]
  },
  {
   "cell_type": "code",
   "execution_count": 142,
   "metadata": {
    "ExecuteTime": {
     "end_time": "2018-11-16T11:57:45.019104Z",
     "start_time": "2018-11-16T11:57:43.647860Z"
    },
    "collapsed": true
   },
   "outputs": [],
   "source": [
    "#####UPSET For groups of samples\n",
    "df_f = pd.DataFrame(columns=tlist)\n",
    "df_f[\"gene_id_names\"] = names\n",
    "df_f = df_f.fillna(value=0)\n",
    "df_f.index = df_f[\"gene_id_names\"]\n",
    "\n",
    "for name in names:\n",
    "    df1 = df[df[\"gene_id_name\"]==name]\n",
    "    tl = df1[\"Treatment_Enrichment\"].unique().tolist()\n",
    "    for t in tl:\n",
    "        df_f.loc[name,t] = 1 \n",
    "\n",
    "final_names = [\"gene_id_names\"]+tlist\n",
    "df_f = df_f[final_names]\n"
   ]
  },
  {
   "cell_type": "code",
   "execution_count": 144,
   "metadata": {
    "ExecuteTime": {
     "end_time": "2018-11-16T11:58:06.869190Z",
     "start_time": "2018-11-16T11:58:06.857033Z"
    }
   },
   "outputs": [
    {
     "data": {
      "text/html": [
       "<div>\n",
       "<style scoped>\n",
       "    .dataframe tbody tr th:only-of-type {\n",
       "        vertical-align: middle;\n",
       "    }\n",
       "\n",
       "    .dataframe tbody tr th {\n",
       "        vertical-align: top;\n",
       "    }\n",
       "\n",
       "    .dataframe thead th {\n",
       "        text-align: right;\n",
       "    }\n",
       "</style>\n",
       "<table border=\"1\" class=\"dataframe\">\n",
       "  <thead>\n",
       "    <tr style=\"text-align: right;\">\n",
       "      <th></th>\n",
       "      <th>gene_id_names</th>\n",
       "      <th>HS_J2</th>\n",
       "      <th>HS_INP</th>\n",
       "      <th>N2_J2</th>\n",
       "      <th>N2_INP</th>\n",
       "      <th>OK_J2</th>\n",
       "      <th>OK_INP</th>\n",
       "    </tr>\n",
       "    <tr>\n",
       "      <th>gene_id_names</th>\n",
       "      <th></th>\n",
       "      <th></th>\n",
       "      <th></th>\n",
       "      <th></th>\n",
       "      <th></th>\n",
       "      <th></th>\n",
       "      <th></th>\n",
       "    </tr>\n",
       "  </thead>\n",
       "  <tbody>\n",
       "    <tr>\n",
       "      <th>WBGene00022951</th>\n",
       "      <td>WBGene00022951</td>\n",
       "      <td>1</td>\n",
       "      <td>0</td>\n",
       "      <td>1</td>\n",
       "      <td>1</td>\n",
       "      <td>1</td>\n",
       "      <td>1</td>\n",
       "    </tr>\n",
       "    <tr>\n",
       "      <th>WBGene00197215</th>\n",
       "      <td>WBGene00197215</td>\n",
       "      <td>1</td>\n",
       "      <td>1</td>\n",
       "      <td>0</td>\n",
       "      <td>0</td>\n",
       "      <td>0</td>\n",
       "      <td>0</td>\n",
       "    </tr>\n",
       "    <tr>\n",
       "      <th>WBGene00012180</th>\n",
       "      <td>WBGene00012180</td>\n",
       "      <td>1</td>\n",
       "      <td>1</td>\n",
       "      <td>0</td>\n",
       "      <td>0</td>\n",
       "      <td>0</td>\n",
       "      <td>0</td>\n",
       "    </tr>\n",
       "    <tr>\n",
       "      <th>WBGene00002019</th>\n",
       "      <td>WBGene00002019</td>\n",
       "      <td>1</td>\n",
       "      <td>0</td>\n",
       "      <td>0</td>\n",
       "      <td>0</td>\n",
       "      <td>0</td>\n",
       "      <td>0</td>\n",
       "    </tr>\n",
       "    <tr>\n",
       "      <th>WBGene00219343</th>\n",
       "      <td>WBGene00219343</td>\n",
       "      <td>1</td>\n",
       "      <td>0</td>\n",
       "      <td>0</td>\n",
       "      <td>0</td>\n",
       "      <td>0</td>\n",
       "      <td>0</td>\n",
       "    </tr>\n",
       "  </tbody>\n",
       "</table>\n",
       "</div>"
      ],
      "text/plain": [
       "                 gene_id_names  HS_J2  HS_INP  N2_J2  N2_INP  OK_J2  OK_INP\n",
       "gene_id_names                                                              \n",
       "WBGene00022951  WBGene00022951      1       0      1       1      1       1\n",
       "WBGene00197215  WBGene00197215      1       1      0       0      0       0\n",
       "WBGene00012180  WBGene00012180      1       1      0       0      0       0\n",
       "WBGene00002019  WBGene00002019      1       0      0       0      0       0\n",
       "WBGene00219343  WBGene00219343      1       0      0       0      0       0"
      ]
     },
     "execution_count": 144,
     "metadata": {},
     "output_type": "execute_result"
    }
   ],
   "source": [
    "df_f.head()"
   ]
  },
  {
   "cell_type": "code",
   "execution_count": 146,
   "metadata": {
    "ExecuteTime": {
     "end_time": "2018-11-16T11:59:20.594809Z",
     "start_time": "2018-11-16T11:59:20.579596Z"
    }
   },
   "outputs": [],
   "source": [
    "df_up = pd.DataFrame()\n",
    "df_up[\"gene_id_names\"] = hsup\n",
    "\n",
    "df_do = pd.DataFrame()\n",
    "df_do[\"gene_id_names\"] = hsdo\n",
    "\n",
    "df_merge_up = pd.merge(df_f,df_up, on=\"gene_id_names\")\n",
    "df_merge_do = pd.merge(df_f,df_do, on=\"gene_id_names\")"
   ]
  },
  {
   "cell_type": "code",
   "execution_count": 147,
   "metadata": {
    "ExecuteTime": {
     "end_time": "2018-11-16T11:59:23.605747Z",
     "start_time": "2018-11-16T11:59:23.598837Z"
    }
   },
   "outputs": [],
   "source": [
    "df_merge_up.to_csv(\"df_for_pyupset_hs_significant_up.csv\",sep=\",\",index=None)\n",
    "df_merge_do.to_csv(\"df_for_pyupset_hs_significant_do.csv\",sep=\",\",index=None)\n",
    "\n"
   ]
  },
  {
   "cell_type": "code",
   "execution_count": null,
   "metadata": {
    "collapsed": true
   },
   "outputs": [],
   "source": []
  }
 ],
 "metadata": {
  "kernelspec": {
   "display_name": "Python 3",
   "language": "python",
   "name": "python3"
  },
  "language_info": {
   "codemirror_mode": {
    "name": "ipython",
    "version": 3
   },
   "file_extension": ".py",
   "mimetype": "text/x-python",
   "name": "python",
   "nbconvert_exporter": "python",
   "pygments_lexer": "ipython3",
   "version": "3.5.4"
  }
 },
 "nbformat": 4,
 "nbformat_minor": 1
}
