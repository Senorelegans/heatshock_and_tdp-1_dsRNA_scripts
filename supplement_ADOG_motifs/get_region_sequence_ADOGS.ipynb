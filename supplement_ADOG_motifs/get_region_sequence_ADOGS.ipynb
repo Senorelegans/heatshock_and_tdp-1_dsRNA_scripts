{
 "cells": [
  {
   "cell_type": "code",
   "execution_count": 53,
   "metadata": {
    "collapsed": true
   },
   "outputs": [],
   "source": [
    "from Bio.Seq import Seq\n",
    "from Bio import SeqIO\n",
    "from Bio.SeqFeature import SeqFeature, FeatureLocation\n",
    "import os\n",
    "import pandas as pd\n",
    "import csv\n",
    "\n",
    "os.chdir(\"/Users/M/Google_Drive/Scripts/hs/worm/EMBO/Runion_with_normalization_compleete/runonOperonOverlap/Annotated_ADOGS/find_ADOG_motifs\")\n",
    "\n",
    "PATH = \"/Users/M/Google_Drive/Scripts/IGVfiles/worm/WS258/\"\n",
    "fa = PATH + \"c_elegans.PRJNA13758.WS258.genomic.fa\"\n",
    "gtf = PATH + \"c_elegans.PRJNA13758.WS258.canonical_geneset.gtf\"\n",
    "\n"
   ]
  },
  {
   "cell_type": "code",
   "execution_count": 64,
   "metadata": {},
   "outputs": [
    {
     "data": {
      "text/plain": [
       "['get_gene.ipynb',\n 'get_region_sequence.ipynb',\n 'HS_combined_ADOG_Annotated.csv',\n 'HS_combined_ADOG_Annotated_sequences.csv',\n 'OK_combined_ADOG_Annotated.csv']"
      ]
     },
     "execution_count": 64,
     "metadata": {},
     "output_type": "execute_result"
    }
   ],
   "source": [
    "import os\n",
    "cwd = os.getcwd()\n",
    "cwd\n",
    "\n",
    "files = os.listdir(os.curdir)  #files and directories\n",
    "files"
   ]
  },
  {
   "cell_type": "code",
   "execution_count": 65,
   "metadata": {},
   "outputs": [],
   "source": [
    "def append_fasta_to_df(fa,name,chr,strand,start,end):\n",
    "    fa = SeqIO.parse(fa, \"fasta\")\n",
    "    print(\"working on gene\", name)\n",
    "    #print(name)\n",
    "    #print(chr)\n",
    "    for record in fa:\n",
    "        if record.id == chr:\n",
    "            seq = (record.seq)[start:end]\n",
    "            if strand == \"-\":\n",
    "                seq = seq.reverse_complement()\n",
    "            return seq\n",
    "            #print(seq)\n",
    "        \n",
    "        \n",
    "def append_upstream_fasta_to_df(upstream_length,fa,name,chr,strand,start,end):\n",
    "    fa = SeqIO.parse(fa, \"fasta\")\n",
    "    print(\"working on gene\", name)\n",
    "    #print(name)\n",
    "    #print(chr)\n",
    "    if strand == \"+\":\n",
    "        start = end\n",
    "        end = end + upstream_length\n",
    "        \n",
    "    if strand == \"-\":\n",
    "        end = start\n",
    "        start = start -  upstream_length    \n",
    "        \n",
    "    for record in fa:\n",
    "        if record.id == chr:\n",
    "            seq = (record.seq)[start:end]\n",
    "            if strand == \"+\":\n",
    "                seq = seq.reverse_complement()\n",
    "            return seq\n",
    "            #print(seq)        "
   ]
  },
  {
   "cell_type": "code",
   "execution_count": 66,
   "metadata": {},
   "outputs": [],
   "source": [
    ""
   ]
  },
  {
   "cell_type": "code",
   "execution_count": 66,
   "metadata": {
    "collapsed": true
   },
   "outputs": [],
   "source": [
    "\n",
    "\n",
    "def addSequences(df,name_out):\n",
    "    df = pd.read_csv(df,sep=\"\\t\")\n",
    "    df['fasta'] = df.apply(lambda row: append_fasta_to_df(fa, row['gene_id_name'], row['chr'], row['strand'], row[\"DOG_start_local\"],row[\"DOG_end_local\"]), axis=1)\n",
    "    df['fasta_500_upstream'] =  df.apply(lambda row: append_upstream_fasta_to_df(500,fa,  row['gene_id_name'], row['chr'], row['strand'], row[\"DOG_start_local\"],row[\"DOG_end_local\"]), axis=1) \n",
    "    df.to_csv(name_out,sep=\"\\t\",index=None,quoting=csv.QUOTE_NONE)\n",
    "    \n",
    "    "
   ]
  },
  {
   "cell_type": "code",
   "execution_count": 67,
   "metadata": {
    "collapsed": true
   },
   "outputs": [
    {
     "name": "stdout",
     "output_type": "stream",
     "text": [
      "working on gene WBGene00001115\n"
     ]
    },
    {
     "name": "stdout",
     "output_type": "stream",
     "text": [
      "working on gene WBGene00010111\n"
     ]
    },
    {
     "name": "stdout",
     "output_type": "stream",
     "text": [
      "working on gene WBGene00206530\n"
     ]
    },
    {
     "name": "stdout",
     "output_type": "stream",
     "text": [
      "working on gene WBGene00006793\n"
     ]
    },
    {
     "name": "stdout",
     "output_type": "stream",
     "text": [
      "working on gene WBGene00014858\n"
     ]
    },
    {
     "name": "stdout",
     "output_type": "stream",
     "text": [
      "working on gene WBGene00013671\n"
     ]
    },
    {
     "name": "stdout",
     "output_type": "stream",
     "text": [
      "working on gene WBGene00004513\n"
     ]
    },
    {
     "name": "stdout",
     "output_type": "stream",
     "text": [
      "working on gene WBGene00004076\n"
     ]
    },
    {
     "name": "stdout",
     "output_type": "stream",
     "text": [
      "working on gene WBGene00019136\n"
     ]
    },
    {
     "name": "stdout",
     "output_type": "stream",
     "text": [
      "working on gene WBGene00018362\n"
     ]
    },
    {
     "name": "stdout",
     "output_type": "stream",
     "text": [
      "working on gene WBGene00012384\n"
     ]
    },
    {
     "name": "stdout",
     "output_type": "stream",
     "text": [
      "working on gene WBGene00009156\n"
     ]
    },
    {
     "name": "stdout",
     "output_type": "stream",
     "text": [
      "working on gene WBGene00018760\n"
     ]
    },
    {
     "name": "stdout",
     "output_type": "stream",
     "text": [
      "working on gene WBGene00198809\n"
     ]
    },
    {
     "name": "stdout",
     "output_type": "stream",
     "text": [
      "working on gene WBGene00010177\n"
     ]
    },
    {
     "name": "stdout",
     "output_type": "stream",
     "text": [
      "working on gene WBGene00004389\n"
     ]
    },
    {
     "name": "stdout",
     "output_type": "stream",
     "text": [
      "working on gene WBGene00007640\n"
     ]
    },
    {
     "name": "stdout",
     "output_type": "stream",
     "text": [
      "working on gene WBGene00189979\n"
     ]
    },
    {
     "name": "stdout",
     "output_type": "stream",
     "text": [
      "working on gene WBGene00021577\n"
     ]
    },
    {
     "name": "stdout",
     "output_type": "stream",
     "text": [
      "working on gene WBGene00021194\n"
     ]
    },
    {
     "name": "stdout",
     "output_type": "stream",
     "text": [
      "working on gene WBGene00018020\n"
     ]
    },
    {
     "name": "stdout",
     "output_type": "stream",
     "text": [
      "working on gene WBGene00235269\n"
     ]
    },
    {
     "name": "stdout",
     "output_type": "stream",
     "text": [
      "working on gene WBGene00001916\n"
     ]
    },
    {
     "name": "stdout",
     "output_type": "stream",
     "text": [
      "working on gene WBGene00014017\n"
     ]
    },
    {
     "name": "stdout",
     "output_type": "stream",
     "text": [
      "working on gene WBGene00014176\n"
     ]
    },
    {
     "name": "stdout",
     "output_type": "stream",
     "text": [
      "working on gene WBGene00195048\n"
     ]
    },
    {
     "name": "stdout",
     "output_type": "stream",
     "text": [
      "working on gene WBGene00019720\n"
     ]
    },
    {
     "name": "stdout",
     "output_type": "stream",
     "text": [
      "working on gene WBGene00017054\n"
     ]
    },
    {
     "name": "stdout",
     "output_type": "stream",
     "text": [
      "working on gene WBGene00013382\n"
     ]
    },
    {
     "name": "stdout",
     "output_type": "stream",
     "text": [
      "working on gene WBGene00017661\n"
     ]
    },
    {
     "name": "stdout",
     "output_type": "stream",
     "text": [
      "working on gene WBGene00010178\n"
     ]
    },
    {
     "name": "stdout",
     "output_type": "stream",
     "text": [
      "working on gene WBGene00013352\n"
     ]
    },
    {
     "name": "stdout",
     "output_type": "stream",
     "text": [
      "working on gene WBGene00009842\n"
     ]
    },
    {
     "name": "stdout",
     "output_type": "stream",
     "text": [
      "working on gene WBGene00219564\n"
     ]
    },
    {
     "name": "stdout",
     "output_type": "stream",
     "text": [
      "working on gene WBGene00001115\n"
     ]
    },
    {
     "name": "stdout",
     "output_type": "stream",
     "text": [
      "working on gene WBGene00010111\n"
     ]
    },
    {
     "name": "stdout",
     "output_type": "stream",
     "text": [
      "working on gene WBGene00206530\n"
     ]
    },
    {
     "name": "stdout",
     "output_type": "stream",
     "text": [
      "working on gene WBGene00006793\n"
     ]
    },
    {
     "name": "stdout",
     "output_type": "stream",
     "text": [
      "working on gene WBGene00014858\n"
     ]
    },
    {
     "name": "stdout",
     "output_type": "stream",
     "text": [
      "working on gene WBGene00013671\n"
     ]
    },
    {
     "name": "stdout",
     "output_type": "stream",
     "text": [
      "working on gene WBGene00004513\n"
     ]
    },
    {
     "name": "stdout",
     "output_type": "stream",
     "text": [
      "working on gene WBGene00004076\n"
     ]
    },
    {
     "name": "stdout",
     "output_type": "stream",
     "text": [
      "working on gene WBGene00019136\n"
     ]
    },
    {
     "name": "stdout",
     "output_type": "stream",
     "text": [
      "working on gene WBGene00018362\n"
     ]
    },
    {
     "name": "stdout",
     "output_type": "stream",
     "text": [
      "working on gene WBGene00012384\n"
     ]
    },
    {
     "name": "stdout",
     "output_type": "stream",
     "text": [
      "working on gene WBGene00009156\n"
     ]
    },
    {
     "name": "stdout",
     "output_type": "stream",
     "text": [
      "working on gene WBGene00018760\n"
     ]
    },
    {
     "name": "stdout",
     "output_type": "stream",
     "text": [
      "working on gene WBGene00198809\n"
     ]
    },
    {
     "name": "stdout",
     "output_type": "stream",
     "text": [
      "working on gene WBGene00010177\n"
     ]
    },
    {
     "name": "stdout",
     "output_type": "stream",
     "text": [
      "working on gene WBGene00004389\n"
     ]
    },
    {
     "name": "stdout",
     "output_type": "stream",
     "text": [
      "working on gene WBGene00007640\n"
     ]
    },
    {
     "name": "stdout",
     "output_type": "stream",
     "text": [
      "working on gene WBGene00189979\n"
     ]
    },
    {
     "name": "stdout",
     "output_type": "stream",
     "text": [
      "working on gene WBGene00021577\n"
     ]
    },
    {
     "name": "stdout",
     "output_type": "stream",
     "text": [
      "working on gene WBGene00021194\n"
     ]
    },
    {
     "name": "stdout",
     "output_type": "stream",
     "text": [
      "working on gene WBGene00018020\n"
     ]
    },
    {
     "name": "stdout",
     "output_type": "stream",
     "text": [
      "working on gene WBGene00235269\n"
     ]
    },
    {
     "name": "stdout",
     "output_type": "stream",
     "text": [
      "working on gene WBGene00001916\n"
     ]
    },
    {
     "name": "stdout",
     "output_type": "stream",
     "text": [
      "working on gene WBGene00014017\n"
     ]
    },
    {
     "name": "stdout",
     "output_type": "stream",
     "text": [
      "working on gene WBGene00014176\n"
     ]
    },
    {
     "name": "stdout",
     "output_type": "stream",
     "text": [
      "working on gene WBGene00195048\n"
     ]
    },
    {
     "name": "stdout",
     "output_type": "stream",
     "text": [
      "working on gene WBGene00019720\n"
     ]
    },
    {
     "name": "stdout",
     "output_type": "stream",
     "text": [
      "working on gene WBGene00017054\n"
     ]
    },
    {
     "name": "stdout",
     "output_type": "stream",
     "text": [
      "working on gene WBGene00013382\n"
     ]
    },
    {
     "name": "stdout",
     "output_type": "stream",
     "text": [
      "working on gene WBGene00017661\n"
     ]
    },
    {
     "name": "stdout",
     "output_type": "stream",
     "text": [
      "working on gene WBGene00010178\n"
     ]
    },
    {
     "name": "stdout",
     "output_type": "stream",
     "text": [
      "working on gene WBGene00013352\n"
     ]
    },
    {
     "name": "stdout",
     "output_type": "stream",
     "text": [
      "working on gene WBGene00009842\n"
     ]
    },
    {
     "name": "stdout",
     "output_type": "stream",
     "text": [
      "working on gene WBGene00219564\n"
     ]
    },
    {
     "name": "stdout",
     "output_type": "stream",
     "text": [
      "working on gene WBGene00001115\nworking on gene WBGene00010111\n"
     ]
    },
    {
     "name": "stdout",
     "output_type": "stream",
     "text": [
      "working on gene WBGene00206530\n"
     ]
    },
    {
     "name": "stdout",
     "output_type": "stream",
     "text": [
      "working on gene WBGene00006793\n"
     ]
    },
    {
     "name": "stdout",
     "output_type": "stream",
     "text": [
      "working on gene WBGene00014858\n"
     ]
    },
    {
     "name": "stdout",
     "output_type": "stream",
     "text": [
      "working on gene WBGene00013671\n"
     ]
    },
    {
     "name": "stdout",
     "output_type": "stream",
     "text": [
      "working on gene WBGene00004513\n"
     ]
    },
    {
     "name": "stdout",
     "output_type": "stream",
     "text": [
      "working on gene WBGene00004076\n"
     ]
    },
    {
     "name": "stdout",
     "output_type": "stream",
     "text": [
      "working on gene WBGene00019136\n"
     ]
    },
    {
     "name": "stdout",
     "output_type": "stream",
     "text": [
      "working on gene WBGene00018362\n"
     ]
    },
    {
     "name": "stdout",
     "output_type": "stream",
     "text": [
      "working on gene WBGene00012384\n"
     ]
    },
    {
     "name": "stdout",
     "output_type": "stream",
     "text": [
      "working on gene WBGene00009156\n"
     ]
    },
    {
     "name": "stdout",
     "output_type": "stream",
     "text": [
      "working on gene WBGene00018760\n"
     ]
    },
    {
     "name": "stdout",
     "output_type": "stream",
     "text": [
      "working on gene WBGene00198809\n"
     ]
    },
    {
     "name": "stdout",
     "output_type": "stream",
     "text": [
      "working on gene WBGene00010177\n"
     ]
    },
    {
     "name": "stdout",
     "output_type": "stream",
     "text": [
      "working on gene WBGene00004389\n"
     ]
    },
    {
     "name": "stdout",
     "output_type": "stream",
     "text": [
      "working on gene WBGene00007640\n"
     ]
    },
    {
     "name": "stdout",
     "output_type": "stream",
     "text": [
      "working on gene WBGene00189979\n"
     ]
    },
    {
     "name": "stdout",
     "output_type": "stream",
     "text": [
      "working on gene WBGene00021577\n"
     ]
    },
    {
     "name": "stdout",
     "output_type": "stream",
     "text": [
      "working on gene WBGene00021194\n"
     ]
    },
    {
     "name": "stdout",
     "output_type": "stream",
     "text": [
      "working on gene WBGene00018020\n"
     ]
    },
    {
     "name": "stdout",
     "output_type": "stream",
     "text": [
      "working on gene WBGene00235269\n"
     ]
    },
    {
     "name": "stdout",
     "output_type": "stream",
     "text": [
      "working on gene WBGene00001916\n"
     ]
    },
    {
     "name": "stdout",
     "output_type": "stream",
     "text": [
      "working on gene WBGene00014017\n"
     ]
    },
    {
     "name": "stdout",
     "output_type": "stream",
     "text": [
      "working on gene WBGene00014176\n"
     ]
    },
    {
     "name": "stdout",
     "output_type": "stream",
     "text": [
      "working on gene WBGene00195048\n"
     ]
    },
    {
     "name": "stdout",
     "output_type": "stream",
     "text": [
      "working on gene WBGene00019720\n"
     ]
    },
    {
     "name": "stdout",
     "output_type": "stream",
     "text": [
      "working on gene WBGene00017054\n"
     ]
    },
    {
     "name": "stdout",
     "output_type": "stream",
     "text": [
      "working on gene WBGene00013382\n"
     ]
    },
    {
     "name": "stdout",
     "output_type": "stream",
     "text": [
      "working on gene WBGene00017661\n"
     ]
    },
    {
     "name": "stdout",
     "output_type": "stream",
     "text": [
      "working on gene WBGene00010178\n"
     ]
    },
    {
     "name": "stdout",
     "output_type": "stream",
     "text": [
      "working on gene WBGene00013352\n"
     ]
    },
    {
     "name": "stdout",
     "output_type": "stream",
     "text": [
      "working on gene WBGene00009842\n"
     ]
    },
    {
     "name": "stdout",
     "output_type": "stream",
     "text": [
      "working on gene WBGene00219564\n"
     ]
    },
    {
     "name": "stdout",
     "output_type": "stream",
     "text": [
      "working on gene WBGene00001115\nworking on gene WBGene00010111\n"
     ]
    },
    {
     "name": "stdout",
     "output_type": "stream",
     "text": [
      "working on gene WBGene00206530\n"
     ]
    },
    {
     "name": "stdout",
     "output_type": "stream",
     "text": [
      "working on gene WBGene00006793\n"
     ]
    },
    {
     "name": "stdout",
     "output_type": "stream",
     "text": [
      "working on gene WBGene00014858\n"
     ]
    },
    {
     "name": "stdout",
     "output_type": "stream",
     "text": [
      "working on gene WBGene00013671\n"
     ]
    },
    {
     "name": "stdout",
     "output_type": "stream",
     "text": [
      "working on gene WBGene00004513\n"
     ]
    },
    {
     "name": "stdout",
     "output_type": "stream",
     "text": [
      "working on gene WBGene00004076\n"
     ]
    },
    {
     "name": "stdout",
     "output_type": "stream",
     "text": [
      "working on gene WBGene00019136\n"
     ]
    },
    {
     "name": "stdout",
     "output_type": "stream",
     "text": [
      "working on gene WBGene00018362\n"
     ]
    },
    {
     "name": "stdout",
     "output_type": "stream",
     "text": [
      "working on gene WBGene00012384\n"
     ]
    },
    {
     "name": "stdout",
     "output_type": "stream",
     "text": [
      "working on gene WBGene00009156\n"
     ]
    },
    {
     "name": "stdout",
     "output_type": "stream",
     "text": [
      "working on gene WBGene00018760\n"
     ]
    },
    {
     "name": "stdout",
     "output_type": "stream",
     "text": [
      "working on gene WBGene00198809\n"
     ]
    },
    {
     "name": "stdout",
     "output_type": "stream",
     "text": [
      "working on gene WBGene00010177\n"
     ]
    },
    {
     "name": "stdout",
     "output_type": "stream",
     "text": [
      "working on gene WBGene00004389\n"
     ]
    },
    {
     "name": "stdout",
     "output_type": "stream",
     "text": [
      "working on gene WBGene00007640\n"
     ]
    },
    {
     "name": "stdout",
     "output_type": "stream",
     "text": [
      "working on gene WBGene00189979\n"
     ]
    },
    {
     "name": "stdout",
     "output_type": "stream",
     "text": [
      "working on gene WBGene00021577\n"
     ]
    },
    {
     "name": "stdout",
     "output_type": "stream",
     "text": [
      "working on gene WBGene00021194\n"
     ]
    },
    {
     "name": "stdout",
     "output_type": "stream",
     "text": [
      "working on gene WBGene00018020\n"
     ]
    },
    {
     "name": "stdout",
     "output_type": "stream",
     "text": [
      "working on gene WBGene00235269\n"
     ]
    },
    {
     "name": "stdout",
     "output_type": "stream",
     "text": [
      "working on gene WBGene00001916\n"
     ]
    },
    {
     "name": "stdout",
     "output_type": "stream",
     "text": [
      "working on gene WBGene00014017\n"
     ]
    },
    {
     "name": "stdout",
     "output_type": "stream",
     "text": [
      "working on gene WBGene00014176\n"
     ]
    },
    {
     "name": "stdout",
     "output_type": "stream",
     "text": [
      "working on gene WBGene00195048\n"
     ]
    },
    {
     "name": "stdout",
     "output_type": "stream",
     "text": [
      "working on gene WBGene00019720\n"
     ]
    },
    {
     "name": "stdout",
     "output_type": "stream",
     "text": [
      "working on gene WBGene00017054\n"
     ]
    },
    {
     "name": "stdout",
     "output_type": "stream",
     "text": [
      "working on gene WBGene00013382\n"
     ]
    },
    {
     "name": "stdout",
     "output_type": "stream",
     "text": [
      "working on gene WBGene00017661\n"
     ]
    },
    {
     "name": "stdout",
     "output_type": "stream",
     "text": [
      "working on gene WBGene00010178\n"
     ]
    },
    {
     "name": "stdout",
     "output_type": "stream",
     "text": [
      "working on gene WBGene00013352\n"
     ]
    },
    {
     "name": "stdout",
     "output_type": "stream",
     "text": [
      "working on gene WBGene00009842\n"
     ]
    },
    {
     "name": "stdout",
     "output_type": "stream",
     "text": [
      "working on gene WBGene00219564\n"
     ]
    },
    {
     "name": "stdout",
     "output_type": "stream",
     "text": [
      "working on gene WBGene00021692\n"
     ]
    },
    {
     "name": "stdout",
     "output_type": "stream",
     "text": [
      "working on gene WBGene00001115\nworking on gene WBGene00206530\n"
     ]
    },
    {
     "name": "stdout",
     "output_type": "stream",
     "text": [
      "working on gene WBGene00006793\n"
     ]
    },
    {
     "name": "stdout",
     "output_type": "stream",
     "text": [
      "working on gene WBGene00004513\n"
     ]
    },
    {
     "name": "stdout",
     "output_type": "stream",
     "text": [
      "working on gene WBGene00019586\n"
     ]
    },
    {
     "name": "stdout",
     "output_type": "stream",
     "text": [
      "working on gene WBGene00021850\n"
     ]
    },
    {
     "name": "stdout",
     "output_type": "stream",
     "text": [
      "working on gene WBGene00012384\n"
     ]
    },
    {
     "name": "stdout",
     "output_type": "stream",
     "text": [
      "working on gene WBGene00235319\n"
     ]
    },
    {
     "name": "stdout",
     "output_type": "stream",
     "text": [
      "working on gene WBGene00004389\n"
     ]
    },
    {
     "name": "stdout",
     "output_type": "stream",
     "text": [
      "working on gene WBGene00007640\n"
     ]
    },
    {
     "name": "stdout",
     "output_type": "stream",
     "text": [
      "working on gene WBGene00012476\n"
     ]
    },
    {
     "name": "stdout",
     "output_type": "stream",
     "text": [
      "working on gene WBGene00201669\n"
     ]
    },
    {
     "name": "stdout",
     "output_type": "stream",
     "text": [
      "working on gene WBGene00044639\n"
     ]
    },
    {
     "name": "stdout",
     "output_type": "stream",
     "text": [
      "working on gene WBGene00044360\n"
     ]
    },
    {
     "name": "stdout",
     "output_type": "stream",
     "text": [
      "working on gene WBGene00235269\n"
     ]
    },
    {
     "name": "stdout",
     "output_type": "stream",
     "text": [
      "working on gene WBGene00019333\n"
     ]
    },
    {
     "name": "stdout",
     "output_type": "stream",
     "text": [
      "working on gene WBGene00007136\n"
     ]
    },
    {
     "name": "stdout",
     "output_type": "stream",
     "text": [
      "working on gene WBGene00015734\n"
     ]
    },
    {
     "name": "stdout",
     "output_type": "stream",
     "text": [
      "working on gene WBGene00017054\n"
     ]
    },
    {
     "name": "stdout",
     "output_type": "stream",
     "text": [
      "working on gene WBGene00013382\n"
     ]
    },
    {
     "name": "stdout",
     "output_type": "stream",
     "text": [
      "working on gene WBGene00017190\n"
     ]
    },
    {
     "name": "stdout",
     "output_type": "stream",
     "text": [
      "working on gene WBGene00002020\n"
     ]
    },
    {
     "name": "stdout",
     "output_type": "stream",
     "text": [
      "working on gene WBGene00013352\n"
     ]
    },
    {
     "name": "stdout",
     "output_type": "stream",
     "text": [
      "working on gene WBGene00009027\n"
     ]
    },
    {
     "name": "stdout",
     "output_type": "stream",
     "text": [
      "working on gene WBGene00009842\n"
     ]
    },
    {
     "name": "stdout",
     "output_type": "stream",
     "text": [
      "working on gene WBGene00021692\n"
     ]
    },
    {
     "name": "stdout",
     "output_type": "stream",
     "text": [
      "working on gene WBGene00001115\n"
     ]
    },
    {
     "name": "stdout",
     "output_type": "stream",
     "text": [
      "working on gene WBGene00206530\n"
     ]
    },
    {
     "name": "stdout",
     "output_type": "stream",
     "text": [
      "working on gene WBGene00006793\n"
     ]
    },
    {
     "name": "stdout",
     "output_type": "stream",
     "text": [
      "working on gene WBGene00004513\n"
     ]
    },
    {
     "name": "stdout",
     "output_type": "stream",
     "text": [
      "working on gene WBGene00019586\n"
     ]
    },
    {
     "name": "stdout",
     "output_type": "stream",
     "text": [
      "working on gene WBGene00021850\n"
     ]
    },
    {
     "name": "stdout",
     "output_type": "stream",
     "text": [
      "working on gene WBGene00012384\n"
     ]
    },
    {
     "name": "stdout",
     "output_type": "stream",
     "text": [
      "working on gene WBGene00235319\n"
     ]
    },
    {
     "name": "stdout",
     "output_type": "stream",
     "text": [
      "working on gene WBGene00004389\n"
     ]
    },
    {
     "name": "stdout",
     "output_type": "stream",
     "text": [
      "working on gene WBGene00007640\n"
     ]
    },
    {
     "name": "stdout",
     "output_type": "stream",
     "text": [
      "working on gene WBGene00012476\n"
     ]
    },
    {
     "name": "stdout",
     "output_type": "stream",
     "text": [
      "working on gene WBGene00201669\n"
     ]
    },
    {
     "name": "stdout",
     "output_type": "stream",
     "text": [
      "working on gene WBGene00044639\n"
     ]
    },
    {
     "name": "stdout",
     "output_type": "stream",
     "text": [
      "working on gene WBGene00044360\n"
     ]
    },
    {
     "name": "stdout",
     "output_type": "stream",
     "text": [
      "working on gene WBGene00235269\n"
     ]
    },
    {
     "name": "stdout",
     "output_type": "stream",
     "text": [
      "working on gene WBGene00019333\n"
     ]
    },
    {
     "name": "stdout",
     "output_type": "stream",
     "text": [
      "working on gene WBGene00007136\n"
     ]
    },
    {
     "name": "stdout",
     "output_type": "stream",
     "text": [
      "working on gene WBGene00015734\n"
     ]
    },
    {
     "name": "stdout",
     "output_type": "stream",
     "text": [
      "working on gene WBGene00017054\n"
     ]
    },
    {
     "name": "stdout",
     "output_type": "stream",
     "text": [
      "working on gene WBGene00013382\n"
     ]
    },
    {
     "name": "stdout",
     "output_type": "stream",
     "text": [
      "working on gene WBGene00017190\n"
     ]
    },
    {
     "name": "stdout",
     "output_type": "stream",
     "text": [
      "working on gene WBGene00002020\n"
     ]
    },
    {
     "name": "stdout",
     "output_type": "stream",
     "text": [
      "working on gene WBGene00013352\n"
     ]
    },
    {
     "name": "stdout",
     "output_type": "stream",
     "text": [
      "working on gene WBGene00009027\n"
     ]
    },
    {
     "name": "stdout",
     "output_type": "stream",
     "text": [
      "working on gene WBGene00009842\n"
     ]
    },
    {
     "name": "stdout",
     "output_type": "stream",
     "text": [
      "working on gene WBGene00021692\n"
     ]
    },
    {
     "name": "stdout",
     "output_type": "stream",
     "text": [
      "working on gene WBGene00001115\n"
     ]
    },
    {
     "name": "stdout",
     "output_type": "stream",
     "text": [
      "working on gene WBGene00206530\n"
     ]
    },
    {
     "name": "stdout",
     "output_type": "stream",
     "text": [
      "working on gene WBGene00006793\n"
     ]
    },
    {
     "name": "stdout",
     "output_type": "stream",
     "text": [
      "working on gene WBGene00004513\n"
     ]
    },
    {
     "name": "stdout",
     "output_type": "stream",
     "text": [
      "working on gene WBGene00019586\n"
     ]
    },
    {
     "name": "stdout",
     "output_type": "stream",
     "text": [
      "working on gene WBGene00021850\n"
     ]
    },
    {
     "name": "stdout",
     "output_type": "stream",
     "text": [
      "working on gene WBGene00012384\n"
     ]
    },
    {
     "name": "stdout",
     "output_type": "stream",
     "text": [
      "working on gene WBGene00235319\n"
     ]
    },
    {
     "name": "stdout",
     "output_type": "stream",
     "text": [
      "working on gene WBGene00004389\n"
     ]
    },
    {
     "name": "stdout",
     "output_type": "stream",
     "text": [
      "working on gene WBGene00007640\n"
     ]
    },
    {
     "name": "stdout",
     "output_type": "stream",
     "text": [
      "working on gene WBGene00012476\n"
     ]
    },
    {
     "name": "stdout",
     "output_type": "stream",
     "text": [
      "working on gene WBGene00201669\n"
     ]
    },
    {
     "name": "stdout",
     "output_type": "stream",
     "text": [
      "working on gene WBGene00044639\n"
     ]
    },
    {
     "name": "stdout",
     "output_type": "stream",
     "text": [
      "working on gene WBGene00044360\n"
     ]
    },
    {
     "name": "stdout",
     "output_type": "stream",
     "text": [
      "working on gene WBGene00235269\n"
     ]
    },
    {
     "name": "stdout",
     "output_type": "stream",
     "text": [
      "working on gene WBGene00019333\n"
     ]
    },
    {
     "name": "stdout",
     "output_type": "stream",
     "text": [
      "working on gene WBGene00007136\n"
     ]
    },
    {
     "name": "stdout",
     "output_type": "stream",
     "text": [
      "working on gene WBGene00015734\n"
     ]
    },
    {
     "name": "stdout",
     "output_type": "stream",
     "text": [
      "working on gene WBGene00017054\n"
     ]
    },
    {
     "name": "stdout",
     "output_type": "stream",
     "text": [
      "working on gene WBGene00013382\n"
     ]
    },
    {
     "name": "stdout",
     "output_type": "stream",
     "text": [
      "working on gene WBGene00017190\n"
     ]
    },
    {
     "name": "stdout",
     "output_type": "stream",
     "text": [
      "working on gene WBGene00002020\n"
     ]
    },
    {
     "name": "stdout",
     "output_type": "stream",
     "text": [
      "working on gene WBGene00013352\n"
     ]
    },
    {
     "name": "stdout",
     "output_type": "stream",
     "text": [
      "working on gene WBGene00009027\n"
     ]
    },
    {
     "name": "stdout",
     "output_type": "stream",
     "text": [
      "working on gene WBGene00009842\n"
     ]
    },
    {
     "name": "stdout",
     "output_type": "stream",
     "text": [
      "working on gene WBGene00021692\n"
     ]
    },
    {
     "name": "stdout",
     "output_type": "stream",
     "text": [
      "working on gene WBGene00001115\n"
     ]
    },
    {
     "name": "stdout",
     "output_type": "stream",
     "text": [
      "working on gene WBGene00206530\nworking on gene WBGene00006793\n"
     ]
    },
    {
     "name": "stdout",
     "output_type": "stream",
     "text": [
      "working on gene WBGene00004513\nworking on gene WBGene00019586\n"
     ]
    },
    {
     "name": "stdout",
     "output_type": "stream",
     "text": [
      "working on gene WBGene00021850\n"
     ]
    },
    {
     "name": "stdout",
     "output_type": "stream",
     "text": [
      "working on gene WBGene00012384\n"
     ]
    },
    {
     "name": "stdout",
     "output_type": "stream",
     "text": [
      "working on gene WBGene00235319\n"
     ]
    },
    {
     "name": "stdout",
     "output_type": "stream",
     "text": [
      "working on gene WBGene00004389\n"
     ]
    },
    {
     "name": "stdout",
     "output_type": "stream",
     "text": [
      "working on gene WBGene00007640\n"
     ]
    },
    {
     "name": "stdout",
     "output_type": "stream",
     "text": [
      "working on gene WBGene00012476\n"
     ]
    },
    {
     "name": "stdout",
     "output_type": "stream",
     "text": [
      "working on gene WBGene00201669\n"
     ]
    },
    {
     "name": "stdout",
     "output_type": "stream",
     "text": [
      "working on gene WBGene00044639\n"
     ]
    },
    {
     "name": "stdout",
     "output_type": "stream",
     "text": [
      "working on gene WBGene00044360\n"
     ]
    },
    {
     "name": "stdout",
     "output_type": "stream",
     "text": [
      "working on gene WBGene00235269\n"
     ]
    },
    {
     "name": "stdout",
     "output_type": "stream",
     "text": [
      "working on gene WBGene00019333\n"
     ]
    },
    {
     "name": "stdout",
     "output_type": "stream",
     "text": [
      "working on gene WBGene00007136\n"
     ]
    },
    {
     "name": "stdout",
     "output_type": "stream",
     "text": [
      "working on gene WBGene00015734\n"
     ]
    },
    {
     "name": "stdout",
     "output_type": "stream",
     "text": [
      "working on gene WBGene00017054\n"
     ]
    },
    {
     "name": "stdout",
     "output_type": "stream",
     "text": [
      "working on gene WBGene00013382\n"
     ]
    },
    {
     "name": "stdout",
     "output_type": "stream",
     "text": [
      "working on gene WBGene00017190\n"
     ]
    },
    {
     "name": "stdout",
     "output_type": "stream",
     "text": [
      "working on gene WBGene00002020\n"
     ]
    },
    {
     "name": "stdout",
     "output_type": "stream",
     "text": [
      "working on gene WBGene00013352\n"
     ]
    },
    {
     "name": "stdout",
     "output_type": "stream",
     "text": [
      "working on gene WBGene00009027\n"
     ]
    },
    {
     "name": "stdout",
     "output_type": "stream",
     "text": [
      "working on gene WBGene00009842\n"
     ]
    }
   ],
   "source": [
    "df_hsADOG = addSequences(PATH2 + \"HS_combined_ADOG_Annotated.csv\",\"HS_combined_ADOG_Annotated_sequences.csv\")"
   ]
  },
  {
   "cell_type": "code",
   "execution_count": 89,
   "metadata": {},
   "outputs": [],
   "source": [
    "def writeFasta(df,name_out,length):\n",
    "    length = str(length)\n",
    "    df = pd.read_csv(df,sep=\"\\t\")\n",
    "    with open(name_out,\"w\") as outfile:\n",
    "        for row in range(len(df)):\n",
    "            print(\"Fuck u gonzales\")\n",
    "            outfile.write(\">\"+df[\"gene_id_name\"].iloc[row] + \"\\n\" + df['fasta_'+length+'_upstream'].iloc[row] + \"\\n\")\n",
    "        \n",
    "    \n",
    "    \n",
    "    \n",
    "    \n",
    "    \n",
    "    "
   ]
  },
  {
   "cell_type": "code",
   "execution_count": 90,
   "metadata": {
    "collapsed": true
   },
   "outputs": [
    {
     "name": "stdout",
     "output_type": "stream",
     "text": [
      "Fuck u gonzales\nFuck u gonzales\nFuck u gonzales\nFuck u gonzales\nFuck u gonzales\nFuck u gonzales\nFuck u gonzales\nFuck u gonzales\nFuck u gonzales\nFuck u gonzales\nFuck u gonzales\nFuck u gonzales\nFuck u gonzales\nFuck u gonzales\nFuck u gonzales\nFuck u gonzales\nFuck u gonzales\nFuck u gonzales\nFuck u gonzales\nFuck u gonzales\nFuck u gonzales\nFuck u gonzales\nFuck u gonzales\nFuck u gonzales\nFuck u gonzales\nFuck u gonzales\nFuck u gonzales\nFuck u gonzales\nFuck u gonzales\nFuck u gonzales\nFuck u gonzales\nFuck u gonzales\nFuck u gonzales\nFuck u gonzales\nFuck u gonzales\nFuck u gonzales\nFuck u gonzales\nFuck u gonzales\nFuck u gonzales\nFuck u gonzales\nFuck u gonzales\nFuck u gonzales\nFuck u gonzales\nFuck u gonzales\nFuck u gonzales\nFuck u gonzales\nFuck u gonzales\nFuck u gonzales\nFuck u gonzales\nFuck u gonzales\nFuck u gonzales\nFuck u gonzales\nFuck u gonzales\nFuck u gonzales\nFuck u gonzales\nFuck u gonzales\nFuck u gonzales\nFuck u gonzales\nFuck u gonzales\nFuck u gonzales\nFuck u gonzales\nFuck u gonzales\nFuck u gonzales\nFuck u gonzales\nFuck u gonzales\nFuck u gonzales\nFuck u gonzales\nFuck u gonzales\nFuck u gonzales\nFuck u gonzales\nFuck u gonzales\nFuck u gonzales\nFuck u gonzales\nFuck u gonzales\nFuck u gonzales\nFuck u gonzales\nFuck u gonzales\nFuck u gonzales\nFuck u gonzales\nFuck u gonzales\nFuck u gonzales\nFuck u gonzales\nFuck u gonzales\nFuck u gonzales\nFuck u gonzales\nFuck u gonzales\nFuck u gonzales\nFuck u gonzales\nFuck u gonzales\nFuck u gonzales\nFuck u gonzales\nFuck u gonzales\nFuck u gonzales\nFuck u gonzales\nFuck u gonzales\nFuck u gonzales\nFuck u gonzales\nFuck u gonzales\nFuck u gonzales\nFuck u gonzales\nFuck u gonzales\nFuck u gonzales\nFuck u gonzales\nFuck u gonzales\nFuck u gonzales\nFuck u gonzales\nFuck u gonzales\nFuck u gonzales\nFuck u gonzales\nFuck u gonzales\nFuck u gonzales\nFuck u gonzales\nFuck u gonzales\nFuck u gonzales\nFuck u gonzales\nFuck u gonzales\nFuck u gonzales\nFuck u gonzales\nFuck u gonzales\nFuck u gonzales\nFuck u gonzales\nFuck u gonzales\nFuck u gonzales\nFuck u gonzales\nFuck u gonzales\nFuck u gonzales\nFuck u gonzales\nFuck u gonzales\nFuck u gonzales\nFuck u gonzales\nFuck u gonzales\nFuck u gonzales\nFuck u gonzales\nFuck u gonzales\nFuck u gonzales\nFuck u gonzales\nFuck u gonzales\nFuck u gonzales\nFuck u gonzales\nFuck u gonzales\nFuck u gonzales\nFuck u gonzales\nFuck u gonzales\nFuck u gonzales\nFuck u gonzales\nFuck u gonzales\nFuck u gonzales\nFuck u gonzales\nFuck u gonzales\nFuck u gonzales\nFuck u gonzales\nFuck u gonzales\nFuck u gonzales\nFuck u gonzales\nFuck u gonzales\nFuck u gonzales\nFuck u gonzales\nFuck u gonzales\nFuck u gonzales\nFuck u gonzales\nFuck u gonzales\nFuck u gonzales\nFuck u gonzales\nFuck u gonzales\nFuck u gonzales\nFuck u gonzales\nFuck u gonzales\nFuck u gonzales\nFuck u gonzales\nFuck u gonzales\nFuck u gonzales\nFuck u gonzales\nFuck u gonzales\nFuck u gonzales\nFuck u gonzales\nFuck u gonzales\nFuck u gonzales\nFuck u gonzales\nFuck u gonzales\nFuck u gonzales\n"
     ]
    }
   ],
   "source": [
    "writeFasta(\"HS_combined_ADOG_Annotated_sequences.csv\",\"HS_combined_ADOG_Annotated_sequences_500.fa\",500)\n"
   ]
  },
  {
   "cell_type": "code",
   "execution_count": null,
   "metadata": {},
   "outputs": [],
   "source": []
  }
 ],
 "metadata": {
  "kernelspec": {
   "display_name": "Python 2",
   "language": "python",
   "name": "python2"
  },
  "language_info": {
   "codemirror_mode": {
    "name": "ipython",
    "version": 2
   },
   "file_extension": ".py",
   "mimetype": "text/x-python",
   "name": "python",
   "nbconvert_exporter": "python",
   "pygments_lexer": "ipython2",
   "version": "2.7.6"
  }
 },
 "nbformat": 4,
 "nbformat_minor": 0
}
