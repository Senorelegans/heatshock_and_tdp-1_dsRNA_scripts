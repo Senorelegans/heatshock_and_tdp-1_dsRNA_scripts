{
 "cells": [
  {
   "cell_type": "code",
   "execution_count": null,
   "metadata": {
    "collapsed": true
   },
   "outputs": [],
   "source": [
    "from Bio.Seq import Seq\n",
    "from Bio import SeqIO\n",
    "from Bio.SeqFeature import SeqFeature, FeatureLocation\n",
    "import os\n",
    "import pandas as pd\n",
    "import random\n",
    "import csv\n",
    "\n",
    "\n",
    "\n",
    "gtf = \"c_elegans.PRJNA13758.WS258.canonical_geneset_plu_NO_inside_genes_same_strand.gtf\"\n",
    "\n"
   ]
  },
  {
   "cell_type": "code",
   "execution_count": 11,
   "metadata": {
    "collapsed": true
   },
   "outputs": [
    {
     "name": "stdout",
     "output_type": "stream",
     "text": [
      "    chr    source  type  start    end dot strand dot2  \\\n136  IV  WormBase  gene    695  14926   .      +    .   \n176  IV  WormBase  gene   8765  11070   .      -    .   \n190  IV  WormBase  gene  15499  20899   .      -    .   \n218  IV  WormBase  gene  21493  23198   .      +    .   \n236  IV  WormBase  gene  24683  26388   .      -    .   \n\n                                               gene_id  length  \n136  gene_id \"WBGene00021406\"; gene_source \"WormBas...   14231  \n176  gene_id \"WBGene00021407\"; gene_source \"WormBas...    2305  \n190  gene_id \"WBGene00021408\"; gene_source \"WormBas...    5400  \n218  gene_id \"WBGene00021405\"; gene_source \"WormBas...    1705  \n236  gene_id \"WBGene00021409\"; gene_source \"WormBas...    1705  \n"
     ]
    }
   ],
   "source": [
    "my_col = [\"chr\",\"source\",\"type\",\"start\",\"end\",\"dot\",\"strand\",\"dot2\",\"gene_id\"]\n",
    "df_gtf = pd.read_csv(gtf, sep=\"\\t\",header=None,names=my_col, comment=\"#\", dtype={\"chr\" : str, \"source\" : str,\"type\" : str, \"start\" : int,\"end\" : int,\"dot\" : str,\"strand\" : str, \"dot2\" : str,\"gene_id\" : str})\n",
    "df_gtf = df_gtf[~df_gtf[\"chr\"].str.contains(\"\\.\") ]    # Take out patches\n",
    "df_gtf = df_gtf[df_gtf[\"chr\"].str.contains(\"IV\") ]    # Take out patches\n",
    "df_gtf = df_gtf[df_gtf.type.str.contains(\"gene\")]      # Keep everything that says gene\n",
    "\n",
    "df_gtf[\"length\"] = df_gtf[\"end\"] - df_gtf[\"start\"]\n",
    "df_gtf = df_gtf.dropna()\n",
    "chr_names=df_gtf['chr'].unique().tolist()\n",
    "\n",
    "print(df_gtf.head())\n"
   ]
  },
  {
   "cell_type": "code",
   "execution_count": 12,
   "metadata": {
    "collapsed": true
   },
   "outputs": [
    {
     "name": "stdout",
     "output_type": "stream",
     "text": [
      "     chr    source  type   start     end dot strand dot2  \\\n393   IV  WormBase  gene   41471   41620   .      +    .   \n428   IV  WormBase  gene   66982   67052   .      +    .   \n443   IV  WormBase  gene   80152   80203   .      +    .   \n1384  IV  WormBase  gene  146729  146845   .      +    .   \n1439  IV  WormBase  gene  165077  169980   .      +    .   \n\n                                                gene_id  length  \\\n393   gene_id \"WBGene00195502\"; gene_source \"WormBas...     149   \n428   gene_id \"WBGene00023131\"; gene_source \"WormBas...      70   \n443   gene_id \"WBGene00201447\"; gene_source \"WormBas...      51   \n1384  gene_id \"WBGene00197291\"; gene_source \"WormBas...     116   \n1439  gene_id \"WBGene00021396\"; gene_source \"WormBas...    4903   \n\n      next_gene_start  next_gene_start-end  random_intergenic_start  \\\n393           53401.0              11781.0                    42474   \n428           76370.0               9318.0                    67985   \n443           86890.0               6687.0                    81155   \n1384         152656.0               5811.0                   147732   \n1439         175725.0               5745.0                   166080   \n\n      random_intergenic_end_500  random_intergenic_end_1000  \\\n393                       42974                       43474   \n428                       68485                       68985   \n443                       81655                       82155   \n1384                     148232                      148732   \n1439                     166580                      167080   \n\n      random_intergenic_end_1500  \n393                        43974  \n428                        69485  \n443                        82655  \n1384                      149232  \n1439                      167580  \n"
     ]
    }
   ],
   "source": [
    "df_gtf = df_gtf.sort_values(\"start\")\n",
    "df_gtf[\"next_gene_start\"] = df_gtf[\"start\"].shift(-1)\n",
    "df_gtf[\"next_gene_start-end\"] = df_gtf[\"next_gene_start\"] - df_gtf[\"end\"]\n",
    "df_gtf_3kb = df_gtf[df_gtf[\"next_gene_start-end\"]>5000].copy() #Make sure over 5000 in intergenic space\n",
    "\n",
    "\n",
    "df_gtf_3kb[\"random_intergenic_start\"] = df_gtf_3kb[\"start\"] + 1000 + random.randint(1,2000)  #Add 1000bp buffer, draw random 1-200\n",
    "df_gtf_3kb[\"random_intergenic_end_500\"] = df_gtf_3kb[\"random_intergenic_start\"] + 500\n",
    "df_gtf_3kb[\"random_intergenic_end_1000\"] = df_gtf_3kb[\"random_intergenic_start\"] + 1000\n",
    "df_gtf_3kb[\"random_intergenic_end_1500\"] = df_gtf_3kb[\"random_intergenic_start\"] + 1500\n",
    "print(df_gtf_3kb.head())\n",
    "\n",
    "df_gtf_3kb = df_gtf_3kb.head(1000)"
   ]
  },
  {
   "cell_type": "code",
   "execution_count": 18,
   "metadata": {},
   "outputs": [],
   "source": [
    "def append_fasta_to_df(fa,name,chr,strand,start,end):\n",
    "    fa = SeqIO.parse(fa, \"fasta\")\n",
    "    print(\"working on gene\", name)\n",
    "    #print(name)\n",
    "    #print(chr)\n",
    "    for record in fa:\n",
    "        \n",
    "        if record.id == chr:\n",
    "            seq = (record.seq)[start:end]\n",
    "            if strand == \"-\":\n",
    "                seq = seq.reverse_complement()\n",
    "            return seq\n",
    "        \n",
    "            #print(seq)     \n",
    "          "
   ]
  },
  {
   "cell_type": "code",
   "execution_count": 20,
   "metadata": {
    "collapsed": true
   },
   "outputs": [
    {
     "name": "stdout",
     "output_type": "stream",
     "text": [
      "working on gene gene_id \"WBGene00195502\"; gene_source \"WormBase\"; gene_biotype \"ncRNA\";\n"
     ]
    },
    {
     "name": "stdout",
     "output_type": "stream",
     "text": [
      "working on gene gene_id \"WBGene00023131\"; gene_source \"WormBase\"; gene_biotype \"tRNA\";\n"
     ]
    },
    {
     "name": "stdout",
     "output_type": "stream",
     "text": [
      "working on gene gene_id \"WBGene00201447\"; gene_source \"WormBase\"; gene_biotype \"ncRNA\";\n"
     ]
    },
    {
     "name": "stdout",
     "output_type": "stream",
     "text": [
      "working on gene gene_id \"WBGene00197291\"; gene_source \"WormBase\"; gene_biotype \"ncRNA\";\n"
     ]
    },
    {
     "name": "stdout",
     "output_type": "stream",
     "text": [
      "working on gene gene_id \"WBGene00021396\"; gene_source \"WormBase\"; gene_biotype \"protein_coding\";\n"
     ]
    },
    {
     "name": "stdout",
     "output_type": "stream",
     "text": [
      "working on gene gene_id \"WBGene00019298\"; gene_source \"WormBase\"; gene_biotype \"protein_coding\";\n"
     ]
    },
    {
     "name": "stdout",
     "output_type": "stream",
     "text": [
      "working on gene gene_id \"WBGene00197593\"; gene_source \"WormBase\"; gene_biotype \"ncRNA\";\n"
     ]
    },
    {
     "name": "stdout",
     "output_type": "stream",
     "text": [
      "working on gene gene_id \"WBGene00220192\"; gene_source \"WormBase\"; gene_biotype \"snoRNA\";\n"
     ]
    },
    {
     "name": "stdout",
     "output_type": "stream",
     "text": [
      "working on gene gene_id \"WBGene00220031\"; gene_source \"WormBase\"; gene_biotype \"ncRNA\";\n"
     ]
    },
    {
     "name": "stdout",
     "output_type": "stream",
     "text": [
      "working on gene gene_id \"WBGene00001625\"; gene_source \"WormBase\"; gene_biotype \"protein_coding\";\n"
     ]
    },
    {
     "name": "stdout",
     "output_type": "stream",
     "text": [
      "working on gene gene_id \"WBGene00015497\"; gene_source \"WormBase\"; gene_biotype \"protein_coding\";\n"
     ]
    },
    {
     "name": "stdout",
     "output_type": "stream",
     "text": [
      "working on gene gene_id \"WBGene00023106\"; gene_source \"WormBase\"; gene_biotype \"tRNA\";\n"
     ]
    },
    {
     "name": "stdout",
     "output_type": "stream",
     "text": [
      "working on gene gene_id \"WBGene00021950\"; gene_source \"WormBase\"; gene_biotype \"protein_coding\";\n"
     ]
    },
    {
     "name": "stdout",
     "output_type": "stream",
     "text": [
      "working on gene gene_id \"WBGene00168241\"; gene_source \"WormBase\"; gene_biotype \"piRNA\";\n"
     ]
    },
    {
     "name": "stdout",
     "output_type": "stream",
     "text": [
      "working on gene gene_id \"WBGene00196878\"; gene_source \"WormBase\"; gene_biotype \"ncRNA\";\n"
     ]
    },
    {
     "name": "stdout",
     "output_type": "stream",
     "text": [
      "working on gene gene_id \"WBGene00201671\"; gene_source \"WormBase\"; gene_biotype \"ncRNA\";\n"
     ]
    },
    {
     "name": "stdout",
     "output_type": "stream",
     "text": [
      "working on gene gene_id \"WBGene00196058\"; gene_source \"WormBase\"; gene_biotype \"ncRNA\";\n"
     ]
    },
    {
     "name": "stdout",
     "output_type": "stream",
     "text": [
      "working on gene gene_id \"WBGene00019072\"; gene_source \"WormBase\"; gene_biotype \"protein_coding\";\n"
     ]
    },
    {
     "name": "stdout",
     "output_type": "stream",
     "text": [
      "working on gene gene_id \"WBGene00019068\"; gene_source \"WormBase\"; gene_biotype \"protein_coding\";\n"
     ]
    },
    {
     "name": "stdout",
     "output_type": "stream",
     "text": [
      "working on gene gene_id \"WBGene00220181\"; gene_source \"WormBase\"; gene_biotype \"snoRNA\";\n"
     ]
    },
    {
     "name": "stdout",
     "output_type": "stream",
     "text": [
      "working on gene gene_id \"WBGene00021931\"; gene_source \"WormBase\"; gene_biotype \"protein_coding\";\n"
     ]
    },
    {
     "name": "stdout",
     "output_type": "stream",
     "text": [
      "working on gene gene_id \"WBGene00202064\"; gene_source \"WormBase\"; gene_biotype \"ncRNA\";\n"
     ]
    },
    {
     "name": "stdout",
     "output_type": "stream",
     "text": [
      "working on gene gene_id \"WBGene00016639\"; gene_source \"WormBase\"; gene_biotype \"protein_coding\";\n"
     ]
    },
    {
     "name": "stdout",
     "output_type": "stream",
     "text": [
      "working on gene gene_id \"WBGene00023257\"; gene_source \"WormBase\"; gene_biotype \"pseudogene\";\n"
     ]
    },
    {
     "name": "stdout",
     "output_type": "stream",
     "text": [
      "working on gene gene_id \"WBGene00219437\"; gene_source \"WormBase\"; gene_biotype \"protein_coding\";\n"
     ]
    },
    {
     "name": "stdout",
     "output_type": "stream",
     "text": [
      "working on gene gene_id \"WBGene00196976\"; gene_source \"WormBase\"; gene_biotype \"ncRNA\";\n"
     ]
    },
    {
     "name": "stdout",
     "output_type": "stream",
     "text": [
      "working on gene gene_id \"WBGene00001103\"; gene_source \"WormBase\"; gene_biotype \"protein_coding\";\n"
     ]
    },
    {
     "name": "stdout",
     "output_type": "stream",
     "text": [
      "working on gene gene_id \"WBGene00007476\"; gene_source \"WormBase\"; gene_biotype \"protein_coding\";\n"
     ]
    },
    {
     "name": "stdout",
     "output_type": "stream",
     "text": [
      "working on gene gene_id \"WBGene00023305\"; gene_source \"WormBase\"; gene_biotype \"pseudogene\";\n"
     ]
    },
    {
     "name": "stdout",
     "output_type": "stream",
     "text": [
      "working on gene gene_id \"WBGene00019052\"; gene_source \"WormBase\"; gene_biotype \"protein_coding\";\n"
     ]
    },
    {
     "name": "stdout",
     "output_type": "stream",
     "text": [
      "working on gene gene_id \"WBGene00023202\"; gene_source \"WormBase\"; gene_biotype \"tRNA\";\n"
     ]
    },
    {
     "name": "stdout",
     "output_type": "stream",
     "text": [
      "working on gene gene_id \"WBGene00199927\"; gene_source \"WormBase\"; gene_biotype \"ncRNA\";\n"
     ]
    },
    {
     "name": "stdout",
     "output_type": "stream",
     "text": [
      "working on gene gene_id \"WBGene00022308\"; gene_source \"WormBase\"; gene_biotype \"protein_coding\";\n"
     ]
    },
    {
     "name": "stdout",
     "output_type": "stream",
     "text": [
      "working on gene gene_id \"WBGene00220213\"; gene_source \"WormBase\"; gene_biotype \"snoRNA\";\n"
     ]
    },
    {
     "name": "stdout",
     "output_type": "stream",
     "text": [
      "working on gene gene_id \"WBGene00023394\"; gene_source \"WormBase\"; gene_biotype \"pseudogene\";\n"
     ]
    },
    {
     "name": "stdout",
     "output_type": "stream",
     "text": [
      "working on gene gene_id \"WBGene00195474\"; gene_source \"WormBase\"; gene_biotype \"ncRNA\";\n"
     ]
    },
    {
     "name": "stdout",
     "output_type": "stream",
     "text": [
      "working on gene gene_id \"WBGene00220152\"; gene_source \"WormBase\"; gene_biotype \"ncRNA\";\n"
     ]
    },
    {
     "name": "stdout",
     "output_type": "stream",
     "text": [
      "working on gene gene_id \"WBGene00021516\"; gene_source \"WormBase\"; gene_biotype \"protein_coding\";\n"
     ]
    },
    {
     "name": "stdout",
     "output_type": "stream",
     "text": [
      "working on gene gene_id \"WBGene00220154\"; gene_source \"WormBase\"; gene_biotype \"ncRNA\";\n"
     ]
    },
    {
     "name": "stdout",
     "output_type": "stream",
     "text": [
      "working on gene gene_id \"WBGene00200640\"; gene_source \"WormBase\"; gene_biotype \"ncRNA\";\n"
     ]
    },
    {
     "name": "stdout",
     "output_type": "stream",
     "text": [
      "working on gene gene_id \"WBGene00197111\"; gene_source \"WormBase\"; gene_biotype \"ncRNA\";\n"
     ]
    },
    {
     "name": "stdout",
     "output_type": "stream",
     "text": [
      "working on gene gene_id \"WBGene00019536\"; gene_source \"WormBase\"; gene_biotype \"protein_coding\";\n"
     ]
    },
    {
     "name": "stdout",
     "output_type": "stream",
     "text": [
      "working on gene gene_id \"WBGene00021505\"; gene_source \"WormBase\"; gene_biotype \"protein_coding\";\n"
     ]
    },
    {
     "name": "stdout",
     "output_type": "stream",
     "text": [
      "working on gene gene_id \"WBGene00021510\"; gene_source \"WormBase\"; gene_biotype \"protein_coding\";\n"
     ]
    },
    {
     "name": "stdout",
     "output_type": "stream",
     "text": [
      "working on gene gene_id \"WBGene00198094\"; gene_source \"WormBase\"; gene_biotype \"ncRNA\";\n"
     ]
    },
    {
     "name": "stdout",
     "output_type": "stream",
     "text": [
      "working on gene gene_id \"WBGene00198204\"; gene_source \"WormBase\"; gene_biotype \"ncRNA\";\n"
     ]
    },
    {
     "name": "stdout",
     "output_type": "stream",
     "text": [
      "working on gene gene_id \"WBGene00001173\"; gene_source \"WormBase\"; gene_biotype \"protein_coding\";\n"
     ]
    },
    {
     "name": "stdout",
     "output_type": "stream",
     "text": [
      "working on gene gene_id \"WBGene00196527\"; gene_source \"WormBase\"; gene_biotype \"ncRNA\";\n"
     ]
    },
    {
     "name": "stdout",
     "output_type": "stream",
     "text": [
      "working on gene gene_id \"WBGene00201141\"; gene_source \"WormBase\"; gene_biotype \"ncRNA\";\n"
     ]
    },
    {
     "name": "stdout",
     "output_type": "stream",
     "text": [
      "working on gene gene_id \"WBGene00019874\"; gene_source \"WormBase\"; gene_biotype \"protein_coding\";\n"
     ]
    },
    {
     "name": "stdout",
     "output_type": "stream",
     "text": [
      "working on gene gene_id \"WBGene00019873\"; gene_source \"WormBase\"; gene_biotype \"protein_coding\";\n"
     ]
    },
    {
     "name": "stdout",
     "output_type": "stream",
     "text": [
      "working on gene gene_id \"WBGene00235274\"; gene_source \"WormBase\"; gene_biotype \"protein_coding\";\n"
     ]
    },
    {
     "name": "stdout",
     "output_type": "stream",
     "text": [
      "working on gene gene_id \"WBGene00016919\"; gene_source \"WormBase\"; gene_biotype \"protein_coding\";\n"
     ]
    },
    {
     "name": "stdout",
     "output_type": "stream",
     "text": [
      "working on gene gene_id \"WBGene00044650\"; gene_source \"WormBase\"; gene_biotype \"protein_coding\";\n"
     ]
    },
    {
     "name": "stdout",
     "output_type": "stream",
     "text": [
      "working on gene gene_id \"WBGene00235277\"; gene_source \"WormBase\"; gene_biotype \"protein_coding\";\n"
     ]
    },
    {
     "name": "stdout",
     "output_type": "stream",
     "text": [
      "working on gene gene_id \"WBGene00202285\"; gene_source \"WormBase\"; gene_biotype \"ncRNA\";\n"
     ]
    },
    {
     "name": "stdout",
     "output_type": "stream",
     "text": [
      "working on gene gene_id \"WBGene00165356\"; gene_source \"WormBase\"; gene_biotype \"piRNA\";\n"
     ]
    },
    {
     "name": "stdout",
     "output_type": "stream",
     "text": [
      "working on gene gene_id \"WBGene00023467\"; gene_source \"WormBase\"; gene_biotype \"snoRNA\";\n"
     ]
    },
    {
     "name": "stdout",
     "output_type": "stream",
     "text": [
      "working on gene gene_id \"WBGene00235340\"; gene_source \"WormBase\"; gene_biotype \"protein_coding\";\n"
     ]
    },
    {
     "name": "stdout",
     "output_type": "stream",
     "text": [
      "working on gene gene_id \"WBGene00016668\"; gene_source \"WormBase\"; gene_biotype \"protein_coding\";\n"
     ]
    },
    {
     "name": "stdout",
     "output_type": "stream",
     "text": [
      "working on gene gene_id \"WBGene00022093\"; gene_source \"WormBase\"; gene_biotype \"protein_coding\";\n"
     ]
    },
    {
     "name": "stdout",
     "output_type": "stream",
     "text": [
      "working on gene gene_id \"WBGene00198527\"; gene_source \"WormBase\"; gene_biotype \"ncRNA\";\n"
     ]
    },
    {
     "name": "stdout",
     "output_type": "stream",
     "text": [
      "working on gene gene_id \"WBGene00235343\"; gene_source \"WormBase\"; gene_biotype \"protein_coding\";\n"
     ]
    },
    {
     "name": "stdout",
     "output_type": "stream",
     "text": [
      "working on gene gene_id \"WBGene00003595\"; gene_source \"WormBase\"; gene_biotype \"protein_coding\";\n"
     ]
    },
    {
     "name": "stdout",
     "output_type": "stream",
     "text": [
      "working on gene gene_id \"WBGene00023389\"; gene_source \"WormBase\"; gene_biotype \"pseudogene\";\n"
     ]
    },
    {
     "name": "stdout",
     "output_type": "stream",
     "text": [
      "working on gene gene_id \"WBGene00198581\"; gene_source \"WormBase\"; gene_biotype \"ncRNA\";\n"
     ]
    },
    {
     "name": "stdout",
     "output_type": "stream",
     "text": [
      "working on gene gene_id \"WBGene00044485\"; gene_source \"WormBase\"; gene_biotype \"protein_coding\";\n"
     ]
    },
    {
     "name": "stdout",
     "output_type": "stream",
     "text": [
      "working on gene gene_id \"WBGene00021876\"; gene_source \"WormBase\"; gene_biotype \"protein_coding\";\n"
     ]
    },
    {
     "name": "stdout",
     "output_type": "stream",
     "text": [
      "working on gene gene_id \"WBGene00169683\"; gene_source \"WormBase\"; gene_biotype \"piRNA\";\n"
     ]
    },
    {
     "name": "stdout",
     "output_type": "stream",
     "text": [
      "working on gene gene_id \"WBGene00021881\"; gene_source \"WormBase\"; gene_biotype \"protein_coding\";\n"
     ]
    },
    {
     "name": "stdout",
     "output_type": "stream",
     "text": [
      "working on gene gene_id \"WBGene00021889\"; gene_source \"WormBase\"; gene_biotype \"pseudogene\";\n"
     ]
    },
    {
     "name": "stdout",
     "output_type": "stream",
     "text": [
      "working on gene gene_id \"WBGene00189961\"; gene_source \"WormBase\"; gene_biotype \"protein_coding\";\n"
     ]
    },
    {
     "name": "stdout",
     "output_type": "stream",
     "text": [
      "working on gene gene_id \"WBGene00198012\"; gene_source \"WormBase\"; gene_biotype \"ncRNA\";\n"
     ]
    },
    {
     "name": "stdout",
     "output_type": "stream",
     "text": [
      "working on gene gene_id \"WBGene00198247\"; gene_source \"WormBase\"; gene_biotype \"ncRNA\";\n"
     ]
    },
    {
     "name": "stdout",
     "output_type": "stream",
     "text": [
      "working on gene gene_id \"WBGene00023187\"; gene_source \"WormBase\"; gene_biotype \"ncRNA\";\n"
     ]
    },
    {
     "name": "stdout",
     "output_type": "stream",
     "text": [
      "working on gene gene_id \"WBGene00020728\"; gene_source \"WormBase\"; gene_biotype \"protein_coding\";\n"
     ]
    },
    {
     "name": "stdout",
     "output_type": "stream",
     "text": [
      "working on gene gene_id \"WBGene00022063\"; gene_source \"WormBase\"; gene_biotype \"protein_coding\";\n"
     ]
    },
    {
     "name": "stdout",
     "output_type": "stream",
     "text": [
      "working on gene gene_id \"WBGene00022062\"; gene_source \"WormBase\"; gene_biotype \"protein_coding\";\n"
     ]
    },
    {
     "name": "stdout",
     "output_type": "stream",
     "text": [
      "working on gene gene_id \"WBGene00197023\"; gene_source \"WormBase\"; gene_biotype \"ncRNA\";\n"
     ]
    },
    {
     "name": "stdout",
     "output_type": "stream",
     "text": [
      "working on gene gene_id \"WBGene00020833\"; gene_source \"WormBase\"; gene_biotype \"protein_coding\";\n"
     ]
    },
    {
     "name": "stdout",
     "output_type": "stream",
     "text": [
      "working on gene gene_id \"WBGene00196782\"; gene_source \"WormBase\"; gene_biotype \"ncRNA\";\n"
     ]
    },
    {
     "name": "stdout",
     "output_type": "stream",
     "text": [
      "working on gene gene_id \"WBGene00021082\"; gene_source \"WormBase\"; gene_biotype \"protein_coding\";\n"
     ]
    },
    {
     "name": "stdout",
     "output_type": "stream",
     "text": [
      "working on gene gene_id \"WBGene00166372\"; gene_source \"WormBase\"; gene_biotype \"piRNA\";\n"
     ]
    },
    {
     "name": "stdout",
     "output_type": "stream",
     "text": [
      "working on gene gene_id \"WBGene00195284\"; gene_source \"WormBase\"; gene_biotype \"ncRNA\";\n"
     ]
    },
    {
     "name": "stdout",
     "output_type": "stream",
     "text": [
      "working on gene gene_id \"WBGene00015413\"; gene_source \"WormBase\"; gene_biotype \"protein_coding\";\n"
     ]
    },
    {
     "name": "stdout",
     "output_type": "stream",
     "text": [
      "working on gene gene_id \"WBGene00022894\"; gene_source \"WormBase\"; gene_biotype \"tRNA\";\n"
     ]
    },
    {
     "name": "stdout",
     "output_type": "stream",
     "text": [
      "working on gene gene_id \"WBGene00006756\"; gene_source \"WormBase\"; gene_biotype \"protein_coding\";\n"
     ]
    },
    {
     "name": "stdout",
     "output_type": "stream",
     "text": [
      "working on gene gene_id \"WBGene00016987\"; gene_source \"WormBase\"; gene_biotype \"protein_coding\";\n"
     ]
    },
    {
     "name": "stdout",
     "output_type": "stream",
     "text": [
      "working on gene gene_id \"WBGene00021360\"; gene_source \"WormBase\"; gene_biotype \"pseudogene\";\n"
     ]
    },
    {
     "name": "stdout",
     "output_type": "stream",
     "text": [
      "working on gene gene_id \"WBGene00198320\"; gene_source \"WormBase\"; gene_biotype \"ncRNA\";\n"
     ]
    },
    {
     "name": "stdout",
     "output_type": "stream",
     "text": [
      "working on gene gene_id \"WBGene00195010\"; gene_source \"WormBase\"; gene_biotype \"protein_coding\";\n"
     ]
    },
    {
     "name": "stdout",
     "output_type": "stream",
     "text": [
      "working on gene gene_id \"WBGene00006869\"; gene_source \"WormBase\"; gene_biotype \"protein_coding\";\n"
     ]
    },
    {
     "name": "stdout",
     "output_type": "stream",
     "text": [
      "working on gene gene_id \"WBGene00198903\"; gene_source \"WormBase\"; gene_biotype \"ncRNA\";\n"
     ]
    },
    {
     "name": "stdout",
     "output_type": "stream",
     "text": [
      "working on gene gene_id \"WBGene00019726\"; gene_source \"WormBase\"; gene_biotype \"protein_coding\";\n"
     ]
    },
    {
     "name": "stdout",
     "output_type": "stream",
     "text": [
      "working on gene gene_id \"WBGene00198784\"; gene_source \"WormBase\"; gene_biotype \"ncRNA\";\n"
     ]
    },
    {
     "name": "stdout",
     "output_type": "stream",
     "text": [
      "working on gene gene_id \"WBGene00021583\"; gene_source \"WormBase\"; gene_biotype \"protein_coding\";\n"
     ]
    },
    {
     "name": "stdout",
     "output_type": "stream",
     "text": [
      "working on gene gene_id \"WBGene00005433\"; gene_source \"WormBase\"; gene_biotype \"protein_coding\";\n"
     ]
    },
    {
     "name": "stdout",
     "output_type": "stream",
     "text": [
      "working on gene gene_id \"WBGene00018551\"; gene_source \"WormBase\"; gene_biotype \"protein_coding\";\n"
     ]
    },
    {
     "name": "stdout",
     "output_type": "stream",
     "text": [
      "working on gene gene_id \"WBGene00020929\"; gene_source \"WormBase\"; gene_biotype \"protein_coding\";\n"
     ]
    },
    {
     "name": "stdout",
     "output_type": "stream",
     "text": [
      "working on gene gene_id \"WBGene00220113\"; gene_source \"WormBase\"; gene_biotype \"ncRNA\";\n"
     ]
    },
    {
     "name": "stdout",
     "output_type": "stream",
     "text": [
      "working on gene gene_id \"WBGene00219934\"; gene_source \"WormBase\"; gene_biotype \"ncRNA\";\n"
     ]
    },
    {
     "name": "stdout",
     "output_type": "stream",
     "text": [
      "working on gene gene_id \"WBGene00019535\"; gene_source \"WormBase\"; gene_biotype \"protein_coding\";\n"
     ]
    },
    {
     "name": "stdout",
     "output_type": "stream",
     "text": [
      "working on gene gene_id \"WBGene00017484\"; gene_source \"WormBase\"; gene_biotype \"protein_coding\";\n"
     ]
    },
    {
     "name": "stdout",
     "output_type": "stream",
     "text": [
      "working on gene gene_id \"WBGene00021285\"; gene_source \"WormBase\"; gene_biotype \"protein_coding\";\n"
     ]
    },
    {
     "name": "stdout",
     "output_type": "stream",
     "text": [
      "working on gene gene_id \"WBGene00220137\"; gene_source \"WormBase\"; gene_biotype \"ncRNA\";\n"
     ]
    },
    {
     "name": "stdout",
     "output_type": "stream",
     "text": [
      "working on gene gene_id \"WBGene00195363\"; gene_source \"WormBase\"; gene_biotype \"ncRNA\";\n"
     ]
    },
    {
     "name": "stdout",
     "output_type": "stream",
     "text": [
      "working on gene gene_id \"WBGene00045248\"; gene_source \"WormBase\"; gene_biotype \"protein_coding\";\n"
     ]
    },
    {
     "name": "stdout",
     "output_type": "stream",
     "text": [
      "working on gene gene_id \"WBGene00022681\"; gene_source \"WormBase\"; gene_biotype \"protein_coding\";\n"
     ]
    },
    {
     "name": "stdout",
     "output_type": "stream",
     "text": [
      "working on gene gene_id \"WBGene00200207\"; gene_source \"WormBase\"; gene_biotype \"ncRNA\";\n"
     ]
    },
    {
     "name": "stdout",
     "output_type": "stream",
     "text": [
      "working on gene gene_id \"WBGene00235120\"; gene_source \"WormBase\"; gene_biotype \"protein_coding\";\n"
     ]
    },
    {
     "name": "stdout",
     "output_type": "stream",
     "text": [
      "working on gene gene_id \"WBGene00019544\"; gene_source \"WormBase\"; gene_biotype \"protein_coding\";\n"
     ]
    },
    {
     "name": "stdout",
     "output_type": "stream",
     "text": [
      "working on gene gene_id \"WBGene00174596\"; gene_source \"WormBase\"; gene_biotype \"piRNA\";\n"
     ]
    },
    {
     "name": "stdout",
     "output_type": "stream",
     "text": [
      "working on gene gene_id \"WBGene00167692\"; gene_source \"WormBase\"; gene_biotype \"piRNA\";\n"
     ]
    },
    {
     "name": "stdout",
     "output_type": "stream",
     "text": [
      "working on gene gene_id \"WBGene00201766\"; gene_source \"WormBase\"; gene_biotype \"ncRNA\";\n"
     ]
    },
    {
     "name": "stdout",
     "output_type": "stream",
     "text": [
      "working on gene gene_id \"WBGene00173470\"; gene_source \"WormBase\"; gene_biotype \"piRNA\";\n"
     ]
    },
    {
     "name": "stdout",
     "output_type": "stream",
     "text": [
      "working on gene gene_id \"WBGene00235289\"; gene_source \"WormBase\"; gene_biotype \"protein_coding\";\n"
     ]
    },
    {
     "name": "stdout",
     "output_type": "stream",
     "text": [
      "working on gene gene_id \"WBGene00198597\"; gene_source \"WormBase\"; gene_biotype \"ncRNA\";\n"
     ]
    },
    {
     "name": "stdout",
     "output_type": "stream",
     "text": [
      "working on gene gene_id \"WBGene00220203\"; gene_source \"WormBase\"; gene_biotype \"snoRNA\";\n"
     ]
    },
    {
     "name": "stdout",
     "output_type": "stream",
     "text": [
      "working on gene gene_id \"WBGene00169358\"; gene_source \"WormBase\"; gene_biotype \"piRNA\";\n"
     ]
    },
    {
     "name": "stdout",
     "output_type": "stream",
     "text": [
      "working on gene gene_id \"WBGene00044503\"; gene_source \"WormBase\"; gene_biotype \"pseudogene\";\n"
     ]
    },
    {
     "name": "stdout",
     "output_type": "stream",
     "text": [
      "working on gene gene_id \"WBGene00167250\"; gene_source \"WormBase\"; gene_biotype \"piRNA\";\n"
     ]
    },
    {
     "name": "stdout",
     "output_type": "stream",
     "text": [
      "working on gene gene_id \"WBGene00168737\"; gene_source \"WormBase\"; gene_biotype \"piRNA\";\n"
     ]
    },
    {
     "name": "stdout",
     "output_type": "stream",
     "text": [
      "working on gene gene_id \"WBGene00165077\"; gene_source \"WormBase\"; gene_biotype \"piRNA\";\n"
     ]
    },
    {
     "name": "stdout",
     "output_type": "stream",
     "text": [
      "working on gene gene_id \"WBGene00167973\"; gene_source \"WormBase\"; gene_biotype \"piRNA\";\n"
     ]
    },
    {
     "name": "stdout",
     "output_type": "stream",
     "text": [
      "working on gene gene_id \"WBGene00165596\"; gene_source \"WormBase\"; gene_biotype \"piRNA\";\n"
     ]
    },
    {
     "name": "stdout",
     "output_type": "stream",
     "text": [
      "working on gene gene_id \"WBGene00018347\"; gene_source \"WormBase\"; gene_biotype \"protein_coding\";\n"
     ]
    },
    {
     "name": "stdout",
     "output_type": "stream",
     "text": [
      "working on gene gene_id \"WBGene00166413\"; gene_source \"WormBase\"; gene_biotype \"piRNA\";\n"
     ]
    },
    {
     "name": "stdout",
     "output_type": "stream",
     "text": [
      "working on gene gene_id \"WBGene00166567\"; gene_source \"WormBase\"; gene_biotype \"piRNA\";\n"
     ]
    },
    {
     "name": "stdout",
     "output_type": "stream",
     "text": [
      "working on gene gene_id \"WBGene00220067\"; gene_source \"WormBase\"; gene_biotype \"ncRNA\";\n"
     ]
    },
    {
     "name": "stdout",
     "output_type": "stream",
     "text": [
      "working on gene gene_id \"WBGene00195665\"; gene_source \"WormBase\"; gene_biotype \"ncRNA\";\n"
     ]
    },
    {
     "name": "stdout",
     "output_type": "stream",
     "text": [
      "working on gene gene_id \"WBGene00194883\"; gene_source \"WormBase\"; gene_biotype \"protein_coding\";\n"
     ]
    },
    {
     "name": "stdout",
     "output_type": "stream",
     "text": [
      "working on gene gene_id \"WBGene00017989\"; gene_source \"WormBase\"; gene_biotype \"protein_coding\";\n"
     ]
    },
    {
     "name": "stdout",
     "output_type": "stream",
     "text": [
      "working on gene gene_id \"WBGene00170836\"; gene_source \"WormBase\"; gene_biotype \"piRNA\";\n"
     ]
    },
    {
     "name": "stdout",
     "output_type": "stream",
     "text": [
      "working on gene gene_id \"WBGene00195365\"; gene_source \"WormBase\"; gene_biotype \"ncRNA\";\n"
     ]
    },
    {
     "name": "stdout",
     "output_type": "stream",
     "text": [
      "working on gene gene_id \"WBGene00200600\"; gene_source \"WormBase\"; gene_biotype \"ncRNA\";\n"
     ]
    },
    {
     "name": "stdout",
     "output_type": "stream",
     "text": [
      "working on gene gene_id \"WBGene00197002\"; gene_source \"WormBase\"; gene_biotype \"ncRNA\";\n"
     ]
    },
    {
     "name": "stdout",
     "output_type": "stream",
     "text": [
      "working on gene gene_id \"WBGene00000551\"; gene_source \"WormBase\"; gene_biotype \"protein_coding\";\n"
     ]
    },
    {
     "name": "stdout",
     "output_type": "stream",
     "text": [
      "working on gene gene_id \"WBGene00174763\"; gene_source \"WormBase\"; gene_biotype \"piRNA\";\n"
     ]
    },
    {
     "name": "stdout",
     "output_type": "stream",
     "text": [
      "working on gene gene_id \"WBGene00022968\"; gene_source \"WormBase\"; gene_biotype \"snoRNA\";\n"
     ]
    },
    {
     "name": "stdout",
     "output_type": "stream",
     "text": [
      "working on gene gene_id \"WBGene00017641\"; gene_source \"WormBase\"; gene_biotype \"protein_coding\";\n"
     ]
    },
    {
     "name": "stdout",
     "output_type": "stream",
     "text": [
      "working on gene gene_id \"WBGene00170582\"; gene_source \"WormBase\"; gene_biotype \"piRNA\";\n"
     ]
    },
    {
     "name": "stdout",
     "output_type": "stream",
     "text": [
      "working on gene gene_id \"WBGene00201648\"; gene_source \"WormBase\"; gene_biotype \"ncRNA\";\n"
     ]
    },
    {
     "name": "stdout",
     "output_type": "stream",
     "text": [
      "working on gene gene_id \"WBGene00044508\"; gene_source \"WormBase\"; gene_biotype \"protein_coding\";\n"
     ]
    },
    {
     "name": "stdout",
     "output_type": "stream",
     "text": [
      "working on gene gene_id \"WBGene00200005\"; gene_source \"WormBase\"; gene_biotype \"ncRNA\";\n"
     ]
    },
    {
     "name": "stdout",
     "output_type": "stream",
     "text": [
      "working on gene gene_id \"WBGene00199304\"; gene_source \"WormBase\"; gene_biotype \"ncRNA\";\n"
     ]
    },
    {
     "name": "stdout",
     "output_type": "stream",
     "text": [
      "working on gene gene_id \"WBGene00200918\"; gene_source \"WormBase\"; gene_biotype \"ncRNA\";\n"
     ]
    },
    {
     "name": "stdout",
     "output_type": "stream",
     "text": [
      "working on gene gene_id \"WBGene00020372\"; gene_source \"WormBase\"; gene_biotype \"protein_coding\";\n"
     ]
    },
    {
     "name": "stdout",
     "output_type": "stream",
     "text": [
      "working on gene gene_id \"WBGene00173833\"; gene_source \"WormBase\"; gene_biotype \"piRNA\";\n"
     ]
    },
    {
     "name": "stdout",
     "output_type": "stream",
     "text": [
      "working on gene gene_id \"WBGene00200169\"; gene_source \"WormBase\"; gene_biotype \"ncRNA\";\n"
     ]
    },
    {
     "name": "stdout",
     "output_type": "stream",
     "text": [
      "working on gene gene_id \"WBGene00195863\"; gene_source \"WormBase\"; gene_biotype \"ncRNA\";\n"
     ]
    },
    {
     "name": "stdout",
     "output_type": "stream",
     "text": [
      "working on gene gene_id \"WBGene00017073\"; gene_source \"WormBase\"; gene_biotype \"protein_coding\";\n"
     ]
    },
    {
     "name": "stdout",
     "output_type": "stream",
     "text": [
      "working on gene gene_id \"WBGene00019789\"; gene_source \"WormBase\"; gene_biotype \"pseudogene\";\n"
     ]
    },
    {
     "name": "stdout",
     "output_type": "stream",
     "text": [
      "working on gene gene_id \"WBGene00020824\"; gene_source \"WormBase\"; gene_biotype \"protein_coding\";\n"
     ]
    },
    {
     "name": "stdout",
     "output_type": "stream",
     "text": [
      "working on gene gene_id \"WBGene00165589\"; gene_source \"WormBase\"; gene_biotype \"piRNA\";\n"
     ]
    },
    {
     "name": "stdout",
     "output_type": "stream",
     "text": [
      "working on gene gene_id \"WBGene00002043\"; gene_source \"WormBase\"; gene_biotype \"protein_coding\";\n"
     ]
    },
    {
     "name": "stdout",
     "output_type": "stream",
     "text": [
      "working on gene gene_id \"WBGene00022005\"; gene_source \"WormBase\"; gene_biotype \"protein_coding\";\n"
     ]
    },
    {
     "name": "stdout",
     "output_type": "stream",
     "text": [
      "working on gene gene_id \"WBGene00018338\"; gene_source \"WormBase\"; gene_biotype \"protein_coding\";\n"
     ]
    },
    {
     "name": "stdout",
     "output_type": "stream",
     "text": [
      "working on gene gene_id \"WBGene00016770\"; gene_source \"WormBase\"; gene_biotype \"protein_coding\";\n"
     ]
    },
    {
     "name": "stdout",
     "output_type": "stream",
     "text": [
      "working on gene gene_id \"WBGene00174465\"; gene_source \"WormBase\"; gene_biotype \"piRNA\";\n"
     ]
    },
    {
     "name": "stdout",
     "output_type": "stream",
     "text": [
      "working on gene gene_id \"WBGene00019231\"; gene_source \"WormBase\"; gene_biotype \"protein_coding\";\n"
     ]
    },
    {
     "name": "stdout",
     "output_type": "stream",
     "text": [
      "working on gene gene_id \"WBGene00012122\"; gene_source \"WormBase\"; gene_biotype \"protein_coding\";\n"
     ]
    },
    {
     "name": "stdout",
     "output_type": "stream",
     "text": [
      "working on gene gene_id \"WBGene00011708\"; gene_source \"WormBase\"; gene_biotype \"protein_coding\";\n"
     ]
    },
    {
     "name": "stdout",
     "output_type": "stream",
     "text": [
      "working on gene gene_id \"WBGene00199951\"; gene_source \"WormBase\"; gene_biotype \"ncRNA\";\n"
     ]
    },
    {
     "name": "stdout",
     "output_type": "stream",
     "text": [
      "working on gene gene_id \"WBGene00170026\"; gene_source \"WormBase\"; gene_biotype \"piRNA\";\n"
     ]
    },
    {
     "name": "stdout",
     "output_type": "stream",
     "text": [
      "working on gene gene_id \"WBGene00219575\"; gene_source \"WormBase\"; gene_biotype \"antisense\";\n"
     ]
    },
    {
     "name": "stdout",
     "output_type": "stream",
     "text": [
      "working on gene gene_id \"WBGene00000693\"; gene_source \"WormBase\"; gene_biotype \"protein_coding\";\n"
     ]
    },
    {
     "name": "stdout",
     "output_type": "stream",
     "text": [
      "working on gene gene_id \"WBGene00013514\"; gene_source \"WormBase\"; gene_biotype \"protein_coding\";\n"
     ]
    },
    {
     "name": "stdout",
     "output_type": "stream",
     "text": [
      "working on gene gene_id \"WBGene00000120\"; gene_source \"WormBase\"; gene_biotype \"protein_coding\";\n"
     ]
    },
    {
     "name": "stdout",
     "output_type": "stream",
     "text": [
      "working on gene gene_id \"WBGene00168744\"; gene_source \"WormBase\"; gene_biotype \"piRNA\";\n"
     ]
    },
    {
     "name": "stdout",
     "output_type": "stream",
     "text": [
      "working on gene gene_id \"WBGene00165305\"; gene_source \"WormBase\"; gene_biotype \"piRNA\";\n"
     ]
    },
    {
     "name": "stdout",
     "output_type": "stream",
     "text": [
      "working on gene gene_id \"WBGene00220132\"; gene_source \"WormBase\"; gene_biotype \"snoRNA\";\n"
     ]
    },
    {
     "name": "stdout",
     "output_type": "stream",
     "text": [
      "working on gene gene_id \"WBGene00010410\"; gene_source \"WormBase\"; gene_biotype \"protein_coding\";\n"
     ]
    },
    {
     "name": "stdout",
     "output_type": "stream",
     "text": [
      "working on gene gene_id \"WBGene00010149\"; gene_source \"WormBase\"; gene_biotype \"protein_coding\";\n"
     ]
    },
    {
     "name": "stdout",
     "output_type": "stream",
     "text": [
      "working on gene gene_id \"WBGene00000775\"; gene_source \"WormBase\"; gene_biotype \"protein_coding\";\n"
     ]
    },
    {
     "name": "stdout",
     "output_type": "stream",
     "text": [
      "working on gene gene_id \"WBGene00166720\"; gene_source \"WormBase\"; gene_biotype \"piRNA\";\n"
     ]
    },
    {
     "name": "stdout",
     "output_type": "stream",
     "text": [
      "working on gene gene_id \"WBGene00045194\"; gene_source \"WormBase\"; gene_biotype \"snRNA\";\n"
     ]
    },
    {
     "name": "stdout",
     "output_type": "stream",
     "text": [
      "working on gene gene_id \"WBGene00174008\"; gene_source \"WormBase\"; gene_biotype \"piRNA\";\n"
     ]
    },
    {
     "name": "stdout",
     "output_type": "stream",
     "text": [
      "working on gene gene_id \"WBGene00202037\"; gene_source \"WormBase\"; gene_biotype \"ncRNA\";\n"
     ]
    },
    {
     "name": "stdout",
     "output_type": "stream",
     "text": [
      "working on gene gene_id \"WBGene00170277\"; gene_source \"WormBase\"; gene_biotype \"piRNA\";\n"
     ]
    },
    {
     "name": "stdout",
     "output_type": "stream",
     "text": [
      "working on gene gene_id \"WBGene00219597\"; gene_source \"WormBase\"; gene_biotype \"antisense\";\n"
     ]
    },
    {
     "name": "stdout",
     "output_type": "stream",
     "text": [
      "working on gene gene_id \"WBGene00170904\"; gene_source \"WormBase\"; gene_biotype \"piRNA\";\n"
     ]
    },
    {
     "name": "stdout",
     "output_type": "stream",
     "text": [
      "working on gene gene_id \"WBGene00169089\"; gene_source \"WormBase\"; gene_biotype \"piRNA\";\n"
     ]
    },
    {
     "name": "stdout",
     "output_type": "stream",
     "text": [
      "working on gene gene_id \"WBGene00010639\"; gene_source \"WormBase\"; gene_biotype \"protein_coding\";\n"
     ]
    },
    {
     "name": "stdout",
     "output_type": "stream",
     "text": [
      "working on gene"
     ]
    },
    {
     "name": "stdout",
     "output_type": "stream",
     "text": [
      " gene_id \"WBGene00196943\"; gene_source \"WormBase\"; gene_biotype \"ncRNA\";\nworking on gene gene_id \"WBGene00166523\"; gene_source \"WormBase\"; gene_biotype \"piRNA\";\n"
     ]
    },
    {
     "name": "stdout",
     "output_type": "stream",
     "text": [
      "working on gene gene_id \"WBGene00008511\"; gene_source \"WormBase\"; gene_biotype \"protein_coding\";\n"
     ]
    },
    {
     "name": "stdout",
     "output_type": "stream",
     "text": [
      "working on gene gene_id \"WBGene00201052\"; gene_source \"WormBase\"; gene_biotype \"ncRNA\";\n"
     ]
    },
    {
     "name": "stdout",
     "output_type": "stream",
     "text": [
      "working on gene gene_id \"WBGene00220025\"; gene_source \"WormBase\"; gene_biotype \"ncRNA\";\n"
     ]
    },
    {
     "name": "stdout",
     "output_type": "stream",
     "text": [
      "working on gene gene_id \"WBGene00011223\"; gene_source \"WormBase\"; gene_biotype \"protein_coding\";\n"
     ]
    },
    {
     "name": "stdout",
     "output_type": "stream",
     "text": [
      "working on gene gene_id \"WBGene00195626\"; gene_source \"WormBase\"; gene_biotype \"ncRNA\";\n"
     ]
    },
    {
     "name": "stdout",
     "output_type": "stream",
     "text": [
      "working on gene gene_id \"WBGene00169227\"; gene_source \"WormBase\"; gene_biotype \"piRNA\";\n"
     ]
    },
    {
     "name": "stdout",
     "output_type": "stream",
     "text": [
      "working on gene gene_id \"WBGene00007265\"; gene_source \"WormBase\"; gene_biotype \"protein_coding\";\n"
     ]
    },
    {
     "name": "stdout",
     "output_type": "stream",
     "text": [
      "working on gene gene_id \"WBGene00169589\"; gene_source \"WormBase\"; gene_biotype \"piRNA\";\n"
     ]
    },
    {
     "name": "stdout",
     "output_type": "stream",
     "text": [
      "working on gene gene_id \"WBGene00169900\"; gene_source \"WormBase\"; gene_biotype \"piRNA\";\n"
     ]
    },
    {
     "name": "stdout",
     "output_type": "stream",
     "text": [
      "working on gene gene_id \"WBGene00003568\"; gene_source \"WormBase\"; gene_biotype \"protein_coding\";\n"
     ]
    },
    {
     "name": "stdout",
     "output_type": "stream",
     "text": [
      "working on gene gene_id \"WBGene00013858\"; gene_source \"WormBase\"; gene_biotype \"protein_coding\";\n"
     ]
    },
    {
     "name": "stdout",
     "output_type": "stream",
     "text": [
      "working on gene gene_id \"WBGene00012016\"; gene_source \"WormBase\"; gene_biotype \"protein_coding\";\n"
     ]
    },
    {
     "name": "stdout",
     "output_type": "stream",
     "text": [
      "working on gene gene_id \"WBGene00197535\"; gene_source \"WormBase\"; gene_biotype \"ncRNA\";\n"
     ]
    },
    {
     "name": "stdout",
     "output_type": "stream",
     "text": [
      "working on gene gene_id \"WBGene00200838\"; gene_source \"WormBase\"; gene_biotype \"ncRNA\";\n"
     ]
    },
    {
     "name": "stdout",
     "output_type": "stream",
     "text": [
      "working on gene gene_id \"WBGene00013478\"; gene_source \"WormBase\"; gene_biotype \"protein_coding\";\n"
     ]
    },
    {
     "name": "stdout",
     "output_type": "stream",
     "text": [
      "working on gene gene_id \"WBGene00003325\"; gene_source \"WormBase\"; gene_biotype \"miRNA\";\n"
     ]
    },
    {
     "name": "stdout",
     "output_type": "stream",
     "text": [
      "working on gene gene_id \"WBGene00196564\"; gene_source \"WormBase\"; gene_biotype \"ncRNA\";\n"
     ]
    },
    {
     "name": "stdout",
     "output_type": "stream",
     "text": [
      "working on gene gene_id \"WBGene00012384\"; gene_source \"WormBase\"; gene_biotype \"pseudogene\";\n"
     ]
    },
    {
     "name": "stdout",
     "output_type": "stream",
     "text": [
      "working on gene gene_id \"WBGene00219576\"; gene_source \"WormBase\"; gene_biotype \"antisense\";\n"
     ]
    },
    {
     "name": "stdout",
     "output_type": "stream",
     "text": [
      "working on gene gene_id \"WBGene00011127\"; gene_source \"WormBase\"; gene_biotype \"protein_coding\";\n"
     ]
    },
    {
     "name": "stdout",
     "output_type": "stream",
     "text": [
      "working on gene gene_id \"WBGene00201716\"; gene_source \"WormBase\"; gene_biotype \"ncRNA\";\n"
     ]
    },
    {
     "name": "stdout",
     "output_type": "stream",
     "text": [
      "working on gene gene_id \"WBGene00174764\"; gene_source \"WormBase\"; gene_biotype \"piRNA\";\n"
     ]
    },
    {
     "name": "stdout",
     "output_type": "stream",
     "text": [
      "working on gene gene_id \"WBGene00010352\"; gene_source \"WormBase\"; gene_biotype \"protein_coding\";\n"
     ]
    },
    {
     "name": "stdout",
     "output_type": "stream",
     "text": [
      "working on gene gene_id \"WBGene00202103\"; gene_source \"WormBase\"; gene_biotype \"ncRNA\";\n"
     ]
    },
    {
     "name": "stdout",
     "output_type": "stream",
     "text": [
      "working on gene gene_id \"WBGene00045154\"; gene_source \"WormBase\"; gene_biotype \"snoRNA\";\n"
     ]
    },
    {
     "name": "stdout",
     "output_type": "stream",
     "text": [
      "working on gene gene_id \"WBGene00219991\"; gene_source \"WormBase\"; gene_biotype \"ncRNA\";\n"
     ]
    },
    {
     "name": "stdout",
     "output_type": "stream",
     "text": [
      "working on gene gene_id \"WBGene00010848\"; gene_source \"WormBase\"; gene_biotype \"protein_coding\";\n"
     ]
    },
    {
     "name": "stdout",
     "output_type": "stream",
     "text": [
      "working on gene gene_id \"WBGene00202182\"; gene_source \"WormBase\"; gene_biotype \"ncRNA\";\n"
     ]
    },
    {
     "name": "stdout",
     "output_type": "stream",
     "text": [
      "working on gene gene_id \"WBGene00012498\"; gene_source \"WormBase\"; gene_biotype \"pseudogene\";\n"
     ]
    },
    {
     "name": "stdout",
     "output_type": "stream",
     "text": [
      "working on gene gene_id \"WBGene00200172\"; gene_source \"WormBase\"; gene_biotype \"ncRNA\";\n"
     ]
    },
    {
     "name": "stdout",
     "output_type": "stream",
     "text": [
      "working on gene gene_id \"WBGene00011723\"; gene_source \"WormBase\"; gene_biotype \"protein_coding\";\n"
     ]
    },
    {
     "name": "stdout",
     "output_type": "stream",
     "text": [
      "working on gene gene_id \"WBGene00011725\"; gene_source \"WormBase\"; gene_biotype \"protein_coding\";\n"
     ]
    },
    {
     "name": "stdout",
     "output_type": "stream",
     "text": [
      "working on gene gene_id \"WBGene00002827\"; gene_source \"WormBase\"; gene_biotype \"protein_coding\";\n"
     ]
    },
    {
     "name": "stdout",
     "output_type": "stream",
     "text": [
      "working on gene gene_id \"WBGene00196079\"; gene_source \"WormBase\"; gene_biotype \"ncRNA\";\n"
     ]
    },
    {
     "name": "stdout",
     "output_type": "stream",
     "text": [
      "working on gene gene_id \"WBGene00014009\"; gene_source \"WormBase\"; gene_biotype \"protein_coding\";\n"
     ]
    },
    {
     "name": "stdout",
     "output_type": "stream",
     "text": [
      "working on gene gene_id \"WBGene00168499\"; gene_source \"WormBase\"; gene_biotype \"piRNA\";\n"
     ]
    },
    {
     "name": "stdout",
     "output_type": "stream",
     "text": [
      "working on gene gene_id \"WBGene00200689\"; gene_source \"WormBase\"; gene_biotype \"ncRNA\";\n"
     ]
    },
    {
     "name": "stdout",
     "output_type": "stream",
     "text": [
      "working on gene gene_id \"WBGene00166066\"; gene_source \"WormBase\"; gene_biotype \"piRNA\";\n"
     ]
    },
    {
     "name": "stdout",
     "output_type": "stream",
     "text": [
      "working on gene gene_id \"WBGene00173495\"; gene_source \"WormBase\"; gene_biotype \"piRNA\";\n"
     ]
    },
    {
     "name": "stdout",
     "output_type": "stream",
     "text": [
      "working on gene gene_id \"WBGene00235167\"; gene_source \"WormBase\"; gene_biotype \"ncRNA\";\n"
     ]
    },
    {
     "name": "stdout",
     "output_type": "stream",
     "text": [
      "working on gene gene_id \"WBGene00045131\"; gene_source \"WormBase\"; gene_biotype \"pseudogene\";\n"
     ]
    },
    {
     "name": "stdout",
     "output_type": "stream",
     "text": [
      "working on gene gene_id \"WBGene00173327\"; gene_source \"WormBase\"; gene_biotype \"piRNA\";\n"
     ]
    },
    {
     "name": "stdout",
     "output_type": "stream",
     "text": [
      "working on gene gene_id \"WBGene00198279\"; gene_source \"WormBase\"; gene_biotype \"ncRNA\";\n"
     ]
    },
    {
     "name": "stdout",
     "output_type": "stream",
     "text": [
      "working on gene gene_id \"WBGene00014427\"; gene_source \"WormBase\"; gene_biotype \"tRNA\";\n"
     ]
    },
    {
     "name": "stdout",
     "output_type": "stream",
     "text": [
      "working on gene gene_id \"WBGene00013223\"; gene_source \"WormBase\"; gene_biotype \"protein_coding\";\n"
     ]
    },
    {
     "name": "stdout",
     "output_type": "stream",
     "text": [
      "working on gene gene_id \"WBGene00000186\"; gene_source \"WormBase\"; gene_biotype \"protein_coding\";\n"
     ]
    },
    {
     "name": "stdout",
     "output_type": "stream",
     "text": [
      "working on gene gene_id \"WBGene00198687\"; gene_source \"WormBase\"; gene_biotype \"ncRNA\";\n"
     ]
    },
    {
     "name": "stdout",
     "output_type": "stream",
     "text": [
      "working on gene gene_id \"WBGene00001452\"; gene_source \"WormBase\"; gene_biotype \"protein_coding\";\n"
     ]
    },
    {
     "name": "stdout",
     "output_type": "stream",
     "text": [
      "working on gene gene_id \"WBGene00220251\"; gene_source \"WormBase\"; gene_biotype \"ncRNA\";\n"
     ]
    },
    {
     "name": "stdout",
     "output_type": "stream",
     "text": [
      "working on gene gene_id \"WBGene00010829\"; gene_source \"WormBase\"; gene_biotype \"protein_coding\";\n"
     ]
    },
    {
     "name": "stdout",
     "output_type": "stream",
     "text": [
      "working on gene gene_id \"WBGene00010828\"; gene_source \"WormBase\"; gene_biotype \"protein_coding\";\n"
     ]
    },
    {
     "name": "stdout",
     "output_type": "stream",
     "text": [
      "working on gene gene_id \"WBGene00045198\"; gene_source \"WormBase\"; gene_biotype \"protein_coding\";\n"
     ]
    },
    {
     "name": "stdout",
     "output_type": "stream",
     "text": [
      "working on gene gene_id \"WBGene00166699\"; gene_source \"WormBase\"; gene_biotype \"piRNA\";\n"
     ]
    },
    {
     "name": "stdout",
     "output_type": "stream",
     "text": [
      "working on gene gene_id \"WBGene00007204\"; gene_source \"WormBase\"; gene_biotype \"protein_coding\";\n"
     ]
    },
    {
     "name": "stdout",
     "output_type": "stream",
     "text": [
      "working on gene"
     ]
    },
    {
     "name": "stdout",
     "output_type": "stream",
     "text": [
      " gene_id \"WBGene00173590\"; gene_source \"WormBase\"; gene_biotype \"piRNA\";\nworking on gene gene_id \"WBGene00008623\"; gene_source \"WormBase\"; gene_biotype \"protein_coding\";\n"
     ]
    },
    {
     "name": "stdout",
     "output_type": "stream",
     "text": [
      "working on gene gene_id \"WBGene00196217\"; gene_source \"WormBase\"; gene_biotype \"ncRNA\";\n"
     ]
    },
    {
     "name": "stdout",
     "output_type": "stream",
     "text": [
      "working on gene gene_id \"WBGene00196912\"; gene_source \"WormBase\"; gene_biotype \"ncRNA\";\n"
     ]
    },
    {
     "name": "stdout",
     "output_type": "stream",
     "text": [
      "working on gene gene_id \"WBGene00206493\"; gene_source \"WormBase\"; gene_biotype \"protein_coding\";\n"
     ]
    },
    {
     "name": "stdout",
     "output_type": "stream",
     "text": [
      "working on gene gene_id \"WBGene00197610\"; gene_source \"WormBase\"; gene_biotype \"ncRNA\";\n"
     ]
    },
    {
     "name": "stdout",
     "output_type": "stream",
     "text": [
      "working on gene gene_id \"WBGene00012869\"; gene_source \"WormBase\"; gene_biotype \"protein_coding\";\n"
     ]
    },
    {
     "name": "stdout",
     "output_type": "stream",
     "text": [
      "working on gene gene_id \"WBGene00167613\"; gene_source \"WormBase\"; gene_biotype \"piRNA\";\n"
     ]
    },
    {
     "name": "stdout",
     "output_type": "stream",
     "text": [
      "working on gene gene_id \"WBGene00173084\"; gene_source \"WormBase\"; gene_biotype \"piRNA\";\n"
     ]
    },
    {
     "name": "stdout",
     "output_type": "stream",
     "text": [
      "working on gene gene_id \"WBGene00166104\"; gene_source \"WormBase\"; gene_biotype \"piRNA\";\n"
     ]
    },
    {
     "name": "stdout",
     "output_type": "stream",
     "text": [
      "working on gene gene_id \"WBGene00045884\"; gene_source \"WormBase\"; gene_biotype \"piRNA\";\n"
     ]
    },
    {
     "name": "stdout",
     "output_type": "stream",
     "text": [
      "working on gene gene_id \"WBGene00045006\"; gene_source \"WormBase\"; gene_biotype \"pseudogene\";\n"
     ]
    },
    {
     "name": "stdout",
     "output_type": "stream",
     "text": [
      "working on gene gene_id \"WBGene00170691\"; gene_source \"WormBase\"; gene_biotype \"piRNA\";\n"
     ]
    },
    {
     "name": "stdout",
     "output_type": "stream",
     "text": [
      "working on gene gene_id \"WBGene00044258\"; gene_source \"WormBase\"; gene_biotype \"protein_coding\";\n"
     ]
    },
    {
     "name": "stdout",
     "output_type": "stream",
     "text": [
      "working on gene gene_id \"WBGene00220157\"; gene_source \"WormBase\"; gene_biotype \"snoRNA\";\n"
     ]
    },
    {
     "name": "stdout",
     "output_type": "stream",
     "text": [
      "working on gene gene_id \"WBGene00198559\"; gene_source \"WormBase\"; gene_biotype \"ncRNA\";\n"
     ]
    },
    {
     "name": "stdout",
     "output_type": "stream",
     "text": [
      "working on gene gene_id \"WBGene00172512\"; gene_source \"WormBase\"; gene_biotype \"piRNA\";\n"
     ]
    },
    {
     "name": "stdout",
     "output_type": "stream",
     "text": [
      "working on gene gene_id \"WBGene00169152\"; gene_source \"WormBase\"; gene_biotype \"piRNA\";\n"
     ]
    },
    {
     "name": "stdout",
     "output_type": "stream",
     "text": [
      "working on gene gene_id \"WBGene00173432\"; gene_source \"WormBase\"; gene_biotype \"piRNA\";\n"
     ]
    },
    {
     "name": "stdout",
     "output_type": "stream",
     "text": [
      "working on gene gene_id \"WBGene00047574\"; gene_source \"WormBase\"; gene_biotype \"piRNA\";\n"
     ]
    },
    {
     "name": "stdout",
     "output_type": "stream",
     "text": [
      "working on gene gene_id \"WBGene00046878\"; gene_source \"WormBase\"; gene_biotype \"piRNA\";\n"
     ]
    },
    {
     "name": "stdout",
     "output_type": "stream",
     "text": [
      "working on gene gene_id \"WBGene00014599\"; gene_source \"WormBase\"; gene_biotype \"tRNA\";\n"
     ]
    },
    {
     "name": "stdout",
     "output_type": "stream",
     "text": [
      "working on gene gene_id \"WBGene00013419\"; gene_source \"WormBase\"; gene_biotype \"protein_coding\";\n"
     ]
    },
    {
     "name": "stdout",
     "output_type": "stream",
     "text": [
      "working on gene gene_id \"WBGene00013099\"; gene_source \"WormBase\"; gene_biotype \"protein_coding\";\n"
     ]
    },
    {
     "name": "stdout",
     "output_type": "stream",
     "text": [
      "working on gene gene_id \"WBGene00165298\"; gene_source \"WormBase\"; gene_biotype \"piRNA\";\n"
     ]
    },
    {
     "name": "stdout",
     "output_type": "stream",
     "text": [
      "working on gene gene_id \"WBGene00045321\"; gene_source \"WormBase\"; gene_biotype \"pseudogene\";\n"
     ]
    },
    {
     "name": "stdout",
     "output_type": "stream",
     "text": [
      "working on gene gene_id \"WBGene00195757\"; gene_source \"WormBase\"; gene_biotype \"ncRNA\";\n"
     ]
    },
    {
     "name": "stdout",
     "output_type": "stream",
     "text": [
      "working on gene gene_id \"WBGene00048150\"; gene_source \"WormBase\"; gene_biotype \"piRNA\";\n"
     ]
    },
    {
     "name": "stdout",
     "output_type": "stream",
     "text": [
      "working on gene gene_id \"WBGene00165955\"; gene_source \"WormBase\"; gene_biotype \"piRNA\";\n"
     ]
    },
    {
     "name": "stdout",
     "output_type": "stream",
     "text": [
      "working on gene gene_id \"WBGene00011374\"; gene_source \"WormBase\"; gene_biotype \"protein_coding\";\n"
     ]
    },
    {
     "name": "stdout",
     "output_type": "stream",
     "text": [
      "working on gene gene_id \"WBGene00195502\"; gene_source \"WormBase\"; gene_biotype \"ncRNA\";\n"
     ]
    },
    {
     "name": "stdout",
     "output_type": "stream",
     "text": [
      "working on gene gene_id \"WBGene00023131\"; gene_source \"WormBase\"; gene_biotype \"tRNA\";\n"
     ]
    },
    {
     "name": "stdout",
     "output_type": "stream",
     "text": [
      "working on gene gene_id \"WBGene00201447\"; gene_source \"WormBase\"; gene_biotype \"ncRNA\";\n"
     ]
    },
    {
     "name": "stdout",
     "output_type": "stream",
     "text": [
      "working on gene gene_id \"WBGene00197291\"; gene_source \"WormBase\"; gene_biotype \"ncRNA\";\n"
     ]
    },
    {
     "name": "stdout",
     "output_type": "stream",
     "text": [
      "working on gene gene_id \"WBGene00021396\"; gene_source \"WormBase\"; gene_biotype \"protein_coding\";\n"
     ]
    },
    {
     "name": "stdout",
     "output_type": "stream",
     "text": [
      "working on gene gene_id \"WBGene00019298\"; gene_source \"WormBase\"; gene_biotype \"protein_coding\";\n"
     ]
    },
    {
     "name": "stdout",
     "output_type": "stream",
     "text": [
      "working on gene gene_id \"WBGene00197593\"; gene_source \"WormBase\"; gene_biotype \"ncRNA\";\n"
     ]
    },
    {
     "name": "stdout",
     "output_type": "stream",
     "text": [
      "working on gene gene_id \"WBGene00220192\"; gene_source \"WormBase\"; gene_biotype \"snoRNA\";\n"
     ]
    },
    {
     "name": "stdout",
     "output_type": "stream",
     "text": [
      "working on gene gene_id \"WBGene00220031\"; gene_source \"WormBase\"; gene_biotype \"ncRNA\";\n"
     ]
    },
    {
     "name": "stdout",
     "output_type": "stream",
     "text": [
      "working on gene gene_id \"WBGene00001625\"; gene_source \"WormBase\"; gene_biotype \"protein_coding\";\n"
     ]
    },
    {
     "name": "stdout",
     "output_type": "stream",
     "text": [
      "working on gene gene_id \"WBGene00015497\"; gene_source \"WormBase\"; gene_biotype \"protein_coding\";\n"
     ]
    },
    {
     "name": "stdout",
     "output_type": "stream",
     "text": [
      "working on gene gene_id \"WBGene00023106\"; gene_source \"WormBase\"; gene_biotype \"tRNA\";\n"
     ]
    },
    {
     "name": "stdout",
     "output_type": "stream",
     "text": [
      "working on gene gene_id \"WBGene00021950\"; gene_source \"WormBase\"; gene_biotype \"protein_coding\";\n"
     ]
    },
    {
     "name": "stdout",
     "output_type": "stream",
     "text": [
      "working on gene gene_id \"WBGene00168241\"; gene_source \"WormBase\"; gene_biotype \"piRNA\";\n"
     ]
    },
    {
     "name": "stdout",
     "output_type": "stream",
     "text": [
      "working on gene gene_id \"WBGene00196878\"; gene_source \"WormBase\"; gene_biotype \"ncRNA\";\n"
     ]
    },
    {
     "name": "stdout",
     "output_type": "stream",
     "text": [
      "working on gene gene_id \"WBGene00201671\"; gene_source \"WormBase\"; gene_biotype \"ncRNA\";\n"
     ]
    },
    {
     "name": "stdout",
     "output_type": "stream",
     "text": [
      "working on gene"
     ]
    },
    {
     "name": "stdout",
     "output_type": "stream",
     "text": [
      " gene_id \"WBGene00196058\"; gene_source \"WormBase\"; gene_biotype \"ncRNA\";\nworking on gene gene_id \"WBGene00019072\"; gene_source \"WormBase\"; gene_biotype \"protein_coding\";\n"
     ]
    },
    {
     "name": "stdout",
     "output_type": "stream",
     "text": [
      "working on gene gene_id \"WBGene00019068\"; gene_source \"WormBase\"; gene_biotype \"protein_coding\";\n"
     ]
    },
    {
     "name": "stdout",
     "output_type": "stream",
     "text": [
      "working on gene gene_id \"WBGene00220181\"; gene_source \"WormBase\"; gene_biotype \"snoRNA\";\n"
     ]
    },
    {
     "name": "stdout",
     "output_type": "stream",
     "text": [
      "working on gene gene_id \"WBGene00021931\"; gene_source \"WormBase\"; gene_biotype \"protein_coding\";\n"
     ]
    },
    {
     "name": "stdout",
     "output_type": "stream",
     "text": [
      "working on gene gene_id \"WBGene00202064\"; gene_source \"WormBase\"; gene_biotype \"ncRNA\";\n"
     ]
    },
    {
     "name": "stdout",
     "output_type": "stream",
     "text": [
      "working on gene gene_id \"WBGene00016639\"; gene_source \"WormBase\"; gene_biotype \"protein_coding\";\n"
     ]
    },
    {
     "name": "stdout",
     "output_type": "stream",
     "text": [
      "working on gene gene_id \"WBGene00023257\"; gene_source \"WormBase\"; gene_biotype \"pseudogene\";\n"
     ]
    },
    {
     "name": "stdout",
     "output_type": "stream",
     "text": [
      "working on gene gene_id \"WBGene00219437\"; gene_source \"WormBase\"; gene_biotype \"protein_coding\";\n"
     ]
    },
    {
     "name": "stdout",
     "output_type": "stream",
     "text": [
      "working on gene gene_id \"WBGene00196976\"; gene_source \"WormBase\"; gene_biotype \"ncRNA\";\n"
     ]
    },
    {
     "name": "stdout",
     "output_type": "stream",
     "text": [
      "working on gene gene_id \"WBGene00001103\"; gene_source \"WormBase\"; gene_biotype \"protein_coding\";\n"
     ]
    },
    {
     "name": "stdout",
     "output_type": "stream",
     "text": [
      "working on gene gene_id \"WBGene00007476\"; gene_source \"WormBase\"; gene_biotype \"protein_coding\";\n"
     ]
    },
    {
     "name": "stdout",
     "output_type": "stream",
     "text": [
      "working on gene gene_id \"WBGene00023305\"; gene_source \"WormBase\"; gene_biotype \"pseudogene\";\n"
     ]
    },
    {
     "name": "stdout",
     "output_type": "stream",
     "text": [
      "working on gene gene_id \"WBGene00019052\"; gene_source \"WormBase\"; gene_biotype \"protein_coding\";\n"
     ]
    },
    {
     "name": "stdout",
     "output_type": "stream",
     "text": [
      "working on gene gene_id \"WBGene00023202\"; gene_source \"WormBase\"; gene_biotype \"tRNA\";\n"
     ]
    },
    {
     "name": "stdout",
     "output_type": "stream",
     "text": [
      "working on gene gene_id \"WBGene00199927\"; gene_source \"WormBase\"; gene_biotype \"ncRNA\";\n"
     ]
    },
    {
     "name": "stdout",
     "output_type": "stream",
     "text": [
      "working on gene gene_id \"WBGene00022308\"; gene_source \"WormBase\"; gene_biotype \"protein_coding\";\n"
     ]
    },
    {
     "name": "stdout",
     "output_type": "stream",
     "text": [
      "working on gene gene_id \"WBGene00220213\"; gene_source \"WormBase\"; gene_biotype \"snoRNA\";\n"
     ]
    },
    {
     "name": "stdout",
     "output_type": "stream",
     "text": [
      "working on gene gene_id \"WBGene00023394\"; gene_source \"WormBase\"; gene_biotype \"pseudogene\";\n"
     ]
    },
    {
     "name": "stdout",
     "output_type": "stream",
     "text": [
      "working on gene gene_id \"WBGene00195474\"; gene_source \"WormBase\"; gene_biotype \"ncRNA\";\n"
     ]
    },
    {
     "name": "stdout",
     "output_type": "stream",
     "text": [
      "working on gene gene_id \"WBGene00220152\"; gene_source \"WormBase\"; gene_biotype \"ncRNA\";\n"
     ]
    },
    {
     "name": "stdout",
     "output_type": "stream",
     "text": [
      "working on gene gene_id \"WBGene00021516\"; gene_source \"WormBase\"; gene_biotype \"protein_coding\";\n"
     ]
    },
    {
     "name": "stdout",
     "output_type": "stream",
     "text": [
      "working on gene gene_id \"WBGene00220154\"; gene_source \"WormBase\"; gene_biotype \"ncRNA\";\n"
     ]
    },
    {
     "name": "stdout",
     "output_type": "stream",
     "text": [
      "working on gene gene_id \"WBGene00200640\"; gene_source \"WormBase\"; gene_biotype \"ncRNA\";\n"
     ]
    },
    {
     "name": "stdout",
     "output_type": "stream",
     "text": [
      "working on gene gene_id \"WBGene00197111\"; gene_source \"WormBase\"; gene_biotype \"ncRNA\";\n"
     ]
    },
    {
     "name": "stdout",
     "output_type": "stream",
     "text": [
      "working on gene gene_id \"WBGene00019536\"; gene_source \"WormBase\"; gene_biotype \"protein_coding\";\n"
     ]
    },
    {
     "name": "stdout",
     "output_type": "stream",
     "text": [
      "working on gene gene_id \"WBGene00021505\"; gene_source \"WormBase\"; gene_biotype \"protein_coding\";\n"
     ]
    },
    {
     "name": "stdout",
     "output_type": "stream",
     "text": [
      "working on gene gene_id \"WBGene00021510\"; gene_source \"WormBase\"; gene_biotype \"protein_coding\";\n"
     ]
    },
    {
     "name": "stdout",
     "output_type": "stream",
     "text": [
      "working on gene gene_id \"WBGene00198094\"; gene_source \"WormBase\"; gene_biotype \"ncRNA\";\n"
     ]
    },
    {
     "name": "stdout",
     "output_type": "stream",
     "text": [
      "working on gene gene_id \"WBGene00198204\"; gene_source \"WormBase\"; gene_biotype \"ncRNA\";\n"
     ]
    },
    {
     "name": "stdout",
     "output_type": "stream",
     "text": [
      "working on gene gene_id \"WBGene00001173\"; gene_source \"WormBase\"; gene_biotype \"protein_coding\";\n"
     ]
    },
    {
     "name": "stdout",
     "output_type": "stream",
     "text": [
      "working on gene gene_id \"WBGene00196527\"; gene_source \"WormBase\"; gene_biotype \"ncRNA\";\n"
     ]
    },
    {
     "name": "stdout",
     "output_type": "stream",
     "text": [
      "working on gene gene_id \"WBGene00201141\"; gene_source \"WormBase\"; gene_biotype \"ncRNA\";\n"
     ]
    },
    {
     "name": "stdout",
     "output_type": "stream",
     "text": [
      "working on gene gene_id \"WBGene00019874\"; gene_source \"WormBase\"; gene_biotype \"protein_coding\";\n"
     ]
    },
    {
     "name": "stdout",
     "output_type": "stream",
     "text": [
      "working on gene gene_id \"WBGene00019873\"; gene_source \"WormBase\"; gene_biotype \"protein_coding\";\n"
     ]
    },
    {
     "name": "stdout",
     "output_type": "stream",
     "text": [
      "working on gene gene_id \"WBGene00235274\"; gene_source \"WormBase\"; gene_biotype \"protein_coding\";\n"
     ]
    },
    {
     "name": "stdout",
     "output_type": "stream",
     "text": [
      "working on gene gene_id \"WBGene00016919\"; gene_source \"WormBase\"; gene_biotype \"protein_coding\";\n"
     ]
    },
    {
     "name": "stdout",
     "output_type": "stream",
     "text": [
      "working on gene gene_id \"WBGene00044650\"; gene_source \"WormBase\"; gene_biotype \"protein_coding\";\n"
     ]
    },
    {
     "name": "stdout",
     "output_type": "stream",
     "text": [
      "working on gene gene_id \"WBGene00235277\"; gene_source \"WormBase\"; gene_biotype \"protein_coding\";\n"
     ]
    },
    {
     "name": "stdout",
     "output_type": "stream",
     "text": [
      "working on gene gene_id \"WBGene00202285\"; gene_source \"WormBase\"; gene_biotype \"ncRNA\";\n"
     ]
    },
    {
     "name": "stdout",
     "output_type": "stream",
     "text": [
      "working on gene gene_id \"WBGene00165356\"; gene_source \"WormBase\"; gene_biotype \"piRNA\";\n"
     ]
    },
    {
     "name": "stdout",
     "output_type": "stream",
     "text": [
      "working on gene gene_id \"WBGene00023467\"; gene_source \"WormBase\"; gene_biotype \"snoRNA\";\n"
     ]
    },
    {
     "name": "stdout",
     "output_type": "stream",
     "text": [
      "working on gene gene_id \"WBGene00235340\"; gene_source \"WormBase\"; gene_biotype \"protein_coding\";\n"
     ]
    },
    {
     "name": "stdout",
     "output_type": "stream",
     "text": [
      "working on gene gene_id \"WBGene00016668\"; gene_source \"WormBase\"; gene_biotype \"protein_coding\";\n"
     ]
    },
    {
     "name": "stdout",
     "output_type": "stream",
     "text": [
      "working on gene gene_id \"WBGene00022093\"; gene_source \"WormBase\"; gene_biotype \"protein_coding\";\n"
     ]
    },
    {
     "name": "stdout",
     "output_type": "stream",
     "text": [
      "working on gene gene_id \"WBGene00198527\"; gene_source \"WormBase\"; gene_biotype \"ncRNA\";\n"
     ]
    },
    {
     "name": "stdout",
     "output_type": "stream",
     "text": [
      "working on gene gene_id \"WBGene00235343\"; gene_source \"WormBase\"; gene_biotype \"protein_coding\";\n"
     ]
    },
    {
     "name": "stdout",
     "output_type": "stream",
     "text": [
      "working on gene gene_id \"WBGene00003595\"; gene_source \"WormBase\"; gene_biotype \"protein_coding\";\n"
     ]
    },
    {
     "name": "stdout",
     "output_type": "stream",
     "text": [
      "working on gene gene_id \"WBGene00023389\"; gene_source \"WormBase\"; gene_biotype \"pseudogene\";\n"
     ]
    },
    {
     "name": "stdout",
     "output_type": "stream",
     "text": [
      "working on gene gene_id \"WBGene00198581\"; gene_source \"WormBase\"; gene_biotype \"ncRNA\";\n"
     ]
    },
    {
     "name": "stdout",
     "output_type": "stream",
     "text": [
      "working on gene gene_id \"WBGene00044485\"; gene_source \"WormBase\"; gene_biotype \"protein_coding\";\n"
     ]
    },
    {
     "name": "stdout",
     "output_type": "stream",
     "text": [
      "working on gene gene_id \"WBGene00021876\"; gene_source \"WormBase\"; gene_biotype \"protein_coding\";\n"
     ]
    },
    {
     "name": "stdout",
     "output_type": "stream",
     "text": [
      "working on gene gene_id \"WBGene00169683\"; gene_source \"WormBase\"; gene_biotype \"piRNA\";\n"
     ]
    },
    {
     "name": "stdout",
     "output_type": "stream",
     "text": [
      "working on gene gene_id \"WBGene00021881\"; gene_source \"WormBase\"; gene_biotype \"protein_coding\";\n"
     ]
    },
    {
     "name": "stdout",
     "output_type": "stream",
     "text": [
      "working on gene gene_id \"WBGene00021889\"; gene_source \"WormBase\"; gene_biotype \"pseudogene\";\n"
     ]
    },
    {
     "name": "stdout",
     "output_type": "stream",
     "text": [
      "working on gene gene_id \"WBGene00189961\"; gene_source \"WormBase\"; gene_biotype \"protein_coding\";\n"
     ]
    },
    {
     "name": "stdout",
     "output_type": "stream",
     "text": [
      "working on gene gene_id \"WBGene00198012\"; gene_source \"WormBase\"; gene_biotype \"ncRNA\";\n"
     ]
    },
    {
     "name": "stdout",
     "output_type": "stream",
     "text": [
      "working on gene gene_id \"WBGene00198247\"; gene_source \"WormBase\"; gene_biotype \"ncRNA\";\n"
     ]
    },
    {
     "name": "stdout",
     "output_type": "stream",
     "text": [
      "working on gene gene_id \"WBGene00023187\"; gene_source \"WormBase\"; gene_biotype \"ncRNA\";\n"
     ]
    },
    {
     "name": "stdout",
     "output_type": "stream",
     "text": [
      "working on gene gene_id \"WBGene00020728\"; gene_source \"WormBase\"; gene_biotype \"protein_coding\";\n"
     ]
    },
    {
     "name": "stdout",
     "output_type": "stream",
     "text": [
      "working on gene gene_id \"WBGene00022063\"; gene_source \"WormBase\"; gene_biotype \"protein_coding\";\n"
     ]
    },
    {
     "name": "stdout",
     "output_type": "stream",
     "text": [
      "working on gene gene_id \"WBGene00022062\"; gene_source \"WormBase\"; gene_biotype \"protein_coding\";\n"
     ]
    },
    {
     "name": "stdout",
     "output_type": "stream",
     "text": [
      "working on gene gene_id \"WBGene00197023\"; gene_source \"WormBase\"; gene_biotype \"ncRNA\";\n"
     ]
    },
    {
     "name": "stdout",
     "output_type": "stream",
     "text": [
      "working on gene gene_id \"WBGene00020833\"; gene_source \"WormBase\"; gene_biotype \"protein_coding\";\n"
     ]
    },
    {
     "name": "stdout",
     "output_type": "stream",
     "text": [
      "working on gene gene_id \"WBGene00196782\"; gene_source \"WormBase\"; gene_biotype \"ncRNA\";\n"
     ]
    },
    {
     "name": "stdout",
     "output_type": "stream",
     "text": [
      "working on gene gene_id \"WBGene00021082\"; gene_source \"WormBase\"; gene_biotype \"protein_coding\";\n"
     ]
    },
    {
     "name": "stdout",
     "output_type": "stream",
     "text": [
      "working on gene gene_id \"WBGene00166372\"; gene_source \"WormBase\"; gene_biotype \"piRNA\";\n"
     ]
    },
    {
     "name": "stdout",
     "output_type": "stream",
     "text": [
      "working on gene gene_id \"WBGene00195284\"; gene_source \"WormBase\"; gene_biotype \"ncRNA\";\n"
     ]
    },
    {
     "name": "stdout",
     "output_type": "stream",
     "text": [
      "working on gene gene_id \"WBGene00015413\"; gene_source \"WormBase\"; gene_biotype \"protein_coding\";\n"
     ]
    },
    {
     "name": "stdout",
     "output_type": "stream",
     "text": [
      "working on gene gene_id \"WBGene00022894\"; gene_source \"WormBase\"; gene_biotype \"tRNA\";\n"
     ]
    },
    {
     "name": "stdout",
     "output_type": "stream",
     "text": [
      "working on gene gene_id \"WBGene00006756\"; gene_source \"WormBase\"; gene_biotype \"protein_coding\";\n"
     ]
    },
    {
     "name": "stdout",
     "output_type": "stream",
     "text": [
      "working on gene gene_id \"WBGene00016987\"; gene_source \"WormBase\"; gene_biotype \"protein_coding\";\n"
     ]
    },
    {
     "name": "stdout",
     "output_type": "stream",
     "text": [
      "working on gene gene_id \"WBGene00021360\"; gene_source \"WormBase\"; gene_biotype \"pseudogene\";\n"
     ]
    },
    {
     "name": "stdout",
     "output_type": "stream",
     "text": [
      "working on gene gene_id \"WBGene00198320\"; gene_source \"WormBase\"; gene_biotype \"ncRNA\";\n"
     ]
    },
    {
     "name": "stdout",
     "output_type": "stream",
     "text": [
      "working on gene gene_id \"WBGene00195010\"; gene_source \"WormBase\"; gene_biotype \"protein_coding\";\n"
     ]
    },
    {
     "name": "stdout",
     "output_type": "stream",
     "text": [
      "working on gene gene_id \"WBGene00006869\"; gene_source \"WormBase\"; gene_biotype \"protein_coding\";\n"
     ]
    },
    {
     "name": "stdout",
     "output_type": "stream",
     "text": [
      "working on gene gene_id \"WBGene00198903\"; gene_source \"WormBase\"; gene_biotype \"ncRNA\";\n"
     ]
    },
    {
     "name": "stdout",
     "output_type": "stream",
     "text": [
      "working on gene gene_id \"WBGene00019726\"; gene_source \"WormBase\"; gene_biotype \"protein_coding\";\n"
     ]
    },
    {
     "name": "stdout",
     "output_type": "stream",
     "text": [
      "working on gene gene_id \"WBGene00198784\"; gene_source \"WormBase\"; gene_biotype \"ncRNA\";\n"
     ]
    },
    {
     "name": "stdout",
     "output_type": "stream",
     "text": [
      "working on gene gene_id \"WBGene00021583\"; gene_source \"WormBase\"; gene_biotype \"protein_coding\";\n"
     ]
    },
    {
     "name": "stdout",
     "output_type": "stream",
     "text": [
      "working on gene"
     ]
    },
    {
     "name": "stdout",
     "output_type": "stream",
     "text": [
      " gene_id \"WBGene00005433\"; gene_source \"WormBase\"; gene_biotype \"protein_coding\";\nworking on gene gene_id \"WBGene00018551\"; gene_source \"WormBase\"; gene_biotype \"protein_coding\";\n"
     ]
    },
    {
     "name": "stdout",
     "output_type": "stream",
     "text": [
      "working on gene gene_id \"WBGene00020929\"; gene_source \"WormBase\"; gene_biotype \"protein_coding\";\n"
     ]
    },
    {
     "name": "stdout",
     "output_type": "stream",
     "text": [
      "working on gene gene_id \"WBGene00220113\"; gene_source \"WormBase\"; gene_biotype \"ncRNA\";\n"
     ]
    },
    {
     "name": "stdout",
     "output_type": "stream",
     "text": [
      "working on gene gene_id \"WBGene00219934\"; gene_source \"WormBase\"; gene_biotype \"ncRNA\";\n"
     ]
    },
    {
     "name": "stdout",
     "output_type": "stream",
     "text": [
      "working on gene gene_id \"WBGene00019535\"; gene_source \"WormBase\"; gene_biotype \"protein_coding\";\n"
     ]
    },
    {
     "name": "stdout",
     "output_type": "stream",
     "text": [
      "working on gene gene_id \"WBGene00017484\"; gene_source \"WormBase\"; gene_biotype \"protein_coding\";\n"
     ]
    },
    {
     "name": "stdout",
     "output_type": "stream",
     "text": [
      "working on gene gene_id \"WBGene00021285\"; gene_source \"WormBase\"; gene_biotype \"protein_coding\";\n"
     ]
    },
    {
     "name": "stdout",
     "output_type": "stream",
     "text": [
      "working on gene gene_id \"WBGene00220137\"; gene_source \"WormBase\"; gene_biotype \"ncRNA\";\n"
     ]
    },
    {
     "name": "stdout",
     "output_type": "stream",
     "text": [
      "working on gene gene_id \"WBGene00195363\"; gene_source \"WormBase\"; gene_biotype \"ncRNA\";\n"
     ]
    },
    {
     "name": "stdout",
     "output_type": "stream",
     "text": [
      "working on gene gene_id \"WBGene00045248\"; gene_source \"WormBase\"; gene_biotype \"protein_coding\";\n"
     ]
    },
    {
     "name": "stdout",
     "output_type": "stream",
     "text": [
      "working on gene gene_id \"WBGene00022681\"; gene_source \"WormBase\"; gene_biotype \"protein_coding\";\n"
     ]
    },
    {
     "name": "stdout",
     "output_type": "stream",
     "text": [
      "working on gene gene_id \"WBGene00200207\"; gene_source \"WormBase\"; gene_biotype \"ncRNA\";\n"
     ]
    },
    {
     "name": "stdout",
     "output_type": "stream",
     "text": [
      "working on gene gene_id \"WBGene00235120\"; gene_source \"WormBase\"; gene_biotype \"protein_coding\";\n"
     ]
    },
    {
     "name": "stdout",
     "output_type": "stream",
     "text": [
      "working on gene gene_id \"WBGene00019544\"; gene_source \"WormBase\"; gene_biotype \"protein_coding\";\n"
     ]
    },
    {
     "name": "stdout",
     "output_type": "stream",
     "text": [
      "working on gene gene_id \"WBGene00174596\"; gene_source \"WormBase\"; gene_biotype \"piRNA\";\n"
     ]
    },
    {
     "name": "stdout",
     "output_type": "stream",
     "text": [
      "working on gene gene_id \"WBGene00167692\"; gene_source \"WormBase\"; gene_biotype \"piRNA\";\n"
     ]
    },
    {
     "name": "stdout",
     "output_type": "stream",
     "text": [
      "working on gene gene_id \"WBGene00201766\"; gene_source \"WormBase\"; gene_biotype \"ncRNA\";\n"
     ]
    },
    {
     "name": "stdout",
     "output_type": "stream",
     "text": [
      "working on gene gene_id \"WBGene00173470\"; gene_source \"WormBase\"; gene_biotype \"piRNA\";\n"
     ]
    },
    {
     "name": "stdout",
     "output_type": "stream",
     "text": [
      "working on gene gene_id \"WBGene00235289\"; gene_source \"WormBase\"; gene_biotype \"protein_coding\";\n"
     ]
    },
    {
     "name": "stdout",
     "output_type": "stream",
     "text": [
      "working on gene gene_id \"WBGene00198597\"; gene_source \"WormBase\"; gene_biotype \"ncRNA\";\n"
     ]
    },
    {
     "name": "stdout",
     "output_type": "stream",
     "text": [
      "working on gene gene_id \"WBGene00220203\"; gene_source \"WormBase\"; gene_biotype \"snoRNA\";\n"
     ]
    },
    {
     "name": "stdout",
     "output_type": "stream",
     "text": [
      "working on gene gene_id \"WBGene00169358\"; gene_source \"WormBase\"; gene_biotype \"piRNA\";\n"
     ]
    },
    {
     "name": "stdout",
     "output_type": "stream",
     "text": [
      "working on gene gene_id \"WBGene00044503\"; gene_source \"WormBase\"; gene_biotype \"pseudogene\";\n"
     ]
    },
    {
     "name": "stdout",
     "output_type": "stream",
     "text": [
      "working on gene gene_id \"WBGene00167250\"; gene_source \"WormBase\"; gene_biotype \"piRNA\";\n"
     ]
    },
    {
     "name": "stdout",
     "output_type": "stream",
     "text": [
      "working on gene gene_id \"WBGene00168737\"; gene_source \"WormBase\"; gene_biotype \"piRNA\";\n"
     ]
    },
    {
     "name": "stdout",
     "output_type": "stream",
     "text": [
      "working on gene gene_id \"WBGene00165077\"; gene_source \"WormBase\"; gene_biotype \"piRNA\";\n"
     ]
    },
    {
     "name": "stdout",
     "output_type": "stream",
     "text": [
      "working on gene gene_id \"WBGene00167973\"; gene_source \"WormBase\"; gene_biotype \"piRNA\";\n"
     ]
    },
    {
     "name": "stdout",
     "output_type": "stream",
     "text": [
      "working on gene gene_id \"WBGene00165596\"; gene_source \"WormBase\"; gene_biotype \"piRNA\";\n"
     ]
    },
    {
     "name": "stdout",
     "output_type": "stream",
     "text": [
      "working on gene gene_id \"WBGene00018347\"; gene_source \"WormBase\"; gene_biotype \"protein_coding\";\n"
     ]
    },
    {
     "name": "stdout",
     "output_type": "stream",
     "text": [
      "working on gene gene_id \"WBGene00166413\"; gene_source \"WormBase\"; gene_biotype \"piRNA\";\n"
     ]
    },
    {
     "name": "stdout",
     "output_type": "stream",
     "text": [
      "working on gene gene_id \"WBGene00166567\"; gene_source \"WormBase\"; gene_biotype \"piRNA\";\n"
     ]
    },
    {
     "name": "stdout",
     "output_type": "stream",
     "text": [
      "working on gene gene_id \"WBGene00220067\"; gene_source \"WormBase\"; gene_biotype \"ncRNA\";\n"
     ]
    },
    {
     "name": "stdout",
     "output_type": "stream",
     "text": [
      "working on gene gene_id \"WBGene00195665\"; gene_source \"WormBase\"; gene_biotype \"ncRNA\";\n"
     ]
    },
    {
     "name": "stdout",
     "output_type": "stream",
     "text": [
      "working on gene gene_id \"WBGene00194883\"; gene_source \"WormBase\"; gene_biotype \"protein_coding\";\n"
     ]
    },
    {
     "name": "stdout",
     "output_type": "stream",
     "text": [
      "working on gene gene_id \"WBGene00017989\"; gene_source \"WormBase\"; gene_biotype \"protein_coding\";\n"
     ]
    },
    {
     "name": "stdout",
     "output_type": "stream",
     "text": [
      "working on gene gene_id \"WBGene00170836\"; gene_source \"WormBase\"; gene_biotype \"piRNA\";\n"
     ]
    },
    {
     "name": "stdout",
     "output_type": "stream",
     "text": [
      "working on gene gene_id \"WBGene00195365\"; gene_source \"WormBase\"; gene_biotype \"ncRNA\";\n"
     ]
    },
    {
     "name": "stdout",
     "output_type": "stream",
     "text": [
      "working on gene gene_id \"WBGene00200600\"; gene_source \"WormBase\"; gene_biotype \"ncRNA\";\n"
     ]
    },
    {
     "name": "stdout",
     "output_type": "stream",
     "text": [
      "working on gene gene_id \"WBGene00197002\"; gene_source \"WormBase\"; gene_biotype \"ncRNA\";\n"
     ]
    },
    {
     "name": "stdout",
     "output_type": "stream",
     "text": [
      "working on gene gene_id \"WBGene00000551\"; gene_source \"WormBase\"; gene_biotype \"protein_coding\";\n"
     ]
    },
    {
     "name": "stdout",
     "output_type": "stream",
     "text": [
      "working on gene gene_id \"WBGene00174763\"; gene_source \"WormBase\"; gene_biotype \"piRNA\";\n"
     ]
    },
    {
     "name": "stdout",
     "output_type": "stream",
     "text": [
      "working on gene gene_id \"WBGene00022968\"; gene_source \"WormBase\"; gene_biotype \"snoRNA\";\n"
     ]
    },
    {
     "name": "stdout",
     "output_type": "stream",
     "text": [
      "working on gene gene_id \"WBGene00017641\"; gene_source \"WormBase\"; gene_biotype \"protein_coding\";\n"
     ]
    },
    {
     "name": "stdout",
     "output_type": "stream",
     "text": [
      "working on gene gene_id \"WBGene00170582\"; gene_source \"WormBase\"; gene_biotype \"piRNA\";\n"
     ]
    },
    {
     "name": "stdout",
     "output_type": "stream",
     "text": [
      "working on gene gene_id \"WBGene00201648\"; gene_source \"WormBase\"; gene_biotype \"ncRNA\";\n"
     ]
    },
    {
     "name": "stdout",
     "output_type": "stream",
     "text": [
      "working on gene gene_id \"WBGene00044508\"; gene_source \"WormBase\"; gene_biotype \"protein_coding\";\n"
     ]
    },
    {
     "name": "stdout",
     "output_type": "stream",
     "text": [
      "working on gene gene_id \"WBGene00200005\"; gene_source \"WormBase\"; gene_biotype \"ncRNA\";\n"
     ]
    },
    {
     "name": "stdout",
     "output_type": "stream",
     "text": [
      "working on gene gene_id \"WBGene00199304\"; gene_source \"WormBase\"; gene_biotype \"ncRNA\";\n"
     ]
    },
    {
     "name": "stdout",
     "output_type": "stream",
     "text": [
      "working on gene gene_id \"WBGene00200918\"; gene_source \"WormBase\"; gene_biotype \"ncRNA\";\n"
     ]
    },
    {
     "name": "stdout",
     "output_type": "stream",
     "text": [
      "working on gene gene_id \"WBGene00020372\"; gene_source \"WormBase\"; gene_biotype \"protein_coding\";\n"
     ]
    },
    {
     "name": "stdout",
     "output_type": "stream",
     "text": [
      "working on gene gene_id \"WBGene00173833\"; gene_source \"WormBase\"; gene_biotype \"piRNA\";\n"
     ]
    },
    {
     "name": "stdout",
     "output_type": "stream",
     "text": [
      "working on gene gene_id \"WBGene00200169\"; gene_source \"WormBase\"; gene_biotype \"ncRNA\";\n"
     ]
    },
    {
     "name": "stdout",
     "output_type": "stream",
     "text": [
      "working on gene gene_id \"WBGene00195863\"; gene_source \"WormBase\"; gene_biotype \"ncRNA\";\n"
     ]
    },
    {
     "name": "stdout",
     "output_type": "stream",
     "text": [
      "working on gene gene_id \"WBGene00017073\"; gene_source \"WormBase\"; gene_biotype \"protein_coding\";\n"
     ]
    },
    {
     "name": "stdout",
     "output_type": "stream",
     "text": [
      "working on gene gene_id \"WBGene00019789\"; gene_source \"WormBase\"; gene_biotype \"pseudogene\";\n"
     ]
    },
    {
     "name": "stdout",
     "output_type": "stream",
     "text": [
      "working on gene gene_id \"WBGene00020824\"; gene_source \"WormBase\"; gene_biotype \"protein_coding\";\n"
     ]
    },
    {
     "name": "stdout",
     "output_type": "stream",
     "text": [
      "working on gene gene_id \"WBGene00165589\"; gene_source \"WormBase\"; gene_biotype \"piRNA\";\n"
     ]
    },
    {
     "name": "stdout",
     "output_type": "stream",
     "text": [
      "working on gene gene_id \"WBGene00002043\"; gene_source \"WormBase\"; gene_biotype \"protein_coding\";\n"
     ]
    },
    {
     "name": "stdout",
     "output_type": "stream",
     "text": [
      "working on gene gene_id \"WBGene00022005\"; gene_source \"WormBase\"; gene_biotype \"protein_coding\";\n"
     ]
    },
    {
     "name": "stdout",
     "output_type": "stream",
     "text": [
      "working on gene gene_id \"WBGene00018338\"; gene_source \"WormBase\"; gene_biotype \"protein_coding\";\n"
     ]
    },
    {
     "name": "stdout",
     "output_type": "stream",
     "text": [
      "working on gene gene_id \"WBGene00016770\"; gene_source \"WormBase\"; gene_biotype \"protein_coding\";\n"
     ]
    },
    {
     "name": "stdout",
     "output_type": "stream",
     "text": [
      "working on gene gene_id \"WBGene00174465\"; gene_source \"WormBase\"; gene_biotype \"piRNA\";\n"
     ]
    },
    {
     "name": "stdout",
     "output_type": "stream",
     "text": [
      "working on gene gene_id \"WBGene00019231\"; gene_source \"WormBase\"; gene_biotype \"protein_coding\";\n"
     ]
    },
    {
     "name": "stdout",
     "output_type": "stream",
     "text": [
      "working on gene gene_id \"WBGene00012122\"; gene_source \"WormBase\"; gene_biotype \"protein_coding\";\n"
     ]
    },
    {
     "name": "stdout",
     "output_type": "stream",
     "text": [
      "working on gene gene_id \"WBGene00011708\"; gene_source \"WormBase\"; gene_biotype \"protein_coding\";\n"
     ]
    },
    {
     "name": "stdout",
     "output_type": "stream",
     "text": [
      "working on gene gene_id \"WBGene00199951\"; gene_source \"WormBase\"; gene_biotype \"ncRNA\";\n"
     ]
    },
    {
     "name": "stdout",
     "output_type": "stream",
     "text": [
      "working on gene gene_id \"WBGene00170026\"; gene_source \"WormBase\"; gene_biotype \"piRNA\";\n"
     ]
    },
    {
     "name": "stdout",
     "output_type": "stream",
     "text": [
      "working on gene gene_id \"WBGene00219575\"; gene_source \"WormBase\"; gene_biotype \"antisense\";\n"
     ]
    },
    {
     "name": "stdout",
     "output_type": "stream",
     "text": [
      "working on gene gene_id \"WBGene00000693\"; gene_source \"WormBase\"; gene_biotype \"protein_coding\";\n"
     ]
    },
    {
     "name": "stdout",
     "output_type": "stream",
     "text": [
      "working on gene gene_id \"WBGene00013514\"; gene_source \"WormBase\"; gene_biotype \"protein_coding\";\n"
     ]
    },
    {
     "name": "stdout",
     "output_type": "stream",
     "text": [
      "working on gene gene_id \"WBGene00000120\"; gene_source \"WormBase\"; gene_biotype \"protein_coding\";\n"
     ]
    },
    {
     "name": "stdout",
     "output_type": "stream",
     "text": [
      "working on gene gene_id \"WBGene00168744\"; gene_source \"WormBase\"; gene_biotype \"piRNA\";\n"
     ]
    },
    {
     "name": "stdout",
     "output_type": "stream",
     "text": [
      "working on gene gene_id \"WBGene00165305\"; gene_source \"WormBase\"; gene_biotype \"piRNA\";\n"
     ]
    },
    {
     "name": "stdout",
     "output_type": "stream",
     "text": [
      "working on gene gene_id \"WBGene00220132\"; gene_source \"WormBase\"; gene_biotype \"snoRNA\";\n"
     ]
    },
    {
     "name": "stdout",
     "output_type": "stream",
     "text": [
      "working on gene gene_id \"WBGene00010410\"; gene_source \"WormBase\"; gene_biotype \"protein_coding\";\n"
     ]
    },
    {
     "name": "stdout",
     "output_type": "stream",
     "text": [
      "working on gene gene_id \"WBGene00010149\"; gene_source \"WormBase\"; gene_biotype \"protein_coding\";\n"
     ]
    },
    {
     "name": "stdout",
     "output_type": "stream",
     "text": [
      "working on gene gene_id \"WBGene00000775\"; gene_source \"WormBase\"; gene_biotype \"protein_coding\";\n"
     ]
    },
    {
     "name": "stdout",
     "output_type": "stream",
     "text": [
      "working on gene gene_id \"WBGene00166720\"; gene_source \"WormBase\"; gene_biotype \"piRNA\";\n"
     ]
    },
    {
     "name": "stdout",
     "output_type": "stream",
     "text": [
      "working on gene gene_id \"WBGene00045194\"; gene_source \"WormBase\"; gene_biotype \"snRNA\";\n"
     ]
    },
    {
     "name": "stdout",
     "output_type": "stream",
     "text": [
      "working on gene gene_id \"WBGene00174008\"; gene_source \"WormBase\"; gene_biotype \"piRNA\";\n"
     ]
    },
    {
     "name": "stdout",
     "output_type": "stream",
     "text": [
      "working on gene gene_id \"WBGene00202037\"; gene_source \"WormBase\"; gene_biotype \"ncRNA\";\n"
     ]
    },
    {
     "name": "stdout",
     "output_type": "stream",
     "text": [
      "working on gene gene_id \"WBGene00170277\"; gene_source \"WormBase\"; gene_biotype \"piRNA\";\n"
     ]
    },
    {
     "name": "stdout",
     "output_type": "stream",
     "text": [
      "working on gene gene_id \"WBGene00219597\"; gene_source \"WormBase\"; gene_biotype \"antisense\";\n"
     ]
    },
    {
     "name": "stdout",
     "output_type": "stream",
     "text": [
      "working on gene gene_id \"WBGene00170904\"; gene_source \"WormBase\"; gene_biotype \"piRNA\";\n"
     ]
    },
    {
     "name": "stdout",
     "output_type": "stream",
     "text": [
      "working on gene gene_id \"WBGene00169089\"; gene_source \"WormBase\"; gene_biotype \"piRNA\";\n"
     ]
    },
    {
     "name": "stdout",
     "output_type": "stream",
     "text": [
      "working on gene gene_id \"WBGene00010639\"; gene_source \"WormBase\"; gene_biotype \"protein_coding\";\n"
     ]
    },
    {
     "name": "stdout",
     "output_type": "stream",
     "text": [
      "working on gene gene_id \"WBGene00196943\"; gene_source \"WormBase\"; gene_biotype \"ncRNA\";\n"
     ]
    },
    {
     "name": "stdout",
     "output_type": "stream",
     "text": [
      "working on gene gene_id \"WBGene00166523\"; gene_source \"WormBase\"; gene_biotype \"piRNA\";\n"
     ]
    },
    {
     "name": "stdout",
     "output_type": "stream",
     "text": [
      "working on gene gene_id \"WBGene00008511\"; gene_source \"WormBase\"; gene_biotype \"protein_coding\";\n"
     ]
    },
    {
     "name": "stdout",
     "output_type": "stream",
     "text": [
      "working on gene gene_id \"WBGene00201052\"; gene_source \"WormBase\"; gene_biotype \"ncRNA\";\n"
     ]
    },
    {
     "name": "stdout",
     "output_type": "stream",
     "text": [
      "working on gene gene_id \"WBGene00220025\"; gene_source \"WormBase\"; gene_biotype \"ncRNA\";\n"
     ]
    },
    {
     "name": "stdout",
     "output_type": "stream",
     "text": [
      "working on gene gene_id \"WBGene00011223\"; gene_source \"WormBase\"; gene_biotype \"protein_coding\";\n"
     ]
    },
    {
     "name": "stdout",
     "output_type": "stream",
     "text": [
      "working on gene gene_id \"WBGene00195626\"; gene_source \"WormBase\"; gene_biotype \"ncRNA\";\n"
     ]
    },
    {
     "name": "stdout",
     "output_type": "stream",
     "text": [
      "working on gene gene_id \"WBGene00169227\"; gene_source \"WormBase\"; gene_biotype \"piRNA\";\n"
     ]
    },
    {
     "name": "stdout",
     "output_type": "stream",
     "text": [
      "working on gene gene_id \"WBGene00007265\"; gene_source \"WormBase\"; gene_biotype \"protein_coding\";\n"
     ]
    },
    {
     "name": "stdout",
     "output_type": "stream",
     "text": [
      "working on gene gene_id \"WBGene00169589\"; gene_source \"WormBase\"; gene_biotype \"piRNA\";\n"
     ]
    },
    {
     "name": "stdout",
     "output_type": "stream",
     "text": [
      "working on gene gene_id \"WBGene00169900\"; gene_source \"WormBase\"; gene_biotype \"piRNA\";\n"
     ]
    },
    {
     "name": "stdout",
     "output_type": "stream",
     "text": [
      "working on gene gene_id \"WBGene00003568\"; gene_source \"WormBase\"; gene_biotype \"protein_coding\";\n"
     ]
    },
    {
     "name": "stdout",
     "output_type": "stream",
     "text": [
      "working on gene gene_id \"WBGene00013858\"; gene_source \"WormBase\"; gene_biotype \"protein_coding\";\n"
     ]
    },
    {
     "name": "stdout",
     "output_type": "stream",
     "text": [
      "working on gene gene_id \"WBGene00012016\"; gene_source \"WormBase\"; gene_biotype \"protein_coding\";\n"
     ]
    },
    {
     "name": "stdout",
     "output_type": "stream",
     "text": [
      "working on gene gene_id \"WBGene00197535\"; gene_source \"WormBase\"; gene_biotype \"ncRNA\";\n"
     ]
    },
    {
     "name": "stdout",
     "output_type": "stream",
     "text": [
      "working on gene gene_id \"WBGene00200838\"; gene_source \"WormBase\"; gene_biotype \"ncRNA\";\n"
     ]
    },
    {
     "name": "stdout",
     "output_type": "stream",
     "text": [
      "working on gene gene_id \"WBGene00013478\"; gene_source \"WormBase\"; gene_biotype \"protein_coding\";\n"
     ]
    },
    {
     "name": "stdout",
     "output_type": "stream",
     "text": [
      "working on gene gene_id \"WBGene00003325\"; gene_source \"WormBase\"; gene_biotype \"miRNA\";\n"
     ]
    },
    {
     "name": "stdout",
     "output_type": "stream",
     "text": [
      "working on gene gene_id \"WBGene00196564\"; gene_source \"WormBase\"; gene_biotype \"ncRNA\";\n"
     ]
    },
    {
     "name": "stdout",
     "output_type": "stream",
     "text": [
      "working on gene gene_id \"WBGene00012384\"; gene_source \"WormBase\"; gene_biotype \"pseudogene\";\n"
     ]
    },
    {
     "name": "stdout",
     "output_type": "stream",
     "text": [
      "working on gene gene_id \"WBGene00219576\"; gene_source \"WormBase\"; gene_biotype \"antisense\";\n"
     ]
    },
    {
     "name": "stdout",
     "output_type": "stream",
     "text": [
      "working on gene gene_id \"WBGene00011127\"; gene_source \"WormBase\"; gene_biotype \"protein_coding\";\n"
     ]
    },
    {
     "name": "stdout",
     "output_type": "stream",
     "text": [
      "working on gene gene_id \"WBGene00201716\"; gene_source \"WormBase\"; gene_biotype \"ncRNA\";\n"
     ]
    },
    {
     "name": "stdout",
     "output_type": "stream",
     "text": [
      "working on gene gene_id \"WBGene00174764\"; gene_source \"WormBase\"; gene_biotype \"piRNA\";\n"
     ]
    },
    {
     "name": "stdout",
     "output_type": "stream",
     "text": [
      "working on gene gene_id \"WBGene00010352\"; gene_source \"WormBase\"; gene_biotype \"protein_coding\";\n"
     ]
    },
    {
     "name": "stdout",
     "output_type": "stream",
     "text": [
      "working on gene gene_id \"WBGene00202103\"; gene_source \"WormBase\"; gene_biotype \"ncRNA\";\n"
     ]
    },
    {
     "name": "stdout",
     "output_type": "stream",
     "text": [
      "working on gene gene_id \"WBGene00045154\"; gene_source \"WormBase\"; gene_biotype \"snoRNA\";\n"
     ]
    },
    {
     "name": "stdout",
     "output_type": "stream",
     "text": [
      "working on gene gene_id \"WBGene00219991\"; gene_source \"WormBase\"; gene_biotype \"ncRNA\";\n"
     ]
    },
    {
     "name": "stdout",
     "output_type": "stream",
     "text": [
      "working on gene gene_id \"WBGene00010848\"; gene_source \"WormBase\"; gene_biotype \"protein_coding\";\n"
     ]
    },
    {
     "name": "stdout",
     "output_type": "stream",
     "text": [
      "working on gene gene_id \"WBGene00202182\"; gene_source \"WormBase\"; gene_biotype \"ncRNA\";\n"
     ]
    },
    {
     "name": "stdout",
     "output_type": "stream",
     "text": [
      "working on gene gene_id \"WBGene00012498\"; gene_source \"WormBase\"; gene_biotype \"pseudogene\";\n"
     ]
    },
    {
     "name": "stdout",
     "output_type": "stream",
     "text": [
      "working on gene gene_id \"WBGene00200172\"; gene_source \"WormBase\"; gene_biotype \"ncRNA\";\n"
     ]
    },
    {
     "name": "stdout",
     "output_type": "stream",
     "text": [
      "working on gene gene_id \"WBGene00011723\"; gene_source \"WormBase\"; gene_biotype \"protein_coding\";\n"
     ]
    },
    {
     "name": "stdout",
     "output_type": "stream",
     "text": [
      "working on gene gene_id \"WBGene00011725\"; gene_source \"WormBase\"; gene_biotype \"protein_coding\";\n"
     ]
    },
    {
     "name": "stdout",
     "output_type": "stream",
     "text": [
      "working on gene gene_id \"WBGene00002827\"; gene_source \"WormBase\"; gene_biotype \"protein_coding\";\n"
     ]
    },
    {
     "name": "stdout",
     "output_type": "stream",
     "text": [
      "working on gene gene_id \"WBGene00196079\"; gene_source \"WormBase\"; gene_biotype \"ncRNA\";\n"
     ]
    },
    {
     "name": "stdout",
     "output_type": "stream",
     "text": [
      "working on gene gene_id \"WBGene00014009\"; gene_source \"WormBase\"; gene_biotype \"protein_coding\";\n"
     ]
    },
    {
     "name": "stdout",
     "output_type": "stream",
     "text": [
      "working on gene gene_id \"WBGene00168499\"; gene_source \"WormBase\"; gene_biotype \"piRNA\";\n"
     ]
    },
    {
     "name": "stdout",
     "output_type": "stream",
     "text": [
      "working on gene gene_id \"WBGene00200689\"; gene_source \"WormBase\"; gene_biotype \"ncRNA\";\n"
     ]
    },
    {
     "name": "stdout",
     "output_type": "stream",
     "text": [
      "working on gene gene_id \"WBGene00166066\"; gene_source \"WormBase\"; gene_biotype \"piRNA\";\n"
     ]
    },
    {
     "name": "stdout",
     "output_type": "stream",
     "text": [
      "working on gene gene_id \"WBGene00173495\"; gene_source \"WormBase\"; gene_biotype \"piRNA\";\n"
     ]
    },
    {
     "name": "stdout",
     "output_type": "stream",
     "text": [
      "working on gene gene_id \"WBGene00235167\"; gene_source \"WormBase\"; gene_biotype \"ncRNA\";\n"
     ]
    },
    {
     "name": "stdout",
     "output_type": "stream",
     "text": [
      "working on gene gene_id \"WBGene00045131\"; gene_source \"WormBase\"; gene_biotype \"pseudogene\";\n"
     ]
    },
    {
     "name": "stdout",
     "output_type": "stream",
     "text": [
      "working on gene gene_id \"WBGene00173327\"; gene_source \"WormBase\"; gene_biotype \"piRNA\";\n"
     ]
    },
    {
     "name": "stdout",
     "output_type": "stream",
     "text": [
      "working on gene gene_id \"WBGene00198279\"; gene_source \"WormBase\"; gene_biotype \"ncRNA\";\n"
     ]
    },
    {
     "name": "stdout",
     "output_type": "stream",
     "text": [
      "working on gene gene_id \"WBGene00014427\"; gene_source \"WormBase\"; gene_biotype \"tRNA\";\n"
     ]
    },
    {
     "name": "stdout",
     "output_type": "stream",
     "text": [
      "working on gene gene_id \"WBGene00013223\"; gene_source \"WormBase\"; gene_biotype \"protein_coding\";\n"
     ]
    },
    {
     "name": "stdout",
     "output_type": "stream",
     "text": [
      "working on gene gene_id \"WBGene00000186\"; gene_source \"WormBase\"; gene_biotype \"protein_coding\";\n"
     ]
    },
    {
     "name": "stdout",
     "output_type": "stream",
     "text": [
      "working on gene gene_id \"WBGene00198687\"; gene_source \"WormBase\"; gene_biotype \"ncRNA\";\n"
     ]
    },
    {
     "name": "stdout",
     "output_type": "stream",
     "text": [
      "working on gene gene_id \"WBGene00001452\"; gene_source \"WormBase\"; gene_biotype \"protein_coding\";\n"
     ]
    },
    {
     "name": "stdout",
     "output_type": "stream",
     "text": [
      "working on gene gene_id \"WBGene00220251\"; gene_source \"WormBase\"; gene_biotype \"ncRNA\";\n"
     ]
    },
    {
     "name": "stdout",
     "output_type": "stream",
     "text": [
      "working on gene gene_id \"WBGene00010829\"; gene_source \"WormBase\"; gene_biotype \"protein_coding\";\n"
     ]
    },
    {
     "name": "stdout",
     "output_type": "stream",
     "text": [
      "working on gene gene_id \"WBGene00010828\"; gene_source \"WormBase\"; gene_biotype \"protein_coding\";\n"
     ]
    },
    {
     "name": "stdout",
     "output_type": "stream",
     "text": [
      "working on gene gene_id \"WBGene00045198\"; gene_source \"WormBase\"; gene_biotype \"protein_coding\";\n"
     ]
    },
    {
     "name": "stdout",
     "output_type": "stream",
     "text": [
      "working on gene gene_id \"WBGene00166699\"; gene_source \"WormBase\"; gene_biotype \"piRNA\";\n"
     ]
    },
    {
     "name": "stdout",
     "output_type": "stream",
     "text": [
      "working on gene gene_id \"WBGene00007204\"; gene_source \"WormBase\"; gene_biotype \"protein_coding\";\n"
     ]
    },
    {
     "name": "stdout",
     "output_type": "stream",
     "text": [
      "working on gene gene_id \"WBGene00173590\"; gene_source \"WormBase\"; gene_biotype \"piRNA\";\n"
     ]
    },
    {
     "name": "stdout",
     "output_type": "stream",
     "text": [
      "working on gene gene_id \"WBGene00008623\"; gene_source \"WormBase\"; gene_biotype \"protein_coding\";\n"
     ]
    },
    {
     "name": "stdout",
     "output_type": "stream",
     "text": [
      "working on gene gene_id \"WBGene00196217\"; gene_source \"WormBase\"; gene_biotype \"ncRNA\";\n"
     ]
    },
    {
     "name": "stdout",
     "output_type": "stream",
     "text": [
      "working on gene gene_id \"WBGene00196912\"; gene_source \"WormBase\"; gene_biotype \"ncRNA\";\n"
     ]
    },
    {
     "name": "stdout",
     "output_type": "stream",
     "text": [
      "working on gene gene_id \"WBGene00206493\"; gene_source \"WormBase\"; gene_biotype \"protein_coding\";\n"
     ]
    },
    {
     "name": "stdout",
     "output_type": "stream",
     "text": [
      "working on gene gene_id \"WBGene00197610\"; gene_source \"WormBase\"; gene_biotype \"ncRNA\";\n"
     ]
    },
    {
     "name": "stdout",
     "output_type": "stream",
     "text": [
      "working on gene gene_id \"WBGene00012869\"; gene_source \"WormBase\"; gene_biotype \"protein_coding\";\n"
     ]
    },
    {
     "name": "stdout",
     "output_type": "stream",
     "text": [
      "working on gene gene_id \"WBGene00167613\"; gene_source \"WormBase\"; gene_biotype \"piRNA\";\n"
     ]
    },
    {
     "name": "stdout",
     "output_type": "stream",
     "text": [
      "working on gene gene_id \"WBGene00173084\"; gene_source \"WormBase\"; gene_biotype \"piRNA\";\n"
     ]
    },
    {
     "name": "stdout",
     "output_type": "stream",
     "text": [
      "working on gene gene_id \"WBGene00166104\"; gene_source \"WormBase\"; gene_biotype \"piRNA\";\n"
     ]
    },
    {
     "name": "stdout",
     "output_type": "stream",
     "text": [
      "working on gene gene_id \"WBGene00045884\"; gene_source \"WormBase\"; gene_biotype \"piRNA\";\n"
     ]
    },
    {
     "name": "stdout",
     "output_type": "stream",
     "text": [
      "working on gene gene_id \"WBGene00045006\"; gene_source \"WormBase\"; gene_biotype \"pseudogene\";\n"
     ]
    },
    {
     "name": "stdout",
     "output_type": "stream",
     "text": [
      "working on gene gene_id \"WBGene00170691\"; gene_source \"WormBase\"; gene_biotype \"piRNA\";\n"
     ]
    },
    {
     "name": "stdout",
     "output_type": "stream",
     "text": [
      "working on gene gene_id \"WBGene00044258\"; gene_source \"WormBase\"; gene_biotype \"protein_coding\";\n"
     ]
    },
    {
     "name": "stdout",
     "output_type": "stream",
     "text": [
      "working on gene gene_id \"WBGene00220157\"; gene_source \"WormBase\"; gene_biotype \"snoRNA\";\n"
     ]
    },
    {
     "name": "stdout",
     "output_type": "stream",
     "text": [
      "working on gene gene_id \"WBGene00198559\"; gene_source \"WormBase\"; gene_biotype \"ncRNA\";\n"
     ]
    },
    {
     "name": "stdout",
     "output_type": "stream",
     "text": [
      "working on gene gene_id \"WBGene00172512\"; gene_source \"WormBase\"; gene_biotype \"piRNA\";\n"
     ]
    },
    {
     "name": "stdout",
     "output_type": "stream",
     "text": [
      "working on gene gene_id \"WBGene00169152\"; gene_source \"WormBase\"; gene_biotype \"piRNA\";\n"
     ]
    },
    {
     "name": "stdout",
     "output_type": "stream",
     "text": [
      "working on gene gene_id \"WBGene00173432\"; gene_source \"WormBase\"; gene_biotype \"piRNA\";\n"
     ]
    },
    {
     "name": "stdout",
     "output_type": "stream",
     "text": [
      "working on gene gene_id \"WBGene00047574\"; gene_source \"WormBase\"; gene_biotype \"piRNA\";\n"
     ]
    },
    {
     "name": "stdout",
     "output_type": "stream",
     "text": [
      "working on gene gene_id \"WBGene00046878\"; gene_source \"WormBase\"; gene_biotype \"piRNA\";\n"
     ]
    },
    {
     "name": "stdout",
     "output_type": "stream",
     "text": [
      "working on gene gene_id \"WBGene00014599\"; gene_source \"WormBase\"; gene_biotype \"tRNA\";\n"
     ]
    },
    {
     "name": "stdout",
     "output_type": "stream",
     "text": [
      "working on gene gene_id \"WBGene00013419\"; gene_source \"WormBase\"; gene_biotype \"protein_coding\";\n"
     ]
    },
    {
     "name": "stdout",
     "output_type": "stream",
     "text": [
      "working on gene gene_id \"WBGene00013099\"; gene_source \"WormBase\"; gene_biotype \"protein_coding\";\n"
     ]
    },
    {
     "name": "stdout",
     "output_type": "stream",
     "text": [
      "working on gene gene_id \"WBGene00165298\"; gene_source \"WormBase\"; gene_biotype \"piRNA\";\n"
     ]
    },
    {
     "name": "stdout",
     "output_type": "stream",
     "text": [
      "working on gene gene_id \"WBGene00045321\"; gene_source \"WormBase\"; gene_biotype \"pseudogene\";\n"
     ]
    },
    {
     "name": "stdout",
     "output_type": "stream",
     "text": [
      "working on gene gene_id \"WBGene00195757\"; gene_source \"WormBase\"; gene_biotype \"ncRNA\";\n"
     ]
    },
    {
     "name": "stdout",
     "output_type": "stream",
     "text": [
      "working on gene gene_id \"WBGene00048150\"; gene_source \"WormBase\"; gene_biotype \"piRNA\";\n"
     ]
    },
    {
     "name": "stdout",
     "output_type": "stream",
     "text": [
      "working on gene gene_id \"WBGene00165955\"; gene_source \"WormBase\"; gene_biotype \"piRNA\";\n"
     ]
    },
    {
     "name": "stdout",
     "output_type": "stream",
     "text": [
      "working on gene gene_id \"WBGene00011374\"; gene_source \"WormBase\"; gene_biotype \"protein_coding\";\n"
     ]
    },
    {
     "name": "stdout",
     "output_type": "stream",
     "text": [
      "working on gene gene_id \"WBGene00195502\"; gene_source \"WormBase\"; gene_biotype \"ncRNA\";\n"
     ]
    },
    {
     "name": "stdout",
     "output_type": "stream",
     "text": [
      "working on gene gene_id \"WBGene00023131\"; gene_source \"WormBase\"; gene_biotype \"tRNA\";\n"
     ]
    },
    {
     "name": "stdout",
     "output_type": "stream",
     "text": [
      "working on gene gene_id \"WBGene00201447\"; gene_source \"WormBase\"; gene_biotype \"ncRNA\";\n"
     ]
    },
    {
     "name": "stdout",
     "output_type": "stream",
     "text": [
      "working on gene gene_id \"WBGene00197291\"; gene_source \"WormBase\"; gene_biotype \"ncRNA\";\n"
     ]
    },
    {
     "name": "stdout",
     "output_type": "stream",
     "text": [
      "working on gene gene_id \"WBGene00021396\"; gene_source \"WormBase\"; gene_biotype \"protein_coding\";\n"
     ]
    },
    {
     "name": "stdout",
     "output_type": "stream",
     "text": [
      "working on gene gene_id \"WBGene00019298\"; gene_source \"WormBase\"; gene_biotype \"protein_coding\";\n"
     ]
    },
    {
     "name": "stdout",
     "output_type": "stream",
     "text": [
      "working on gene gene_id \"WBGene00197593\"; gene_source \"WormBase\"; gene_biotype \"ncRNA\";\n"
     ]
    },
    {
     "name": "stdout",
     "output_type": "stream",
     "text": [
      "working on gene gene_id \"WBGene00220192\"; gene_source \"WormBase\"; gene_biotype \"snoRNA\";\n"
     ]
    },
    {
     "name": "stdout",
     "output_type": "stream",
     "text": [
      "working on gene gene_id \"WBGene00220031\"; gene_source \"WormBase\"; gene_biotype \"ncRNA\";\n"
     ]
    },
    {
     "name": "stdout",
     "output_type": "stream",
     "text": [
      "working on gene gene_id \"WBGene00001625\"; gene_source \"WormBase\"; gene_biotype \"protein_coding\";\n"
     ]
    },
    {
     "name": "stdout",
     "output_type": "stream",
     "text": [
      "working on gene gene_id \"WBGene00015497\"; gene_source \"WormBase\"; gene_biotype \"protein_coding\";\n"
     ]
    },
    {
     "name": "stdout",
     "output_type": "stream",
     "text": [
      "working on gene gene_id \"WBGene00023106\"; gene_source \"WormBase\"; gene_biotype \"tRNA\";\n"
     ]
    },
    {
     "name": "stdout",
     "output_type": "stream",
     "text": [
      "working on gene gene_id \"WBGene00021950\"; gene_source \"WormBase\"; gene_biotype \"protein_coding\";\n"
     ]
    },
    {
     "name": "stdout",
     "output_type": "stream",
     "text": [
      "working on gene gene_id \"WBGene00168241\"; gene_source \"WormBase\"; gene_biotype \"piRNA\";\n"
     ]
    },
    {
     "name": "stdout",
     "output_type": "stream",
     "text": [
      "working on gene gene_id \"WBGene00196878\"; gene_source \"WormBase\"; gene_biotype \"ncRNA\";\n"
     ]
    },
    {
     "name": "stdout",
     "output_type": "stream",
     "text": [
      "working on gene gene_id \"WBGene00201671\"; gene_source \"WormBase\"; gene_biotype \"ncRNA\";\n"
     ]
    },
    {
     "name": "stdout",
     "output_type": "stream",
     "text": [
      "working on gene gene_id \"WBGene00196058\"; gene_source \"WormBase\"; gene_biotype \"ncRNA\";\n"
     ]
    },
    {
     "name": "stdout",
     "output_type": "stream",
     "text": [
      "working on gene gene_id \"WBGene00019072\"; gene_source \"WormBase\"; gene_biotype \"protein_coding\";\n"
     ]
    },
    {
     "name": "stdout",
     "output_type": "stream",
     "text": [
      "working on gene gene_id \"WBGene00019068\"; gene_source \"WormBase\"; gene_biotype \"protein_coding\";\n"
     ]
    },
    {
     "name": "stdout",
     "output_type": "stream",
     "text": [
      "working on gene gene_id \"WBGene00220181\"; gene_source \"WormBase\"; gene_biotype \"snoRNA\";\n"
     ]
    },
    {
     "name": "stdout",
     "output_type": "stream",
     "text": [
      "working on gene gene_id \"WBGene00021931\"; gene_source \"WormBase\"; gene_biotype \"protein_coding\";\n"
     ]
    },
    {
     "name": "stdout",
     "output_type": "stream",
     "text": [
      "working on gene gene_id \"WBGene00202064\"; gene_source \"WormBase\"; gene_biotype \"ncRNA\";\n"
     ]
    },
    {
     "name": "stdout",
     "output_type": "stream",
     "text": [
      "working on gene gene_id \"WBGene00016639\"; gene_source \"WormBase\"; gene_biotype \"protein_coding\";\n"
     ]
    },
    {
     "name": "stdout",
     "output_type": "stream",
     "text": [
      "working on gene gene_id \"WBGene00023257\"; gene_source \"WormBase\"; gene_biotype \"pseudogene\";\n"
     ]
    },
    {
     "name": "stdout",
     "output_type": "stream",
     "text": [
      "working on gene gene_id \"WBGene00219437\"; gene_source \"WormBase\"; gene_biotype \"protein_coding\";\n"
     ]
    },
    {
     "name": "stdout",
     "output_type": "stream",
     "text": [
      "working on gene gene_id \"WBGene00196976\"; gene_source \"WormBase\"; gene_biotype \"ncRNA\";\n"
     ]
    },
    {
     "name": "stdout",
     "output_type": "stream",
     "text": [
      "working on gene gene_id \"WBGene00001103\"; gene_source \"WormBase\"; gene_biotype \"protein_coding\";\n"
     ]
    },
    {
     "name": "stdout",
     "output_type": "stream",
     "text": [
      "working on gene gene_id \"WBGene00007476\"; gene_source \"WormBase\"; gene_biotype \"protein_coding\";\n"
     ]
    },
    {
     "name": "stdout",
     "output_type": "stream",
     "text": [
      "working on gene gene_id \"WBGene00023305\"; gene_source \"WormBase\"; gene_biotype \"pseudogene\";\n"
     ]
    },
    {
     "name": "stdout",
     "output_type": "stream",
     "text": [
      "working on gene gene_id \"WBGene00019052\"; gene_source \"WormBase\"; gene_biotype \"protein_coding\";\n"
     ]
    },
    {
     "name": "stdout",
     "output_type": "stream",
     "text": [
      "working on gene gene_id \"WBGene00023202\"; gene_source \"WormBase\"; gene_biotype \"tRNA\";\n"
     ]
    },
    {
     "name": "stdout",
     "output_type": "stream",
     "text": [
      "working on gene gene_id \"WBGene00199927\"; gene_source \"WormBase\"; gene_biotype \"ncRNA\";\n"
     ]
    },
    {
     "name": "stdout",
     "output_type": "stream",
     "text": [
      "working on gene gene_id \"WBGene00022308\"; gene_source \"WormBase\"; gene_biotype \"protein_coding\";\n"
     ]
    },
    {
     "name": "stdout",
     "output_type": "stream",
     "text": [
      "working on gene gene_id \"WBGene00220213\"; gene_source \"WormBase\"; gene_biotype \"snoRNA\";\n"
     ]
    },
    {
     "name": "stdout",
     "output_type": "stream",
     "text": [
      "working on gene gene_id \"WBGene00023394\"; gene_source \"WormBase\"; gene_biotype \"pseudogene\";\n"
     ]
    },
    {
     "name": "stdout",
     "output_type": "stream",
     "text": [
      "working on gene gene_id \"WBGene00195474\"; gene_source \"WormBase\"; gene_biotype \"ncRNA\";\n"
     ]
    },
    {
     "name": "stdout",
     "output_type": "stream",
     "text": [
      "working on gene gene_id \"WBGene00220152\"; gene_source \"WormBase\"; gene_biotype \"ncRNA\";\n"
     ]
    },
    {
     "name": "stdout",
     "output_type": "stream",
     "text": [
      "working on gene gene_id \"WBGene00021516\"; gene_source \"WormBase\"; gene_biotype \"protein_coding\";\n"
     ]
    },
    {
     "name": "stdout",
     "output_type": "stream",
     "text": [
      "working on gene gene_id \"WBGene00220154\"; gene_source \"WormBase\"; gene_biotype \"ncRNA\";\n"
     ]
    },
    {
     "name": "stdout",
     "output_type": "stream",
     "text": [
      "working on gene gene_id \"WBGene00200640\"; gene_source \"WormBase\"; gene_biotype \"ncRNA\";\n"
     ]
    },
    {
     "name": "stdout",
     "output_type": "stream",
     "text": [
      "working on gene gene_id \"WBGene00197111\"; gene_source \"WormBase\"; gene_biotype \"ncRNA\";\n"
     ]
    },
    {
     "name": "stdout",
     "output_type": "stream",
     "text": [
      "working on gene gene_id \"WBGene00019536\"; gene_source \"WormBase\"; gene_biotype \"protein_coding\";\n"
     ]
    },
    {
     "name": "stdout",
     "output_type": "stream",
     "text": [
      "working on gene gene_id \"WBGene00021505\"; gene_source \"WormBase\"; gene_biotype \"protein_coding\";\n"
     ]
    },
    {
     "name": "stdout",
     "output_type": "stream",
     "text": [
      "working on gene gene_id \"WBGene00021510\"; gene_source \"WormBase\"; gene_biotype \"protein_coding\";\n"
     ]
    },
    {
     "name": "stdout",
     "output_type": "stream",
     "text": [
      "working on gene gene_id \"WBGene00198094\"; gene_source \"WormBase\"; gene_biotype \"ncRNA\";\n"
     ]
    },
    {
     "name": "stdout",
     "output_type": "stream",
     "text": [
      "working on gene gene_id \"WBGene00198204\"; gene_source \"WormBase\"; gene_biotype \"ncRNA\";\n"
     ]
    },
    {
     "name": "stdout",
     "output_type": "stream",
     "text": [
      "working on gene gene_id \"WBGene00001173\"; gene_source \"WormBase\"; gene_biotype \"protein_coding\";\n"
     ]
    },
    {
     "name": "stdout",
     "output_type": "stream",
     "text": [
      "working on gene gene_id \"WBGene00196527\"; gene_source \"WormBase\"; gene_biotype \"ncRNA\";\n"
     ]
    },
    {
     "name": "stdout",
     "output_type": "stream",
     "text": [
      "working on gene gene_id \"WBGene00201141\"; gene_source \"WormBase\"; gene_biotype \"ncRNA\";\n"
     ]
    },
    {
     "name": "stdout",
     "output_type": "stream",
     "text": [
      "working on gene gene_id \"WBGene00019874\"; gene_source \"WormBase\"; gene_biotype \"protein_coding\";\n"
     ]
    },
    {
     "name": "stdout",
     "output_type": "stream",
     "text": [
      "working on gene gene_id \"WBGene00019873\"; gene_source \"WormBase\"; gene_biotype \"protein_coding\";\n"
     ]
    },
    {
     "name": "stdout",
     "output_type": "stream",
     "text": [
      "working on gene gene_id \"WBGene00235274\"; gene_source \"WormBase\"; gene_biotype \"protein_coding\";\n"
     ]
    },
    {
     "name": "stdout",
     "output_type": "stream",
     "text": [
      "working on gene gene_id \"WBGene00016919\"; gene_source \"WormBase\"; gene_biotype \"protein_coding\";\n"
     ]
    },
    {
     "name": "stdout",
     "output_type": "stream",
     "text": [
      "working on gene gene_id \"WBGene00044650\"; gene_source \"WormBase\"; gene_biotype \"protein_coding\";\n"
     ]
    },
    {
     "name": "stdout",
     "output_type": "stream",
     "text": [
      "working on gene gene_id \"WBGene00235277\"; gene_source \"WormBase\"; gene_biotype \"protein_coding\";\n"
     ]
    },
    {
     "name": "stdout",
     "output_type": "stream",
     "text": [
      "working on gene gene_id \"WBGene00202285\"; gene_source \"WormBase\"; gene_biotype \"ncRNA\";\n"
     ]
    },
    {
     "name": "stdout",
     "output_type": "stream",
     "text": [
      "working on gene gene_id \"WBGene00165356\"; gene_source \"WormBase\"; gene_biotype \"piRNA\";\n"
     ]
    },
    {
     "name": "stdout",
     "output_type": "stream",
     "text": [
      "working on gene gene_id \"WBGene00023467\"; gene_source \"WormBase\"; gene_biotype \"snoRNA\";\n"
     ]
    },
    {
     "name": "stdout",
     "output_type": "stream",
     "text": [
      "working on gene gene_id \"WBGene00235340\"; gene_source \"WormBase\"; gene_biotype \"protein_coding\";\n"
     ]
    },
    {
     "name": "stdout",
     "output_type": "stream",
     "text": [
      "working on gene gene_id \"WBGene00016668\"; gene_source \"WormBase\"; gene_biotype \"protein_coding\";\n"
     ]
    },
    {
     "name": "stdout",
     "output_type": "stream",
     "text": [
      "working on gene gene_id \"WBGene00022093\"; gene_source \"WormBase\"; gene_biotype \"protein_coding\";\n"
     ]
    },
    {
     "name": "stdout",
     "output_type": "stream",
     "text": [
      "working on gene gene_id \"WBGene00198527\"; gene_source \"WormBase\"; gene_biotype \"ncRNA\";\n"
     ]
    },
    {
     "name": "stdout",
     "output_type": "stream",
     "text": [
      "working on gene gene_id \"WBGene00235343\"; gene_source \"WormBase\"; gene_biotype \"protein_coding\";\n"
     ]
    },
    {
     "name": "stdout",
     "output_type": "stream",
     "text": [
      "working on gene gene_id \"WBGene00003595\"; gene_source \"WormBase\"; gene_biotype \"protein_coding\";\n"
     ]
    },
    {
     "name": "stdout",
     "output_type": "stream",
     "text": [
      "working on gene gene_id \"WBGene00023389\"; gene_source \"WormBase\"; gene_biotype \"pseudogene\";\n"
     ]
    },
    {
     "name": "stdout",
     "output_type": "stream",
     "text": [
      "working on gene gene_id \"WBGene00198581\"; gene_source \"WormBase\"; gene_biotype \"ncRNA\";\n"
     ]
    },
    {
     "name": "stdout",
     "output_type": "stream",
     "text": [
      "working on gene gene_id \"WBGene00044485\"; gene_source \"WormBase\"; gene_biotype \"protein_coding\";\n"
     ]
    },
    {
     "name": "stdout",
     "output_type": "stream",
     "text": [
      "working on gene gene_id \"WBGene00021876\"; gene_source \"WormBase\"; gene_biotype \"protein_coding\";\n"
     ]
    },
    {
     "name": "stdout",
     "output_type": "stream",
     "text": [
      "working on gene gene_id \"WBGene00169683\"; gene_source \"WormBase\"; gene_biotype \"piRNA\";\n"
     ]
    },
    {
     "name": "stdout",
     "output_type": "stream",
     "text": [
      "working on gene gene_id \"WBGene00021881\"; gene_source \"WormBase\"; gene_biotype \"protein_coding\";\n"
     ]
    },
    {
     "name": "stdout",
     "output_type": "stream",
     "text": [
      "working on gene gene_id \"WBGene00021889\"; gene_source \"WormBase\"; gene_biotype \"pseudogene\";\n"
     ]
    },
    {
     "name": "stdout",
     "output_type": "stream",
     "text": [
      "working on gene gene_id \"WBGene00189961\"; gene_source \"WormBase\"; gene_biotype \"protein_coding\";\n"
     ]
    },
    {
     "name": "stdout",
     "output_type": "stream",
     "text": [
      "working on gene gene_id \"WBGene00198012\"; gene_source \"WormBase\"; gene_biotype \"ncRNA\";\n"
     ]
    },
    {
     "name": "stdout",
     "output_type": "stream",
     "text": [
      "working on gene gene_id \"WBGene00198247\"; gene_source \"WormBase\"; gene_biotype \"ncRNA\";\n"
     ]
    },
    {
     "name": "stdout",
     "output_type": "stream",
     "text": [
      "working on gene gene_id \"WBGene00023187\"; gene_source \"WormBase\"; gene_biotype \"ncRNA\";\n"
     ]
    },
    {
     "name": "stdout",
     "output_type": "stream",
     "text": [
      "working on gene gene_id \"WBGene00020728\"; gene_source \"WormBase\"; gene_biotype \"protein_coding\";\n"
     ]
    },
    {
     "name": "stdout",
     "output_type": "stream",
     "text": [
      "working on gene gene_id \"WBGene00022063\"; gene_source \"WormBase\"; gene_biotype \"protein_coding\";\n"
     ]
    },
    {
     "name": "stdout",
     "output_type": "stream",
     "text": [
      "working on gene gene_id \"WBGene00022062\"; gene_source \"WormBase\"; gene_biotype \"protein_coding\";\n"
     ]
    },
    {
     "name": "stdout",
     "output_type": "stream",
     "text": [
      "working on gene gene_id \"WBGene00197023\"; gene_source \"WormBase\"; gene_biotype \"ncRNA\";\n"
     ]
    },
    {
     "name": "stdout",
     "output_type": "stream",
     "text": [
      "working on gene gene_id \"WBGene00020833\"; gene_source \"WormBase\"; gene_biotype \"protein_coding\";\n"
     ]
    },
    {
     "name": "stdout",
     "output_type": "stream",
     "text": [
      "working on gene gene_id \"WBGene00196782\"; gene_source \"WormBase\"; gene_biotype \"ncRNA\";\n"
     ]
    },
    {
     "name": "stdout",
     "output_type": "stream",
     "text": [
      "working on gene gene_id \"WBGene00021082\"; gene_source \"WormBase\"; gene_biotype \"protein_coding\";\n"
     ]
    },
    {
     "name": "stdout",
     "output_type": "stream",
     "text": [
      "working on gene gene_id \"WBGene00166372\"; gene_source \"WormBase\"; gene_biotype \"piRNA\";\n"
     ]
    },
    {
     "name": "stdout",
     "output_type": "stream",
     "text": [
      "working on gene gene_id \"WBGene00195284\"; gene_source \"WormBase\"; gene_biotype \"ncRNA\";\n"
     ]
    },
    {
     "name": "stdout",
     "output_type": "stream",
     "text": [
      "working on gene gene_id \"WBGene00015413\"; gene_source \"WormBase\"; gene_biotype \"protein_coding\";\n"
     ]
    },
    {
     "name": "stdout",
     "output_type": "stream",
     "text": [
      "working on gene gene_id \"WBGene00022894\"; gene_source \"WormBase\"; gene_biotype \"tRNA\";\n"
     ]
    },
    {
     "name": "stdout",
     "output_type": "stream",
     "text": [
      "working on gene gene_id \"WBGene00006756\"; gene_source \"WormBase\"; gene_biotype \"protein_coding\";\n"
     ]
    },
    {
     "name": "stdout",
     "output_type": "stream",
     "text": [
      "working on gene gene_id \"WBGene00016987\"; gene_source \"WormBase\"; gene_biotype \"protein_coding\";\n"
     ]
    },
    {
     "name": "stdout",
     "output_type": "stream",
     "text": [
      "working on gene gene_id \"WBGene00021360\"; gene_source \"WormBase\"; gene_biotype \"pseudogene\";\n"
     ]
    },
    {
     "name": "stdout",
     "output_type": "stream",
     "text": [
      "working on gene gene_id \"WBGene00198320\"; gene_source \"WormBase\"; gene_biotype \"ncRNA\";\n"
     ]
    },
    {
     "name": "stdout",
     "output_type": "stream",
     "text": [
      "working on gene gene_id \"WBGene00195010\"; gene_source \"WormBase\"; gene_biotype \"protein_coding\";\n"
     ]
    },
    {
     "name": "stdout",
     "output_type": "stream",
     "text": [
      "working on gene gene_id \"WBGene00006869\"; gene_source \"WormBase\"; gene_biotype \"protein_coding\";\n"
     ]
    },
    {
     "name": "stdout",
     "output_type": "stream",
     "text": [
      "working on gene gene_id \"WBGene00198903\"; gene_source \"WormBase\"; gene_biotype \"ncRNA\";\n"
     ]
    },
    {
     "name": "stdout",
     "output_type": "stream",
     "text": [
      "working on gene gene_id \"WBGene00019726\"; gene_source \"WormBase\"; gene_biotype \"protein_coding\";\n"
     ]
    },
    {
     "name": "stdout",
     "output_type": "stream",
     "text": [
      "working on gene gene_id \"WBGene00198784\"; gene_source \"WormBase\"; gene_biotype \"ncRNA\";\n"
     ]
    },
    {
     "name": "stdout",
     "output_type": "stream",
     "text": [
      "working on gene gene_id \"WBGene00021583\"; gene_source \"WormBase\"; gene_biotype \"protein_coding\";\n"
     ]
    },
    {
     "name": "stdout",
     "output_type": "stream",
     "text": [
      "working on gene gene_id \"WBGene00005433\"; gene_source \"WormBase\"; gene_biotype \"protein_coding\";\n"
     ]
    },
    {
     "name": "stdout",
     "output_type": "stream",
     "text": [
      "working on gene gene_id \"WBGene00018551\"; gene_source \"WormBase\"; gene_biotype \"protein_coding\";\n"
     ]
    },
    {
     "name": "stdout",
     "output_type": "stream",
     "text": [
      "working on gene gene_id \"WBGene00020929\"; gene_source \"WormBase\"; gene_biotype \"protein_coding\";\n"
     ]
    },
    {
     "name": "stdout",
     "output_type": "stream",
     "text": [
      "working on gene gene_id \"WBGene00220113\"; gene_source \"WormBase\"; gene_biotype \"ncRNA\";\n"
     ]
    },
    {
     "name": "stdout",
     "output_type": "stream",
     "text": [
      "working on gene gene_id \"WBGene00219934\"; gene_source \"WormBase\"; gene_biotype \"ncRNA\";\n"
     ]
    },
    {
     "name": "stdout",
     "output_type": "stream",
     "text": [
      "working on gene gene_id \"WBGene00019535\"; gene_source \"WormBase\"; gene_biotype \"protein_coding\";\n"
     ]
    },
    {
     "name": "stdout",
     "output_type": "stream",
     "text": [
      "working on gene gene_id \"WBGene00017484\"; gene_source \"WormBase\"; gene_biotype \"protein_coding\";\n"
     ]
    },
    {
     "name": "stdout",
     "output_type": "stream",
     "text": [
      "working on gene gene_id \"WBGene00021285\"; gene_source \"WormBase\"; gene_biotype \"protein_coding\";\n"
     ]
    },
    {
     "name": "stdout",
     "output_type": "stream",
     "text": [
      "working on gene gene_id \"WBGene00220137\"; gene_source \"WormBase\"; gene_biotype \"ncRNA\";\n"
     ]
    },
    {
     "name": "stdout",
     "output_type": "stream",
     "text": [
      "working on gene gene_id \"WBGene00195363\"; gene_source \"WormBase\"; gene_biotype \"ncRNA\";\n"
     ]
    },
    {
     "name": "stdout",
     "output_type": "stream",
     "text": [
      "working on gene gene_id \"WBGene00045248\"; gene_source \"WormBase\"; gene_biotype \"protein_coding\";\n"
     ]
    },
    {
     "name": "stdout",
     "output_type": "stream",
     "text": [
      "working on gene gene_id \"WBGene00022681\"; gene_source \"WormBase\"; gene_biotype \"protein_coding\";\n"
     ]
    },
    {
     "name": "stdout",
     "output_type": "stream",
     "text": [
      "working on gene gene_id \"WBGene00200207\"; gene_source \"WormBase\"; gene_biotype \"ncRNA\";\n"
     ]
    },
    {
     "name": "stdout",
     "output_type": "stream",
     "text": [
      "working on gene gene_id \"WBGene00235120\"; gene_source \"WormBase\"; gene_biotype \"protein_coding\";\n"
     ]
    },
    {
     "name": "stdout",
     "output_type": "stream",
     "text": [
      "working on gene gene_id \"WBGene00019544\"; gene_source \"WormBase\"; gene_biotype \"protein_coding\";\n"
     ]
    },
    {
     "name": "stdout",
     "output_type": "stream",
     "text": [
      "working on gene gene_id \"WBGene00174596\"; gene_source \"WormBase\"; gene_biotype \"piRNA\";\n"
     ]
    },
    {
     "name": "stdout",
     "output_type": "stream",
     "text": [
      "working on gene gene_id \"WBGene00167692\"; gene_source \"WormBase\"; gene_biotype \"piRNA\";\n"
     ]
    },
    {
     "name": "stdout",
     "output_type": "stream",
     "text": [
      "working on gene gene_id \"WBGene00201766\"; gene_source \"WormBase\"; gene_biotype \"ncRNA\";\n"
     ]
    },
    {
     "name": "stdout",
     "output_type": "stream",
     "text": [
      "working on gene gene_id \"WBGene00173470\"; gene_source \"WormBase\"; gene_biotype \"piRNA\";\n"
     ]
    },
    {
     "name": "stdout",
     "output_type": "stream",
     "text": [
      "working on gene gene_id \"WBGene00235289\"; gene_source \"WormBase\"; gene_biotype \"protein_coding\";\n"
     ]
    },
    {
     "name": "stdout",
     "output_type": "stream",
     "text": [
      "working on gene gene_id \"WBGene00198597\"; gene_source \"WormBase\"; gene_biotype \"ncRNA\";\n"
     ]
    },
    {
     "name": "stdout",
     "output_type": "stream",
     "text": [
      "working on gene gene_id \"WBGene00220203\"; gene_source \"WormBase\"; gene_biotype \"snoRNA\";\n"
     ]
    },
    {
     "name": "stdout",
     "output_type": "stream",
     "text": [
      "working on gene gene_id \"WBGene00169358\"; gene_source \"WormBase\"; gene_biotype \"piRNA\";\n"
     ]
    },
    {
     "name": "stdout",
     "output_type": "stream",
     "text": [
      "working on gene gene_id \"WBGene00044503\"; gene_source \"WormBase\"; gene_biotype \"pseudogene\";\n"
     ]
    },
    {
     "name": "stdout",
     "output_type": "stream",
     "text": [
      "working on gene gene_id \"WBGene00167250\"; gene_source \"WormBase\"; gene_biotype \"piRNA\";\n"
     ]
    },
    {
     "name": "stdout",
     "output_type": "stream",
     "text": [
      "working on gene gene_id \"WBGene00168737\"; gene_source \"WormBase\"; gene_biotype \"piRNA\";\n"
     ]
    },
    {
     "name": "stdout",
     "output_type": "stream",
     "text": [
      "working on gene gene_id \"WBGene00165077\"; gene_source \"WormBase\"; gene_biotype \"piRNA\";\n"
     ]
    },
    {
     "name": "stdout",
     "output_type": "stream",
     "text": [
      "working on gene gene_id \"WBGene00167973\"; gene_source \"WormBase\"; gene_biotype \"piRNA\";\n"
     ]
    },
    {
     "name": "stdout",
     "output_type": "stream",
     "text": [
      "working on gene gene_id \"WBGene00165596\"; gene_source \"WormBase\"; gene_biotype \"piRNA\";\n"
     ]
    },
    {
     "name": "stdout",
     "output_type": "stream",
     "text": [
      "working on gene gene_id \"WBGene00018347\"; gene_source \"WormBase\"; gene_biotype \"protein_coding\";\n"
     ]
    },
    {
     "name": "stdout",
     "output_type": "stream",
     "text": [
      "working on gene gene_id \"WBGene00166413\"; gene_source \"WormBase\"; gene_biotype \"piRNA\";\n"
     ]
    },
    {
     "name": "stdout",
     "output_type": "stream",
     "text": [
      "working on gene gene_id \"WBGene00166567\"; gene_source \"WormBase\"; gene_biotype \"piRNA\";\n"
     ]
    },
    {
     "name": "stdout",
     "output_type": "stream",
     "text": [
      "working on gene gene_id \"WBGene00220067\"; gene_source \"WormBase\"; gene_biotype \"ncRNA\";\n"
     ]
    },
    {
     "name": "stdout",
     "output_type": "stream",
     "text": [
      "working on gene gene_id \"WBGene00195665\"; gene_source \"WormBase\"; gene_biotype \"ncRNA\";\n"
     ]
    },
    {
     "name": "stdout",
     "output_type": "stream",
     "text": [
      "working on gene gene_id \"WBGene00194883\"; gene_source \"WormBase\"; gene_biotype \"protein_coding\";\n"
     ]
    },
    {
     "name": "stdout",
     "output_type": "stream",
     "text": [
      "working on gene gene_id \"WBGene00017989\"; gene_source \"WormBase\"; gene_biotype \"protein_coding\";\n"
     ]
    },
    {
     "name": "stdout",
     "output_type": "stream",
     "text": [
      "working on gene gene_id \"WBGene00170836\"; gene_source \"WormBase\"; gene_biotype \"piRNA\";\n"
     ]
    },
    {
     "name": "stdout",
     "output_type": "stream",
     "text": [
      "working on gene gene_id \"WBGene00195365\"; gene_source \"WormBase\"; gene_biotype \"ncRNA\";\n"
     ]
    },
    {
     "name": "stdout",
     "output_type": "stream",
     "text": [
      "working on gene gene_id \"WBGene00200600\"; gene_source \"WormBase\"; gene_biotype \"ncRNA\";\n"
     ]
    },
    {
     "name": "stdout",
     "output_type": "stream",
     "text": [
      "working on gene gene_id \"WBGene00197002\"; gene_source \"WormBase\"; gene_biotype \"ncRNA\";\n"
     ]
    },
    {
     "name": "stdout",
     "output_type": "stream",
     "text": [
      "working on gene gene_id \"WBGene00000551\"; gene_source \"WormBase\"; gene_biotype \"protein_coding\";\n"
     ]
    },
    {
     "name": "stdout",
     "output_type": "stream",
     "text": [
      "working on gene gene_id \"WBGene00174763\"; gene_source \"WormBase\"; gene_biotype \"piRNA\";\n"
     ]
    },
    {
     "name": "stdout",
     "output_type": "stream",
     "text": [
      "working on gene gene_id \"WBGene00022968\"; gene_source \"WormBase\"; gene_biotype \"snoRNA\";\n"
     ]
    },
    {
     "name": "stdout",
     "output_type": "stream",
     "text": [
      "working on gene gene_id \"WBGene00017641\"; gene_source \"WormBase\"; gene_biotype \"protein_coding\";\n"
     ]
    },
    {
     "name": "stdout",
     "output_type": "stream",
     "text": [
      "working on gene gene_id \"WBGene00170582\"; gene_source \"WormBase\"; gene_biotype \"piRNA\";\n"
     ]
    },
    {
     "name": "stdout",
     "output_type": "stream",
     "text": [
      "working on gene gene_id \"WBGene00201648\"; gene_source \"WormBase\"; gene_biotype \"ncRNA\";\n"
     ]
    },
    {
     "name": "stdout",
     "output_type": "stream",
     "text": [
      "working on gene gene_id \"WBGene00044508\"; gene_source \"WormBase\"; gene_biotype \"protein_coding\";\n"
     ]
    },
    {
     "name": "stdout",
     "output_type": "stream",
     "text": [
      "working on gene gene_id \"WBGene00200005\"; gene_source \"WormBase\"; gene_biotype \"ncRNA\";\n"
     ]
    },
    {
     "name": "stdout",
     "output_type": "stream",
     "text": [
      "working on gene gene_id \"WBGene00199304\"; gene_source \"WormBase\"; gene_biotype \"ncRNA\";\n"
     ]
    },
    {
     "name": "stdout",
     "output_type": "stream",
     "text": [
      "working on gene gene_id \"WBGene00200918\"; gene_source \"WormBase\"; gene_biotype \"ncRNA\";\n"
     ]
    },
    {
     "name": "stdout",
     "output_type": "stream",
     "text": [
      "working on gene gene_id \"WBGene00020372\"; gene_source \"WormBase\"; gene_biotype \"protein_coding\";\n"
     ]
    },
    {
     "name": "stdout",
     "output_type": "stream",
     "text": [
      "working on gene gene_id \"WBGene00173833\"; gene_source \"WormBase\"; gene_biotype \"piRNA\";\n"
     ]
    },
    {
     "name": "stdout",
     "output_type": "stream",
     "text": [
      "working on gene gene_id \"WBGene00200169\"; gene_source \"WormBase\"; gene_biotype \"ncRNA\";\n"
     ]
    },
    {
     "name": "stdout",
     "output_type": "stream",
     "text": [
      "working on gene gene_id \"WBGene00195863\"; gene_source \"WormBase\"; gene_biotype \"ncRNA\";\n"
     ]
    },
    {
     "name": "stdout",
     "output_type": "stream",
     "text": [
      "working on gene gene_id \"WBGene00017073\"; gene_source \"WormBase\"; gene_biotype \"protein_coding\";\n"
     ]
    },
    {
     "name": "stdout",
     "output_type": "stream",
     "text": [
      "working on gene gene_id \"WBGene00019789\"; gene_source \"WormBase\"; gene_biotype \"pseudogene\";\n"
     ]
    },
    {
     "name": "stdout",
     "output_type": "stream",
     "text": [
      "working on gene gene_id \"WBGene00020824\"; gene_source \"WormBase\"; gene_biotype \"protein_coding\";\n"
     ]
    },
    {
     "name": "stdout",
     "output_type": "stream",
     "text": [
      "working on gene gene_id \"WBGene00165589\"; gene_source \"WormBase\"; gene_biotype \"piRNA\";\n"
     ]
    },
    {
     "name": "stdout",
     "output_type": "stream",
     "text": [
      "working on gene gene_id \"WBGene00002043\"; gene_source \"WormBase\"; gene_biotype \"protein_coding\";\n"
     ]
    },
    {
     "name": "stdout",
     "output_type": "stream",
     "text": [
      "working on gene gene_id \"WBGene00022005\"; gene_source \"WormBase\"; gene_biotype \"protein_coding\";\n"
     ]
    },
    {
     "name": "stdout",
     "output_type": "stream",
     "text": [
      "working on gene gene_id \"WBGene00018338\"; gene_source \"WormBase\"; gene_biotype \"protein_coding\";\n"
     ]
    },
    {
     "name": "stdout",
     "output_type": "stream",
     "text": [
      "working on gene gene_id \"WBGene00016770\"; gene_source \"WormBase\"; gene_biotype \"protein_coding\";\n"
     ]
    },
    {
     "name": "stdout",
     "output_type": "stream",
     "text": [
      "working on gene gene_id \"WBGene00174465\"; gene_source \"WormBase\"; gene_biotype \"piRNA\";\n"
     ]
    },
    {
     "name": "stdout",
     "output_type": "stream",
     "text": [
      "working on gene gene_id \"WBGene00019231\"; gene_source \"WormBase\"; gene_biotype \"protein_coding\";\n"
     ]
    },
    {
     "name": "stdout",
     "output_type": "stream",
     "text": [
      "working on gene gene_id \"WBGene00012122\"; gene_source \"WormBase\"; gene_biotype \"protein_coding\";\n"
     ]
    },
    {
     "name": "stdout",
     "output_type": "stream",
     "text": [
      "working on gene gene_id \"WBGene00011708\"; gene_source \"WormBase\"; gene_biotype \"protein_coding\";\n"
     ]
    },
    {
     "name": "stdout",
     "output_type": "stream",
     "text": [
      "working on gene gene_id \"WBGene00199951\"; gene_source \"WormBase\"; gene_biotype \"ncRNA\";\n"
     ]
    },
    {
     "name": "stdout",
     "output_type": "stream",
     "text": [
      "working on gene gene_id \"WBGene00170026\"; gene_source \"WormBase\"; gene_biotype \"piRNA\";\n"
     ]
    },
    {
     "name": "stdout",
     "output_type": "stream",
     "text": [
      "working on gene gene_id \"WBGene00219575\"; gene_source \"WormBase\"; gene_biotype \"antisense\";\n"
     ]
    },
    {
     "name": "stdout",
     "output_type": "stream",
     "text": [
      "working on gene gene_id \"WBGene00000693\"; gene_source \"WormBase\"; gene_biotype \"protein_coding\";\n"
     ]
    },
    {
     "name": "stdout",
     "output_type": "stream",
     "text": [
      "working on gene gene_id \"WBGene00013514\"; gene_source \"WormBase\"; gene_biotype \"protein_coding\";\n"
     ]
    },
    {
     "name": "stdout",
     "output_type": "stream",
     "text": [
      "working on gene gene_id \"WBGene00000120\"; gene_source \"WormBase\"; gene_biotype \"protein_coding\";\n"
     ]
    },
    {
     "name": "stdout",
     "output_type": "stream",
     "text": [
      "working on gene gene_id \"WBGene00168744\"; gene_source \"WormBase\"; gene_biotype \"piRNA\";\n"
     ]
    },
    {
     "name": "stdout",
     "output_type": "stream",
     "text": [
      "working on gene gene_id \"WBGene00165305\"; gene_source \"WormBase\"; gene_biotype \"piRNA\";\n"
     ]
    },
    {
     "name": "stdout",
     "output_type": "stream",
     "text": [
      "working on gene gene_id \"WBGene00220132\"; gene_source \"WormBase\"; gene_biotype \"snoRNA\";\n"
     ]
    },
    {
     "name": "stdout",
     "output_type": "stream",
     "text": [
      "working on gene gene_id \"WBGene00010410\"; gene_source \"WormBase\"; gene_biotype \"protein_coding\";\n"
     ]
    },
    {
     "name": "stdout",
     "output_type": "stream",
     "text": [
      "working on gene gene_id \"WBGene00010149\"; gene_source \"WormBase\"; gene_biotype \"protein_coding\";\n"
     ]
    },
    {
     "name": "stdout",
     "output_type": "stream",
     "text": [
      "working on gene gene_id \"WBGene00000775\"; gene_source \"WormBase\"; gene_biotype \"protein_coding\";\n"
     ]
    },
    {
     "name": "stdout",
     "output_type": "stream",
     "text": [
      "working on gene gene_id \"WBGene00166720\"; gene_source \"WormBase\"; gene_biotype \"piRNA\";\n"
     ]
    },
    {
     "name": "stdout",
     "output_type": "stream",
     "text": [
      "working on gene gene_id \"WBGene00045194\"; gene_source \"WormBase\"; gene_biotype \"snRNA\";\n"
     ]
    },
    {
     "name": "stdout",
     "output_type": "stream",
     "text": [
      "working on gene gene_id \"WBGene00174008\"; gene_source \"WormBase\"; gene_biotype \"piRNA\";\n"
     ]
    },
    {
     "name": "stdout",
     "output_type": "stream",
     "text": [
      "working on gene gene_id \"WBGene00202037\"; gene_source \"WormBase\"; gene_biotype \"ncRNA\";\n"
     ]
    },
    {
     "name": "stdout",
     "output_type": "stream",
     "text": [
      "working on gene gene_id \"WBGene00170277\"; gene_source \"WormBase\"; gene_biotype \"piRNA\";\n"
     ]
    },
    {
     "name": "stdout",
     "output_type": "stream",
     "text": [
      "working on gene gene_id \"WBGene00219597\"; gene_source \"WormBase\"; gene_biotype \"antisense\";\n"
     ]
    },
    {
     "name": "stdout",
     "output_type": "stream",
     "text": [
      "working on gene gene_id \"WBGene00170904\"; gene_source \"WormBase\"; gene_biotype \"piRNA\";\n"
     ]
    },
    {
     "name": "stdout",
     "output_type": "stream",
     "text": [
      "working on gene gene_id \"WBGene00169089\"; gene_source \"WormBase\"; gene_biotype \"piRNA\";\n"
     ]
    },
    {
     "name": "stdout",
     "output_type": "stream",
     "text": [
      "working on gene gene_id \"WBGene00010639\"; gene_source \"WormBase\"; gene_biotype \"protein_coding\";\n"
     ]
    },
    {
     "name": "stdout",
     "output_type": "stream",
     "text": [
      "working on gene gene_id \"WBGene00196943\"; gene_source \"WormBase\"; gene_biotype \"ncRNA\";\n"
     ]
    },
    {
     "name": "stdout",
     "output_type": "stream",
     "text": [
      "working on gene gene_id \"WBGene00166523\"; gene_source \"WormBase\"; gene_biotype \"piRNA\";\n"
     ]
    },
    {
     "name": "stdout",
     "output_type": "stream",
     "text": [
      "working on gene gene_id \"WBGene00008511\"; gene_source \"WormBase\"; gene_biotype \"protein_coding\";\n"
     ]
    },
    {
     "name": "stdout",
     "output_type": "stream",
     "text": [
      "working on gene gene_id \"WBGene00201052\"; gene_source \"WormBase\"; gene_biotype \"ncRNA\";\n"
     ]
    },
    {
     "name": "stdout",
     "output_type": "stream",
     "text": [
      "working on gene gene_id \"WBGene00220025\"; gene_source \"WormBase\"; gene_biotype \"ncRNA\";\n"
     ]
    },
    {
     "name": "stdout",
     "output_type": "stream",
     "text": [
      "working on gene gene_id \"WBGene00011223\"; gene_source \"WormBase\"; gene_biotype \"protein_coding\";\n"
     ]
    },
    {
     "name": "stdout",
     "output_type": "stream",
     "text": [
      "working on gene gene_id \"WBGene00195626\"; gene_source \"WormBase\"; gene_biotype \"ncRNA\";\n"
     ]
    },
    {
     "name": "stdout",
     "output_type": "stream",
     "text": [
      "working on gene gene_id \"WBGene00169227\"; gene_source \"WormBase\"; gene_biotype \"piRNA\";\n"
     ]
    },
    {
     "name": "stdout",
     "output_type": "stream",
     "text": [
      "working on gene gene_id \"WBGene00007265\"; gene_source \"WormBase\"; gene_biotype \"protein_coding\";\n"
     ]
    },
    {
     "name": "stdout",
     "output_type": "stream",
     "text": [
      "working on gene gene_id \"WBGene00169589\"; gene_source \"WormBase\"; gene_biotype \"piRNA\";\n"
     ]
    },
    {
     "name": "stdout",
     "output_type": "stream",
     "text": [
      "working on gene gene_id \"WBGene00169900\"; gene_source \"WormBase\"; gene_biotype \"piRNA\";\n"
     ]
    },
    {
     "name": "stdout",
     "output_type": "stream",
     "text": [
      "working on gene gene_id \"WBGene00003568\"; gene_source \"WormBase\"; gene_biotype \"protein_coding\";\n"
     ]
    },
    {
     "name": "stdout",
     "output_type": "stream",
     "text": [
      "working on gene gene_id \"WBGene00013858\"; gene_source \"WormBase\"; gene_biotype \"protein_coding\";\n"
     ]
    },
    {
     "name": "stdout",
     "output_type": "stream",
     "text": [
      "working on gene gene_id \"WBGene00012016\"; gene_source \"WormBase\"; gene_biotype \"protein_coding\";\n"
     ]
    },
    {
     "name": "stdout",
     "output_type": "stream",
     "text": [
      "working on gene gene_id \"WBGene00197535\"; gene_source \"WormBase\"; gene_biotype \"ncRNA\";\n"
     ]
    },
    {
     "name": "stdout",
     "output_type": "stream",
     "text": [
      "working on gene gene_id \"WBGene00200838\"; gene_source \"WormBase\"; gene_biotype \"ncRNA\";\n"
     ]
    },
    {
     "name": "stdout",
     "output_type": "stream",
     "text": [
      "working on gene gene_id \"WBGene00013478\"; gene_source \"WormBase\"; gene_biotype \"protein_coding\";\n"
     ]
    },
    {
     "name": "stdout",
     "output_type": "stream",
     "text": [
      "working on gene gene_id \"WBGene00003325\"; gene_source \"WormBase\"; gene_biotype \"miRNA\";\n"
     ]
    },
    {
     "name": "stdout",
     "output_type": "stream",
     "text": [
      "working on gene gene_id \"WBGene00196564\"; gene_source \"WormBase\"; gene_biotype \"ncRNA\";\n"
     ]
    },
    {
     "name": "stdout",
     "output_type": "stream",
     "text": [
      "working on gene gene_id \"WBGene00012384\"; gene_source \"WormBase\"; gene_biotype \"pseudogene\";\n"
     ]
    },
    {
     "name": "stdout",
     "output_type": "stream",
     "text": [
      "working on gene gene_id \"WBGene00219576\"; gene_source \"WormBase\"; gene_biotype \"antisense\";\n"
     ]
    },
    {
     "name": "stdout",
     "output_type": "stream",
     "text": [
      "working on gene gene_id \"WBGene00011127\"; gene_source \"WormBase\"; gene_biotype \"protein_coding\";\n"
     ]
    },
    {
     "name": "stdout",
     "output_type": "stream",
     "text": [
      "working on gene gene_id \"WBGene00201716\"; gene_source \"WormBase\"; gene_biotype \"ncRNA\";\n"
     ]
    },
    {
     "name": "stdout",
     "output_type": "stream",
     "text": [
      "working on gene gene_id \"WBGene00174764\"; gene_source \"WormBase\"; gene_biotype \"piRNA\";\n"
     ]
    },
    {
     "name": "stdout",
     "output_type": "stream",
     "text": [
      "working on gene gene_id \"WBGene00010352\"; gene_source \"WormBase\"; gene_biotype \"protein_coding\";\n"
     ]
    },
    {
     "name": "stdout",
     "output_type": "stream",
     "text": [
      "working on gene gene_id \"WBGene00202103\"; gene_source \"WormBase\"; gene_biotype \"ncRNA\";\n"
     ]
    },
    {
     "name": "stdout",
     "output_type": "stream",
     "text": [
      "working on gene gene_id \"WBGene00045154\"; gene_source \"WormBase\"; gene_biotype \"snoRNA\";\n"
     ]
    },
    {
     "name": "stdout",
     "output_type": "stream",
     "text": [
      "working on gene gene_id \"WBGene00219991\"; gene_source \"WormBase\"; gene_biotype \"ncRNA\";\n"
     ]
    },
    {
     "name": "stdout",
     "output_type": "stream",
     "text": [
      "working on gene gene_id \"WBGene00010848\"; gene_source \"WormBase\"; gene_biotype \"protein_coding\";\n"
     ]
    },
    {
     "name": "stdout",
     "output_type": "stream",
     "text": [
      "working on gene gene_id \"WBGene00202182\"; gene_source \"WormBase\"; gene_biotype \"ncRNA\";\n"
     ]
    },
    {
     "name": "stdout",
     "output_type": "stream",
     "text": [
      "working on gene gene_id \"WBGene00012498\"; gene_source \"WormBase\"; gene_biotype \"pseudogene\";\n"
     ]
    },
    {
     "name": "stdout",
     "output_type": "stream",
     "text": [
      "working on gene gene_id \"WBGene00200172\"; gene_source \"WormBase\"; gene_biotype \"ncRNA\";\n"
     ]
    },
    {
     "name": "stdout",
     "output_type": "stream",
     "text": [
      "working on gene gene_id \"WBGene00011723\"; gene_source \"WormBase\"; gene_biotype \"protein_coding\";\n"
     ]
    },
    {
     "name": "stdout",
     "output_type": "stream",
     "text": [
      "working on gene gene_id \"WBGene00011725\"; gene_source \"WormBase\"; gene_biotype \"protein_coding\";\n"
     ]
    },
    {
     "name": "stdout",
     "output_type": "stream",
     "text": [
      "working on gene gene_id \"WBGene00002827\"; gene_source \"WormBase\"; gene_biotype \"protein_coding\";\n"
     ]
    },
    {
     "name": "stdout",
     "output_type": "stream",
     "text": [
      "working on gene gene_id \"WBGene00196079\"; gene_source \"WormBase\"; gene_biotype \"ncRNA\";\n"
     ]
    },
    {
     "name": "stdout",
     "output_type": "stream",
     "text": [
      "working on gene gene_id \"WBGene00014009\"; gene_source \"WormBase\"; gene_biotype \"protein_coding\";\n"
     ]
    },
    {
     "name": "stdout",
     "output_type": "stream",
     "text": [
      "working on gene gene_id \"WBGene00168499\"; gene_source \"WormBase\"; gene_biotype \"piRNA\";\n"
     ]
    },
    {
     "name": "stdout",
     "output_type": "stream",
     "text": [
      "working on gene gene_id \"WBGene00200689\"; gene_source \"WormBase\"; gene_biotype \"ncRNA\";\n"
     ]
    },
    {
     "name": "stdout",
     "output_type": "stream",
     "text": [
      "working on gene gene_id \"WBGene00166066\"; gene_source \"WormBase\"; gene_biotype \"piRNA\";\n"
     ]
    },
    {
     "name": "stdout",
     "output_type": "stream",
     "text": [
      "working on gene gene_id \"WBGene00173495\"; gene_source \"WormBase\"; gene_biotype \"piRNA\";\n"
     ]
    },
    {
     "name": "stdout",
     "output_type": "stream",
     "text": [
      "working on gene gene_id \"WBGene00235167\"; gene_source \"WormBase\"; gene_biotype \"ncRNA\";\n"
     ]
    },
    {
     "name": "stdout",
     "output_type": "stream",
     "text": [
      "working on gene gene_id \"WBGene00045131\"; gene_source \"WormBase\"; gene_biotype \"pseudogene\";\n"
     ]
    },
    {
     "name": "stdout",
     "output_type": "stream",
     "text": [
      "working on gene gene_id \"WBGene00173327\"; gene_source \"WormBase\"; gene_biotype \"piRNA\";\n"
     ]
    },
    {
     "name": "stdout",
     "output_type": "stream",
     "text": [
      "working on gene gene_id \"WBGene00198279\"; gene_source \"WormBase\"; gene_biotype \"ncRNA\";\n"
     ]
    },
    {
     "name": "stdout",
     "output_type": "stream",
     "text": [
      "working on gene gene_id \"WBGene00014427\"; gene_source \"WormBase\"; gene_biotype \"tRNA\";\n"
     ]
    },
    {
     "name": "stdout",
     "output_type": "stream",
     "text": [
      "working on gene gene_id \"WBGene00013223\"; gene_source \"WormBase\"; gene_biotype \"protein_coding\";\n"
     ]
    },
    {
     "name": "stdout",
     "output_type": "stream",
     "text": [
      "working on gene gene_id \"WBGene00000186\"; gene_source \"WormBase\"; gene_biotype \"protein_coding\";\n"
     ]
    },
    {
     "name": "stdout",
     "output_type": "stream",
     "text": [
      "working on gene gene_id \"WBGene00198687\"; gene_source \"WormBase\"; gene_biotype \"ncRNA\";\n"
     ]
    },
    {
     "name": "stdout",
     "output_type": "stream",
     "text": [
      "working on gene gene_id \"WBGene00001452\"; gene_source \"WormBase\"; gene_biotype \"protein_coding\";\n"
     ]
    },
    {
     "name": "stdout",
     "output_type": "stream",
     "text": [
      "working on gene gene_id \"WBGene00220251\"; gene_source \"WormBase\"; gene_biotype \"ncRNA\";\n"
     ]
    },
    {
     "name": "stdout",
     "output_type": "stream",
     "text": [
      "working on gene gene_id \"WBGene00010829\"; gene_source \"WormBase\"; gene_biotype \"protein_coding\";\n"
     ]
    },
    {
     "name": "stdout",
     "output_type": "stream",
     "text": [
      "working on gene gene_id \"WBGene00010828\"; gene_source \"WormBase\"; gene_biotype \"protein_coding\";\n"
     ]
    },
    {
     "name": "stdout",
     "output_type": "stream",
     "text": [
      "working on gene gene_id \"WBGene00045198\"; gene_source \"WormBase\"; gene_biotype \"protein_coding\";\n"
     ]
    },
    {
     "name": "stdout",
     "output_type": "stream",
     "text": [
      "working on gene gene_id \"WBGene00166699\"; gene_source \"WormBase\"; gene_biotype \"piRNA\";\n"
     ]
    },
    {
     "name": "stdout",
     "output_type": "stream",
     "text": [
      "working on gene gene_id \"WBGene00007204\"; gene_source \"WormBase\"; gene_biotype \"protein_coding\";\n"
     ]
    },
    {
     "name": "stdout",
     "output_type": "stream",
     "text": [
      "working on gene gene_id \"WBGene00173590\"; gene_source \"WormBase\"; gene_biotype \"piRNA\";\n"
     ]
    },
    {
     "name": "stdout",
     "output_type": "stream",
     "text": [
      "working on gene gene_id \"WBGene00008623\"; gene_source \"WormBase\"; gene_biotype \"protein_coding\";\n"
     ]
    },
    {
     "name": "stdout",
     "output_type": "stream",
     "text": [
      "working on gene gene_id \"WBGene00196217\"; gene_source \"WormBase\"; gene_biotype \"ncRNA\";\n"
     ]
    },
    {
     "name": "stdout",
     "output_type": "stream",
     "text": [
      "working on gene gene_id \"WBGene00196912\"; gene_source \"WormBase\"; gene_biotype \"ncRNA\";\n"
     ]
    },
    {
     "name": "stdout",
     "output_type": "stream",
     "text": [
      "working on gene gene_id \"WBGene00206493\"; gene_source \"WormBase\"; gene_biotype \"protein_coding\";\n"
     ]
    },
    {
     "name": "stdout",
     "output_type": "stream",
     "text": [
      "working on gene gene_id \"WBGene00197610\"; gene_source \"WormBase\"; gene_biotype \"ncRNA\";\n"
     ]
    },
    {
     "name": "stdout",
     "output_type": "stream",
     "text": [
      "working on gene gene_id \"WBGene00012869\"; gene_source \"WormBase\"; gene_biotype \"protein_coding\";\n"
     ]
    },
    {
     "name": "stdout",
     "output_type": "stream",
     "text": [
      "working on gene gene_id \"WBGene00167613\"; gene_source \"WormBase\"; gene_biotype \"piRNA\";\n"
     ]
    },
    {
     "name": "stdout",
     "output_type": "stream",
     "text": [
      "working on gene gene_id \"WBGene00173084\"; gene_source \"WormBase\"; gene_biotype \"piRNA\";\n"
     ]
    },
    {
     "name": "stdout",
     "output_type": "stream",
     "text": [
      "working on gene gene_id \"WBGene00166104\"; gene_source \"WormBase\"; gene_biotype \"piRNA\";\n"
     ]
    },
    {
     "name": "stdout",
     "output_type": "stream",
     "text": [
      "working on gene gene_id \"WBGene00045884\"; gene_source \"WormBase\"; gene_biotype \"piRNA\";\n"
     ]
    },
    {
     "name": "stdout",
     "output_type": "stream",
     "text": [
      "working on gene gene_id \"WBGene00045006\"; gene_source \"WormBase\"; gene_biotype \"pseudogene\";\n"
     ]
    },
    {
     "name": "stdout",
     "output_type": "stream",
     "text": [
      "working on gene gene_id \"WBGene00170691\"; gene_source \"WormBase\"; gene_biotype \"piRNA\";\n"
     ]
    },
    {
     "name": "stdout",
     "output_type": "stream",
     "text": [
      "working on gene gene_id \"WBGene00044258\"; gene_source \"WormBase\"; gene_biotype \"protein_coding\";\n"
     ]
    },
    {
     "name": "stdout",
     "output_type": "stream",
     "text": [
      "working on gene gene_id \"WBGene00220157\"; gene_source \"WormBase\"; gene_biotype \"snoRNA\";\n"
     ]
    },
    {
     "name": "stdout",
     "output_type": "stream",
     "text": [
      "working on gene gene_id \"WBGene00198559\"; gene_source \"WormBase\"; gene_biotype \"ncRNA\";\n"
     ]
    },
    {
     "name": "stdout",
     "output_type": "stream",
     "text": [
      "working on gene gene_id \"WBGene00172512\"; gene_source \"WormBase\"; gene_biotype \"piRNA\";\n"
     ]
    },
    {
     "name": "stdout",
     "output_type": "stream",
     "text": [
      "working on gene gene_id \"WBGene00169152\"; gene_source \"WormBase\"; gene_biotype \"piRNA\";\n"
     ]
    },
    {
     "name": "stdout",
     "output_type": "stream",
     "text": [
      "working on gene gene_id \"WBGene00173432\"; gene_source \"WormBase\"; gene_biotype \"piRNA\";\n"
     ]
    },
    {
     "name": "stdout",
     "output_type": "stream",
     "text": [
      "working on gene gene_id \"WBGene00047574\"; gene_source \"WormBase\"; gene_biotype \"piRNA\";\n"
     ]
    },
    {
     "name": "stdout",
     "output_type": "stream",
     "text": [
      "working on gene gene_id \"WBGene00046878\"; gene_source \"WormBase\"; gene_biotype \"piRNA\";\n"
     ]
    },
    {
     "name": "stdout",
     "output_type": "stream",
     "text": [
      "working on gene gene_id \"WBGene00014599\"; gene_source \"WormBase\"; gene_biotype \"tRNA\";\n"
     ]
    },
    {
     "name": "stdout",
     "output_type": "stream",
     "text": [
      "working on gene gene_id \"WBGene00013419\"; gene_source \"WormBase\"; gene_biotype \"protein_coding\";\n"
     ]
    },
    {
     "name": "stdout",
     "output_type": "stream",
     "text": [
      "working on gene gene_id \"WBGene00013099\"; gene_source \"WormBase\"; gene_biotype \"protein_coding\";\n"
     ]
    },
    {
     "name": "stdout",
     "output_type": "stream",
     "text": [
      "working on gene gene_id \"WBGene00165298\"; gene_source \"WormBase\"; gene_biotype \"piRNA\";\n"
     ]
    },
    {
     "name": "stdout",
     "output_type": "stream",
     "text": [
      "working on gene gene_id \"WBGene00045321\"; gene_source \"WormBase\"; gene_biotype \"pseudogene\";\n"
     ]
    },
    {
     "name": "stdout",
     "output_type": "stream",
     "text": [
      "working on gene gene_id \"WBGene00195757\"; gene_source \"WormBase\"; gene_biotype \"ncRNA\";\n"
     ]
    },
    {
     "name": "stdout",
     "output_type": "stream",
     "text": [
      "working on gene gene_id \"WBGene00048150\"; gene_source \"WormBase\"; gene_biotype \"piRNA\";\n"
     ]
    },
    {
     "name": "stdout",
     "output_type": "stream",
     "text": [
      "working on gene gene_id \"WBGene00165955\"; gene_source \"WormBase\"; gene_biotype \"piRNA\";\n"
     ]
    },
    {
     "name": "stdout",
     "output_type": "stream",
     "text": [
      "working on gene gene_id \"WBGene00011374\"; gene_source \"WormBase\"; gene_biotype \"protein_coding\";\n"
     ]
    }
   ],
   "source": [
    "\n",
    "def addSequences(df):\n",
    "    df['fasta_random_intergenic_500'] = df.apply(lambda row: append_fasta_to_df(fa, row['gene_id'], row['chr'], row['strand'], row[\"random_intergenic_start\"],row[\"random_intergenic_end_500\"]), axis=1)\n",
    "    df['fasta_random_intergenic_1000'] = df.apply(lambda row: append_fasta_to_df(fa, row['gene_id'], row['chr'], row['strand'], row[\"random_intergenic_start\"],row[\"random_intergenic_end_1000\"]), axis=1)\n",
    "    df['fasta_random_intergenic_1500'] = df.apply(lambda row: append_fasta_to_df(fa, row['gene_id'], row['chr'], row['strand'], row[\"random_intergenic_start\"],row[\"random_intergenic_end_1500\"]), axis=1)\n",
    "    return df\n",
    "\n",
    "df_gtf_3kb=addSequences(df_gtf_3kb)    \n",
    "    "
   ]
  },
  {
   "cell_type": "code",
   "execution_count": 52,
   "metadata": {
    "collapsed": true
   },
   "outputs": [
    {
     "name": "stdout",
     "output_type": "stream",
     "text": [
      "     chr    source  type   start     end dot strand dot2  \\\n393   IV  WormBase  gene   41471   41620   .      +    .   \n428   IV  WormBase  gene   66982   67052   .      +    .   \n443   IV  WormBase  gene   80152   80203   .      +    .   \n1384  IV  WormBase  gene  146729  146845   .      +    .   \n1439  IV  WormBase  gene  165077  169980   .      +    .   \n\n                       gene_id  length  next_gene_start  next_gene_start-end  \\\n393   gene_id \"WBGene00195502\"     149          53401.0              11781.0   \n428   gene_id \"WBGene00023131\"      70          76370.0               9318.0   \n443   gene_id \"WBGene00201447\"      51          86890.0               6687.0   \n1384  gene_id \"WBGene00197291\"     116         152656.0               5811.0   \n1439  gene_id \"WBGene00021396\"    4903         175725.0               5745.0   \n\n      random_intergenic_start  random_intergenic_end_500  \\\n393                     42474                      42974   \n428                     67985                      68485   \n443                     81155                      81655   \n1384                   147732                     148232   \n1439                   166080                     166580   \n\n      random_intergenic_end_1000  random_intergenic_end_1500  \\\n393                        43474                       43974   \n428                        68985                       69485   \n443                        82155                       82655   \n1384                      148732                      149232   \n1439                      167080                      167580   \n\n                            fasta_random_intergenic_500  \\\n393   (G, C, A, A, G, T, A, G, T, C, A, G, G, C, C, ...   \n428   (G, G, A, A, A, A, T, C, C, T, G, T, T, G, A, ...   \n443   (G, A, G, G, G, A, G, G, A, G, A, T, G, G, G, ...   \n1384  (C, G, G, T, A, A, A, G, A, C, G, A, T, G, C, ...   \n1439  (T, G, T, T, C, A, A, A, A, A, A, T, T, T, T, ...   \n\n                           fasta_random_intergenic_1000  \\\n393   (G, C, A, A, G, T, A, G, T, C, A, G, G, C, C, ...   \n428   (G, G, A, A, A, A, T, C, C, T, G, T, T, G, A, ...   \n443   (G, A, G, G, G, A, G, G, A, G, A, T, G, G, G, ...   \n1384  (C, G, G, T, A, A, A, G, A, C, G, A, T, G, C, ...   \n1439  (T, G, T, T, C, A, A, A, A, A, A, T, T, T, T, ...   \n\n                           fasta_random_intergenic_1500  \n393   (G, C, A, A, G, T, A, G, T, C, A, G, G, C, C, ...  \n428   (G, G, A, A, A, A, T, C, C, T, G, T, T, G, A, ...  \n443   (G, A, G, G, G, A, G, G, A, G, A, T, G, G, G, ...  \n1384  (C, G, G, T, A, A, A, G, A, C, G, A, T, G, C, ...  \n1439  (T, G, T, T, C, A, A, A, A, A, A, T, T, T, T, ...  \n"
     ]
    }
   ],
   "source": [
    "\n",
    "def split_string(s):\n",
    "    s = s.split(';')[0]\n",
    "    return s\n",
    "\n",
    "#df_gtf_3kb[\"gene_id\"] = df_gtf_3kb[\"gene_id\"].astype(str)\n",
    "#df_gtf_3kb[\"gene_id\"] = df_gtf_3kb[\"gene_id\"].replace(\"gene_id\",\"\")\n",
    "df_gtf_3kb[\"gene_id\"] = df_gtf_3kb[\"gene_id\"].apply(split_string)\n",
    "print(df_gtf_3kb.head())"
   ]
  },
  {
   "cell_type": "code",
   "execution_count": 55,
   "metadata": {},
   "outputs": [],
   "source": [
    "\n",
    "\n",
    "\n",
    "\n",
    "\n",
    "\n",
    "            \n",
    "def writeFasta(df,name_out,length):\n",
    "    length = str(length)\n",
    "    with open(name_out,\"w\") as outfile:\n",
    "        x = 0\n",
    "        for row in range(len(df)):\n",
    "            \n",
    "            outfile.write(\">random_\"+str(x) + \"\\n\" + str(df['fasta_random_intergenic_'+length].iloc[row]) + \"\\n\")\n",
    "            #outfile.write(\">\"+df[\"gene_id_name\"].iloc[row] + \"\\n\" + df['fasta_'+length+'_upstream'].iloc[row] + \"\\n\")\n",
    "            x = x + 1\n",
    "    \n",
    "                "
   ]
  },
  {
   "cell_type": "code",
   "execution_count": 56,
   "metadata": {
    "collapsed": true
   },
   "outputs": [],
   "source": [
    "    \n",
    "\n",
    "writeFasta(df_gtf_3kb,\"Random_Intergenic_500.fa\",500)\n",
    "writeFasta(df_gtf_3kb,\"Random_Intergenic_1000.fa\",1000)\n",
    "writeFasta(df_gtf_3kb,\"Random_Intergenic_1500.fa\",1500)\n"
   ]
  },
  {
   "cell_type": "code",
   "execution_count": null,
   "metadata": {},
   "outputs": [],
   "source": []
  }
 ],
 "metadata": {
  "kernelspec": {
   "display_name": "Python 2",
   "language": "python",
   "name": "python2"
  },
  "language_info": {
   "codemirror_mode": {
    "name": "ipython",
    "version": 2
   },
   "file_extension": ".py",
   "mimetype": "text/x-python",
   "name": "python",
   "nbconvert_exporter": "python",
   "pygments_lexer": "ipython2",
   "version": "2.7.6"
  }
 },
 "nbformat": 4,
 "nbformat_minor": 0
}
