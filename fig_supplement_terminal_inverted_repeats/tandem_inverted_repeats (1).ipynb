{
 "cells": [
  {
   "cell_type": "code",
   "execution_count": 2,
   "metadata": {
    "ExecuteTime": {
     "end_time": "2018-09-19T23:08:44.762858Z",
     "start_time": "2018-09-19T23:08:41.401865Z"
    }
   },
   "outputs": [],
   "source": [
    "from Bio.Seq import Seq\n",
    "from Bio import SeqIO\n",
    "from Bio.SeqFeature import SeqFeature, FeatureLocation\n",
    "import os\n",
    "import pandas as pd\n",
    "import random\n",
    "import csv\n",
    "import numpy as np\n",
    "import seaborn as sns\n",
    "import matplotlib \n",
    "import matplotlib.pyplot as plt\n",
    "%matplotlib inline\n",
    "\n",
    "\n",
    "\n",
    "gtf = \"c_elegans.PRJNA13758.WS258.canonical_geneset_plu_NO_inside_genes_same_strand.BedGraph\"\n",
    "\n",
    "rep = \"WS258_tandem_and_inverted_repeats.gff\"\n",
    "\n",
    "df_dogdo = pd.read_csv(\"HS_combined_DOG_noOperon_unique_under_padj05_do.csv\", sep=\",\")\n",
    "df_dogup = pd.read_csv(\"HS_combined_DOG_noOperon_unique_under_padj05_up.csv\", sep=\",\")\n",
    "df_dogALL = pd.read_csv(\"HS_combined_ADOG_noOperon.csv\", sep=\"\\t\")\n",
    "df_dognonsig = df_dogALL[df_dogALL[\"padj\"] > 0.05].copy()\n",
    "\n",
    "\n",
    "def get_chrm_dic(df_gtf):\n",
    "    \"\"\"This function will take a gtf and return dictionary of different chrm. And clean the gtf for parsing\"\"\"\n",
    "    df_gtf = df_gtf.copy()\n",
    "    #Make df of chrom\n",
    "    names=df_gtf['chr'].unique().tolist()\n",
    "    d_gtf_chr = {chrom : df_gtf.loc[df_gtf.chr==chrom] for chrom in names}\n",
    "    return d_gtf_chr"
   ]
  },
  {
   "cell_type": "code",
   "execution_count": 3,
   "metadata": {
    "ExecuteTime": {
     "end_time": "2018-09-19T23:08:44.957680Z",
     "start_time": "2018-09-19T23:08:44.766400Z"
    }
   },
   "outputs": [],
   "source": [
    "my_col = [\"chr\",\"start\",\"end\",\"gene_id_name\"]\n",
    "df_gtf = pd.read_csv(gtf, sep=\"\\t\",header=None,names=my_col, dtype={\"chr\": str, \"start\": int, \"end\": int, \"gene_id\": str}, low_memory=False)\n",
    "df_gtf = df_gtf[~df_gtf[\"chr\"].str.contains(\"\\.\") ]    # Take out patches\n",
    "df_gtf[\"length\"] = df_gtf[\"end\"] - df_gtf[\"start\"]\n",
    "df_gtf = df_gtf.dropna()\n",
    "chr_names=df_gtf['chr'].unique().tolist()\n",
    "\n",
    "d_gtf = get_chrm_dic(df_gtf)\n",
    "#Longest dog is 23000"
   ]
  },
  {
   "cell_type": "code",
   "execution_count": 4,
   "metadata": {
    "ExecuteTime": {
     "end_time": "2018-09-19T23:08:44.980001Z",
     "start_time": "2018-09-19T23:08:44.962926Z"
    },
    "scrolled": true
   },
   "outputs": [],
   "source": [
    "def make_random_end(df_gtf):\n",
    "    df_gtf = df_gtf.sort_values(\"start\")\n",
    "    df_gtf[\"next_gene_start\"] = df_gtf[\"start\"].shift(-1)\n",
    "    df_gtf[\"next_gene_start-end\"] = df_gtf[\"next_gene_start\"] - df_gtf[\"end\"]\n",
    "\n",
    "    df_gtf[\"random_length\"] = 0\n",
    "    def get_random(R):\n",
    "        R = R + random.choice(doglengths)\n",
    "        # R = R + random.randint(100,23000) # Go from 100 to highest dog length\n",
    "        return R\n",
    "\n",
    "    df_gtf[\"random_length\"] = df_gtf[\"random_length\"].apply(get_random) \n",
    "    df_gtf[\"random_intergenic_end\"] = df_gtf[\"end\"] + df_gtf[\"random_length\"]\n",
    "    df_gtf[\"random_intergenic_end_no_overlap\"] = np.where(df_gtf[\"random_intergenic_end\"]>df_gtf[\"next_gene_start\"], df_gtf[\"next_gene_start\"], df_gtf[\"random_intergenic_end\"] )\n",
    "    df_gtf[\"start\"] = df_gtf[\"start\"].astype(int)\n",
    "    return df_gtf"
   ]
  },
  {
   "cell_type": "code",
   "execution_count": 5,
   "metadata": {
    "ExecuteTime": {
     "end_time": "2018-09-19T23:08:45.195206Z",
     "start_time": "2018-09-19T23:08:44.985332Z"
    }
   },
   "outputs": [
    {
     "name": "stderr",
     "output_type": "stream",
     "text": [
      "/Users/M/anaconda3/lib/python3.6/site-packages/ipykernel_launcher.py:2: FutureWarning: Sorting because non-concatenation axis is not aligned. A future version\n",
      "of pandas will change to not sort by default.\n",
      "\n",
      "To accept the future behavior, pass 'sort=False'.\n",
      "\n",
      "To retain the current behavior and silence the warning, pass 'sort=True'.\n",
      "\n",
      "  \n"
     ]
    }
   ],
   "source": [
    "df_HS_ALL = pd.concat([df_dogup, df_dogdo])\n",
    "doglengths = df_HS_ALL[\"DOG_length\"].tolist()\n",
    "\n",
    "for chr in d_gtf.keys():\n",
    "    d_gtf[chr] = make_random_end(d_gtf[chr])"
   ]
  },
  {
   "cell_type": "code",
   "execution_count": 6,
   "metadata": {
    "ExecuteTime": {
     "end_time": "2018-09-19T23:08:46.173152Z",
     "start_time": "2018-09-19T23:08:45.387775Z"
    }
   },
   "outputs": [],
   "source": [
    "#Make chr dics of repeats\n",
    "df_rep = pd.read_csv(rep,sep=\"\\t\",\n",
    "                    names=[\"chr\",\"type\",\"type2\",\"start\",\"end\",\"unknownnum\",\"dot1\",\"dot2\",\"note\"],)\n",
    "\n",
    "\n",
    "\n",
    "df_rep = df_rep[[\"chr\",\"start\",\"end\",\"type\"]]\n",
    "\n",
    "# # I\tinverted\tinverted_repeat\t1\t212\t66\t.\t.\tNote=loop 426\n",
    "df_tir = df_rep[df_rep[\"type\"]==\"inverted\"]\n",
    "d_tir = get_chrm_dic(df_tir)\n",
    "df_tan = df_rep[df_rep[\"type\"]==\"tandem\"]\n",
    "d_tan = get_chrm_dic(df_tan)"
   ]
  },
  {
   "cell_type": "code",
   "execution_count": 7,
   "metadata": {
    "ExecuteTime": {
     "end_time": "2018-09-19T23:10:27.424330Z",
     "start_time": "2018-09-19T23:08:46.752187Z"
    }
   },
   "outputs": [
    {
     "name": "stdout",
     "output_type": "stream",
     "text": [
      "working on chr MtDNA\n",
      "working on chr IV\n",
      "working on chr III\n",
      "working on chr X\n",
      "working on chr I\n",
      "working on chr V\n",
      "working on chr II\n"
     ]
    }
   ],
   "source": [
    "def get_overlap_count(df_rep, start,end):\n",
    "    try:\n",
    "        rows_df = df_rep[ (start < df_rep[\"start\"]) & (df_rep[\"start\"] < end) ]\n",
    "        if len(rows_df) > 0:\n",
    "            return len(rows_df)\n",
    "        else:\n",
    "            return 0\n",
    "    except:\n",
    "        print(\"no worky\")\n",
    "\n",
    "\n",
    "\n",
    "df_final = pd.DataFrame()\n",
    "for chr in d_gtf.keys():\n",
    "    print(\"working on chr\", chr)\n",
    "    df = d_gtf[chr]\n",
    "    dftir = d_tir[chr]\n",
    "    df[\"tir_overlap_count\"] = df.apply(lambda row: get_overlap_count(dftir, row[\"start\"],row[\"end\"]), axis=1)  \n",
    "    df[\"tir_overlap_count_over_length\"] = df[\"tir_overlap_count\"] / df[\"random_length\"]\n",
    "    dftan = d_tan[chr]\n",
    "    df[\"tan_overlap_count\"] = df.apply(lambda row: get_overlap_count(dftan, row[\"start\"],row[\"end\"]), axis=1)  \n",
    "    df[\"tan_overlap_count_over_length\"] = df[\"tan_overlap_count\"] / df[\"random_length\"]\n",
    "    df_final = df_final.append(df)\n",
    "\n",
    "df_final.to_csv(\"WS258_tan_tir_counts.csv\", sep=\"\\t\", index=None)"
   ]
  },
  {
   "cell_type": "code",
   "execution_count": 8,
   "metadata": {
    "ExecuteTime": {
     "end_time": "2018-09-19T23:10:29.838235Z",
     "start_time": "2018-09-19T23:10:27.427742Z"
    }
   },
   "outputs": [
    {
     "name": "stdout",
     "output_type": "stream",
     "text": [
      "working on chr IV\n",
      "working on chr III\n",
      "working on chr V\n",
      "working on chr II\n",
      "working on chr I\n",
      "working on chr X\n",
      "working on chr IV\n",
      "working on chr X\n",
      "working on chr I\n",
      "working on chr II\n",
      "working on chr V\n",
      "working on chr III\n",
      "working on chr IV\n",
      "working on chr III\n",
      "working on chr X\n",
      "working on chr I\n",
      "working on chr V\n",
      "working on chr II\n"
     ]
    }
   ],
   "source": [
    "def get_tir_tan(df):\n",
    "    d = get_chrm_dic(df)\n",
    "    df_final = pd.DataFrame()\n",
    "    for chr in d.keys():\n",
    "        print(\"working on chr\", chr)\n",
    "        df = d[chr]\n",
    "        dftir = d_tir[chr]\n",
    "        df[\"tir_overlap_count\"] = df.apply(lambda row: get_overlap_count(dftir, row[\"start\"],row[\"end\"]), axis=1)  \n",
    "        df[\"tir_overlap_count_over_length\"] = df[\"tir_overlap_count\"] / df[\"DOG_length\"]\n",
    "        dftan = d_tan[chr]\n",
    "        df[\"tan_overlap_count\"] = df.apply(lambda row: get_overlap_count(dftan, row[\"start\"],row[\"end\"]), axis=1)  \n",
    "        df[\"tan_overlap_count_over_length\"] = df[\"tan_overlap_count\"] / df[\"DOG_length\"]\n",
    "        df[\"length\"] = df[\"DOG_length\"]\n",
    "        df = df[[\"gene_id_name\",\"length\",\"tir_overlap_count\",\"tir_overlap_count_over_length\",\"tan_overlap_count\",\"tan_overlap_count_over_length\"]]   \n",
    "        \n",
    "        df_final = df_final.append(df)\n",
    "    return df_final\n",
    "\n",
    "\n",
    "\n",
    "\n",
    "\n",
    "\n",
    "df_dogdo = get_tir_tan(df_dogdo)\n",
    "df_dogup = get_tir_tan(df_dogup)  \n",
    "df_dognonsig = get_tir_tan(df_dognonsig)\n",
    "\n",
    "df_dogdo[\"annotation\"] = \"HS \\n enriched DOG\"\n",
    "df_dogup[\"annotation\"] = \"HS \\n depleted DOG\"\n",
    "df_dognonsig[\"annotation\"] = \"HS \\n non sig DOG\"\n",
    "df_final[\"annotation\"] = \"WS258 \\n random intergenic\""
   ]
  },
  {
   "cell_type": "code",
   "execution_count": 9,
   "metadata": {
    "ExecuteTime": {
     "end_time": "2018-09-19T23:10:30.224428Z",
     "start_time": "2018-09-19T23:10:29.841869Z"
    }
   },
   "outputs": [
    {
     "name": "stderr",
     "output_type": "stream",
     "text": [
      "/Users/M/anaconda3/lib/python3.6/site-packages/ipykernel_launcher.py:5: FutureWarning: Sorting because non-concatenation axis is not aligned. A future version\n",
      "of pandas will change to not sort by default.\n",
      "\n",
      "To accept the future behavior, pass 'sort=False'.\n",
      "\n",
      "To retain the current behavior and silence the warning, pass 'sort=True'.\n",
      "\n",
      "  \"\"\"\n"
     ]
    }
   ],
   "source": [
    "df_final[\"length\"] = df_final[\"random_length\"]\n",
    "\n",
    "\n",
    "df = pd.concat([df_final,df_dogup,df_dogdo])\n",
    "df = df[[\"gene_id_name\",\"annotation\",\"length\",\"tir_overlap_count\",\"tir_overlap_count_over_length\",\"tan_overlap_count\",\"tan_overlap_count_over_length\"]]\n",
    "df.to_csv(\"dogs_tir_tan.csv\",sep=\"\\t\",index=None)"
   ]
  },
  {
   "cell_type": "code",
   "execution_count": 10,
   "metadata": {
    "ExecuteTime": {
     "end_time": "2018-09-19T23:10:30.262355Z",
     "start_time": "2018-09-19T23:10:30.229118Z"
    }
   },
   "outputs": [
    {
     "data": {
      "text/plain": [
       "Ttest_indResult(statistic=nan, pvalue=nan)"
      ]
     },
     "execution_count": 10,
     "metadata": {},
     "output_type": "execute_result"
    }
   ],
   "source": [
    "#T test\n",
    "from scipy.stats import ttest_ind\n",
    "\n",
    "\n",
    "cat1 = df[df['annotation']=='HS enriched DOG']\n",
    "cat2 = df[df['annotation']=='WS258 random intergenic']\n",
    "ttest_ind(cat1['tir_overlap_count_over_length'], cat2['tir_overlap_count_over_length'], equal_var=True)"
   ]
  },
  {
   "cell_type": "code",
   "execution_count": 11,
   "metadata": {
    "ExecuteTime": {
     "end_time": "2018-09-19T23:10:30.288101Z",
     "start_time": "2018-09-19T23:10:30.266355Z"
    }
   },
   "outputs": [
    {
     "data": {
      "text/plain": [
       "Ttest_indResult(statistic=nan, pvalue=nan)"
      ]
     },
     "execution_count": 11,
     "metadata": {},
     "output_type": "execute_result"
    }
   ],
   "source": [
    "cat1 = df[df['annotation']=='HS depleted DOG']\n",
    "cat2 = df[df['annotation']=='WS258 random intergenic']\n",
    "ttest_ind(cat1['tir_overlap_count_over_length'], cat2['tir_overlap_count_over_length'], equal_var=True)"
   ]
  },
  {
   "cell_type": "code",
   "execution_count": 12,
   "metadata": {
    "ExecuteTime": {
     "end_time": "2018-09-19T23:10:30.320827Z",
     "start_time": "2018-09-19T23:10:30.294966Z"
    }
   },
   "outputs": [
    {
     "data": {
      "text/plain": [
       "Ttest_indResult(statistic=nan, pvalue=nan)"
      ]
     },
     "execution_count": 12,
     "metadata": {},
     "output_type": "execute_result"
    }
   ],
   "source": [
    "cat1 = df[df['annotation']=='HS enriched DOG']\n",
    "cat2 = df[df['annotation']=='HS depleted DOG']\n",
    "ttest_ind(cat1['tir_overlap_count_over_length'], cat2['tir_overlap_count_over_length'], equal_var=True)"
   ]
  },
  {
   "cell_type": "code",
   "execution_count": 13,
   "metadata": {
    "ExecuteTime": {
     "end_time": "2018-09-19T23:10:30.345025Z",
     "start_time": "2018-09-19T23:10:30.324529Z"
    }
   },
   "outputs": [
    {
     "data": {
      "text/plain": [
       "Ttest_indResult(statistic=nan, pvalue=nan)"
      ]
     },
     "execution_count": 13,
     "metadata": {},
     "output_type": "execute_result"
    }
   ],
   "source": [
    "cat1 = df[df['annotation']== \"HS non sig DOG\"]\n",
    "cat2 = df[df['annotation']=='WS258 random intergenic']\n",
    "ttest_ind(cat1['tir_overlap_count_over_length'], cat2['tir_overlap_count_over_length'], equal_var=True)"
   ]
  },
  {
   "cell_type": "code",
   "execution_count": 14,
   "metadata": {
    "ExecuteTime": {
     "end_time": "2018-09-19T23:10:30.364110Z",
     "start_time": "2018-09-19T23:10:30.355798Z"
    }
   },
   "outputs": [
    {
     "data": {
      "text/plain": [
       "21005"
      ]
     },
     "execution_count": 14,
     "metadata": {},
     "output_type": "execute_result"
    }
   ],
   "source": [
    "len(df_final)"
   ]
  },
  {
   "cell_type": "code",
   "execution_count": 15,
   "metadata": {
    "ExecuteTime": {
     "end_time": "2018-09-19T23:11:15.994145Z",
     "start_time": "2018-09-19T23:10:30.372300Z"
    }
   },
   "outputs": [],
   "source": [
    "df_sample_final = pd.DataFrame()\n",
    "for x in range(0,10000):\n",
    "    df_sample = df_final.sample(50)\n",
    "    mean = df_sample[\"tir_overlap_count_over_length\"].mean()\n",
    "    # df_sample_final[\"tir_50_random_sampled_mean\"].iloc[x] = mean\n",
    "    df_mean = [{'tir_overlap_count_over_length': mean, \"annotation\" : \"WS258 \\n random intergenic\"}]\n",
    "    df_mean = pd.DataFrame(df_mean)\n",
    "    df_sample_final = df_sample_final.append(df_mean)\n",
    "\n",
    "# df_sample_final"
   ]
  },
  {
   "cell_type": "code",
   "execution_count": 18,
   "metadata": {
    "ExecuteTime": {
     "end_time": "2018-09-19T23:13:21.790617Z",
     "start_time": "2018-09-19T23:13:16.674953Z"
    }
   },
   "outputs": [
    {
     "data": {
      "image/png": "[encoded data removed]",
      "text/plain": [
       "<Figure size 432x288 with 1 Axes>"
      ]
     },
     "metadata": {},
     "output_type": "display_data"
    }
   ],
   "source": [
    "# Histogram plot\n",
    "df_hist = df_sample_final['tir_overlap_count_over_length']#.iloc[:10000]\n",
    "MEAN = df_hist.mean()\n",
    "SD = df_hist.std() \n",
    "twoSDfrom_mean = MEAN + SD + SD\n",
    "x1, x2 = twoSDfrom_mean , twoSDfrom_mean\n",
    "y = 0\n",
    "h = 1000\n",
    "col = \"k\"\n",
    "plt.plot([x1, x1, x2, x2], [y, y+h, y+h, y], lw=1.5, c=col)\n",
    "plt.text((x1+x2)*.5, y+h, \"WS258 random \\n  2 standard deviations \\n from mean\", ha='center', va='bottom', color=col)\n",
    "\n",
    "\n",
    "dogdomean = df_dogdo[\"tir_overlap_count_over_length\"].mean()\n",
    "x1, x2 = dogdomean, dogdomean\n",
    "y = 0\n",
    "h = 1000\n",
    "col = \"k\"\n",
    "plt.plot([x1, x1, x2, x2], [y, y+h, y+h, y], lw=1.5, c=\"orange\", label=\"HS depleted DOG mean\")\n",
    "\n",
    "dogupmean = df_dogup[\"tir_overlap_count_over_length\"].mean()\n",
    "x1, x2 = dogupmean, dogupmean\n",
    "y = 0\n",
    "h = 1000\n",
    "col = \"k\"\n",
    "\n",
    "plt.plot([x1, x1, x2, x2], [y, y+h, y+h, y], lw=1.5, c=\"green\", label=\"HS enriched DOG mean\")\n",
    "\n",
    "dognonsigmean = df_dognonsig[\"tir_overlap_count_over_length\"].mean()\n",
    "x1, x2 = dognonsigmean, dognonsigmean\n",
    "y = 0\n",
    "h = 1000\n",
    "col = \"k\"\n",
    "plt.plot([x1, x1, x2, x2], [y, y+h, y+h, y], lw=1.5, c=\"red\", label=\"HS non sig DOG mean\")\n",
    "plt.legend()\n",
    "sns.distplot(df_hist, bins=20, kde=False, rug=True);\n",
    "\n",
    "plt.savefig(\"tir_overlap_count_over_length_10000_histogram.png\", dpi=1000)"
   ]
  },
  {
   "cell_type": "code",
   "execution_count": 54,
   "metadata": {
    "ExecuteTime": {
     "end_time": "2018-08-15T18:54:49.806820Z",
     "start_time": "2018-08-15T18:54:49.254922Z"
    }
   },
   "outputs": [
    {
     "name": "stderr",
     "output_type": "stream",
     "text": [
      "/Users/M/anaconda3/lib/python3.6/site-packages/seaborn/categorical.py:462: FutureWarning: remove_na is deprecated and is a private function. Do not use.\n",
      "  box_data = remove_na(group_data)\n"
     ]
    },
    {
     "data": {
      "image/png": "[encoded data removed]",
      "text/plain": [
       "<matplotlib.figure.Figure at 0x10a1bae10>"
      ]
     },
     "metadata": {},
     "output_type": "display_data"
    }
   ],
   "source": [
    "df = pd.concat([df_sample_final,df_dogup,df_dogdo, df_dognonsig])\n",
    "df = df[[\"gene_id_name\",\"annotation\",\"length\",\"tir_overlap_count\",\"tir_overlap_count_over_length\",\"tan_overlap_count\",\"tan_overlap_count_over_length\"]]\n",
    "df.to_csv(\"dogs_tir_tan.csv\",sep=\"\\t\",index=None)\n",
    "\n",
    "ax = sns.boxplot(x=\"annotation\",y=\"tir_overlap_count_over_length\", data=df)\n",
    "ax.ticklabel_format(style='plain', axis='y')\n",
    "fig = ax.get_figure()\n",
    "\n",
    "\n",
    "x1, x2 = 0, 1   # columns 'Sat' and 'Sun' (first column: 0, see plt.xticks())\n",
    "y = df['tir_overlap_count_over_length'].max()-.03\n",
    "h = .01\n",
    "col = \"k\"\n",
    "plt.plot([x1, x1, x2, x2], [y, y+h, y+h, y], lw=1.5, c=col)\n",
    "plt.text((x1+x2)*.5, y+h, \"*\", ha='center', va='bottom', color=col)\n",
    "\n",
    "\n",
    "x1, x2 = 0, 2   # columns 'Sat' and 'Sun' (first column: 0, see plt.xticks())\n",
    "y = df['tir_overlap_count_over_length'].max()+.01\n",
    "h = .01\n",
    "col = \"k\"\n",
    "plt.plot([x1, x1, x2, x2], [y, y+h, y+h, y], lw=1.5, c=col)\n",
    "plt.text((x1+x2)*.5, y+h, \"*\", ha='center', va='bottom', color=col)\n",
    "\n",
    "\n",
    "x1, x2 = 0, 3   # columns 'Sat' and 'Sun' (first column: 0, see plt.xticks())\n",
    "y = df['tir_overlap_count_over_length'].max()+.03\n",
    "h = .01\n",
    "col = \"k\"\n",
    "plt.plot([x1, x1, x2, x2], [y, y+h, y+h, y], lw=1.5, c=col)\n",
    "plt.text((x1+x2)*.5, y+h, \"*\", ha='center', va='bottom', color=col)\n",
    "plt.show()\n",
    "\n",
    "fig.savefig(\"tir_overlap_count_over_length_sample50.png\")"
   ]
  },
  {
   "cell_type": "code",
   "execution_count": 55,
   "metadata": {
    "ExecuteTime": {
     "end_time": "2018-08-15T18:55:29.888555Z",
     "start_time": "2018-08-15T18:55:29.872429Z"
    }
   },
   "outputs": [
    {
     "data": {
      "text/plain": [
       "Ttest_indResult(statistic=18.897619769448379, pvalue=2.7154218562543642e-78)"
      ]
     },
     "execution_count": 55,
     "metadata": {},
     "output_type": "execute_result"
    }
   ],
   "source": [
    "#T test\n",
    "from scipy.stats import ttest_ind\n",
    "\n",
    "\n",
    "cat1 = df[df['annotation']=='HS \\n enriched DOG']\n",
    "cat2 = df[df['annotation']=='WS258 \\n random intergenic']\n",
    "ttest_ind(cat1['tir_overlap_count_over_length'], cat2['tir_overlap_count_over_length'], equal_var=True)"
   ]
  },
  {
   "cell_type": "code",
   "execution_count": 56,
   "metadata": {
    "ExecuteTime": {
     "end_time": "2018-08-15T18:55:30.329134Z",
     "start_time": "2018-08-15T18:55:30.313462Z"
    }
   },
   "outputs": [
    {
     "data": {
      "text/plain": [
       "Ttest_indResult(statistic=28.571154639126501, pvalue=1.0302129059928045e-172)"
      ]
     },
     "execution_count": 56,
     "metadata": {},
     "output_type": "execute_result"
    }
   ],
   "source": [
    "cat1 = df[df['annotation']=='HS \\n depleted DOG']\n",
    "cat2 = df[df['annotation']=='WS258 \\n random intergenic']\n",
    "ttest_ind(cat1['tir_overlap_count_over_length'], cat2['tir_overlap_count_over_length'], equal_var=True)"
   ]
  },
  {
   "cell_type": "code",
   "execution_count": 57,
   "metadata": {
    "ExecuteTime": {
     "end_time": "2018-08-15T18:55:30.762434Z",
     "start_time": "2018-08-15T18:55:30.746900Z"
    }
   },
   "outputs": [
    {
     "data": {
      "text/plain": [
       "Ttest_indResult(statistic=0.030181566697073663, pvalue=0.97597795351487415)"
      ]
     },
     "execution_count": 57,
     "metadata": {},
     "output_type": "execute_result"
    }
   ],
   "source": [
    "cat1 = df[df['annotation']=='HS \\n enriched DOG']\n",
    "cat2 = df[df['annotation']=='HS \\n depleted DOG']\n",
    "ttest_ind(cat1['tir_overlap_count_over_length'], cat2['tir_overlap_count_over_length'], equal_var=True)"
   ]
  },
  {
   "cell_type": "code",
   "execution_count": 58,
   "metadata": {
    "ExecuteTime": {
     "end_time": "2018-08-15T18:55:31.358921Z",
     "start_time": "2018-08-15T18:55:31.339628Z"
    }
   },
   "outputs": [
    {
     "data": {
      "text/plain": [
       "Ttest_indResult(statistic=24.106857088731552, pvalue=7.0174418054136621e-125)"
      ]
     },
     "execution_count": 58,
     "metadata": {},
     "output_type": "execute_result"
    }
   ],
   "source": [
    "cat1 = df[df['annotation']=='HS \\n non sig DOG']\n",
    "cat2 = df[df['annotation']=='WS258 \\n random intergenic']\n",
    "ttest_ind(cat1['tir_overlap_count_over_length'], cat2['tir_overlap_count_over_length'], equal_var=True)"
   ]
  }
 ],
 "metadata": {
  "kernelspec": {
   "display_name": "Python 3",
   "language": "python",
   "name": "python3"
  },
  "language_info": {
   "codemirror_mode": {
    "name": "ipython",
    "version": 3.0
   },
   "file_extension": ".py",
   "mimetype": "text/x-python",
   "name": "python",
   "nbconvert_exporter": "python",
   "pygments_lexer": "ipython3",
   "version": "3.6.6"
  }
 },
 "nbformat": 4,
 "nbformat_minor": 0
}