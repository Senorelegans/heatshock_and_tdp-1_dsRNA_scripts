{
 "cells": [
  {
   "cell_type": "code",
   "execution_count": 52,
   "metadata": {
    "ExecuteTime": {
     "end_time": "2018-11-19T10:48:45.006209Z",
     "start_time": "2018-11-19T10:48:44.584847Z"
    }
   },
   "outputs": [
    {
     "data": {
      "text/html": [
       "<div>\n",
       "<style scoped>\n",
       "    .dataframe tbody tr th:only-of-type {\n",
       "        vertical-align: middle;\n",
       "    }\n",
       "\n",
       "    .dataframe tbody tr th {\n",
       "        vertical-align: top;\n",
       "    }\n",
       "\n",
       "    .dataframe thead th {\n",
       "        text-align: right;\n",
       "    }\n",
       "</style>\n",
       "<table border=\"1\" class=\"dataframe\">\n",
       "  <thead>\n",
       "    <tr style=\"text-align: right;\">\n",
       "      <th></th>\n",
       "      <th>RUNON</th>\n",
       "      <th>chr</th>\n",
       "      <th>RUNON_strand</th>\n",
       "      <th>RUNON_start</th>\n",
       "      <th>RUNON_end</th>\n",
       "      <th>OPERON</th>\n",
       "      <th>OPERON_strand</th>\n",
       "      <th>OPERON_start</th>\n",
       "      <th>OPERON_end</th>\n",
       "      <th>DOG_operon_same_strand</th>\n",
       "    </tr>\n",
       "  </thead>\n",
       "  <tbody>\n",
       "    <tr>\n",
       "      <th>0</th>\n",
       "      <td>WBGene00021925</td>\n",
       "      <td>IV</td>\n",
       "      <td>-</td>\n",
       "      <td>1003400</td>\n",
       "      <td>1003600</td>\n",
       "      <td>CEOP4044</td>\n",
       "      <td>-</td>\n",
       "      <td>992240</td>\n",
       "      <td>1003639</td>\n",
       "      <td>True</td>\n",
       "    </tr>\n",
       "    <tr>\n",
       "      <th>1</th>\n",
       "      <td>WBGene00021925</td>\n",
       "      <td>IV</td>\n",
       "      <td>-</td>\n",
       "      <td>1003400</td>\n",
       "      <td>1003600</td>\n",
       "      <td>CEOP4642</td>\n",
       "      <td>-</td>\n",
       "      <td>1003600</td>\n",
       "      <td>1009734</td>\n",
       "      <td>True</td>\n",
       "    </tr>\n",
       "    <tr>\n",
       "      <th>3</th>\n",
       "      <td>WBGene00007902</td>\n",
       "      <td>IV</td>\n",
       "      <td>-</td>\n",
       "      <td>8773552</td>\n",
       "      <td>8773952</td>\n",
       "      <td>CEOP4308</td>\n",
       "      <td>-</td>\n",
       "      <td>8767688</td>\n",
       "      <td>8780872</td>\n",
       "      <td>True</td>\n",
       "    </tr>\n",
       "    <tr>\n",
       "      <th>10</th>\n",
       "      <td>WBGene00020097</td>\n",
       "      <td>III</td>\n",
       "      <td>-</td>\n",
       "      <td>5008830</td>\n",
       "      <td>5008933</td>\n",
       "      <td>CEOP3252</td>\n",
       "      <td>-</td>\n",
       "      <td>5003197</td>\n",
       "      <td>5017860</td>\n",
       "      <td>True</td>\n",
       "    </tr>\n",
       "    <tr>\n",
       "      <th>12</th>\n",
       "      <td>WBGene00022599</td>\n",
       "      <td>III</td>\n",
       "      <td>-</td>\n",
       "      <td>5273471</td>\n",
       "      <td>5273800</td>\n",
       "      <td>CEOP3276</td>\n",
       "      <td>-</td>\n",
       "      <td>5268682</td>\n",
       "      <td>5274787</td>\n",
       "      <td>True</td>\n",
       "    </tr>\n",
       "  </tbody>\n",
       "</table>\n",
       "</div>"
      ],
      "text/plain": [
       "             RUNON  chr RUNON_strand  RUNON_start  RUNON_end    OPERON  \\\n",
       "0   WBGene00021925   IV            -      1003400    1003600  CEOP4044   \n",
       "1   WBGene00021925   IV            -      1003400    1003600  CEOP4642   \n",
       "3   WBGene00007902   IV            -      8773552    8773952  CEOP4308   \n",
       "10  WBGene00020097  III            -      5008830    5008933  CEOP3252   \n",
       "12  WBGene00022599  III            -      5273471    5273800  CEOP3276   \n",
       "\n",
       "   OPERON_strand  OPERON_start  OPERON_end  DOG_operon_same_strand  \n",
       "0              -        992240     1003639                    True  \n",
       "1              -       1003600     1009734                    True  \n",
       "3              -       8767688     8780872                    True  \n",
       "10             -       5003197     5017860                    True  \n",
       "12             -       5268682     5274787                    True  "
      ]
     },
     "execution_count": 52,
     "metadata": {},
     "output_type": "execute_result"
    }
   ],
   "source": [
    "import pandas as pd\n",
    "import glob\n",
    "import os\n",
    "import numpy as np\n",
    "from matplotlib import pyplot as plt\n",
    "%matplotlib inline\n",
    "\n",
    "files = glob.glob(\"HS/DOG/csv/*.csv\")\n",
    "\n",
    "\n",
    "df1 = pd.read_csv(files[0], sep=\"\\t\")\n",
    "\n",
    "df_op = pd.read_csv(\"Operon_overlap.txt\", sep=\"\\t\")\n",
    "list(df1)\n",
    "files\n",
    "\n",
    "df_op[\"DOG_operon_same_strand\"] = np.where(df_op[\"RUNON_strand\"]==df_op[\"OPERON_strand\"], True, False)\n",
    "\n",
    "df_op = df_op[df_op[\"DOG_operon_same_strand\"]==True]\n",
    "df_op.head()"
   ]
  },
  {
   "cell_type": "code",
   "execution_count": 53,
   "metadata": {
    "ExecuteTime": {
     "end_time": "2018-11-19T10:48:45.674099Z",
     "start_time": "2018-11-19T10:48:45.591295Z"
    },
    "code_folding": []
   },
   "outputs": [],
   "source": [
    "def parse_df(f1):\n",
    "    \n",
    "\n",
    "    name = os.path.basename(f1)\n",
    "    df = pd.read_csv(f1, sep=\"\\t\")\n",
    "    elist = [\"J2\",\"INP\"]\n",
    "\n",
    "    enrich = \"\"\n",
    "    for e in elist:\n",
    "        if e in name:\n",
    "            enrich = e\n",
    "\n",
    "    tlist = [\"N2\",\"HS\",\"OK\"]\n",
    "    treatment = \"\"\n",
    "    for t in tlist:\n",
    "        if t in name:\n",
    "            treatment = t        \n",
    "            \n",
    "\n",
    "        \n",
    "\n",
    "            \n",
    "            \n",
    "    df = df.sort_values('DOG_length', ascending=False).drop_duplicates(\"gene_id_name\")\n",
    "    print(\"*****\")\n",
    "    print(\"f1 is\", f1)\n",
    "    print(len(df))\n",
    "    df= df[~df[\"gene_id_name\"].isin(df_op[\"RUNON\"])]    \n",
    "    print(len(df))\n",
    "    \n",
    "    \n",
    "    df = df[[\"sample_name\",\"DOG_length\", \"gene_id_name\", 'DOG_start_local','DOG_end_local',\"chr\",'strand',\"TYPE\"]]\n",
    "    df[\"Enrichment\"] = enrich \n",
    "    df[\"Treatment\"] = treatment\n",
    "    df = df[df[\"TYPE\"]==\"DOG\"]\n",
    "    df = df[df[\"DOG_length\"]>100]\n",
    "    df[\"sample_name\"] = df[\"sample_name\"].str.replace(\"__split\",\"\")\n",
    "    df[\"sample_name\"] = df[\"sample_name\"].str.replace(\"_split\",\"\")\n",
    "    df[\"sample_name\"] = df[\"sample_name\"].str.replace(\"_spl\",\"\")\n",
    "    df[\"sample_name\"] = df[\"sample_name\"].str.replace(\"_sp\",\"\")\n",
    "    df[\"sample_name\"] = df[\"sample_name\"].str.replace(\"_s\",\"\")\n",
    "    df[\"sample_name\"] = df[\"sample_name\"].str.replace(\"-\",\"_\")\n",
    "    \n",
    "    df.to_csv(f1[:-4]+\"_no_operon.tsv\",sep=\"\\t\", index=None)\n",
    "    \n",
    "    return df\n"
   ]
  },
  {
   "cell_type": "code",
   "execution_count": 54,
   "metadata": {
    "ExecuteTime": {
     "end_time": "2018-11-19T10:48:47.305644Z",
     "start_time": "2018-11-19T10:48:47.279853Z"
    },
    "collapsed": true
   },
   "outputs": [],
   "source": [
    "\n",
    "def get_venns(df,df2,col,title):\n",
    "    dfAb= df[~df[col].isin(df2[col])]\n",
    "    dfaB= df2[~df2[col].isin(df[col])]\n",
    "    dfAB= df[df[col].isin(df2[col])]\n",
    "    \n",
    "    print(title)\n",
    "    print(\"df \", len(df))\n",
    "    print(\"df2 \", len(df2))\n",
    "    \n",
    "    \n",
    "    print(\"1 \", len(dfAb))\n",
    "    print(\"2 \", len(dfaB))\n",
    "    print(\"both \", len(dfAB))\n",
    "    \n",
    "    print(\"ALL: \", len(dfAb)+len(dfaB)+len(dfAB))\n",
    "    print(\"******************\")\n",
    "    \n",
    "    \n",
    "    "
   ]
  },
  {
   "cell_type": "code",
   "execution_count": 55,
   "metadata": {
    "ExecuteTime": {
     "end_time": "2018-11-19T10:48:50.243655Z",
     "start_time": "2018-11-19T10:48:49.119929Z"
    },
    "collapsed": true
   },
   "outputs": [
    {
     "name": "stdout",
     "output_type": "stream",
     "text": [
      "*****\n",
      "f1 is HS/DOG/csv/HS_INP_split_min_gtf_DOG.csv\n",
      "17\n",
      "16\n",
      "*****\n",
      "f1 is HS/DOG/csv/HS_INP_split_plu_gtf_DOG.csv\n",
      "17\n",
      "17\n",
      "*****\n",
      "f1 is HS/DOG/csv/HS_J2A_split_min_gtf_DOG.csv\n",
      "210\n",
      "179\n",
      "*****\n",
      "f1 is HS/DOG/csv/HS_J2A_split_plu_gtf_DOG.csv\n",
      "252\n",
      "206\n",
      "*****\n",
      "f1 is HS/DOG/csv/HS_J2B_split_min_gtf_DOG.csv\n",
      "63\n",
      "53\n",
      "*****\n",
      "f1 is HS/DOG/csv/HS_J2B_split_plu_gtf_DOG.csv\n",
      "87\n",
      "67\n",
      "*****\n",
      "f1 is HS/DOG/csv/N2_J2_1__split_min_gtf_DOG.csv\n",
      "73\n",
      "58\n",
      "*****\n",
      "f1 is HS/DOG/csv/N2_J2_1__split_plu_gtf_DOG.csv\n",
      "70\n",
      "50\n",
      "*****\n",
      "f1 is HS/DOG/csv/N2_J2_2__split_min_gtf_DOG.csv\n",
      "62\n",
      "51\n",
      "*****\n",
      "f1 is HS/DOG/csv/N2_J2_2__split_plu_gtf_DOG.csv\n",
      "68\n",
      "50\n",
      "*****\n",
      "f1 is HS/DOG/csv/N2_J2_3__split_min_gtf_DOG.csv\n",
      "71\n",
      "62\n",
      "*****\n",
      "f1 is HS/DOG/csv/N2_J2_3__split_plu_gtf_DOG.csv\n",
      "85\n",
      "60\n",
      "*****\n",
      "f1 is HS/DOG/csv/N2WT_INP_split_min_gtf_DOG.csv\n",
      "53\n",
      "41\n",
      "*****\n",
      "f1 is HS/DOG/csv/N2WT_INP_split_plu_gtf_DOG.csv\n",
      "60\n",
      "45\n"
     ]
    }
   ],
   "source": [
    "df_final = pd.DataFrame()\n",
    "\n",
    "for f in files:\n",
    "    df = parse_df(f)\n",
    "    df_final = df_final.append(df)\n",
    "df = df_final"
   ]
  },
  {
   "cell_type": "code",
   "execution_count": 56,
   "metadata": {
    "ExecuteTime": {
     "end_time": "2018-11-19T10:48:52.910623Z",
     "start_time": "2018-11-19T10:48:52.903794Z"
    },
    "collapsed": true
   },
   "outputs": [
    {
     "data": {
      "text/plain": [
       "['N2HS_INP',\n",
       " 'N2HS_J2A',\n",
       " 'N2HS_J2B',\n",
       " 'N2_J2_1',\n",
       " 'N2_J2_2',\n",
       " 'N2_J2_3',\n",
       " 'N2WT_INP']"
      ]
     },
     "execution_count": 56,
     "metadata": {},
     "output_type": "execute_result"
    }
   ],
   "source": [
    "sample_list = df[\"sample_name\"].unique().tolist()\n",
    "treat_list = df[\"Treatment\"].unique().tolist()\n",
    "enrich_list = df[\"Enrichment\"].unique().tolist()\n",
    "sample_list"
   ]
  },
  {
   "cell_type": "code",
   "execution_count": 58,
   "metadata": {
    "ExecuteTime": {
     "end_time": "2018-11-19T10:48:58.365520Z",
     "start_time": "2018-11-19T10:48:58.351702Z"
    },
    "collapsed": true
   },
   "outputs": [
    {
     "data": {
      "text/html": [
       "<div>\n",
       "<style scoped>\n",
       "    .dataframe tbody tr th:only-of-type {\n",
       "        vertical-align: middle;\n",
       "    }\n",
       "\n",
       "    .dataframe tbody tr th {\n",
       "        vertical-align: top;\n",
       "    }\n",
       "\n",
       "    .dataframe thead th {\n",
       "        text-align: right;\n",
       "    }\n",
       "</style>\n",
       "<table border=\"1\" class=\"dataframe\">\n",
       "  <thead>\n",
       "    <tr style=\"text-align: right;\">\n",
       "      <th></th>\n",
       "      <th>Sample size</th>\n",
       "      <th>Sample</th>\n",
       "    </tr>\n",
       "    <tr>\n",
       "      <th>sample_name</th>\n",
       "      <th></th>\n",
       "      <th></th>\n",
       "    </tr>\n",
       "  </thead>\n",
       "  <tbody>\n",
       "    <tr>\n",
       "      <th>N2HS_INP</th>\n",
       "      <td>31</td>\n",
       "      <td>N2HS_INP</td>\n",
       "    </tr>\n",
       "    <tr>\n",
       "      <th>N2HS_J2A</th>\n",
       "      <td>385</td>\n",
       "      <td>N2HS_J2A</td>\n",
       "    </tr>\n",
       "    <tr>\n",
       "      <th>N2HS_J2B</th>\n",
       "      <td>119</td>\n",
       "      <td>N2HS_J2B</td>\n",
       "    </tr>\n",
       "    <tr>\n",
       "      <th>N2WT_INP</th>\n",
       "      <td>86</td>\n",
       "      <td>N2WT_INP</td>\n",
       "    </tr>\n",
       "    <tr>\n",
       "      <th>N2_J2_1</th>\n",
       "      <td>104</td>\n",
       "      <td>N2_J2_1</td>\n",
       "    </tr>\n",
       "    <tr>\n",
       "      <th>N2_J2_2</th>\n",
       "      <td>100</td>\n",
       "      <td>N2_J2_2</td>\n",
       "    </tr>\n",
       "    <tr>\n",
       "      <th>N2_J2_3</th>\n",
       "      <td>122</td>\n",
       "      <td>N2_J2_3</td>\n",
       "    </tr>\n",
       "  </tbody>\n",
       "</table>\n",
       "</div>"
      ],
      "text/plain": [
       "             Sample size    Sample\n",
       "sample_name                       \n",
       "N2HS_INP              31  N2HS_INP\n",
       "N2HS_J2A             385  N2HS_J2A\n",
       "N2HS_J2B             119  N2HS_J2B\n",
       "N2WT_INP              86  N2WT_INP\n",
       "N2_J2_1              104   N2_J2_1\n",
       "N2_J2_2              100   N2_J2_2\n",
       "N2_J2_3              122   N2_J2_3"
      ]
     },
     "execution_count": 58,
     "metadata": {},
     "output_type": "execute_result"
    }
   ],
   "source": [
    "g = df.groupby(by=\"sample_name\", as_index=False)\n",
    "s = g.size()\n",
    "df_size = s.to_frame()\n",
    "df_size = df_size.rename( columns={0: \"Sample size\"})\n",
    "df_size[\"Sample\"] = df_size.index\n",
    "df_size"
   ]
  },
  {
   "cell_type": "code",
   "execution_count": 59,
   "metadata": {
    "ExecuteTime": {
     "end_time": "2018-11-19T10:49:01.068505Z",
     "start_time": "2018-11-19T10:49:00.975671Z"
    },
    "collapsed": true
   },
   "outputs": [
    {
     "name": "stdout",
     "output_type": "stream",
     "text": [
      "After dropping duplicates\n",
      "df_TO\t 111\n",
      "df_J2\t 474\n",
      "df_HS\t 398\n",
      "df_N2\t 194\n",
      "df_HS_J2\t 396\n",
      "df_HS_TO\t 31\n",
      "df_N2_J2\t 169\n",
      "df_N2_TO\t 86\n",
      "df ALL 490\n"
     ]
    }
   ],
   "source": [
    "df_TO    = df[ df[\"Enrichment\"]==\"INP\"]\n",
    "df_J2    = df[ df[\"Enrichment\"]==\"J2\" ]\n",
    "df_HS    = df[ df[\"Treatment\"]==\"HS\"]\n",
    "df_N2    = df[ df[\"Treatment\"]==\"N2\"]\n",
    "df_HS_J2 = df_J2[ df_J2[\"Treatment\"]==\"HS\" ]\n",
    "df_HS_TO = df_TO[df_TO[\"Treatment\"]==\"HS\"]\n",
    "df_N2_J2 = df_J2[ df_J2[\"Treatment\"]==\"N2\" ]   \n",
    "df_N2_TO = df_TO[df_TO[\"Treatment\"]==\"N2\"]     \n",
    "df_ALL = df\n",
    "\n",
    "\n",
    "\n",
    "df_TO    = df_TO.sort_values('DOG_length', ascending=False).drop_duplicates(\"gene_id_name\")\n",
    "df_J2    = df_J2.sort_values('DOG_length', ascending=False).drop_duplicates(\"gene_id_name\")\n",
    "df_HS    = df_HS.sort_values('DOG_length', ascending=False).drop_duplicates(\"gene_id_name\")\n",
    "df_N2    = df_N2.sort_values('DOG_length', ascending=False).drop_duplicates(\"gene_id_name\")\n",
    "df_HS_J2 = df_HS_J2.sort_values('DOG_length', ascending=False).drop_duplicates(\"gene_id_name\")\n",
    "df_HS_TO = df_HS_TO.sort_values('DOG_length', ascending=False).drop_duplicates(\"gene_id_name\")\n",
    "df_N2_J2 = df_N2_J2.sort_values('DOG_length', ascending=False).drop_duplicates(\"gene_id_name\")\n",
    "df_N2_TO = df_N2_TO.sort_values('DOG_length', ascending=False).drop_duplicates(\"gene_id_name\")\n",
    "df_ALL = df_ALL.sort_values('DOG_length', ascending=False).drop_duplicates(\"gene_id_name\")\n",
    "\n",
    "print(\"After dropping duplicates\")\n",
    "\n",
    "print(\"df_TO\\t\", len(df_TO))         \n",
    "print(\"df_J2\\t\", len(df_J2))         \n",
    "print(\"df_HS\\t\", len(df_HS))         \n",
    "print(\"df_N2\\t\", len(df_N2))         \n",
    "print(\"df_HS_J2\\t\", len(df_HS_J2))   \n",
    "print(\"df_HS_TO\\t\", len(df_HS_TO))   \n",
    "print(\"df_N2_J2\\t\", len(df_N2_J2))   \n",
    "print(\"df_N2_TO\\t\", len(df_N2_TO))   \n",
    "print(\"df ALL\", len(df_ALL))         "
   ]
  },
  {
   "cell_type": "code",
   "execution_count": 60,
   "metadata": {
    "ExecuteTime": {
     "end_time": "2018-11-19T10:49:02.480873Z",
     "start_time": "2018-11-19T10:49:02.464006Z"
    },
    "collapsed": true
   },
   "outputs": [
    {
     "name": "stdout",
     "output_type": "stream",
     "text": [
      "J2: HS vs N2\n",
      "df  396\n",
      "df2  169\n",
      "1  305\n",
      "2  78\n",
      "both  91\n",
      "ALL:  474\n",
      "******************\n",
      "TO: HS vs N2\n",
      "df  31\n",
      "df2  86\n",
      "1  25\n",
      "2  80\n",
      "both  6\n",
      "ALL:  111\n",
      "******************\n",
      "TOTAL vs J2: HS vs N2\n",
      "df  111\n",
      "df2  474\n",
      "1  16\n",
      "2  379\n",
      "both  95\n",
      "ALL:  490\n",
      "******************\n",
      "HS: TO vs J2\n",
      "df  31\n",
      "df2  396\n",
      "1  2\n",
      "2  367\n",
      "both  29\n",
      "ALL:  398\n",
      "******************\n",
      "N2: TO vs J2\n",
      "df  86\n",
      "df2  169\n",
      "1  25\n",
      "2  108\n",
      "both  61\n",
      "ALL:  194\n",
      "******************\n"
     ]
    }
   ],
   "source": [
    "get_venns(df_HS_J2,df_N2_J2,col=\"gene_id_name\",title=\"J2: HS vs N2\")\n",
    "get_venns(df_HS_TO,df_N2_TO,col=\"gene_id_name\",title=\"TO: HS vs N2\")\n",
    "get_venns(df_TO,df_J2,col=\"gene_id_name\",title=\"TOTAL vs J2: HS vs N2\")\n",
    "\n",
    "get_venns(df_HS_TO,df_HS_J2,col=\"gene_id_name\",title=\"HS: TO vs J2\")\n",
    "get_venns(df_N2_TO,df_N2_J2,col=\"gene_id_name\",title=\"N2: TO vs J2\")"
   ]
  },
  {
   "cell_type": "code",
   "execution_count": 61,
   "metadata": {
    "ExecuteTime": {
     "end_time": "2018-11-19T10:52:22.626801Z",
     "start_time": "2018-11-19T10:52:21.824682Z"
    },
    "collapsed": true
   },
   "outputs": [
    {
     "name": "stdout",
     "output_type": "stream",
     "text": [
      "*****\n",
      "f1 is OK/DOG/csv/N2-J2-1__split_min_gtf_DOG.csv\n",
      "73\n",
      "58\n",
      "*****\n",
      "f1 is OK/DOG/csv/N2-J2-1__split_plu_gtf_DOG.csv\n",
      "70\n",
      "50\n",
      "*****\n",
      "f1 is OK/DOG/csv/N2-J2-2__split_min_gtf_DOG.csv\n",
      "62\n",
      "51\n",
      "*****\n",
      "f1 is OK/DOG/csv/N2-J2-2__split_plu_gtf_DOG.csv\n",
      "68\n",
      "50\n",
      "*****\n",
      "f1 is OK/DOG/csv/N2-J2-3__split_min_gtf_DOG.csv\n",
      "71\n",
      "62\n",
      "*****\n",
      "f1 is OK/DOG/csv/N2-J2-3__split_plu_gtf_DOG.csv\n",
      "85\n",
      "60\n",
      "*****\n",
      "f1 is OK/DOG/csv/N2WT_INP_split_min_gtf_DOG.csv\n",
      "53\n",
      "41\n",
      "*****\n",
      "f1 is OK/DOG/csv/N2WT_INP_split_plu_gtf_DOG.csv\n",
      "60\n",
      "45\n",
      "*****\n",
      "f1 is OK/DOG/csv/OK8-J2-1_split_min_gtf_DOG.csv\n",
      "62\n",
      "51\n",
      "*****\n",
      "f1 is OK/DOG/csv/OK8-J2-1_split_plu_gtf_DOG.csv\n",
      "72\n",
      "49\n",
      "*****\n",
      "f1 is OK/DOG/csv/OK8-J2-2_split_min_gtf_DOG.csv\n",
      "61\n",
      "48\n",
      "*****\n",
      "f1 is OK/DOG/csv/OK8-J2-2_split_plu_gtf_DOG.csv\n",
      "65\n",
      "42\n",
      "*****\n",
      "f1 is OK/DOG/csv/OK8-J2-3_split_min_gtf_DOG.csv\n",
      "36\n",
      "27\n",
      "*****\n",
      "f1 is OK/DOG/csv/OK8-J2-3_split_plu_gtf_DOG.csv\n",
      "54\n",
      "37\n",
      "*****\n",
      "f1 is OK/DOG/csv/OK80-INP_split_min_gtf_DOG.csv\n",
      "119\n",
      "95\n",
      "*****\n",
      "f1 is OK/DOG/csv/OK80-INP_split_plu_gtf_DOG.csv\n",
      "130\n",
      "98\n"
     ]
    },
    {
     "data": {
      "text/plain": [
       "['J2', 'INP']"
      ]
     },
     "execution_count": 61,
     "metadata": {},
     "output_type": "execute_result"
    }
   ],
   "source": [
    "# Do the same for OK803\n",
    "\n",
    "files = glob.glob(\"OK/DOG/csv/*.csv\")\n",
    "\n",
    "df_final = pd.DataFrame()\n",
    "\n",
    "for f in files:\n",
    "    df = parse_df(f)\n",
    "    df_final = df_final.append(df)\n",
    "df = df_final\n",
    "\n",
    "sample_list = df[\"sample_name\"].unique().tolist()\n",
    "treat_list = df[\"Treatment\"].unique().tolist()\n",
    "enrich_list = df[\"Enrichment\"].unique().tolist()\n",
    "enrich_list"
   ]
  },
  {
   "cell_type": "code",
   "execution_count": 62,
   "metadata": {
    "ExecuteTime": {
     "end_time": "2018-11-19T10:52:24.919649Z",
     "start_time": "2018-11-19T10:52:24.904592Z"
    },
    "collapsed": true
   },
   "outputs": [
    {
     "data": {
      "text/html": [
       "<div>\n",
       "<style scoped>\n",
       "    .dataframe tbody tr th:only-of-type {\n",
       "        vertical-align: middle;\n",
       "    }\n",
       "\n",
       "    .dataframe tbody tr th {\n",
       "        vertical-align: top;\n",
       "    }\n",
       "\n",
       "    .dataframe thead th {\n",
       "        text-align: right;\n",
       "    }\n",
       "</style>\n",
       "<table border=\"1\" class=\"dataframe\">\n",
       "  <thead>\n",
       "    <tr style=\"text-align: right;\">\n",
       "      <th></th>\n",
       "      <th>Sample size</th>\n",
       "      <th>Sample</th>\n",
       "    </tr>\n",
       "    <tr>\n",
       "      <th>sample_name</th>\n",
       "      <th></th>\n",
       "      <th></th>\n",
       "    </tr>\n",
       "  </thead>\n",
       "  <tbody>\n",
       "    <tr>\n",
       "      <th>N2WT_INP</th>\n",
       "      <td>86</td>\n",
       "      <td>N2WT_INP</td>\n",
       "    </tr>\n",
       "    <tr>\n",
       "      <th>N2_J2_1</th>\n",
       "      <td>104</td>\n",
       "      <td>N2_J2_1</td>\n",
       "    </tr>\n",
       "    <tr>\n",
       "      <th>N2_J2_2</th>\n",
       "      <td>100</td>\n",
       "      <td>N2_J2_2</td>\n",
       "    </tr>\n",
       "    <tr>\n",
       "      <th>N2_J2_3</th>\n",
       "      <td>122</td>\n",
       "      <td>N2_J2_3</td>\n",
       "    </tr>\n",
       "    <tr>\n",
       "      <th>OK80_INP</th>\n",
       "      <td>193</td>\n",
       "      <td>OK80_INP</td>\n",
       "    </tr>\n",
       "    <tr>\n",
       "      <th>OK8_J2_1</th>\n",
       "      <td>100</td>\n",
       "      <td>OK8_J2_1</td>\n",
       "    </tr>\n",
       "    <tr>\n",
       "      <th>OK8_J2_2</th>\n",
       "      <td>89</td>\n",
       "      <td>OK8_J2_2</td>\n",
       "    </tr>\n",
       "    <tr>\n",
       "      <th>OK8_J2_3</th>\n",
       "      <td>64</td>\n",
       "      <td>OK8_J2_3</td>\n",
       "    </tr>\n",
       "  </tbody>\n",
       "</table>\n",
       "</div>"
      ],
      "text/plain": [
       "             Sample size    Sample\n",
       "sample_name                       \n",
       "N2WT_INP              86  N2WT_INP\n",
       "N2_J2_1              104   N2_J2_1\n",
       "N2_J2_2              100   N2_J2_2\n",
       "N2_J2_3              122   N2_J2_3\n",
       "OK80_INP             193  OK80_INP\n",
       "OK8_J2_1             100  OK8_J2_1\n",
       "OK8_J2_2              89  OK8_J2_2\n",
       "OK8_J2_3              64  OK8_J2_3"
      ]
     },
     "execution_count": 62,
     "metadata": {},
     "output_type": "execute_result"
    }
   ],
   "source": [
    "g = df.groupby(by=\"sample_name\", as_index=False)\n",
    "s = g.size()\n",
    "df_size = s.to_frame()\n",
    "df_size = df_size.rename( columns={0: \"Sample size\"})\n",
    "df_size[\"Sample\"] = df_size.index\n",
    "df_size"
   ]
  },
  {
   "cell_type": "code",
   "execution_count": 63,
   "metadata": {
    "ExecuteTime": {
     "end_time": "2018-11-19T10:52:29.975879Z",
     "start_time": "2018-11-19T10:52:29.815612Z"
    }
   },
   "outputs": [
    {
     "name": "stdout",
     "output_type": "stream",
     "text": [
      "After dropping duplicates\n",
      "df_TO  211\n",
      "df_J2  196\n",
      "df_OK  237\n",
      "df_N2  194\n",
      "df_OK_J2  128\n",
      "df_OK_TO  193\n",
      "df_N2_J2  169\n",
      "df_N2_TO  86\n",
      "dfall  300\n"
     ]
    }
   ],
   "source": [
    "df_TO = df[ df[\"Enrichment\"]==\"INP\"]\n",
    "df_J2 = df[ df[\"Enrichment\"]==\"J2\" ]\n",
    "df_OK = df[ df[\"Treatment\"]==\"OK\"]\n",
    "df_N2 = df[ df[\"Treatment\"]==\"N2\"]\n",
    "df_OK_J2 = df[ (df[\"Treatment\"]==\"OK\") & (df[\"Enrichment\"]==\"J2\") ]\n",
    "df_OK_TO = df[ (df[\"Treatment\"]==\"OK\") & (df[\"Enrichment\"]==\"INP\") ]\n",
    "df_N2_J2 = df[ (df[\"Treatment\"]==\"N2\") & (df[\"Enrichment\"]==\"J2\") ]\n",
    "df_N2_TO = df[ (df[\"Treatment\"]==\"N2\") & (df[\"Enrichment\"]==\"INP\") ]\n",
    "df_all = df\n",
    "\n",
    "\n",
    "# print(\"df_TO \", len(df_TO))    \n",
    "# print(\"df_J2 \", len(df_J2))    \n",
    "# print(\"df_OK \", len(df_OK))    \n",
    "# print(\"df_N2 \", len(df_N2))    \n",
    "# print(\"df_OK_J2 \", len(df_OK_J2)) \n",
    "# print(\"df_OK_TO \", len(df_OK_TO)) \n",
    "# print(\"df_N2_J2 \", len(df_N2_J2)) \n",
    "# print(\"df_N2_TO \", len(df_N2_TO)) \n",
    "# print(\"dfall \", len(df_ALL)) \n",
    "\n",
    "\n",
    "df_TO = df[ df[\"Enrichment\"]==\"INP\" ].sort_values('DOG_length', ascending=False).drop_duplicates(\"gene_id_name\")\n",
    "df_J2 = df[ df[\"Enrichment\"]==\"J2\" ].sort_values('DOG_length', ascending=False).drop_duplicates(\"gene_id_name\")\n",
    "\n",
    "df_OK = df[ df[\"Treatment\"]==\"OK\"].sort_values('DOG_length', ascending=False).drop_duplicates(\"gene_id_name\")\n",
    "df_N2 = df[ df[\"Treatment\"]==\"N2\"].sort_values('DOG_length', ascending=False).drop_duplicates(\"gene_id_name\")\n",
    "df_ALL = df.sort_values('DOG_length', ascending=False).drop_duplicates(\"gene_id_name\")\n",
    "\n",
    "df_OK_J2 = df[ (df[\"Treatment\"]==\"OK\") & (df[\"Enrichment\"]==\"J2\") ].sort_values('DOG_length', ascending=False).drop_duplicates(\"gene_id_name\")\n",
    "df_OK_TO = df[ (df[\"Treatment\"]==\"OK\") & (df[\"Enrichment\"]==\"INP\") ].sort_values('DOG_length', ascending=False).drop_duplicates(\"gene_id_name\")\n",
    "df_N2_J2 = df[ (df[\"Treatment\"]==\"N2\") & (df[\"Enrichment\"]==\"J2\") ].sort_values('DOG_length', ascending=False).drop_duplicates(\"gene_id_name\")\n",
    "df_N2_TO = df[ (df[\"Treatment\"]==\"N2\") & (df[\"Enrichment\"]==\"INP\") ].sort_values('DOG_length', ascending=False).drop_duplicates(\"gene_id_name\")\n",
    "\n",
    "print(\"After dropping duplicates\")\n",
    "\n",
    "\n",
    "print(\"df_TO \", len(df_TO))    \n",
    "print(\"df_J2 \", len(df_J2))    \n",
    "print(\"df_OK \", len(df_OK))    \n",
    "print(\"df_N2 \", len(df_N2))    \n",
    "print(\"df_OK_J2 \", len(df_OK_J2)) \n",
    "print(\"df_OK_TO \", len(df_OK_TO)) \n",
    "print(\"df_N2_J2 \", len(df_N2_J2)) \n",
    "print(\"df_N2_TO \", len(df_N2_TO)) \n",
    "print(\"dfall \", len(df_ALL)) \n"
   ]
  },
  {
   "cell_type": "code",
   "execution_count": 64,
   "metadata": {
    "ExecuteTime": {
     "end_time": "2018-11-19T10:53:08.861644Z",
     "start_time": "2018-11-19T10:53:08.847963Z"
    }
   },
   "outputs": [
    {
     "name": "stdout",
     "output_type": "stream",
     "text": [
      "J2: OK vs N2\n",
      "df  128\n",
      "df2  169\n",
      "1  27\n",
      "2  68\n",
      "both  101\n",
      "ALL:  196\n",
      "******************\n",
      "TO: OK vs N2\n",
      "df  193\n",
      "df2  86\n",
      "1  125\n",
      "2  18\n",
      "both  68\n",
      "ALL:  211\n",
      "******************\n",
      "TO vs J2: OK vs N2\n",
      "df  211\n",
      "df2  196\n",
      "1  104\n",
      "2  89\n",
      "both  107\n",
      "ALL:  300\n",
      "******************\n",
      "OK vs OK: TO vs J2\n",
      "df  193\n",
      "df2  128\n",
      "1  109\n",
      "2  44\n",
      "both  84\n",
      "ALL:  237\n",
      "******************\n"
     ]
    }
   ],
   "source": [
    "\n",
    "get_venns(df_OK_J2,df_N2_J2,col=\"gene_id_name\",title=\"J2: OK vs N2\")\n",
    "get_venns(df_OK_TO,df_N2_TO,col=\"gene_id_name\",title=\"TO: OK vs N2\")\n",
    "get_venns(df_TO,df_J2,col=\"gene_id_name\",title=\"TO vs J2: OK vs N2\")\n",
    "\n",
    "get_venns(df_OK_TO,df_OK_J2,col=\"gene_id_name\",title=\"OK vs OK: TO vs J2\")\n"
   ]
  },
  {
   "cell_type": "code",
   "execution_count": 65,
   "metadata": {
    "ExecuteTime": {
     "end_time": "2018-11-19T10:58:09.622106Z",
     "start_time": "2018-11-19T10:58:09.615245Z"
    },
    "collapsed": true
   },
   "outputs": [],
   "source": [
    "df_out = pd.concat([df_HS,df_N2,df_OK])\n",
    "# df_out.to_csv(\"DoGs_ALL.csv\", sep=\",\", index=None)"
   ]
  },
  {
   "cell_type": "code",
   "execution_count": 66,
   "metadata": {
    "ExecuteTime": {
     "end_time": "2018-11-19T10:58:10.297392Z",
     "start_time": "2018-11-19T10:58:10.287672Z"
    },
    "collapsed": true
   },
   "outputs": [],
   "source": [
    "df = pd.concat([df_HS_J2,df_HS_TO,df_N2_J2,df_N2_TO,df_OK_J2,df_OK_TO])\n",
    "# df.to_csv(\"DoGs_collapsed_by_enrichment_and_treatment.csv\", sep=\",\", index=None)"
   ]
  },
  {
   "cell_type": "code",
   "execution_count": 67,
   "metadata": {
    "ExecuteTime": {
     "end_time": "2018-11-19T10:58:15.248237Z",
     "start_time": "2018-11-19T10:58:14.349930Z"
    }
   },
   "outputs": [
    {
     "data": {
      "text/html": [
       "<div>\n",
       "<style scoped>\n",
       "    .dataframe tbody tr th:only-of-type {\n",
       "        vertical-align: middle;\n",
       "    }\n",
       "\n",
       "    .dataframe tbody tr th {\n",
       "        vertical-align: top;\n",
       "    }\n",
       "\n",
       "    .dataframe thead th {\n",
       "        text-align: right;\n",
       "    }\n",
       "</style>\n",
       "<table border=\"1\" class=\"dataframe\">\n",
       "  <thead>\n",
       "    <tr style=\"text-align: right;\">\n",
       "      <th></th>\n",
       "      <th>sample_name</th>\n",
       "      <th>DOG_length</th>\n",
       "      <th>gene_id_name</th>\n",
       "      <th>DOG_start_local</th>\n",
       "      <th>DOG_end_local</th>\n",
       "      <th>chr</th>\n",
       "      <th>strand</th>\n",
       "      <th>TYPE</th>\n",
       "      <th>Enrichment</th>\n",
       "      <th>Treatment</th>\n",
       "      <th>Treatment_Enrichment</th>\n",
       "    </tr>\n",
       "  </thead>\n",
       "  <tbody>\n",
       "    <tr>\n",
       "      <th>315</th>\n",
       "      <td>N2HS_J2A</td>\n",
       "      <td>29300</td>\n",
       "      <td>WBGene00022951</td>\n",
       "      <td>16931619</td>\n",
       "      <td>16943323</td>\n",
       "      <td>X</td>\n",
       "      <td>+</td>\n",
       "      <td>DOG</td>\n",
       "      <td>J2</td>\n",
       "      <td>HS</td>\n",
       "      <td>HS_J2</td>\n",
       "    </tr>\n",
       "    <tr>\n",
       "      <th>763</th>\n",
       "      <td>N2HS_J2A</td>\n",
       "      <td>19500</td>\n",
       "      <td>WBGene00197215</td>\n",
       "      <td>10043561</td>\n",
       "      <td>10048167</td>\n",
       "      <td>V</td>\n",
       "      <td>-</td>\n",
       "      <td>DOG</td>\n",
       "      <td>J2</td>\n",
       "      <td>HS</td>\n",
       "      <td>HS_J2</td>\n",
       "    </tr>\n",
       "    <tr>\n",
       "      <th>1180</th>\n",
       "      <td>N2HS_J2A</td>\n",
       "      <td>16200</td>\n",
       "      <td>WBGene00002019</td>\n",
       "      <td>9088617</td>\n",
       "      <td>9090077</td>\n",
       "      <td>V</td>\n",
       "      <td>+</td>\n",
       "      <td>DOG</td>\n",
       "      <td>J2</td>\n",
       "      <td>HS</td>\n",
       "      <td>HS_J2</td>\n",
       "    </tr>\n",
       "    <tr>\n",
       "      <th>564</th>\n",
       "      <td>N2HS_J2A</td>\n",
       "      <td>15900</td>\n",
       "      <td>WBGene00219343</td>\n",
       "      <td>18723771</td>\n",
       "      <td>18724748</td>\n",
       "      <td>V</td>\n",
       "      <td>-</td>\n",
       "      <td>DOG</td>\n",
       "      <td>J2</td>\n",
       "      <td>HS</td>\n",
       "      <td>HS_J2</td>\n",
       "    </tr>\n",
       "    <tr>\n",
       "      <th>149</th>\n",
       "      <td>N2HS_J2A</td>\n",
       "      <td>15900</td>\n",
       "      <td>WBGene00002018</td>\n",
       "      <td>1805875</td>\n",
       "      <td>1807450</td>\n",
       "      <td>V</td>\n",
       "      <td>+</td>\n",
       "      <td>DOG</td>\n",
       "      <td>J2</td>\n",
       "      <td>HS</td>\n",
       "      <td>HS_J2</td>\n",
       "    </tr>\n",
       "  </tbody>\n",
       "</table>\n",
       "</div>"
      ],
      "text/plain": [
       "     sample_name  DOG_length    gene_id_name  DOG_start_local  DOG_end_local  \\\n",
       "315     N2HS_J2A       29300  WBGene00022951         16931619       16943323   \n",
       "763     N2HS_J2A       19500  WBGene00197215         10043561       10048167   \n",
       "1180    N2HS_J2A       16200  WBGene00002019          9088617        9090077   \n",
       "564     N2HS_J2A       15900  WBGene00219343         18723771       18724748   \n",
       "149     N2HS_J2A       15900  WBGene00002018          1805875        1807450   \n",
       "\n",
       "     chr strand TYPE Enrichment Treatment Treatment_Enrichment  \n",
       "315    X      +  DOG         J2        HS                HS_J2  \n",
       "763    V      -  DOG         J2        HS                HS_J2  \n",
       "1180   V      +  DOG         J2        HS                HS_J2  \n",
       "564    V      -  DOG         J2        HS                HS_J2  \n",
       "149    V      +  DOG         J2        HS                HS_J2  "
      ]
     },
     "execution_count": 67,
     "metadata": {},
     "output_type": "execute_result"
    }
   ],
   "source": [
    "df[\"Treatment_Enrichment\"] = df[\"Treatment\"] +\"_\"+ df[\"Enrichment\"]\n",
    "df.head()"
   ]
  },
  {
   "cell_type": "code",
   "execution_count": 68,
   "metadata": {
    "ExecuteTime": {
     "end_time": "2018-11-19T10:58:17.398161Z",
     "start_time": "2018-11-19T10:58:17.391677Z"
    }
   },
   "outputs": [
    {
     "data": {
      "text/plain": [
       "['HS_J2', 'HS_INP', 'N2_J2', 'N2_INP', 'OK_J2', 'OK_INP']"
      ]
     },
     "execution_count": 68,
     "metadata": {},
     "output_type": "execute_result"
    }
   ],
   "source": [
    "tlist = df[\"Treatment_Enrichment\"].unique().tolist()\n",
    "names = df[\"gene_id_name\"].unique().tolist()\n",
    "tlist"
   ]
  },
  {
   "cell_type": "code",
   "execution_count": 70,
   "metadata": {
    "ExecuteTime": {
     "end_time": "2018-11-19T10:59:27.835603Z",
     "start_time": "2018-11-19T10:59:26.807255Z"
    }
   },
   "outputs": [],
   "source": [
    "\n",
    "\n",
    "######UPSET For groups of samples\n",
    "df_f = pd.DataFrame(columns=tlist)\n",
    "df_f[\"gene_id_names\"] = names\n",
    "df_f = df_f.fillna(value=0)\n",
    "df_f.index = df_f[\"gene_id_names\"]\n",
    "\n",
    "for name in names:\n",
    "    df1 = df[df[\"gene_id_name\"]==name]\n",
    "    tl = df1[\"Treatment_Enrichment\"].unique().tolist()\n",
    "    for t in tl:\n",
    "        df_f.loc[name,t] = 1 \n",
    "\n",
    "final_names = [\"gene_id_names\"]+tlist\n",
    "df_f = df_f[final_names]\n",
    "df_f.to_csv(\"df_for_pyupset.csv\",sep=\",\",index=None)"
   ]
  },
  {
   "cell_type": "code",
   "execution_count": 127,
   "metadata": {
    "ExecuteTime": {
     "end_time": "2018-11-16T11:52:08.955884Z",
     "start_time": "2018-11-16T11:52:08.950543Z"
    },
    "collapsed": true
   },
   "outputs": [],
   "source": [
    "\n",
    "# slist = df[\"sample_name\"].unique().tolist()\n",
    "# # UPSET For groups of samples\n",
    "# df_f = pd.DataFrame(columns=slist)\n",
    "# df_f[\"gene_id_names\"] = names\n",
    "# df_f = df_f.fillna(value=0)\n",
    "# df_f.index = df_f[\"gene_id_names\"]\n",
    "\n",
    "# for name in names:\n",
    "#     df1 = df[df[\"gene_id_name\"]==name]\n",
    "#     tl = df1[\"sample_name\"].unique().tolist()\n",
    "#     for t in tl:\n",
    "#         df_f.loc[name,t] = 1 \n",
    "\n",
    "# final_names = [\"gene_id_names\"]+slist\n",
    "# df_f = df_f[final_names]\n",
    "# df_f.to_csv(\"df_for_pyupset_Allsamples.csv\",sep=\",\",index=None)\n",
    "    \n"
   ]
  },
  {
   "cell_type": "code",
   "execution_count": 71,
   "metadata": {
    "ExecuteTime": {
     "end_time": "2018-11-19T10:59:30.332189Z",
     "start_time": "2018-11-19T10:59:30.318871Z"
    }
   },
   "outputs": [
    {
     "ename": "NameError",
     "evalue": "name 'slist' is not defined",
     "output_type": "error",
     "traceback": [
      "\u001b[0;31m---------------------------------------------------------------------------\u001b[0m",
      "\u001b[0;31mNameError\u001b[0m                                 Traceback (most recent call last)",
      "\u001b[0;32m<ipython-input-71-94c20430ad47>\u001b[0m in \u001b[0;36m<module>\u001b[0;34m()\u001b[0m\n\u001b[0;32m----> 1\u001b[0;31m \u001b[0mslist\u001b[0m\u001b[0;34m\u001b[0m\u001b[0m\n\u001b[0m",
      "\u001b[0;31mNameError\u001b[0m: name 'slist' is not defined"
     ]
    }
   ],
   "source": [
    "slist"
   ]
  },
  {
   "cell_type": "code",
   "execution_count": 129,
   "metadata": {
    "ExecuteTime": {
     "end_time": "2018-11-16T11:52:11.416708Z",
     "start_time": "2018-11-16T11:52:11.414144Z"
    },
    "collapsed": true
   },
   "outputs": [],
   "source": [
    "\n",
    "\n",
    "\n",
    "# pd.DataFrame(tmp, columns=[\"First\", \"Second\"]).set_index('First', drop=False)"
   ]
  },
  {
   "cell_type": "code",
   "execution_count": null,
   "metadata": {
    "ExecuteTime": {
     "end_time": "2018-11-16T03:13:36.722702Z",
     "start_time": "2018-11-16T03:13:36.695749Z"
    },
    "collapsed": true
   },
   "outputs": [],
   "source": []
  },
  {
   "cell_type": "code",
   "execution_count": null,
   "metadata": {
    "collapsed": true
   },
   "outputs": [],
   "source": []
  },
  {
   "cell_type": "code",
   "execution_count": 72,
   "metadata": {
    "ExecuteTime": {
     "end_time": "2018-11-19T10:59:38.269904Z",
     "start_time": "2018-11-19T10:59:38.191605Z"
    },
    "collapsed": true
   },
   "outputs": [],
   "source": [
    "\n",
    "\n",
    "\n",
    "\n",
    "\n",
    "hsup = [\"WBGene00219916\",\n",
    "\"WBGene00220094\",\n",
    "\"WBGene00220004\",\n",
    "\"WBGene00220243\",\n",
    "\"WBGene00220000\",\n",
    "\"WBGene00201688\",\n",
    "\"WBGene00199162\",\n",
    "\"WBGene00002017\",\n",
    "\"WBGene00004567\",\n",
    "\"WBGene00010790\",\n",
    "\"WBGene00017659\",\n",
    "\"WBGene00000766\",\n",
    "\"WBGene00012977\",\n",
    "\"WBGene00016002\",\n",
    "\"WBGene00012663\",\n",
    "\"WBGene00012734\",\n",
    "\"WBGene00014115\",\n",
    "\"WBGene00007027\",\n",
    "\"WBGene00001749\",\n",
    "\"WBGene00220163\",\n",
    "\"WBGene00219826\",\n",
    "\"WBGene00013024\",\n",
    "\"WBGene00012718\",\n",
    "\"WBGene00014954\",\n",
    "\"WBGene00220246\",\n",
    "\"WBGene00017245\",\n",
    "\"WBGene00023180\",\n",
    "\"WBGene00015800\",\n",
    "\"WBGene00009277\",\n",
    "\"WBGene00009052\",\n",
    "\"WBGene00022167\",\n",
    "\"WBGene00044131\",\n",
    "\"WBGene00009527\",\n",
    "\"WBGene00015731\",\n",
    "\"WBGene00010770\",\n",
    "\"WBGene00001889\",\n",
    "\"WBGene00014264\",\n",
    "\"WBGene00009654\",\n",
    "\"WBGene00007637\",\n",
    "\"WBGene00017499\",\n",
    "\"WBGene00015228\",\n",
    "\"WBGene00014309\",\n",
    "\"WBGene00009656\",\n",
    "\"WBGene00003229\",\n",
    "\"WBGene00001923\",\n",
    "\"WBGene00001901\",\n",
    "\"WBGene00045127\",\n",
    "\"WBGene00001234\",\n",
    "\"WBGene00014843\",\n",
    "\"WBGene00012961\",\n",
    "\"WBGene00201669\",\n",
    "\"WBGene00220052\",\n",
    "\"WBGene00195813\",\n",
    "\"WBGene00011231\",\n",
    "\"WBGene00196396\",\n",
    "\"WBGene00003308\",\n",
    "\"WBGene00002015\",\n",
    "\"WBGene00198814\",\n",
    "\"WBGene00045366\",\n",
    "\"WBGene00012555\",\n",
    "\"WBGene00004765\",\n",
    "\"WBGene00013732\",\n",
    "\"WBGene00007859\",\n",
    "\"WBGene00003834\",\n",
    "\"WBGene00201398\",\n",
    "\"WBGene00008968\",\n",
    "\"WBGene00004905\",\n",
    "\"WBGene00004314\",\n",
    "\"WBGene00006945\",\n",
    "\"WBGene00220207\",\n",
    "\"WBGene00021238\",\n",
    "\"WBGene00009301\",\n",
    "\"WBGene00235348\",\n",
    "\"WBGene00001918\",\n",
    "\"WBGene00004246\",\n",
    "\"WBGene00010713\",\n",
    "\"WBGene00021317\",\n",
    "\"WBGene00012362\",\n",
    "\"WBGene00001925\",\n",
    "\"WBGene00009050\",\n",
    "\"WBGene00001895\",\n",
    "\"WBGene00021236\",\n",
    "\"WBGene00219803\",\n",
    "\"WBGene00014376\"]\n",
    "\n",
    "\n",
    "hsdo = [   \n",
    "\"WBGene00235373\",\n",
    "\"WBGene00220042\",\n",
    "\"WBGene00269391\",\n",
    "\"WBGene00000793\",\n",
    "\"WBGene00200167\",\n",
    "\"WBGene00012840\",\n",
    "\"WBGene00043327\",\n",
    "\"WBGene00012618\",\n",
    "\"WBGene00016458\",\n",
    "\"WBGene00017930\",\n",
    "\"WBGene00194981\",\n",
    "\"WBGene00008144\",\n",
    "\"WBGene00164974\",\n",
    "\"WBGene00019279\",\n",
    "\"WBGene00009589\",\n",
    "\"WBGene00012476\",\n",
    "\"WBGene00004947\",\n",
    "\"WBGene00198348\",\n",
    "\"WBGene00010989\",\n",
    "\"WBGene00197228\",\n",
    "\"WBGene00022092\",\n",
    "\"WBGene00077687\",\n",
    "\"WBGene00199742\",\n",
    "\"WBGene00019590\",\n",
    "\"WBGene00043328\"]\n"
   ]
  },
  {
   "cell_type": "code",
   "execution_count": 73,
   "metadata": {
    "ExecuteTime": {
     "end_time": "2018-11-19T10:59:47.367603Z",
     "start_time": "2018-11-19T10:59:46.350904Z"
    },
    "collapsed": true
   },
   "outputs": [],
   "source": [
    "#####UPSET For groups of samples\n",
    "df_f = pd.DataFrame(columns=tlist)\n",
    "df_f[\"gene_id_names\"] = names\n",
    "df_f = df_f.fillna(value=0)\n",
    "df_f.index = df_f[\"gene_id_names\"]\n",
    "\n",
    "for name in names:\n",
    "    df1 = df[df[\"gene_id_name\"]==name]\n",
    "    tl = df1[\"Treatment_Enrichment\"].unique().tolist()\n",
    "    for t in tl:\n",
    "        df_f.loc[name,t] = 1 \n",
    "\n",
    "final_names = [\"gene_id_names\"]+tlist\n",
    "df_f = df_f[final_names]\n"
   ]
  },
  {
   "cell_type": "code",
   "execution_count": 74,
   "metadata": {
    "ExecuteTime": {
     "end_time": "2018-11-19T10:59:49.079349Z",
     "start_time": "2018-11-19T10:59:49.067326Z"
    }
   },
   "outputs": [
    {
     "data": {
      "text/html": [
       "<div>\n",
       "<style scoped>\n",
       "    .dataframe tbody tr th:only-of-type {\n",
       "        vertical-align: middle;\n",
       "    }\n",
       "\n",
       "    .dataframe tbody tr th {\n",
       "        vertical-align: top;\n",
       "    }\n",
       "\n",
       "    .dataframe thead th {\n",
       "        text-align: right;\n",
       "    }\n",
       "</style>\n",
       "<table border=\"1\" class=\"dataframe\">\n",
       "  <thead>\n",
       "    <tr style=\"text-align: right;\">\n",
       "      <th></th>\n",
       "      <th>gene_id_names</th>\n",
       "      <th>HS_J2</th>\n",
       "      <th>HS_INP</th>\n",
       "      <th>N2_J2</th>\n",
       "      <th>N2_INP</th>\n",
       "      <th>OK_J2</th>\n",
       "      <th>OK_INP</th>\n",
       "    </tr>\n",
       "    <tr>\n",
       "      <th>gene_id_names</th>\n",
       "      <th></th>\n",
       "      <th></th>\n",
       "      <th></th>\n",
       "      <th></th>\n",
       "      <th></th>\n",
       "      <th></th>\n",
       "      <th></th>\n",
       "    </tr>\n",
       "  </thead>\n",
       "  <tbody>\n",
       "    <tr>\n",
       "      <th>WBGene00022951</th>\n",
       "      <td>WBGene00022951</td>\n",
       "      <td>1</td>\n",
       "      <td>0</td>\n",
       "      <td>1</td>\n",
       "      <td>1</td>\n",
       "      <td>1</td>\n",
       "      <td>1</td>\n",
       "    </tr>\n",
       "    <tr>\n",
       "      <th>WBGene00197215</th>\n",
       "      <td>WBGene00197215</td>\n",
       "      <td>1</td>\n",
       "      <td>1</td>\n",
       "      <td>0</td>\n",
       "      <td>0</td>\n",
       "      <td>0</td>\n",
       "      <td>0</td>\n",
       "    </tr>\n",
       "    <tr>\n",
       "      <th>WBGene00002019</th>\n",
       "      <td>WBGene00002019</td>\n",
       "      <td>1</td>\n",
       "      <td>0</td>\n",
       "      <td>0</td>\n",
       "      <td>0</td>\n",
       "      <td>0</td>\n",
       "      <td>0</td>\n",
       "    </tr>\n",
       "    <tr>\n",
       "      <th>WBGene00219343</th>\n",
       "      <td>WBGene00219343</td>\n",
       "      <td>1</td>\n",
       "      <td>0</td>\n",
       "      <td>0</td>\n",
       "      <td>0</td>\n",
       "      <td>0</td>\n",
       "      <td>0</td>\n",
       "    </tr>\n",
       "    <tr>\n",
       "      <th>WBGene00002018</th>\n",
       "      <td>WBGene00002018</td>\n",
       "      <td>1</td>\n",
       "      <td>0</td>\n",
       "      <td>0</td>\n",
       "      <td>0</td>\n",
       "      <td>0</td>\n",
       "      <td>0</td>\n",
       "    </tr>\n",
       "  </tbody>\n",
       "</table>\n",
       "</div>"
      ],
      "text/plain": [
       "                 gene_id_names  HS_J2  HS_INP  N2_J2  N2_INP  OK_J2  OK_INP\n",
       "gene_id_names                                                              \n",
       "WBGene00022951  WBGene00022951      1       0      1       1      1       1\n",
       "WBGene00197215  WBGene00197215      1       1      0       0      0       0\n",
       "WBGene00002019  WBGene00002019      1       0      0       0      0       0\n",
       "WBGene00219343  WBGene00219343      1       0      0       0      0       0\n",
       "WBGene00002018  WBGene00002018      1       0      0       0      0       0"
      ]
     },
     "execution_count": 74,
     "metadata": {},
     "output_type": "execute_result"
    }
   ],
   "source": [
    "df_f.head()"
   ]
  },
  {
   "cell_type": "code",
   "execution_count": 75,
   "metadata": {
    "ExecuteTime": {
     "end_time": "2018-11-19T10:59:55.150040Z",
     "start_time": "2018-11-19T10:59:55.135890Z"
    },
    "collapsed": true
   },
   "outputs": [],
   "source": [
    "df_up = pd.DataFrame()\n",
    "df_up[\"gene_id_names\"] = hsup\n",
    "\n",
    "df_do = pd.DataFrame()\n",
    "df_do[\"gene_id_names\"] = hsdo\n",
    "\n",
    "df_merge_up = pd.merge(df_f,df_up, on=\"gene_id_names\")\n",
    "df_merge_do = pd.merge(df_f,df_do, on=\"gene_id_names\")"
   ]
  },
  {
   "cell_type": "code",
   "execution_count": 76,
   "metadata": {
    "ExecuteTime": {
     "end_time": "2018-11-19T10:59:58.634645Z",
     "start_time": "2018-11-19T10:59:58.591254Z"
    },
    "collapsed": true
   },
   "outputs": [],
   "source": [
    "df_merge_up.to_csv(\"df_for_pyupset_hs_significant_up.csv\",sep=\",\",index=None)\n",
    "df_merge_do.to_csv(\"df_for_pyupset_hs_significant_do.csv\",sep=\",\",index=None)\n",
    "\n"
   ]
  },
  {
   "cell_type": "code",
   "execution_count": null,
   "metadata": {
    "collapsed": true
   },
   "outputs": [],
   "source": []
  }
 ],
 "metadata": {
  "kernelspec": {
   "display_name": "Python 3",
   "language": "python",
   "name": "python3"
  },
  "language_info": {
   "codemirror_mode": {
    "name": "ipython",
    "version": 3
   },
   "file_extension": ".py",
   "mimetype": "text/x-python",
   "name": "python",
   "nbconvert_exporter": "python",
   "pygments_lexer": "ipython3",
   "version": "3.5.4"
  }
 },
 "nbformat": 4,
 "nbformat_minor": 1
}
