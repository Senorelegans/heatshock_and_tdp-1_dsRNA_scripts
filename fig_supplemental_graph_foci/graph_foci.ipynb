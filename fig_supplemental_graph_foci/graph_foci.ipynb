{
 "cells": [
  {
   "cell_type": "code",
   "execution_count": 84,
   "metadata": {
    "ExecuteTime": {
     "end_time": "2018-12-24T10:27:06.983728Z",
     "start_time": "2018-12-24T10:27:06.966565Z"
    }
   },
   "outputs": [],
   "source": [
    "import pandas as pd\n",
    "import seaborn as sns\n",
    "import numpy as np\n",
    "import statsmodels.api as sm\n",
    "from statsmodels.formula.api import ols\n",
    "%matplotlib inline"
   ]
  },
  {
   "cell_type": "code",
   "execution_count": 85,
   "metadata": {
    "ExecuteTime": {
     "end_time": "2018-12-24T10:27:07.261818Z",
     "start_time": "2018-12-24T10:27:07.259161Z"
    }
   },
   "outputs": [],
   "source": [
    "# df = pd.read_excel(\"quantification.xlsx\")\n",
    "# df_key = pd.read_excel(\"key.xlsx\",names=[\"key\",\"Image\",\"Condition\", \"Heatshock\"])"
   ]
  },
  {
   "cell_type": "code",
   "execution_count": 86,
   "metadata": {
    "ExecuteTime": {
     "end_time": "2018-12-24T10:27:07.579194Z",
     "start_time": "2018-12-24T10:27:07.576304Z"
    }
   },
   "outputs": [],
   "source": [
    "# df = pd.merge(df,df_key,on=\"Image\")\n",
    "# del df[\"Image\"]\n",
    "# df.head()\n",
    "# df.to_excel(\"Average_foci_quantification_raw_data.xlsx\", index=None)"
   ]
  },
  {
   "cell_type": "code",
   "execution_count": 122,
   "metadata": {
    "ExecuteTime": {
     "end_time": "2018-12-30T10:59:37.052944Z",
     "start_time": "2018-12-30T10:59:36.078537Z"
    }
   },
   "outputs": [
    {
     "name": "stderr",
     "output_type": "stream",
     "text": [
      "/Users/M/anaconda3/lib/python3.5/site-packages/seaborn/categorical.py:490: FutureWarning: remove_na is deprecated and is a private function. Do not use.\n",
      "  box_data = remove_na(group_data[hue_mask])\n"
     ]
    },
    {
     "data": {
      "image/png": "[encoded data removed]",
      "text/plain": [
       "<matplotlib.figure.Figure at 0x109726080>"
      ]
     },
     "metadata": {},
     "output_type": "display_data"
    }
   ],
   "source": [
    "\n",
    "df = pd.read_excel(\"Average_foci_quantification_raw_data.xlsx\")\n",
    "list(df)\n",
    "order = [\"N2\",'SY441', 'rde-4', 'HS N2', 'HS SY441','HS rde-4']\n",
    "plt = sns.boxplot(x=\"Condition\",y=\"Average foci\", data=df, hue=\"Heatshock\",order=order)\n",
    "\n",
    "\n",
    "# plt.legend_.remove()\n",
    "fig = plt.get_figure()\n",
    "fig.savefig(\"Average_foci.tif\",dpi=600,format=\"tiff\")\n"
   ]
  },
  {
   "cell_type": "code",
   "execution_count": null,
   "metadata": {
    "ExecuteTime": {
     "end_time": "2018-12-24T10:31:52.531238Z",
     "start_time": "2018-12-24T10:31:52.490156Z"
    }
   },
   "outputs": [],
   "source": []
  },
  {
   "cell_type": "code",
   "execution_count": 109,
   "metadata": {
    "ExecuteTime": {
     "end_time": "2018-12-24T10:31:53.821773Z",
     "start_time": "2018-12-24T10:31:53.811034Z"
    }
   },
   "outputs": [],
   "source": [
    "# ANOVA\n",
    "grps = pd.unique(df[\"Condition\"].values)\n",
    "d_data = {grp:df[\"Average foci\"][df[\"Condition\"] == grp] for grp in grps}"
   ]
  },
  {
   "cell_type": "code",
   "execution_count": 110,
   "metadata": {
    "ExecuteTime": {
     "end_time": "2018-12-24T10:31:54.127943Z",
     "start_time": "2018-12-24T10:31:54.122469Z"
    },
    "collapsed": true
   },
   "outputs": [],
   "source": [
    "k = len(pd.unique(df[\"Condition\"]))  # number of conditions\n",
    "N = len(df.values)  # conditions times participants\n",
    "n = df.groupby(\"Condition\").size()[0] #Participants in each condition"
   ]
  },
  {
   "cell_type": "code",
   "execution_count": 111,
   "metadata": {
    "ExecuteTime": {
     "end_time": "2018-12-24T10:31:54.452505Z",
     "start_time": "2018-12-24T10:31:54.442585Z"
    }
   },
   "outputs": [],
   "source": [
    "df[\"AverageFoci\"] = df[\"Average foci\"] # Rename because the test wont take spaces for names\n",
    "mod = ols(\"AverageFoci ~ Condition\", data=df).fit()"
   ]
  },
  {
   "cell_type": "code",
   "execution_count": 112,
   "metadata": {
    "ExecuteTime": {
     "end_time": "2018-12-24T10:31:54.739681Z",
     "start_time": "2018-12-24T10:31:54.731633Z"
    }
   },
   "outputs": [],
   "source": [
    "aov_table = sm.stats.anova_lm(mod, typ=2)"
   ]
  },
  {
   "cell_type": "code",
   "execution_count": 113,
   "metadata": {
    "ExecuteTime": {
     "end_time": "2018-12-24T10:31:55.078790Z",
     "start_time": "2018-12-24T10:31:55.066907Z"
    }
   },
   "outputs": [
    {
     "name": "stdout",
     "output_type": "stream",
     "text": [
      "Multiple Comparison of Means - Tukey HSD,FWER=0.05\n",
      "==================================================\n",
      " group1   group2  meandiff  lower    upper  reject\n",
      "--------------------------------------------------\n",
      " HS N2   HS SY441 -3.4391  -7.7665   0.8883 False \n",
      " HS N2   HS rde-4  -0.508   -4.698   3.682  False \n",
      " HS N2      N2    -11.6842 -15.8742 -7.4942  True \n",
      " HS N2    SY441   -11.6842 -15.8742 -7.4942  True \n",
      " HS N2    rde-4   -10.403  -14.593   -6.213  True \n",
      "HS SY441 HS rde-4  2.9311  -1.2589   7.1211 False \n",
      "HS SY441    N2    -8.2451  -12.4351 -4.0552  True \n",
      "HS SY441  SY441   -8.2451  -12.4351 -4.0552  True \n",
      "HS SY441  rde-4   -6.9639  -11.1539 -2.7739  True \n",
      "HS rde-4    N2    -11.1762 -15.2242 -7.1283  True \n",
      "HS rde-4  SY441   -11.1762 -15.2242 -7.1283  True \n",
      "HS rde-4  rde-4    -9.895  -13.9429 -5.8471  True \n",
      "   N2     SY441     0.0    -4.0479   4.0479 False \n",
      "   N2     rde-4    1.2812  -2.7667   5.3292 False \n",
      " SY441    rde-4    1.2812  -2.7667   5.3292 False \n",
      "--------------------------------------------------\n"
     ]
    }
   ],
   "source": [
    "from statsmodels.stats.multicomp import pairwise_tukeyhsd\n",
    "res2 = pairwise_tukeyhsd(df[\"AverageFoci\"], df[\"Condition\"])\n",
    "# res2 = pairwise_tukeyhsd(dta2['StressReduction'], dta2['Treatment'])\n",
    "print(res2)"
   ]
  },
  {
   "cell_type": "code",
   "execution_count": null,
   "metadata": {
    "collapsed": true
   },
   "outputs": [],
   "source": []
  },
  {
   "cell_type": "code",
   "execution_count": null,
   "metadata": {
    "collapsed": true
   },
   "outputs": [],
   "source": []
  }
 ],
 "metadata": {
  "kernelspec": {
   "display_name": "Python 3",
   "language": "python",
   "name": "python3"
  },
  "language_info": {
   "codemirror_mode": {
    "name": "ipython",
    "version": 3
   },
   "file_extension": ".py",
   "mimetype": "text/x-python",
   "name": "python",
   "nbconvert_exporter": "python",
   "pygments_lexer": "ipython3",
   "version": "3.5.4"
  }
 },
 "nbformat": 4,
 "nbformat_minor": 1
}
