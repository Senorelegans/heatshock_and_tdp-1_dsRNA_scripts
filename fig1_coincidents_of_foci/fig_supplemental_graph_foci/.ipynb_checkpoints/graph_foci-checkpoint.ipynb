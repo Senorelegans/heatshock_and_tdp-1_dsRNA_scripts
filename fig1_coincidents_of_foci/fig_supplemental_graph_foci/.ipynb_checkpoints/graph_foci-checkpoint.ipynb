{
 "cells": [
  {
   "cell_type": "code",
   "execution_count": 2,
   "metadata": {
    "ExecuteTime": {
     "end_time": "2019-01-07T10:30:20.353486Z",
     "start_time": "2019-01-07T10:29:48.897171Z"
    }
   },
   "outputs": [
    {
     "name": "stderr",
     "output_type": "stream",
     "text": [
      "/Users/M/anaconda3/lib/python3.5/site-packages/statsmodels/compat/pandas.py:56: FutureWarning: The pandas.core.datetools module is deprecated and will be removed in a future version. Please use the pandas.tseries module instead.\n",
      "  from pandas.core import datetools\n"
     ]
    }
   ],
   "source": [
    "import pandas as pd\n",
    "import seaborn as sns\n",
    "import numpy as np\n",
    "import statsmodels.api as sm\n",
    "from statsmodels.formula.api import ols\n",
    "%matplotlib inline"
   ]
  },
  {
   "cell_type": "code",
   "execution_count": 85,
   "metadata": {
    "ExecuteTime": {
     "end_time": "2018-12-24T10:27:07.261818Z",
     "start_time": "2018-12-24T10:27:07.259161Z"
    },
    "collapsed": true
   },
   "outputs": [],
   "source": []
  },
  {
   "cell_type": "code",
   "execution_count": 3,
   "metadata": {
    "ExecuteTime": {
     "end_time": "2019-01-07T10:30:21.768710Z",
     "start_time": "2019-01-07T10:30:20.355507Z"
    }
   },
   "outputs": [
    {
     "data": {
      "text/plain": [
       "['Coincidence', 'Minutes']"
      ]
     },
     "execution_count": 3,
     "metadata": {},
     "output_type": "execute_result"
    }
   ],
   "source": [
    "\n",
    "df = pd.read_excel(\"foci_over_time.xlsx\")\n",
    "list(df)"
   ]
  },
  {
   "cell_type": "code",
   "execution_count": null,
   "metadata": {
    "ExecuteTime": {
     "start_time": "2019-01-07T17:30:39.895Z"
    }
   },
   "outputs": [],
   "source": [
    "df = pd.read_excel(\"foci_over_time.xlsx\")\n",
    "list(df)\n",
    "order = [\"10\",'20', '30', '40', '50','60']\n",
    "plt = sns.boxplot(x=\"Minutes\",y=\"Coincidence\", data=df,order=order)\n",
    "\n",
    "\n",
    "# plt.legend_.remove()\n",
    "fig = plt.get_figure()\n",
    "fig.savefig(\"Average_foci.tif\",dpi=600,format=\"tiff\")"
   ]
  },
  {
   "cell_type": "code",
   "execution_count": null,
   "metadata": {
    "ExecuteTime": {
     "end_time": "2018-12-24T10:31:52.531238Z",
     "start_time": "2018-12-24T10:31:52.490156Z"
    },
    "collapsed": true
   },
   "outputs": [],
   "source": []
  },
  {
   "cell_type": "code",
   "execution_count": 109,
   "metadata": {
    "ExecuteTime": {
     "end_time": "2018-12-24T10:31:53.821773Z",
     "start_time": "2018-12-24T10:31:53.811034Z"
    },
    "collapsed": true
   },
   "outputs": [],
   "source": [
    "# ANOVA\n",
    "grps = pd.unique(df[\"Condition\"].values)\n",
    "d_data = {grp:df[\"Average foci\"][df[\"Condition\"] == grp] for grp in grps}"
   ]
  },
  {
   "cell_type": "code",
   "execution_count": 110,
   "metadata": {
    "ExecuteTime": {
     "end_time": "2018-12-24T10:31:54.127943Z",
     "start_time": "2018-12-24T10:31:54.122469Z"
    },
    "collapsed": true
   },
   "outputs": [],
   "source": [
    "k = len(pd.unique(df[\"Condition\"]))  # number of conditions\n",
    "N = len(df.values)  # conditions times participants\n",
    "n = df.groupby(\"Condition\").size()[0] #Participants in each condition"
   ]
  },
  {
   "cell_type": "code",
   "execution_count": 111,
   "metadata": {
    "ExecuteTime": {
     "end_time": "2018-12-24T10:31:54.452505Z",
     "start_time": "2018-12-24T10:31:54.442585Z"
    },
    "collapsed": true
   },
   "outputs": [],
   "source": [
    "df[\"AverageFoci\"] = df[\"Average foci\"] # Rename because the test wont take spaces for names\n",
    "mod = ols(\"AverageFoci ~ Condition\", data=df).fit()"
   ]
  },
  {
   "cell_type": "code",
   "execution_count": 112,
   "metadata": {
    "ExecuteTime": {
     "end_time": "2018-12-24T10:31:54.739681Z",
     "start_time": "2018-12-24T10:31:54.731633Z"
    },
    "collapsed": true
   },
   "outputs": [],
   "source": [
    "aov_table = sm.stats.anova_lm(mod, typ=2)"
   ]
  },
  {
   "cell_type": "code",
   "execution_count": 113,
   "metadata": {
    "ExecuteTime": {
     "end_time": "2018-12-24T10:31:55.078790Z",
     "start_time": "2018-12-24T10:31:55.066907Z"
    }
   },
   "outputs": [
    {
     "name": "stdout",
     "output_type": "stream",
     "text": [
      "Multiple Comparison of Means - Tukey HSD,FWER=0.05\n",
      "==================================================\n",
      " group1   group2  meandiff  lower    upper  reject\n",
      "--------------------------------------------------\n",
      " HS N2   HS SY441 -3.4391  -7.7665   0.8883 False \n",
      " HS N2   HS rde-4  -0.508   -4.698   3.682  False \n",
      " HS N2      N2    -11.6842 -15.8742 -7.4942  True \n",
      " HS N2    SY441   -11.6842 -15.8742 -7.4942  True \n",
      " HS N2    rde-4   -10.403  -14.593   -6.213  True \n",
      "HS SY441 HS rde-4  2.9311  -1.2589   7.1211 False \n",
      "HS SY441    N2    -8.2451  -12.4351 -4.0552  True \n",
      "HS SY441  SY441   -8.2451  -12.4351 -4.0552  True \n",
      "HS SY441  rde-4   -6.9639  -11.1539 -2.7739  True \n",
      "HS rde-4    N2    -11.1762 -15.2242 -7.1283  True \n",
      "HS rde-4  SY441   -11.1762 -15.2242 -7.1283  True \n",
      "HS rde-4  rde-4    -9.895  -13.9429 -5.8471  True \n",
      "   N2     SY441     0.0    -4.0479   4.0479 False \n",
      "   N2     rde-4    1.2812  -2.7667   5.3292 False \n",
      " SY441    rde-4    1.2812  -2.7667   5.3292 False \n",
      "--------------------------------------------------\n"
     ]
    }
   ],
   "source": [
    "from statsmodels.stats.multicomp import pairwise_tukeyhsd\n",
    "res2 = pairwise_tukeyhsd(df[\"AverageFoci\"], df[\"Condition\"])\n",
    "# res2 = pairwise_tukeyhsd(dta2['StressReduction'], dta2['Treatment'])\n",
    "print(res2)"
   ]
  },
  {
   "cell_type": "code",
   "execution_count": null,
   "metadata": {
    "collapsed": true
   },
   "outputs": [],
   "source": []
  },
  {
   "cell_type": "code",
   "execution_count": null,
   "metadata": {
    "collapsed": true
   },
   "outputs": [],
   "source": []
  }
 ],
 "metadata": {
  "kernelspec": {
   "display_name": "Python 3",
   "language": "python",
   "name": "python3"
  },
  "language_info": {
   "codemirror_mode": {
    "name": "ipython",
    "version": 3
   },
   "file_extension": ".py",
   "mimetype": "text/x-python",
   "name": "python",
   "nbconvert_exporter": "python",
   "pygments_lexer": "ipython3",
   "version": "3.5.4"
  }
 },
 "nbformat": 4,
 "nbformat_minor": 1
}
