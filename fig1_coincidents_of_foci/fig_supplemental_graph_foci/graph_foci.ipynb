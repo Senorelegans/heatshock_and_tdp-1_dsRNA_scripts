{
 "cells": [
  {
   "cell_type": "code",
   "execution_count": 2,
   "metadata": {
    "ExecuteTime": {
     "end_time": "2019-01-07T10:30:20.353486Z",
     "start_time": "2019-01-07T10:29:48.897171Z"
    }
   },
   "outputs": [
    {
     "name": "stderr",
     "output_type": "stream",
     "text": [
      "/Users/M/anaconda3/lib/python3.5/site-packages/statsmodels/compat/pandas.py:56: FutureWarning: The pandas.core.datetools module is deprecated and will be removed in a future version. Please use the pandas.tseries module instead.\n",
      "  from pandas.core import datetools\n"
     ]
    }
   ],
   "source": [
    "import pandas as pd\n",
    "import seaborn as sns\n",
    "import numpy as np\n",
    "import statsmodels.api as sm\n",
    "from statsmodels.formula.api import ols\n",
    "%matplotlib inline"
   ]
  },
  {
   "cell_type": "code",
   "execution_count": 85,
   "metadata": {
    "ExecuteTime": {
     "end_time": "2018-12-24T10:27:07.261818Z",
     "start_time": "2018-12-24T10:27:07.259161Z"
    },
    "collapsed": true
   },
   "outputs": [],
   "source": []
  },
  {
   "cell_type": "code",
   "execution_count": 3,
   "metadata": {
    "ExecuteTime": {
     "end_time": "2019-01-07T10:30:21.768710Z",
     "start_time": "2019-01-07T10:30:20.355507Z"
    }
   },
   "outputs": [
    {
     "data": {
      "text/plain": [
       "['Coincidence', 'Minutes']"
      ]
     },
     "execution_count": 3,
     "metadata": {},
     "output_type": "execute_result"
    }
   ],
   "source": [
    "\n",
    "df = pd.read_excel(\"foci_over_time.xlsx\")\n",
    "list(df)"
   ]
  },
  {
   "cell_type": "code",
   "execution_count": 5,
   "metadata": {
    "ExecuteTime": {
     "end_time": "2019-01-07T10:30:59.488134Z",
     "start_time": "2019-01-07T10:30:59.215909Z"
    }
   },
   "outputs": [
    {
     "data": {
      "text/html": [
       "<div>\n",
       "<style scoped>\n",
       "    .dataframe tbody tr th:only-of-type {\n",
       "        vertical-align: middle;\n",
       "    }\n",
       "\n",
       "    .dataframe tbody tr th {\n",
       "        vertical-align: top;\n",
       "    }\n",
       "\n",
       "    .dataframe thead th {\n",
       "        text-align: right;\n",
       "    }\n",
       "</style>\n",
       "<table border=\"1\" class=\"dataframe\">\n",
       "  <thead>\n",
       "    <tr style=\"text-align: right;\">\n",
       "      <th></th>\n",
       "      <th>Coincidence</th>\n",
       "      <th>Minutes</th>\n",
       "    </tr>\n",
       "  </thead>\n",
       "  <tbody>\n",
       "    <tr>\n",
       "      <th>0</th>\n",
       "      <td>0</td>\n",
       "      <td>10</td>\n",
       "    </tr>\n",
       "    <tr>\n",
       "      <th>1</th>\n",
       "      <td>0</td>\n",
       "      <td>10</td>\n",
       "    </tr>\n",
       "    <tr>\n",
       "      <th>2</th>\n",
       "      <td>0</td>\n",
       "      <td>10</td>\n",
       "    </tr>\n",
       "    <tr>\n",
       "      <th>3</th>\n",
       "      <td>0</td>\n",
       "      <td>10</td>\n",
       "    </tr>\n",
       "    <tr>\n",
       "      <th>4</th>\n",
       "      <td>0</td>\n",
       "      <td>10</td>\n",
       "    </tr>\n",
       "  </tbody>\n",
       "</table>\n",
       "</div>"
      ],
      "text/plain": [
       "   Coincidence  Minutes\n",
       "0            0       10\n",
       "1            0       10\n",
       "2            0       10\n",
       "3            0       10\n",
       "4            0       10"
      ]
     },
     "execution_count": 5,
     "metadata": {},
     "output_type": "execute_result"
    }
   ],
   "source": [
    "df.head()"
   ]
  },
  {
   "cell_type": "code",
   "execution_count": 8,
   "metadata": {
    "ExecuteTime": {
     "end_time": "2019-01-07T10:33:11.043042Z",
     "start_time": "2019-01-07T10:33:10.805545Z"
    },
    "collapsed": true
   },
   "outputs": [],
   "source": [
    "# ANOVA\n",
    "grps = pd.unique(df[\"Minutes\"].values)\n",
    "d_data = {grp:df[\"Coincidence\"][df[\"Minutes\"] == grp] for grp in grps}"
   ]
  },
  {
   "cell_type": "code",
   "execution_count": 14,
   "metadata": {
    "ExecuteTime": {
     "end_time": "2019-01-07T10:34:33.839400Z",
     "start_time": "2019-01-07T10:34:33.835284Z"
    }
   },
   "outputs": [],
   "source": [
    "k = len(pd.unique(df[\"Minutes\"]))  # number of conditions\n",
    "N = len(df.values)  # conditions times participants\n",
    "# n = df.groupby(\"Minutes\").size() #Participants in each condition\n",
    "n = 19"
   ]
  },
  {
   "cell_type": "code",
   "execution_count": 16,
   "metadata": {
    "ExecuteTime": {
     "end_time": "2019-01-07T10:34:56.465882Z",
     "start_time": "2019-01-07T10:34:55.707925Z"
    }
   },
   "outputs": [],
   "source": [
    "\n",
    "mod = ols(\"Coincidence ~ Minutes\", data=df).fit()"
   ]
  },
  {
   "cell_type": "code",
   "execution_count": 17,
   "metadata": {
    "ExecuteTime": {
     "end_time": "2019-01-07T10:35:00.251582Z",
     "start_time": "2019-01-07T10:34:58.834687Z"
    },
    "collapsed": true
   },
   "outputs": [],
   "source": [
    "aov_table = sm.stats.anova_lm(mod, typ=2)"
   ]
  },
  {
   "cell_type": "code",
   "execution_count": 18,
   "metadata": {
    "ExecuteTime": {
     "end_time": "2019-01-07T10:35:12.521655Z",
     "start_time": "2019-01-07T10:35:12.226883Z"
    }
   },
   "outputs": [
    {
     "name": "stdout",
     "output_type": "stream",
     "text": [
      "Multiple Comparison of Means - Tukey HSD,FWER=0.05\n",
      "=============================================\n",
      "group1 group2 meandiff  lower   upper  reject\n",
      "---------------------------------------------\n",
      "  10     20     0.3    -0.6174  1.2174 False \n",
      "  10     30     2.45    1.5326  3.3674  True \n",
      "  10     40     2.25    1.3326  3.1674  True \n",
      "  10     50     3.6     2.6826  4.5174  True \n",
      "  10     60     2.65    1.7326  3.5674  True \n",
      "  20     30     2.15    1.2444  3.0556  True \n",
      "  20     40     1.95    1.0444  2.8556  True \n",
      "  20     50     3.3     2.3944  4.2056  True \n",
      "  20     60     2.35    1.4444  3.2556  True \n",
      "  30     40     -0.2   -1.1056  0.7056 False \n",
      "  30     50     1.15    0.2444  2.0556  True \n",
      "  30     60     0.2    -0.7056  1.1056 False \n",
      "  40     50     1.35    0.4444  2.2556  True \n",
      "  40     60     0.4    -0.5056  1.3056 False \n",
      "  50     60    -0.95   -1.8556 -0.0444  True \n",
      "---------------------------------------------\n"
     ]
    }
   ],
   "source": [
    "from statsmodels.stats.multicomp import pairwise_tukeyhsd\n",
    "res2 = pairwise_tukeyhsd(df[\"Coincidence\"], df[\"Minutes\"])\n",
    "# res2 = pairwise_tukeyhsd(dta2['StressReduction'], dta2['Treatment'])\n",
    "print(res2)"
   ]
  },
  {
   "cell_type": "code",
   "execution_count": null,
   "metadata": {
    "collapsed": true
   },
   "outputs": [],
   "source": []
  },
  {
   "cell_type": "code",
   "execution_count": null,
   "metadata": {
    "collapsed": true
   },
   "outputs": [],
   "source": []
  }
 ],
 "metadata": {
  "kernelspec": {
   "display_name": "Python 3",
   "language": "python",
   "name": "python3"
  },
  "language_info": {
   "codemirror_mode": {
    "name": "ipython",
    "version": 3
   },
   "file_extension": ".py",
   "mimetype": "text/x-python",
   "name": "python",
   "nbconvert_exporter": "python",
   "pygments_lexer": "ipython3",
   "version": "3.5.4"
  }
 },
 "nbformat": 4,
 "nbformat_minor": 1
}
